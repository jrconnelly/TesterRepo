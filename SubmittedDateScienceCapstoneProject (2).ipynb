{
 "cells": [
  {
   "cell_type": "markdown",
   "metadata": {
    "button": false,
    "new_sheet": false,
    "run_control": {
     "read_only": false
    }
   },
   "source": [
    "<a href=\"https://www.bigdatauniversity.com\"><img src=\"https://ibm.box.com/shared/static/cw2c7r3o20w9zn8gkecaeyjhgw3xdgbj.png\" width=\"400\" align=\"center\"></a>\n",
    "\n",
    "<h1 align=\"center\"><font size=\"5\">Classification with Python</font></h1>"
   ]
  },
  {
   "cell_type": "markdown",
   "metadata": {
    "button": false,
    "new_sheet": false,
    "run_control": {
     "read_only": false
    }
   },
   "source": [
    "## Data Science Project, IBM Professional Certification\n",
    "Judith R Connelly, June 2020\n",
    "\n",
    "### Purpose \n",
    "The purpose of this project is to examine real world organizational data within the IBM Python Jupyter framework, to understand the relationship of the elements, to assess machine learning classifiers of the data to determine the best model that represents predictive capability of the dataset and geographically map the categorical data.\n",
    "\n",
    "### Table of Contents\n",
    " 1. Background\n",
    " 2. The Problem Statement\n",
    " 3. Proposed Approach\n",
    " 4. Data Description\n",
    " 5. Methodology\n",
    " 6. Data Analysis and Results\n",
    " 7. Conclusion\n",
    " 8. Recommendations\n",
    " \n",
    "### 1. Background\n",
    "\n",
    "Data useful for research organizations are always in high demand but how do we effectively manage the resources for research and development? By definition, research is a non-deterministic effort and often results desired  are not well-defined from the beginning. The nature of core research takes on a life of its own as the work progresses.  As a program manager, it is useful to understand and effective use tools such as Earned Value metrics and project management tools to guide critical time lines and resources. These resources include personnel and funding. The tradespace of resources is a persistent challenge. The requested work for a research organization varies especially when servicing operational field missions. These missions span a spectrum of initial conditions as well as constraints in the field environment. These field environments exist in all 50 states and US territories. Therefore, it is advantageous to understand the operational needs of the field as well as the likelihood that the management of research projects balances the end-user needs and maximizes the resources available to perform the work.\n",
    "\n",
    "### 2. The Problem Statement\n",
    "In order to maximize resources it is necessary to understand what resources are available during any given time, the skills of the personnel able to perform the work and the funding likely to be expended. It is necessary to consider the criticality of the work. How time critical is the solution to be provided? How time intensive is the work? How well can the skill set meet the request?\n",
    "\n",
    "### 3. Proposed Approach\n",
    "It is required in this project to understand the best model that will assess the data set constructed for this work. This model can then provide a systematic, consistent and sustainable means to manage research resources based on operational need and research resources. Specifically, based on three parameters (priority ranking, performing subgroup and funding level) this project expects to enhance an understanding of how an independent priority ranking influences whether a project will be executed or placed on hold for future execution (target value). Repeatable results are important in research so I have include code/output.\n",
    "\n",
    "### 4. Data Description\n",
    "The data was framed from one of the Machine Learning lab templates. Subsequent manipulation produced characteristic parameters and values that were relevant to the research and development work context. These data are directly related to my present work so the validation of dataset was performed based on professional knowledge of the domain space. These data are organically generated from real world characteristics in a research organization.  Each of the final field are described as follows:\n",
    "\n",
    "UDI1 and UDI2 :  The identifiers to the specific artifact produced by the organizational research."
   ]
  },
  {
   "cell_type": "markdown",
   "metadata": {
    "button": false,
    "new_sheet": false,
    "run_control": {
     "read_only": false
    }
   },
   "source": [
    "FYHold : The field for identifying whether a project is put on hold or proceeds to be executed"
   ]
  },
  {
   "cell_type": "markdown",
   "metadata": {
    "button": false,
    "new_sheet": false,
    "run_control": {
     "read_only": false
    }
   },
   "source": [
    "FUNDS: The scaled amount of funding for the project ( e.g. $50K)"
   ]
  },
  {
   "cell_type": "markdown",
   "metadata": {
    "button": false,
    "new_sheet": false,
    "run_control": {
     "read_only": false
    }
   },
   "source": [
    "Months: The length of project execution\n",
    "\n",
    "Effective _date: The date when a project is executed. Note: this field is useful for future recommended work"
   ]
  },
  {
   "cell_type": "markdown",
   "metadata": {
    "button": false,
    "new_sheet": false,
    "run_control": {
     "read_only": false
    }
   },
   "source": [
    "Due_date: The date the project is expected to be completed. Note: this field is useful for future recommended work\n",
    "\n",
    "Score: The weighted score received after organizational review\n",
    "\n",
    "Group: The technical branches within the organization\n",
    "\n",
    "ORG: The Research organization(performer) or the Operational Unit(requester). Note the mapping is related to the locations of the units.  This has a direct bearing on the type of work to be performed or area of interest to operational units.\n",
    "\n",
    "\n",
    "### 5. Methodology\n",
    "Three classifier methods(K Nearest Neighbor, Support Vector Model and Decision Tree) were evaluated against the data training/test set. These results are provided for consideration in the report. From these data, assessment of workload, funding and priority drivers can be managed in real-world organizations. Specific tasks and approaches are described inline below. Overall, I wrangled and changed the data frame values to be more relevant to the problem set at hand for the research organization. I reused code with modifications from my previous assignment submissions that were needed particularly the classifiers section. I regularly reviewed previous modules (6,7,8 most helpful) and reworked labs exercises to gain further insight into the algorithms and best use practices. Throughout the next sections, the data is described, how it is wrangled and what the exploratory results might reveal as useful organizational information. Once the data is well understood the train/test set dataframe is passed to the classifier models. \n",
    "\n",
    "For each model, it is important to ask, “How accurate is this model?” This is done through comparison of the actual values in the test set with the values predicted by the model, to calculate the accuracy of the model.  The evaluation metrics used in this report for each classifier are Jaccard index and  F1-score. These are representative of the goodness of the classifier to the data. The simplest is the Jaccard index and can be described as the amount of actual and predicted data that overlap as in a Venn diagram. The F1Score is a more complicated approach which evaluates True/False positives and True/False negatives. The summary results provide the three classifier performance with the two evaluation metrics.\n",
    "\n",
    "I chose the K Nearest Neighbor(KNN) model with the concept that the request or ideations of research ideas could be treated as a member of a demographic. It has elements shared by other projects both technically and organizationally. In this treatment of demographic it would be useful to predict whether a research request would be executed as a project or put onhold as well as which technical branch is likely to be assigned the project. Ideally, this could be performed with \"standardized keyword associations with historical data but data of this type was not available for  for this capstone work.  This is a classification problem. That is, given the dataset with predefined labels, we need to build a model to be used to predict the class of a new or unknown case. The example focuses on using as the feature set such as score, months, and assigned branch to predict onhold or execution status patterns. \n",
    "\n",
    "I chose the Support Vector Model(SVM) because the analysis of the original and organic data has characteristics that differ significantly between between project. While there are similarities the nature of research is to explore something that is likely different from the rest, so to speak. The  SVM, as a classifier trains the model to understand patterns within the data that might show. These patterns across organizational structures are interesting to examine.\n",
    "\n",
    "I chose Decision Tree classifier because in the data constructed for this report various factors exist in the real-world decision making. For example an idea might be relevant to the operator needs but does not score highly in the organizational assessment. Perhaps it is put onhold because its a good idea but it is not technically feasible work. Perhaps it scores highly, relevant to operational needs but is not funded. Which of these considerations/attributes are more (or most important in the decision making). Several factors in this decision tradespace are interesting to evaluate.\n",
    "\n",
    "### 6. Data Analysis and Results\n",
    "The sections that follow contain the code executed in Python through Jupyter labs interface hosted by IBM.  Each block contains the code executed and the results from the code. Original dataframes are provided along with the wrangling methods. Results are displayed immediately following the code used to product them. Maps using Folium and Foursquare are used to display the location of the requests from field operational units as well as nearby venues of interest while on work travel. "
   ]
  },
  {
   "cell_type": "code",
   "execution_count": null,
   "metadata": {
    "button": false,
    "new_sheet": false,
    "run_control": {
     "read_only": false
    }
   },
   "outputs": [],
   "source": [
    "## Import all the tools needed\n",
    "import itertools\n",
    "import numpy as np\n",
    "import matplotlib.pyplot as plt\n",
    "from matplotlib.ticker import NullFormatter\n",
    "#\n",
    "import pandas as pd\n",
    "import numpy as np\n",
    "#\n",
    "import matplotlib.ticker as ticker\n",
    "from sklearn import preprocessing\n",
    "%matplotlib inline\n",
    "#\n",
    "import pylab as pl\n",
    "import scipy.optimize as opt\n",
    "from sklearn.model_selection import train_test_split\n",
    "!conda install -c anaconda seaborn -y"
   ]
  },
  {
   "cell_type": "markdown",
   "metadata": {
    "button": false,
    "new_sheet": false,
    "run_control": {
     "read_only": false
    }
   },
   "source": [
    "#### 6.1 Load Data From CSV File  and develop a series of manipulations to get data in required format.\n",
    "The original data is read from the source file and preserved. Two data frames are created for wrangling. \n",
    "Since the original data in the columns represent similar data as applied to this problem, I modify the field contents, the field headers\n",
    "to fit the problem space domain."
   ]
  },
  {
   "cell_type": "code",
   "execution_count": 2,
   "metadata": {
    "button": false,
    "new_sheet": false,
    "run_control": {
     "read_only": false
    }
   },
   "outputs": [
    {
     "name": "stdout",
     "output_type": "stream",
     "text": [
      "--2020-05-24 22:58:27--  https://s3-api.us-geo.objectstorage.softlayer.net/cf-courses-data/CognitiveClass/ML0101ENv3/labs/loan_train.csv\n",
      "Resolving s3-api.us-geo.objectstorage.softlayer.net (s3-api.us-geo.objectstorage.softlayer.net)... 67.228.254.196\n",
      "Connecting to s3-api.us-geo.objectstorage.softlayer.net (s3-api.us-geo.objectstorage.softlayer.net)|67.228.254.196|:443... connected.\n",
      "HTTP request sent, awaiting response... 200 OK\n",
      "Length: 23101 (23K) [text/csv]\n",
      "Saving to: ‘loan_train.csv’\n",
      "\n",
      "loan_train.csv      100%[===================>]  22.56K  --.-KB/s    in 0.02s   \n",
      "\n",
      "2020-05-24 22:58:27 (1.06 MB/s) - ‘loan_train.csv’ saved [23101/23101]\n",
      "\n"
     ]
    }
   ],
   "source": [
    "!wget -O loan_train.csv https://s3-api.us-geo.objectstorage.softlayer.net/cf-courses-data/CognitiveClass/ML0101ENv3/labs/loan_train.csv\n",
    "filename = \"https://s3-api.us-geo.objectstorage.softlayer.net/cf-courses-data/CognitiveClass/ML0101ENv3/labs/loan_train.csv\""
   ]
  },
  {
   "cell_type": "code",
   "execution_count": 3,
   "metadata": {
    "button": false,
    "new_sheet": false,
    "run_control": {
     "read_only": false
    }
   },
   "outputs": [
    {
     "data": {
      "text/html": [
       "<div>\n",
       "<style scoped>\n",
       "    .dataframe tbody tr th:only-of-type {\n",
       "        vertical-align: middle;\n",
       "    }\n",
       "\n",
       "    .dataframe tbody tr th {\n",
       "        vertical-align: top;\n",
       "    }\n",
       "\n",
       "    .dataframe thead th {\n",
       "        text-align: right;\n",
       "    }\n",
       "</style>\n",
       "<table border=\"1\" class=\"dataframe\">\n",
       "  <thead>\n",
       "    <tr style=\"text-align: right;\">\n",
       "      <th></th>\n",
       "      <th>UDI1</th>\n",
       "      <th>UDI2</th>\n",
       "      <th>FYHold</th>\n",
       "      <th>FUNDS</th>\n",
       "      <th>Months</th>\n",
       "      <th>effective_date</th>\n",
       "      <th>due_date</th>\n",
       "      <th>Score</th>\n",
       "      <th>Group</th>\n",
       "      <th>ORG</th>\n",
       "    </tr>\n",
       "  </thead>\n",
       "  <tbody>\n",
       "    <tr>\n",
       "      <th>0</th>\n",
       "      <td>NaN</td>\n",
       "      <td>Unnamed: 0</td>\n",
       "      <td>loan_status</td>\n",
       "      <td>Principal</td>\n",
       "      <td>terms</td>\n",
       "      <td>effective_date</td>\n",
       "      <td>due_date</td>\n",
       "      <td>age</td>\n",
       "      <td>education</td>\n",
       "      <td>Gender</td>\n",
       "    </tr>\n",
       "    <tr>\n",
       "      <th>1</th>\n",
       "      <td>0.0</td>\n",
       "      <td>0</td>\n",
       "      <td>PAIDOFF</td>\n",
       "      <td>1000</td>\n",
       "      <td>30</td>\n",
       "      <td>9/8/2016</td>\n",
       "      <td>10/7/2016</td>\n",
       "      <td>45</td>\n",
       "      <td>High School or Below</td>\n",
       "      <td>male</td>\n",
       "    </tr>\n",
       "    <tr>\n",
       "      <th>2</th>\n",
       "      <td>2.0</td>\n",
       "      <td>2</td>\n",
       "      <td>PAIDOFF</td>\n",
       "      <td>1000</td>\n",
       "      <td>30</td>\n",
       "      <td>9/8/2016</td>\n",
       "      <td>10/7/2016</td>\n",
       "      <td>33</td>\n",
       "      <td>Bechalor</td>\n",
       "      <td>female</td>\n",
       "    </tr>\n",
       "    <tr>\n",
       "      <th>3</th>\n",
       "      <td>3.0</td>\n",
       "      <td>3</td>\n",
       "      <td>PAIDOFF</td>\n",
       "      <td>1000</td>\n",
       "      <td>15</td>\n",
       "      <td>9/8/2016</td>\n",
       "      <td>9/22/2016</td>\n",
       "      <td>27</td>\n",
       "      <td>college</td>\n",
       "      <td>male</td>\n",
       "    </tr>\n",
       "    <tr>\n",
       "      <th>4</th>\n",
       "      <td>4.0</td>\n",
       "      <td>4</td>\n",
       "      <td>PAIDOFF</td>\n",
       "      <td>1000</td>\n",
       "      <td>30</td>\n",
       "      <td>9/9/2016</td>\n",
       "      <td>10/8/2016</td>\n",
       "      <td>28</td>\n",
       "      <td>college</td>\n",
       "      <td>female</td>\n",
       "    </tr>\n",
       "    <tr>\n",
       "      <th>...</th>\n",
       "      <td>...</td>\n",
       "      <td>...</td>\n",
       "      <td>...</td>\n",
       "      <td>...</td>\n",
       "      <td>...</td>\n",
       "      <td>...</td>\n",
       "      <td>...</td>\n",
       "      <td>...</td>\n",
       "      <td>...</td>\n",
       "      <td>...</td>\n",
       "    </tr>\n",
       "    <tr>\n",
       "      <th>342</th>\n",
       "      <td>394.0</td>\n",
       "      <td>394</td>\n",
       "      <td>COLLECTION</td>\n",
       "      <td>800</td>\n",
       "      <td>15</td>\n",
       "      <td>9/11/2016</td>\n",
       "      <td>9/25/2016</td>\n",
       "      <td>32</td>\n",
       "      <td>High School or Below</td>\n",
       "      <td>male</td>\n",
       "    </tr>\n",
       "    <tr>\n",
       "      <th>343</th>\n",
       "      <td>395.0</td>\n",
       "      <td>395</td>\n",
       "      <td>COLLECTION</td>\n",
       "      <td>1000</td>\n",
       "      <td>30</td>\n",
       "      <td>9/11/2016</td>\n",
       "      <td>10/10/2016</td>\n",
       "      <td>25</td>\n",
       "      <td>High School or Below</td>\n",
       "      <td>male</td>\n",
       "    </tr>\n",
       "    <tr>\n",
       "      <th>344</th>\n",
       "      <td>397.0</td>\n",
       "      <td>397</td>\n",
       "      <td>COLLECTION</td>\n",
       "      <td>800</td>\n",
       "      <td>15</td>\n",
       "      <td>9/12/2016</td>\n",
       "      <td>9/26/2016</td>\n",
       "      <td>39</td>\n",
       "      <td>college</td>\n",
       "      <td>male</td>\n",
       "    </tr>\n",
       "    <tr>\n",
       "      <th>345</th>\n",
       "      <td>398.0</td>\n",
       "      <td>398</td>\n",
       "      <td>COLLECTION</td>\n",
       "      <td>1000</td>\n",
       "      <td>30</td>\n",
       "      <td>9/12/2016</td>\n",
       "      <td>11/10/2016</td>\n",
       "      <td>28</td>\n",
       "      <td>college</td>\n",
       "      <td>male</td>\n",
       "    </tr>\n",
       "    <tr>\n",
       "      <th>346</th>\n",
       "      <td>399.0</td>\n",
       "      <td>399</td>\n",
       "      <td>COLLECTION</td>\n",
       "      <td>1000</td>\n",
       "      <td>30</td>\n",
       "      <td>9/12/2016</td>\n",
       "      <td>10/11/2016</td>\n",
       "      <td>26</td>\n",
       "      <td>college</td>\n",
       "      <td>male</td>\n",
       "    </tr>\n",
       "  </tbody>\n",
       "</table>\n",
       "<p>347 rows × 10 columns</p>\n",
       "</div>"
      ],
      "text/plain": [
       "      UDI1        UDI2       FYHold      FUNDS Months  effective_date  \\\n",
       "0      NaN  Unnamed: 0  loan_status  Principal  terms  effective_date   \n",
       "1      0.0           0      PAIDOFF       1000     30        9/8/2016   \n",
       "2      2.0           2      PAIDOFF       1000     30        9/8/2016   \n",
       "3      3.0           3      PAIDOFF       1000     15        9/8/2016   \n",
       "4      4.0           4      PAIDOFF       1000     30        9/9/2016   \n",
       "..     ...         ...          ...        ...    ...             ...   \n",
       "342  394.0         394   COLLECTION        800     15       9/11/2016   \n",
       "343  395.0         395   COLLECTION       1000     30       9/11/2016   \n",
       "344  397.0         397   COLLECTION        800     15       9/12/2016   \n",
       "345  398.0         398   COLLECTION       1000     30       9/12/2016   \n",
       "346  399.0         399   COLLECTION       1000     30       9/12/2016   \n",
       "\n",
       "       due_date Score                 Group     ORG  \n",
       "0      due_date   age             education  Gender  \n",
       "1     10/7/2016    45  High School or Below    male  \n",
       "2     10/7/2016    33              Bechalor  female  \n",
       "3     9/22/2016    27               college    male  \n",
       "4     10/8/2016    28               college  female  \n",
       "..          ...   ...                   ...     ...  \n",
       "342   9/25/2016    32  High School or Below    male  \n",
       "343  10/10/2016    25  High School or Below    male  \n",
       "344   9/26/2016    39               college    male  \n",
       "345  11/10/2016    28               college    male  \n",
       "346  10/11/2016    26               college    male  \n",
       "\n",
       "[347 rows x 10 columns]"
      ]
     },
     "execution_count": 3,
     "metadata": {},
     "output_type": "execute_result"
    }
   ],
   "source": [
    "# Read in, copy and preserve original\n",
    "df = pd.read_csv('loan_train.csv')\n",
    "df\n",
    "df_rdc = df\n",
    "df_rdc\n",
    "# Dump file\n",
    "#df = pd.read_csv(filename, names = headers)\n",
    "headers = [\"UDI1\",\"UDI2\",\"FYHold\",\"FUNDS\",\"Months\", \"effective_date\",\"due_date\",\"Score\",\"Group\",\"ORG\"]\n",
    "df_newhead = pd.read_csv(filename, names = headers)\n",
    "df_newhead"
   ]
  },
  {
   "cell_type": "code",
   "execution_count": 4,
   "metadata": {},
   "outputs": [
    {
     "name": "stdout",
     "output_type": "stream",
     "text": [
      "Min score 18\n",
      "Max Score 51\n"
     ]
    },
    {
     "data": {
      "text/plain": [
       "PAIDOFF       260\n",
       "COLLECTION     86\n",
       "Name: FYHold, dtype: int64"
      ]
     },
     "execution_count": 4,
     "metadata": {},
     "output_type": "execute_result"
    }
   ],
   "source": [
    "## Make relevant data to our work\n",
    "#Drop row with NaN and float scorevalue, average score is normalized\n",
    "df_newhead.dropna(subset=[\"UDI1\"], axis=0, inplace=True)\n",
    "df_newhead[\"Score\"]=df_newhead[\"Score\"].astype(\"float\")\n",
    "\n",
    "##. Here are the headers = [\"UDI1\",\"UDI2\",\"FYHold\",\"FUNDS\",\"Months\", \"effective_date\",\"due_date\",\"Score\",\"Group\",\"ORG\"]\n",
    "df_rdc.replace({'loan_status': {'PAIDOFF': 'onhold', 'COLLECTION': 'FY'}}, inplace=True)\n",
    "df_newhead.replace({'FYhold': {'PAIDOFF': 'onhold', 'COLLECTION': 'FY'}}, inplace=True)\n",
    "\n",
    "\n",
    "df_rdc.replace({'education': {'High School or Below': 'MSCOE', 'Bechalor': 'AVIATION','college':'STIC', 'Master or Above':'Surface'}},inplace=True)\n",
    "df_newhead.replace({'Group': {'High School or Below': 'MSCOE', 'Bechalor': 'AVIATION','college':'STIC', 'Master or Above':'Surface'}},inplace=True)\n",
    "\n",
    "## Terms is 1 or 2 year execution\n",
    "df_rdc.replace({'terms': {15: 24, 30: 12}},inplace=True)\n",
    "df_newhead.replace({'Months': {15: 24, 30: 12}},inplace=True)\n",
    "\n",
    "df_rdc.replace({'Gender': {'male': 'RDC', 'female': 'OPS'}},inplace=True)\n",
    "df_newhead.replace({'ORG': {'male': 'RDC', 'female': 'OPS'}},inplace=True)\n",
    "df_newhead.replace({'Months': {15: 24, 30: 12}},inplace=True)\n",
    "\n",
    "#\n",
    "# Convert mpg to L/100km by mathematical operation (235 divided by mpg)\n",
    "#df_rdc['city-L/100km'] = 235/df[\"city-mpg\"]\n",
    "df_rdc.age.max()\n",
    "df_rdc.age.min()\n",
    "df_newhead.Score.max()\n",
    "df_newhead.Score.min()\n",
    "print (\"Min score\",df_rdc.age.min())\n",
    "print (\"Max Score\", df_rdc.age.max())\n",
    "#print (\"Min score\",df_newhead.Score.min())\n",
    "#print (\"Max Score\",df_newhead.Score.max())\n",
    "df_newhead.head(30)\n",
    "df_newhead['FYHold'].value_counts()"
   ]
  },
  {
   "cell_type": "code",
   "execution_count": 9,
   "metadata": {},
   "outputs": [
    {
     "data": {
      "text/html": [
       "<div>\n",
       "<style scoped>\n",
       "    .dataframe tbody tr th:only-of-type {\n",
       "        vertical-align: middle;\n",
       "    }\n",
       "\n",
       "    .dataframe tbody tr th {\n",
       "        vertical-align: top;\n",
       "    }\n",
       "\n",
       "    .dataframe thead th {\n",
       "        text-align: right;\n",
       "    }\n",
       "</style>\n",
       "<table border=\"1\" class=\"dataframe\">\n",
       "  <thead>\n",
       "    <tr style=\"text-align: right;\">\n",
       "      <th></th>\n",
       "      <th>UDI1</th>\n",
       "      <th>UDI2</th>\n",
       "      <th>FYHold</th>\n",
       "      <th>FUNDS</th>\n",
       "      <th>Months</th>\n",
       "      <th>effective_date</th>\n",
       "      <th>due_date</th>\n",
       "      <th>Score</th>\n",
       "      <th>Group</th>\n",
       "      <th>ORG</th>\n",
       "    </tr>\n",
       "  </thead>\n",
       "  <tbody>\n",
       "    <tr>\n",
       "      <th>1</th>\n",
       "      <td>0.0</td>\n",
       "      <td>0</td>\n",
       "      <td>onhold</td>\n",
       "      <td>1000.0</td>\n",
       "      <td>30</td>\n",
       "      <td>2016-09-08</td>\n",
       "      <td>2016-10-07</td>\n",
       "      <td>0.511111</td>\n",
       "      <td>MSCOE</td>\n",
       "      <td>RDC</td>\n",
       "    </tr>\n",
       "    <tr>\n",
       "      <th>2</th>\n",
       "      <td>2.0</td>\n",
       "      <td>2</td>\n",
       "      <td>onhold</td>\n",
       "      <td>1000.0</td>\n",
       "      <td>30</td>\n",
       "      <td>2016-09-08</td>\n",
       "      <td>2016-09-22</td>\n",
       "      <td>0.696970</td>\n",
       "      <td>AVIATION</td>\n",
       "      <td>OPS</td>\n",
       "    </tr>\n",
       "    <tr>\n",
       "      <th>3</th>\n",
       "      <td>3.0</td>\n",
       "      <td>3</td>\n",
       "      <td>onhold</td>\n",
       "      <td>1000.0</td>\n",
       "      <td>15</td>\n",
       "      <td>2016-09-09</td>\n",
       "      <td>2016-10-08</td>\n",
       "      <td>0.851852</td>\n",
       "      <td>STIC</td>\n",
       "      <td>RDC</td>\n",
       "    </tr>\n",
       "    <tr>\n",
       "      <th>4</th>\n",
       "      <td>4.0</td>\n",
       "      <td>4</td>\n",
       "      <td>onhold</td>\n",
       "      <td>1000.0</td>\n",
       "      <td>30</td>\n",
       "      <td>2016-09-09</td>\n",
       "      <td>2016-10-08</td>\n",
       "      <td>0.821429</td>\n",
       "      <td>STIC</td>\n",
       "      <td>OPS</td>\n",
       "    </tr>\n",
       "    <tr>\n",
       "      <th>5</th>\n",
       "      <td>6.0</td>\n",
       "      <td>6</td>\n",
       "      <td>onhold</td>\n",
       "      <td>1000.0</td>\n",
       "      <td>30</td>\n",
       "      <td>2016-09-09</td>\n",
       "      <td>2016-10-08</td>\n",
       "      <td>0.793103</td>\n",
       "      <td>STIC</td>\n",
       "      <td>RDC</td>\n",
       "    </tr>\n",
       "    <tr>\n",
       "      <th>6</th>\n",
       "      <td>7.0</td>\n",
       "      <td>7</td>\n",
       "      <td>onhold</td>\n",
       "      <td>1000.0</td>\n",
       "      <td>30</td>\n",
       "      <td>2016-09-09</td>\n",
       "      <td>2016-10-08</td>\n",
       "      <td>0.638889</td>\n",
       "      <td>STIC</td>\n",
       "      <td>RDC</td>\n",
       "    </tr>\n",
       "    <tr>\n",
       "      <th>7</th>\n",
       "      <td>8.0</td>\n",
       "      <td>8</td>\n",
       "      <td>onhold</td>\n",
       "      <td>1000.0</td>\n",
       "      <td>30</td>\n",
       "      <td>2016-09-10</td>\n",
       "      <td>2016-09-24</td>\n",
       "      <td>0.821429</td>\n",
       "      <td>STIC</td>\n",
       "      <td>RDC</td>\n",
       "    </tr>\n",
       "    <tr>\n",
       "      <th>8</th>\n",
       "      <td>9.0</td>\n",
       "      <td>9</td>\n",
       "      <td>onhold</td>\n",
       "      <td>800.0</td>\n",
       "      <td>15</td>\n",
       "      <td>2016-09-10</td>\n",
       "      <td>2016-09-16</td>\n",
       "      <td>0.884615</td>\n",
       "      <td>STIC</td>\n",
       "      <td>RDC</td>\n",
       "    </tr>\n",
       "    <tr>\n",
       "      <th>9</th>\n",
       "      <td>10.0</td>\n",
       "      <td>10</td>\n",
       "      <td>onhold</td>\n",
       "      <td>300.0</td>\n",
       "      <td>7</td>\n",
       "      <td>2016-09-10</td>\n",
       "      <td>2016-10-09</td>\n",
       "      <td>0.793103</td>\n",
       "      <td>STIC</td>\n",
       "      <td>RDC</td>\n",
       "    </tr>\n",
       "    <tr>\n",
       "      <th>10</th>\n",
       "      <td>11.0</td>\n",
       "      <td>11</td>\n",
       "      <td>onhold</td>\n",
       "      <td>1000.0</td>\n",
       "      <td>15</td>\n",
       "      <td>2016-09-10</td>\n",
       "      <td>2016-10-09</td>\n",
       "      <td>0.589744</td>\n",
       "      <td>MSCOE</td>\n",
       "      <td>RDC</td>\n",
       "    </tr>\n",
       "    <tr>\n",
       "      <th>11</th>\n",
       "      <td>12.0</td>\n",
       "      <td>12</td>\n",
       "      <td>onhold</td>\n",
       "      <td>1000.0</td>\n",
       "      <td>30</td>\n",
       "      <td>2016-09-10</td>\n",
       "      <td>2016-09-16</td>\n",
       "      <td>0.884615</td>\n",
       "      <td>STIC</td>\n",
       "      <td>RDC</td>\n",
       "    </tr>\n",
       "    <tr>\n",
       "      <th>12</th>\n",
       "      <td>13.0</td>\n",
       "      <td>13</td>\n",
       "      <td>onhold</td>\n",
       "      <td>900.0</td>\n",
       "      <td>7</td>\n",
       "      <td>2016-09-10</td>\n",
       "      <td>2016-09-16</td>\n",
       "      <td>0.884615</td>\n",
       "      <td>STIC</td>\n",
       "      <td>OPS</td>\n",
       "    </tr>\n",
       "    <tr>\n",
       "      <th>13</th>\n",
       "      <td>14.0</td>\n",
       "      <td>14</td>\n",
       "      <td>onhold</td>\n",
       "      <td>1000.0</td>\n",
       "      <td>7</td>\n",
       "      <td>2016-09-10</td>\n",
       "      <td>2016-09-24</td>\n",
       "      <td>0.851852</td>\n",
       "      <td>MSCOE</td>\n",
       "      <td>RDC</td>\n",
       "    </tr>\n",
       "    <tr>\n",
       "      <th>14</th>\n",
       "      <td>15.0</td>\n",
       "      <td>15</td>\n",
       "      <td>onhold</td>\n",
       "      <td>800.0</td>\n",
       "      <td>15</td>\n",
       "      <td>2016-09-10</td>\n",
       "      <td>2016-10-09</td>\n",
       "      <td>0.884615</td>\n",
       "      <td>STIC</td>\n",
       "      <td>RDC</td>\n",
       "    </tr>\n",
       "    <tr>\n",
       "      <th>15</th>\n",
       "      <td>16.0</td>\n",
       "      <td>16</td>\n",
       "      <td>onhold</td>\n",
       "      <td>1000.0</td>\n",
       "      <td>30</td>\n",
       "      <td>2016-09-10</td>\n",
       "      <td>2016-09-24</td>\n",
       "      <td>0.575000</td>\n",
       "      <td>MSCOE</td>\n",
       "      <td>RDC</td>\n",
       "    </tr>\n",
       "    <tr>\n",
       "      <th>16</th>\n",
       "      <td>17.0</td>\n",
       "      <td>17</td>\n",
       "      <td>onhold</td>\n",
       "      <td>1000.0</td>\n",
       "      <td>15</td>\n",
       "      <td>2016-09-10</td>\n",
       "      <td>2016-10-09</td>\n",
       "      <td>0.718750</td>\n",
       "      <td>MSCOE</td>\n",
       "      <td>RDC</td>\n",
       "    </tr>\n",
       "    <tr>\n",
       "      <th>17</th>\n",
       "      <td>18.0</td>\n",
       "      <td>18</td>\n",
       "      <td>onhold</td>\n",
       "      <td>1000.0</td>\n",
       "      <td>30</td>\n",
       "      <td>2016-09-10</td>\n",
       "      <td>2016-10-09</td>\n",
       "      <td>0.718750</td>\n",
       "      <td>MSCOE</td>\n",
       "      <td>RDC</td>\n",
       "    </tr>\n",
       "    <tr>\n",
       "      <th>18</th>\n",
       "      <td>19.0</td>\n",
       "      <td>19</td>\n",
       "      <td>onhold</td>\n",
       "      <td>800.0</td>\n",
       "      <td>30</td>\n",
       "      <td>2016-09-10</td>\n",
       "      <td>2016-10-09</td>\n",
       "      <td>0.884615</td>\n",
       "      <td>STIC</td>\n",
       "      <td>RDC</td>\n",
       "    </tr>\n",
       "    <tr>\n",
       "      <th>19</th>\n",
       "      <td>20.0</td>\n",
       "      <td>20</td>\n",
       "      <td>onhold</td>\n",
       "      <td>1000.0</td>\n",
       "      <td>30</td>\n",
       "      <td>2016-09-10</td>\n",
       "      <td>2016-10-09</td>\n",
       "      <td>0.884615</td>\n",
       "      <td>STIC</td>\n",
       "      <td>RDC</td>\n",
       "    </tr>\n",
       "    <tr>\n",
       "      <th>20</th>\n",
       "      <td>22.0</td>\n",
       "      <td>22</td>\n",
       "      <td>onhold</td>\n",
       "      <td>1000.0</td>\n",
       "      <td>30</td>\n",
       "      <td>2016-09-10</td>\n",
       "      <td>2016-09-24</td>\n",
       "      <td>0.920000</td>\n",
       "      <td>MSCOE</td>\n",
       "      <td>RDC</td>\n",
       "    </tr>\n",
       "    <tr>\n",
       "      <th>21</th>\n",
       "      <td>23.0</td>\n",
       "      <td>23</td>\n",
       "      <td>onhold</td>\n",
       "      <td>1000.0</td>\n",
       "      <td>15</td>\n",
       "      <td>2016-09-10</td>\n",
       "      <td>2016-10-09</td>\n",
       "      <td>0.884615</td>\n",
       "      <td>STIC</td>\n",
       "      <td>RDC</td>\n",
       "    </tr>\n",
       "    <tr>\n",
       "      <th>22</th>\n",
       "      <td>25.0</td>\n",
       "      <td>25</td>\n",
       "      <td>onhold</td>\n",
       "      <td>1000.0</td>\n",
       "      <td>30</td>\n",
       "      <td>2016-09-10</td>\n",
       "      <td>2016-09-24</td>\n",
       "      <td>0.793103</td>\n",
       "      <td>MSCOE</td>\n",
       "      <td>RDC</td>\n",
       "    </tr>\n",
       "    <tr>\n",
       "      <th>23</th>\n",
       "      <td>26.0</td>\n",
       "      <td>26</td>\n",
       "      <td>onhold</td>\n",
       "      <td>800.0</td>\n",
       "      <td>15</td>\n",
       "      <td>2016-09-10</td>\n",
       "      <td>2016-09-24</td>\n",
       "      <td>0.589744</td>\n",
       "      <td>AVIATION</td>\n",
       "      <td>RDC</td>\n",
       "    </tr>\n",
       "    <tr>\n",
       "      <th>24</th>\n",
       "      <td>27.0</td>\n",
       "      <td>27</td>\n",
       "      <td>onhold</td>\n",
       "      <td>1000.0</td>\n",
       "      <td>15</td>\n",
       "      <td>2016-09-11</td>\n",
       "      <td>2016-10-10</td>\n",
       "      <td>0.676471</td>\n",
       "      <td>AVIATION</td>\n",
       "      <td>RDC</td>\n",
       "    </tr>\n",
       "    <tr>\n",
       "      <th>25</th>\n",
       "      <td>28.0</td>\n",
       "      <td>28</td>\n",
       "      <td>onhold</td>\n",
       "      <td>1000.0</td>\n",
       "      <td>30</td>\n",
       "      <td>2016-09-11</td>\n",
       "      <td>2016-10-10</td>\n",
       "      <td>0.741935</td>\n",
       "      <td>STIC</td>\n",
       "      <td>RDC</td>\n",
       "    </tr>\n",
       "    <tr>\n",
       "      <th>26</th>\n",
       "      <td>29.0</td>\n",
       "      <td>29</td>\n",
       "      <td>onhold</td>\n",
       "      <td>1000.0</td>\n",
       "      <td>30</td>\n",
       "      <td>2016-09-11</td>\n",
       "      <td>2016-09-25</td>\n",
       "      <td>0.696970</td>\n",
       "      <td>STIC</td>\n",
       "      <td>RDC</td>\n",
       "    </tr>\n",
       "    <tr>\n",
       "      <th>27</th>\n",
       "      <td>30.0</td>\n",
       "      <td>30</td>\n",
       "      <td>onhold</td>\n",
       "      <td>800.0</td>\n",
       "      <td>15</td>\n",
       "      <td>2016-09-11</td>\n",
       "      <td>2016-10-10</td>\n",
       "      <td>0.696970</td>\n",
       "      <td>MSCOE</td>\n",
       "      <td>RDC</td>\n",
       "    </tr>\n",
       "    <tr>\n",
       "      <th>28</th>\n",
       "      <td>31.0</td>\n",
       "      <td>31</td>\n",
       "      <td>onhold</td>\n",
       "      <td>1000.0</td>\n",
       "      <td>30</td>\n",
       "      <td>2016-09-11</td>\n",
       "      <td>2016-10-10</td>\n",
       "      <td>0.621622</td>\n",
       "      <td>STIC</td>\n",
       "      <td>RDC</td>\n",
       "    </tr>\n",
       "    <tr>\n",
       "      <th>29</th>\n",
       "      <td>32.0</td>\n",
       "      <td>32</td>\n",
       "      <td>onhold</td>\n",
       "      <td>1000.0</td>\n",
       "      <td>30</td>\n",
       "      <td>2016-09-11</td>\n",
       "      <td>2016-10-10</td>\n",
       "      <td>0.851852</td>\n",
       "      <td>STIC</td>\n",
       "      <td>RDC</td>\n",
       "    </tr>\n",
       "    <tr>\n",
       "      <th>30</th>\n",
       "      <td>33.0</td>\n",
       "      <td>33</td>\n",
       "      <td>onhold</td>\n",
       "      <td>1000.0</td>\n",
       "      <td>30</td>\n",
       "      <td>2016-09-11</td>\n",
       "      <td>2016-09-25</td>\n",
       "      <td>0.621622</td>\n",
       "      <td>STIC</td>\n",
       "      <td>RDC</td>\n",
       "    </tr>\n",
       "  </tbody>\n",
       "</table>\n",
       "</div>"
      ],
      "text/plain": [
       "    UDI1 UDI2  FYHold   FUNDS  Months effective_date   due_date     Score  \\\n",
       "1    0.0    0  onhold  1000.0      30     2016-09-08 2016-10-07  0.511111   \n",
       "2    2.0    2  onhold  1000.0      30     2016-09-08 2016-09-22  0.696970   \n",
       "3    3.0    3  onhold  1000.0      15     2016-09-09 2016-10-08  0.851852   \n",
       "4    4.0    4  onhold  1000.0      30     2016-09-09 2016-10-08  0.821429   \n",
       "5    6.0    6  onhold  1000.0      30     2016-09-09 2016-10-08  0.793103   \n",
       "6    7.0    7  onhold  1000.0      30     2016-09-09 2016-10-08  0.638889   \n",
       "7    8.0    8  onhold  1000.0      30     2016-09-10 2016-09-24  0.821429   \n",
       "8    9.0    9  onhold   800.0      15     2016-09-10 2016-09-16  0.884615   \n",
       "9   10.0   10  onhold   300.0       7     2016-09-10 2016-10-09  0.793103   \n",
       "10  11.0   11  onhold  1000.0      15     2016-09-10 2016-10-09  0.589744   \n",
       "11  12.0   12  onhold  1000.0      30     2016-09-10 2016-09-16  0.884615   \n",
       "12  13.0   13  onhold   900.0       7     2016-09-10 2016-09-16  0.884615   \n",
       "13  14.0   14  onhold  1000.0       7     2016-09-10 2016-09-24  0.851852   \n",
       "14  15.0   15  onhold   800.0      15     2016-09-10 2016-10-09  0.884615   \n",
       "15  16.0   16  onhold  1000.0      30     2016-09-10 2016-09-24  0.575000   \n",
       "16  17.0   17  onhold  1000.0      15     2016-09-10 2016-10-09  0.718750   \n",
       "17  18.0   18  onhold  1000.0      30     2016-09-10 2016-10-09  0.718750   \n",
       "18  19.0   19  onhold   800.0      30     2016-09-10 2016-10-09  0.884615   \n",
       "19  20.0   20  onhold  1000.0      30     2016-09-10 2016-10-09  0.884615   \n",
       "20  22.0   22  onhold  1000.0      30     2016-09-10 2016-09-24  0.920000   \n",
       "21  23.0   23  onhold  1000.0      15     2016-09-10 2016-10-09  0.884615   \n",
       "22  25.0   25  onhold  1000.0      30     2016-09-10 2016-09-24  0.793103   \n",
       "23  26.0   26  onhold   800.0      15     2016-09-10 2016-09-24  0.589744   \n",
       "24  27.0   27  onhold  1000.0      15     2016-09-11 2016-10-10  0.676471   \n",
       "25  28.0   28  onhold  1000.0      30     2016-09-11 2016-10-10  0.741935   \n",
       "26  29.0   29  onhold  1000.0      30     2016-09-11 2016-09-25  0.696970   \n",
       "27  30.0   30  onhold   800.0      15     2016-09-11 2016-10-10  0.696970   \n",
       "28  31.0   31  onhold  1000.0      30     2016-09-11 2016-10-10  0.621622   \n",
       "29  32.0   32  onhold  1000.0      30     2016-09-11 2016-10-10  0.851852   \n",
       "30  33.0   33  onhold  1000.0      30     2016-09-11 2016-09-25  0.621622   \n",
       "\n",
       "       Group  ORG  \n",
       "1      MSCOE  RDC  \n",
       "2   AVIATION  OPS  \n",
       "3       STIC  RDC  \n",
       "4       STIC  OPS  \n",
       "5       STIC  RDC  \n",
       "6       STIC  RDC  \n",
       "7       STIC  RDC  \n",
       "8       STIC  RDC  \n",
       "9       STIC  RDC  \n",
       "10     MSCOE  RDC  \n",
       "11      STIC  RDC  \n",
       "12      STIC  OPS  \n",
       "13     MSCOE  RDC  \n",
       "14      STIC  RDC  \n",
       "15     MSCOE  RDC  \n",
       "16     MSCOE  RDC  \n",
       "17     MSCOE  RDC  \n",
       "18      STIC  RDC  \n",
       "19      STIC  RDC  \n",
       "20     MSCOE  RDC  \n",
       "21      STIC  RDC  \n",
       "22     MSCOE  RDC  \n",
       "23  AVIATION  RDC  \n",
       "24  AVIATION  RDC  \n",
       "25      STIC  RDC  \n",
       "26      STIC  RDC  \n",
       "27     MSCOE  RDC  \n",
       "28      STIC  RDC  \n",
       "29      STIC  RDC  \n",
       "30      STIC  RDC  "
      ]
     },
     "execution_count": 9,
     "metadata": {},
     "output_type": "execute_result"
    }
   ],
   "source": [
    "#make numbers mroe interesting\n",
    "df_newhead[\"Score\"]= 23/df_newhead[\"Score\"]\n",
    "#df_rdc['city-L/100km'] = 235/df[\"city-mpg\"]\n",
    "df_newhead.replace({'FYHold': {'PAIDOFF': 'onhold', 'COLLECTION': 'FY'}}, inplace=True)\n",
    "df_newhead.head(30)"
   ]
  },
  {
   "cell_type": "markdown",
   "metadata": {},
   "source": [
    "Minimum and maximum score from Organizational Portfolio review"
   ]
  },
  {
   "cell_type": "code",
   "execution_count": 10,
   "metadata": {},
   "outputs": [
    {
     "data": {
      "text/html": [
       "<div>\n",
       "<style scoped>\n",
       "    .dataframe tbody tr th:only-of-type {\n",
       "        vertical-align: middle;\n",
       "    }\n",
       "\n",
       "    .dataframe tbody tr th {\n",
       "        vertical-align: top;\n",
       "    }\n",
       "\n",
       "    .dataframe thead th {\n",
       "        text-align: right;\n",
       "    }\n",
       "</style>\n",
       "<table border=\"1\" class=\"dataframe\">\n",
       "  <thead>\n",
       "    <tr style=\"text-align: right;\">\n",
       "      <th></th>\n",
       "      <th>UDI1</th>\n",
       "      <th>UDI2</th>\n",
       "      <th>FYHold</th>\n",
       "      <th>FUNDS</th>\n",
       "      <th>Months</th>\n",
       "      <th>effective_date</th>\n",
       "      <th>due_date</th>\n",
       "      <th>Score</th>\n",
       "      <th>Group</th>\n",
       "      <th>ORG</th>\n",
       "    </tr>\n",
       "  </thead>\n",
       "  <tbody>\n",
       "    <tr>\n",
       "      <th>1</th>\n",
       "      <td>0.0</td>\n",
       "      <td>0</td>\n",
       "      <td>onhold</td>\n",
       "      <td>1000.0</td>\n",
       "      <td>30</td>\n",
       "      <td>2016-09-08</td>\n",
       "      <td>2016-10-07</td>\n",
       "      <td>45.0</td>\n",
       "      <td>MSCOE</td>\n",
       "      <td>RDC</td>\n",
       "    </tr>\n",
       "    <tr>\n",
       "      <th>2</th>\n",
       "      <td>2.0</td>\n",
       "      <td>2</td>\n",
       "      <td>onhold</td>\n",
       "      <td>1000.0</td>\n",
       "      <td>30</td>\n",
       "      <td>2016-09-08</td>\n",
       "      <td>2016-09-22</td>\n",
       "      <td>33.0</td>\n",
       "      <td>AVIATION</td>\n",
       "      <td>OPS</td>\n",
       "    </tr>\n",
       "    <tr>\n",
       "      <th>3</th>\n",
       "      <td>3.0</td>\n",
       "      <td>3</td>\n",
       "      <td>onhold</td>\n",
       "      <td>1000.0</td>\n",
       "      <td>15</td>\n",
       "      <td>2016-09-09</td>\n",
       "      <td>2016-10-08</td>\n",
       "      <td>27.0</td>\n",
       "      <td>STIC</td>\n",
       "      <td>RDC</td>\n",
       "    </tr>\n",
       "    <tr>\n",
       "      <th>4</th>\n",
       "      <td>4.0</td>\n",
       "      <td>4</td>\n",
       "      <td>onhold</td>\n",
       "      <td>1000.0</td>\n",
       "      <td>30</td>\n",
       "      <td>2016-09-09</td>\n",
       "      <td>2016-10-08</td>\n",
       "      <td>28.0</td>\n",
       "      <td>STIC</td>\n",
       "      <td>OPS</td>\n",
       "    </tr>\n",
       "    <tr>\n",
       "      <th>5</th>\n",
       "      <td>6.0</td>\n",
       "      <td>6</td>\n",
       "      <td>onhold</td>\n",
       "      <td>1000.0</td>\n",
       "      <td>30</td>\n",
       "      <td>2016-09-09</td>\n",
       "      <td>2016-10-08</td>\n",
       "      <td>29.0</td>\n",
       "      <td>STIC</td>\n",
       "      <td>RDC</td>\n",
       "    </tr>\n",
       "    <tr>\n",
       "      <th>6</th>\n",
       "      <td>7.0</td>\n",
       "      <td>7</td>\n",
       "      <td>onhold</td>\n",
       "      <td>1000.0</td>\n",
       "      <td>30</td>\n",
       "      <td>2016-09-09</td>\n",
       "      <td>2016-10-08</td>\n",
       "      <td>36.0</td>\n",
       "      <td>STIC</td>\n",
       "      <td>RDC</td>\n",
       "    </tr>\n",
       "    <tr>\n",
       "      <th>7</th>\n",
       "      <td>8.0</td>\n",
       "      <td>8</td>\n",
       "      <td>onhold</td>\n",
       "      <td>1000.0</td>\n",
       "      <td>30</td>\n",
       "      <td>2016-09-10</td>\n",
       "      <td>2016-09-24</td>\n",
       "      <td>28.0</td>\n",
       "      <td>STIC</td>\n",
       "      <td>RDC</td>\n",
       "    </tr>\n",
       "    <tr>\n",
       "      <th>8</th>\n",
       "      <td>9.0</td>\n",
       "      <td>9</td>\n",
       "      <td>onhold</td>\n",
       "      <td>800.0</td>\n",
       "      <td>15</td>\n",
       "      <td>2016-09-10</td>\n",
       "      <td>2016-09-16</td>\n",
       "      <td>26.0</td>\n",
       "      <td>STIC</td>\n",
       "      <td>RDC</td>\n",
       "    </tr>\n",
       "    <tr>\n",
       "      <th>9</th>\n",
       "      <td>10.0</td>\n",
       "      <td>10</td>\n",
       "      <td>onhold</td>\n",
       "      <td>300.0</td>\n",
       "      <td>7</td>\n",
       "      <td>2016-09-10</td>\n",
       "      <td>2016-10-09</td>\n",
       "      <td>29.0</td>\n",
       "      <td>STIC</td>\n",
       "      <td>RDC</td>\n",
       "    </tr>\n",
       "    <tr>\n",
       "      <th>10</th>\n",
       "      <td>11.0</td>\n",
       "      <td>11</td>\n",
       "      <td>onhold</td>\n",
       "      <td>1000.0</td>\n",
       "      <td>15</td>\n",
       "      <td>2016-09-10</td>\n",
       "      <td>2016-10-09</td>\n",
       "      <td>39.0</td>\n",
       "      <td>MSCOE</td>\n",
       "      <td>RDC</td>\n",
       "    </tr>\n",
       "    <tr>\n",
       "      <th>11</th>\n",
       "      <td>12.0</td>\n",
       "      <td>12</td>\n",
       "      <td>onhold</td>\n",
       "      <td>1000.0</td>\n",
       "      <td>30</td>\n",
       "      <td>2016-09-10</td>\n",
       "      <td>2016-09-16</td>\n",
       "      <td>26.0</td>\n",
       "      <td>STIC</td>\n",
       "      <td>RDC</td>\n",
       "    </tr>\n",
       "    <tr>\n",
       "      <th>12</th>\n",
       "      <td>13.0</td>\n",
       "      <td>13</td>\n",
       "      <td>onhold</td>\n",
       "      <td>900.0</td>\n",
       "      <td>7</td>\n",
       "      <td>2016-09-10</td>\n",
       "      <td>2016-09-16</td>\n",
       "      <td>26.0</td>\n",
       "      <td>STIC</td>\n",
       "      <td>OPS</td>\n",
       "    </tr>\n",
       "    <tr>\n",
       "      <th>13</th>\n",
       "      <td>14.0</td>\n",
       "      <td>14</td>\n",
       "      <td>onhold</td>\n",
       "      <td>1000.0</td>\n",
       "      <td>7</td>\n",
       "      <td>2016-09-10</td>\n",
       "      <td>2016-09-24</td>\n",
       "      <td>27.0</td>\n",
       "      <td>MSCOE</td>\n",
       "      <td>RDC</td>\n",
       "    </tr>\n",
       "    <tr>\n",
       "      <th>14</th>\n",
       "      <td>15.0</td>\n",
       "      <td>15</td>\n",
       "      <td>onhold</td>\n",
       "      <td>800.0</td>\n",
       "      <td>15</td>\n",
       "      <td>2016-09-10</td>\n",
       "      <td>2016-10-09</td>\n",
       "      <td>26.0</td>\n",
       "      <td>STIC</td>\n",
       "      <td>RDC</td>\n",
       "    </tr>\n",
       "    <tr>\n",
       "      <th>15</th>\n",
       "      <td>16.0</td>\n",
       "      <td>16</td>\n",
       "      <td>onhold</td>\n",
       "      <td>1000.0</td>\n",
       "      <td>30</td>\n",
       "      <td>2016-09-10</td>\n",
       "      <td>2016-09-24</td>\n",
       "      <td>40.0</td>\n",
       "      <td>MSCOE</td>\n",
       "      <td>RDC</td>\n",
       "    </tr>\n",
       "    <tr>\n",
       "      <th>16</th>\n",
       "      <td>17.0</td>\n",
       "      <td>17</td>\n",
       "      <td>onhold</td>\n",
       "      <td>1000.0</td>\n",
       "      <td>15</td>\n",
       "      <td>2016-09-10</td>\n",
       "      <td>2016-10-09</td>\n",
       "      <td>32.0</td>\n",
       "      <td>MSCOE</td>\n",
       "      <td>RDC</td>\n",
       "    </tr>\n",
       "    <tr>\n",
       "      <th>17</th>\n",
       "      <td>18.0</td>\n",
       "      <td>18</td>\n",
       "      <td>onhold</td>\n",
       "      <td>1000.0</td>\n",
       "      <td>30</td>\n",
       "      <td>2016-09-10</td>\n",
       "      <td>2016-10-09</td>\n",
       "      <td>32.0</td>\n",
       "      <td>MSCOE</td>\n",
       "      <td>RDC</td>\n",
       "    </tr>\n",
       "    <tr>\n",
       "      <th>18</th>\n",
       "      <td>19.0</td>\n",
       "      <td>19</td>\n",
       "      <td>onhold</td>\n",
       "      <td>800.0</td>\n",
       "      <td>30</td>\n",
       "      <td>2016-09-10</td>\n",
       "      <td>2016-10-09</td>\n",
       "      <td>26.0</td>\n",
       "      <td>STIC</td>\n",
       "      <td>RDC</td>\n",
       "    </tr>\n",
       "    <tr>\n",
       "      <th>19</th>\n",
       "      <td>20.0</td>\n",
       "      <td>20</td>\n",
       "      <td>onhold</td>\n",
       "      <td>1000.0</td>\n",
       "      <td>30</td>\n",
       "      <td>2016-09-10</td>\n",
       "      <td>2016-10-09</td>\n",
       "      <td>26.0</td>\n",
       "      <td>STIC</td>\n",
       "      <td>RDC</td>\n",
       "    </tr>\n",
       "    <tr>\n",
       "      <th>20</th>\n",
       "      <td>22.0</td>\n",
       "      <td>22</td>\n",
       "      <td>onhold</td>\n",
       "      <td>1000.0</td>\n",
       "      <td>30</td>\n",
       "      <td>2016-09-10</td>\n",
       "      <td>2016-09-24</td>\n",
       "      <td>25.0</td>\n",
       "      <td>MSCOE</td>\n",
       "      <td>RDC</td>\n",
       "    </tr>\n",
       "    <tr>\n",
       "      <th>21</th>\n",
       "      <td>23.0</td>\n",
       "      <td>23</td>\n",
       "      <td>onhold</td>\n",
       "      <td>1000.0</td>\n",
       "      <td>15</td>\n",
       "      <td>2016-09-10</td>\n",
       "      <td>2016-10-09</td>\n",
       "      <td>26.0</td>\n",
       "      <td>STIC</td>\n",
       "      <td>RDC</td>\n",
       "    </tr>\n",
       "    <tr>\n",
       "      <th>22</th>\n",
       "      <td>25.0</td>\n",
       "      <td>25</td>\n",
       "      <td>onhold</td>\n",
       "      <td>1000.0</td>\n",
       "      <td>30</td>\n",
       "      <td>2016-09-10</td>\n",
       "      <td>2016-09-24</td>\n",
       "      <td>29.0</td>\n",
       "      <td>MSCOE</td>\n",
       "      <td>RDC</td>\n",
       "    </tr>\n",
       "    <tr>\n",
       "      <th>23</th>\n",
       "      <td>26.0</td>\n",
       "      <td>26</td>\n",
       "      <td>onhold</td>\n",
       "      <td>800.0</td>\n",
       "      <td>15</td>\n",
       "      <td>2016-09-10</td>\n",
       "      <td>2016-09-24</td>\n",
       "      <td>39.0</td>\n",
       "      <td>AVIATION</td>\n",
       "      <td>RDC</td>\n",
       "    </tr>\n",
       "    <tr>\n",
       "      <th>24</th>\n",
       "      <td>27.0</td>\n",
       "      <td>27</td>\n",
       "      <td>onhold</td>\n",
       "      <td>1000.0</td>\n",
       "      <td>15</td>\n",
       "      <td>2016-09-11</td>\n",
       "      <td>2016-10-10</td>\n",
       "      <td>34.0</td>\n",
       "      <td>AVIATION</td>\n",
       "      <td>RDC</td>\n",
       "    </tr>\n",
       "    <tr>\n",
       "      <th>25</th>\n",
       "      <td>28.0</td>\n",
       "      <td>28</td>\n",
       "      <td>onhold</td>\n",
       "      <td>1000.0</td>\n",
       "      <td>30</td>\n",
       "      <td>2016-09-11</td>\n",
       "      <td>2016-10-10</td>\n",
       "      <td>31.0</td>\n",
       "      <td>STIC</td>\n",
       "      <td>RDC</td>\n",
       "    </tr>\n",
       "    <tr>\n",
       "      <th>26</th>\n",
       "      <td>29.0</td>\n",
       "      <td>29</td>\n",
       "      <td>onhold</td>\n",
       "      <td>1000.0</td>\n",
       "      <td>30</td>\n",
       "      <td>2016-09-11</td>\n",
       "      <td>2016-09-25</td>\n",
       "      <td>33.0</td>\n",
       "      <td>STIC</td>\n",
       "      <td>RDC</td>\n",
       "    </tr>\n",
       "    <tr>\n",
       "      <th>27</th>\n",
       "      <td>30.0</td>\n",
       "      <td>30</td>\n",
       "      <td>onhold</td>\n",
       "      <td>800.0</td>\n",
       "      <td>15</td>\n",
       "      <td>2016-09-11</td>\n",
       "      <td>2016-10-10</td>\n",
       "      <td>33.0</td>\n",
       "      <td>MSCOE</td>\n",
       "      <td>RDC</td>\n",
       "    </tr>\n",
       "    <tr>\n",
       "      <th>28</th>\n",
       "      <td>31.0</td>\n",
       "      <td>31</td>\n",
       "      <td>onhold</td>\n",
       "      <td>1000.0</td>\n",
       "      <td>30</td>\n",
       "      <td>2016-09-11</td>\n",
       "      <td>2016-10-10</td>\n",
       "      <td>37.0</td>\n",
       "      <td>STIC</td>\n",
       "      <td>RDC</td>\n",
       "    </tr>\n",
       "    <tr>\n",
       "      <th>29</th>\n",
       "      <td>32.0</td>\n",
       "      <td>32</td>\n",
       "      <td>onhold</td>\n",
       "      <td>1000.0</td>\n",
       "      <td>30</td>\n",
       "      <td>2016-09-11</td>\n",
       "      <td>2016-10-10</td>\n",
       "      <td>27.0</td>\n",
       "      <td>STIC</td>\n",
       "      <td>RDC</td>\n",
       "    </tr>\n",
       "    <tr>\n",
       "      <th>30</th>\n",
       "      <td>33.0</td>\n",
       "      <td>33</td>\n",
       "      <td>onhold</td>\n",
       "      <td>1000.0</td>\n",
       "      <td>30</td>\n",
       "      <td>2016-09-11</td>\n",
       "      <td>2016-09-25</td>\n",
       "      <td>37.0</td>\n",
       "      <td>STIC</td>\n",
       "      <td>RDC</td>\n",
       "    </tr>\n",
       "  </tbody>\n",
       "</table>\n",
       "</div>"
      ],
      "text/plain": [
       "    UDI1 UDI2  FYHold   FUNDS  Months effective_date   due_date  Score  \\\n",
       "1    0.0    0  onhold  1000.0      30     2016-09-08 2016-10-07   45.0   \n",
       "2    2.0    2  onhold  1000.0      30     2016-09-08 2016-09-22   33.0   \n",
       "3    3.0    3  onhold  1000.0      15     2016-09-09 2016-10-08   27.0   \n",
       "4    4.0    4  onhold  1000.0      30     2016-09-09 2016-10-08   28.0   \n",
       "5    6.0    6  onhold  1000.0      30     2016-09-09 2016-10-08   29.0   \n",
       "6    7.0    7  onhold  1000.0      30     2016-09-09 2016-10-08   36.0   \n",
       "7    8.0    8  onhold  1000.0      30     2016-09-10 2016-09-24   28.0   \n",
       "8    9.0    9  onhold   800.0      15     2016-09-10 2016-09-16   26.0   \n",
       "9   10.0   10  onhold   300.0       7     2016-09-10 2016-10-09   29.0   \n",
       "10  11.0   11  onhold  1000.0      15     2016-09-10 2016-10-09   39.0   \n",
       "11  12.0   12  onhold  1000.0      30     2016-09-10 2016-09-16   26.0   \n",
       "12  13.0   13  onhold   900.0       7     2016-09-10 2016-09-16   26.0   \n",
       "13  14.0   14  onhold  1000.0       7     2016-09-10 2016-09-24   27.0   \n",
       "14  15.0   15  onhold   800.0      15     2016-09-10 2016-10-09   26.0   \n",
       "15  16.0   16  onhold  1000.0      30     2016-09-10 2016-09-24   40.0   \n",
       "16  17.0   17  onhold  1000.0      15     2016-09-10 2016-10-09   32.0   \n",
       "17  18.0   18  onhold  1000.0      30     2016-09-10 2016-10-09   32.0   \n",
       "18  19.0   19  onhold   800.0      30     2016-09-10 2016-10-09   26.0   \n",
       "19  20.0   20  onhold  1000.0      30     2016-09-10 2016-10-09   26.0   \n",
       "20  22.0   22  onhold  1000.0      30     2016-09-10 2016-09-24   25.0   \n",
       "21  23.0   23  onhold  1000.0      15     2016-09-10 2016-10-09   26.0   \n",
       "22  25.0   25  onhold  1000.0      30     2016-09-10 2016-09-24   29.0   \n",
       "23  26.0   26  onhold   800.0      15     2016-09-10 2016-09-24   39.0   \n",
       "24  27.0   27  onhold  1000.0      15     2016-09-11 2016-10-10   34.0   \n",
       "25  28.0   28  onhold  1000.0      30     2016-09-11 2016-10-10   31.0   \n",
       "26  29.0   29  onhold  1000.0      30     2016-09-11 2016-09-25   33.0   \n",
       "27  30.0   30  onhold   800.0      15     2016-09-11 2016-10-10   33.0   \n",
       "28  31.0   31  onhold  1000.0      30     2016-09-11 2016-10-10   37.0   \n",
       "29  32.0   32  onhold  1000.0      30     2016-09-11 2016-10-10   27.0   \n",
       "30  33.0   33  onhold  1000.0      30     2016-09-11 2016-09-25   37.0   \n",
       "\n",
       "       Group  ORG  \n",
       "1      MSCOE  RDC  \n",
       "2   AVIATION  OPS  \n",
       "3       STIC  RDC  \n",
       "4       STIC  OPS  \n",
       "5       STIC  RDC  \n",
       "6       STIC  RDC  \n",
       "7       STIC  RDC  \n",
       "8       STIC  RDC  \n",
       "9       STIC  RDC  \n",
       "10     MSCOE  RDC  \n",
       "11      STIC  RDC  \n",
       "12      STIC  OPS  \n",
       "13     MSCOE  RDC  \n",
       "14      STIC  RDC  \n",
       "15     MSCOE  RDC  \n",
       "16     MSCOE  RDC  \n",
       "17     MSCOE  RDC  \n",
       "18      STIC  RDC  \n",
       "19      STIC  RDC  \n",
       "20     MSCOE  RDC  \n",
       "21      STIC  RDC  \n",
       "22     MSCOE  RDC  \n",
       "23  AVIATION  RDC  \n",
       "24  AVIATION  RDC  \n",
       "25      STIC  RDC  \n",
       "26      STIC  RDC  \n",
       "27     MSCOE  RDC  \n",
       "28      STIC  RDC  \n",
       "29      STIC  RDC  \n",
       "30      STIC  RDC  "
      ]
     },
     "execution_count": 10,
     "metadata": {},
     "output_type": "execute_result"
    }
   ],
   "source": [
    "df_newhead[\"Score\"]= df_newhead[\"Score\"].astype(\"float\")\n",
    "# Make numbers mroe interesting\n",
    "df_newhead[\"Score\"]= 23/df_newhead[\"Score\"]\n",
    "#df_rdc['city-L/100km'] = 235/df[\"city-mpg\"]\n",
    "df_newhead.head(30)"
   ]
  },
  {
   "cell_type": "markdown",
   "metadata": {
    "button": false,
    "new_sheet": false,
    "run_control": {
     "read_only": false
    }
   },
   "source": [
    "Some data conversions are required to float. The date/time is modified though not used directly here but will be useful if recommondations are implemented."
   ]
  },
  {
   "cell_type": "code",
   "execution_count": 11,
   "metadata": {
    "button": false,
    "new_sheet": false,
    "run_control": {
     "read_only": false
    }
   },
   "outputs": [
    {
     "data": {
      "text/plain": [
       "UDI1                     float64\n",
       "UDI2                      object\n",
       "FYHold                    object\n",
       "FUNDS                    float64\n",
       "Months                     int64\n",
       "effective_date    datetime64[ns]\n",
       "due_date          datetime64[ns]\n",
       "Score                    float64\n",
       "Group                     object\n",
       "ORG                       object\n",
       "dtype: object"
      ]
     },
     "execution_count": 11,
     "metadata": {},
     "output_type": "execute_result"
    }
   ],
   "source": [
    "# Conversions\n",
    "df['due_date'] = pd.to_datetime(df['due_date'])\n",
    "df['effective_date'] = pd.to_datetime(df['effective_date'])\n",
    "df.head()\n",
    "df_rdc['due_date'] = pd.to_datetime(df_rdc['due_date'])\n",
    "df_rdc['effective_date'] = pd.to_datetime(df_rdc['effective_date'])\n",
    "df_rdc \n",
    "\n",
    "df_newhead['due_date'] = pd.to_datetime(df_rdc['due_date'])\n",
    "df_newhead['effective_date'] = pd.to_datetime(df_rdc['effective_date'])\n",
    "\n",
    "df_newhead[\"FUNDS\"]= df_newhead[\"FUNDS\"].astype(\"float\")\n",
    "df_newhead[\"Months\"]= df_newhead[\"Months\"].astype(\"int\")\n",
    "\n",
    "#make numbers mroe interesting\n",
    "#df_newhead[\"FUNDS\"]= df_newhead[\"FUNDS\"]/3.25\n",
    "#df_rdc['city-L/100km'] = 235/df[\"city-mpg\"]\n",
    "\n",
    "#df.groupby(['Gender'])['loan_status'].value_counts(normalize=True)\n",
    "#df.groupby(['education'])['loan_status'].value_counts(normalize=True)\n",
    "#df_rdc['Gender'].replace(to_replace=['RDC','ACQ'], value=[0,1],inplace=True)\n",
    "#df_newhead['ORG'].replace(to_replace=['RDC','ACQ'], value=[0,1],inplace=True)\n",
    "df_newhead.head(30)\n",
    "df_newhead.dtypes"
   ]
  },
  {
   "cell_type": "markdown",
   "metadata": {
    "button": false,
    "new_sheet": false,
    "run_control": {
     "read_only": false
    }
   },
   "source": []
  },
  {
   "cell_type": "markdown",
   "metadata": {
    "button": false,
    "new_sheet": false,
    "run_control": {
     "read_only": false
    }
   },
   "source": [
    "#### Data visualization and pre-processing"
   ]
  },
  {
   "cell_type": "markdown",
   "metadata": {
    "button": false,
    "new_sheet": false,
    "run_control": {
     "read_only": false
    }
   },
   "source": [
    "Let’s see how many of each class is in our data set "
   ]
  },
  {
   "cell_type": "code",
   "execution_count": 12,
   "metadata": {
    "button": false,
    "new_sheet": false,
    "run_control": {
     "read_only": false
    }
   },
   "outputs": [
    {
     "name": "stdout",
     "output_type": "stream",
     "text": [
      " Projects Funded and Onhold \n"
     ]
    },
    {
     "data": {
      "text/plain": [
       "onhold    260\n",
       "FY         86\n",
       "Name: FYHold, dtype: int64"
      ]
     },
     "execution_count": 12,
     "metadata": {},
     "output_type": "execute_result"
    }
   ],
   "source": [
    "## Let's convert the original to RDC relevant\n",
    "\n",
    "#df['loan_status'].value_counts()\n",
    "\n",
    "#\n",
    "print(\" Projects Funded and Onhold \")\n",
    "df_rdc['loan_status'].value_counts()\n",
    "df_newhead['FYHold'].value_counts()"
   ]
  },
  {
   "cell_type": "markdown",
   "metadata": {
    "button": false,
    "new_sheet": false,
    "run_control": {
     "read_only": false
    }
   },
   "source": [
    "260 Projects Onhold while 86 To Be Executed.\n"
   ]
  },
  {
   "cell_type": "markdown",
   "metadata": {},
   "source": [
    "Let's plot some columns to see relationships amongst the columns values. The first two graphs represent the original. The second two represent the modified data for our work. This is provided for comparison of the change not for meaningful data. It also verifies the data changes were made as expected."
   ]
  },
  {
   "cell_type": "code",
   "execution_count": 13,
   "metadata": {},
   "outputs": [
    {
     "data": {
      "image/png": "[encoded data removed]",
      "text/plain": [
       "<Figure size 432x216 with 2 Axes>"
      ]
     },
     "metadata": {
      "needs_background": "light"
     },
     "output_type": "display_data"
    },
    {
     "data": {
      "image/png": "[encoded data removed]",
      "text/plain": [
       "<Figure size 432x216 with 2 Axes>"
      ]
     },
     "metadata": {
      "needs_background": "light"
     },
     "output_type": "display_data"
    },
    {
     "name": "stdout",
     "output_type": "stream",
     "text": [
      "Min score 18\n",
      "Max Score 51\n",
      "New Min score 18.0\n",
      "New Max Score 51.0\n"
     ]
    }
   ],
   "source": [
    "import seaborn as sns\n",
    "\n",
    "#bins = np.linspace(df_rdc.Principal.min(), df_rdc.Principal.max(), 10)\n",
    "#g = sns.FacetGrid(df_rdc, col=\"Gender\", hue=\"loan_status\", palette=\"Set1\", col_wrap=2)\n",
    "#g.map(plt.hist, 'Principal', bins=bins, ec=\"k\")\n",
    "\n",
    "#g.axes[-1].legend()\n",
    "#plt.show()\n",
    "# show relation to score 18 - 51\n",
    "bins = np.linspace(df_rdc.age.min(), df_rdc.age.max(), 10)\n",
    "g = sns.FacetGrid(df_rdc, col=\"Gender\", hue=\"loan_status\", palette=\"Set1\", col_wrap=2)\n",
    "g.map(plt.hist, 'age', bins=bins, ec=\"k\")\n",
    "\n",
    "g.axes[-1].legend()\n",
    "plt.show()\n",
    "#--------------------------------------------\n",
    "# show relation to score 18 - 51\n",
    "bins = np.linspace(df_newhead.Score.min(), df_newhead.Score.max(), 10)\n",
    "g = sns.FacetGrid(df_newhead, col=\"ORG\", hue=\"FYHold\", palette=\"Set1\", col_wrap=2)\n",
    "g.map(plt.hist, 'Score', bins=bins, ec=\"k\")\n",
    "\n",
    "g.axes[-1].legend()\n",
    "plt.show()\n",
    "print (\"Min score\",df_rdc.age.min())\n",
    "print (\"Max Score\", df_rdc.age.max())\n",
    "print (\"New Min score\",df_newhead.Score.min())\n",
    "print (\"New Max Score\", df_newhead.Score.max())"
   ]
  },
  {
   "cell_type": "markdown",
   "metadata": {},
   "source": [
    "These show the data has changed as expected."
   ]
  },
  {
   "cell_type": "code",
   "execution_count": 15,
   "metadata": {
    "button": false,
    "new_sheet": false,
    "run_control": {
     "read_only": false
    }
   },
   "outputs": [
    {
     "data": {
      "image/png": "[encoded data removed]",
      "text/plain": [
       "<Figure size 648x216 with 3 Axes>"
      ]
     },
     "metadata": {
      "needs_background": "light"
     },
     "output_type": "display_data"
    },
    {
     "data": {
      "text/plain": [
       "UDI1                     float64\n",
       "UDI2                      object\n",
       "FYHold                    object\n",
       "FUNDS                    float64\n",
       "Months                     int64\n",
       "effective_date    datetime64[ns]\n",
       "due_date          datetime64[ns]\n",
       "Score                    float64\n",
       "Group                     object\n",
       "ORG                       object\n",
       "dtype: object"
      ]
     },
     "execution_count": 15,
     "metadata": {},
     "output_type": "execute_result"
    }
   ],
   "source": [
    "bins = np.linspace(df_rdc.Principal.min(), df_rdc.Principal.max(), 5)\n",
    "g = sns.FacetGrid(df_rdc, col=\"terms\", hue=\"education\", palette=\"Set2\", col_wrap=3)\n",
    "g.map(plt.hist, 'Principal', bins=bins, ec=\"k\")\n",
    "\n",
    "g.axes[-1].legend()\n",
    "plt.show()\n",
    "df_rdc\n",
    "df_rdc.dtypes\n",
    "\n",
    "#bins = np.linspace(df_newhead.FYHold.min(), df_newhead.FYHold.max(), 5)\n",
    "#g = sns.FacetGrid(df_newhead, col=\"FUNDS\", hue=\"Group\", palette=\"Set2\", col_wrap=3)\n",
    "#g.map(plt.hist, 'FUNDS', bins=bins, ec=\"k\")\n",
    "\n",
    "#g.axes[-1].legend()\n",
    "#plt.show()\n",
    "#df_rdc\n",
    "df_newhead.dtypes"
   ]
  },
  {
   "cell_type": "markdown",
   "metadata": {
    "button": false,
    "new_sheet": false,
    "run_control": {
     "read_only": false
    }
   },
   "source": [
    "#### 6.2 Classifier Pre-processing:  Feature selection/extraction"
   ]
  },
  {
   "cell_type": "markdown",
   "metadata": {
    "button": false,
    "new_sheet": false,
    "run_control": {
     "read_only": false
    }
   },
   "source": [
    "The target variable is the determination that a project will execute or placed onhold given the Train/Test set. The is the \"Y\" dataframe. I check the datatypes to be sure these can be used in the classifiers when passed.The \"X\" dataframe features are the Scores, the Branch, Months of execution. Next I convert categorical features to numerical values and explore grouping relationships."
   ]
  },
  {
   "cell_type": "code",
   "execution_count": 16,
   "metadata": {
    "button": false,
    "new_sheet": false,
    "run_control": {
     "read_only": false
    }
   },
   "outputs": [
    {
     "data": {
      "text/plain": [
       "Months  Group   \n",
       "7       STIC        0.500000\n",
       "        MSCOE       0.357143\n",
       "        AVIATION    0.142857\n",
       "15      STIC        0.452703\n",
       "        MSCOE       0.385135\n",
       "        AVIATION    0.148649\n",
       "        Surface     0.013514\n",
       "30      MSCOE       0.483696\n",
       "        STIC        0.407609\n",
       "        AVIATION    0.108696\n",
       "Name: Group, dtype: float64"
      ]
     },
     "execution_count": 16,
     "metadata": {},
     "output_type": "execute_result"
    }
   ],
   "source": [
    "df_rdc.groupby(['Gender'])['loan_status'].value_counts(normalize=True)\n",
    "#male/rfeamle translate to RDC and ACQ\n",
    "df_rdc.groupby(['Principal'])['education'].value_counts(normalize=True)\n",
    "\n",
    "df_newhead.groupby(['ORG'])['FYHold'].value_counts(normalize=True)\n",
    "df_newhead.groupby(['Group'])['FUNDS'].value_counts(normalize=True)\n",
    "df_newhead.groupby(['Months'])['Group'].value_counts(normalize=True)\n",
    "#df_rdc\n",
    "#df_rdc.hist(column='age', bins=50)\n",
    "#df_newhead.hist(column='Score', bins=50)"
   ]
  },
  {
   "cell_type": "code",
   "execution_count": 17,
   "metadata": {
    "button": false,
    "new_sheet": false,
    "run_control": {
     "read_only": false
    }
   },
   "outputs": [
    {
     "data": {
      "text/plain": [
       "ORG  FYHold\n",
       "OPS  onhold    0.865385\n",
       "     FY        0.134615\n",
       "RDC  onhold    0.731293\n",
       "     FY        0.268707\n",
       "Name: FYHold, dtype: float64"
      ]
     },
     "execution_count": 17,
     "metadata": {},
     "output_type": "execute_result"
    }
   ],
   "source": [
    "df_newhead.groupby(['ORG'])['FYHold'].value_counts(normalize=True)"
   ]
  },
  {
   "cell_type": "markdown",
   "metadata": {
    "button": false,
    "new_sheet": false,
    "run_control": {
     "read_only": false
    }
   },
   "source": [
    "df_newhead.groupby(['Group'])['FUNDS'].value_counts(normalize=True)"
   ]
  },
  {
   "cell_type": "markdown",
   "metadata": {
    "button": false,
    "new_sheet": false,
    "run_control": {
     "read_only": false
    }
   },
   "source": [
    "For Principal/Cost amounts (x10k) EX) For this sample data 75 percent  Aviation projects with funding at 88K USD, Surface has 50 percent of their projects funded at 71K USD. In this sampling MSCOE had 48 percent of project lasting 30 months and half of Surface projects last 7 months."
   ]
  },
  {
   "cell_type": "markdown",
   "metadata": {
    "button": false,
    "new_sheet": false,
    "run_control": {
     "read_only": false
    }
   },
   "source": [
    "Below is the dataframe in current form. There is still some wrangling to do.To get parameters in float from object type. Also to make more diverse the Principal ( aka Funding amount). Note here is where we could use the two unused columns (\"Unnamed\") for other metric. The date column could also be used to capture metrics like time from request to execution to completion.This project only uses a subset to illustrate the usefulness of the Data Science tools.\n"
   ]
  },
  {
   "cell_type": "code",
   "execution_count": 18,
   "metadata": {
    "button": false,
    "new_sheet": false,
    "run_control": {
     "read_only": false
    }
   },
   "outputs": [
    {
     "name": "stdout",
     "output_type": "stream",
     "text": [
      "     Unnamed: 0  Unnamed: 0.1 loan_status  Principal  terms effective_date  \\\n",
      "0             0             0      onhold       1000     12     2016-09-08   \n",
      "1             2             2      onhold       1000     12     2016-09-08   \n",
      "2             3             3      onhold       1000     24     2016-09-08   \n",
      "3             4             4      onhold       1000     12     2016-09-09   \n",
      "4             6             6      onhold       1000     12     2016-09-09   \n",
      "..          ...           ...         ...        ...    ...            ...   \n",
      "341         394           394          FY        800     24     2016-09-11   \n",
      "342         395           395          FY       1000     12     2016-09-11   \n",
      "343         397           397          FY        800     24     2016-09-12   \n",
      "344         398           398          FY       1000     12     2016-09-12   \n",
      "345         399           399          FY       1000     12     2016-09-12   \n",
      "\n",
      "      due_date  age education Gender  \n",
      "0   2016-10-07   45     MSCOE    RDC  \n",
      "1   2016-10-07   33  AVIATION    OPS  \n",
      "2   2016-09-22   27      STIC    RDC  \n",
      "3   2016-10-08   28      STIC    OPS  \n",
      "4   2016-10-08   29      STIC    RDC  \n",
      "..         ...  ...       ...    ...  \n",
      "341 2016-09-25   32     MSCOE    RDC  \n",
      "342 2016-10-10   25     MSCOE    RDC  \n",
      "343 2016-09-26   39      STIC    RDC  \n",
      "344 2016-11-10   28      STIC    RDC  \n",
      "345 2016-10-11   26      STIC    RDC  \n",
      "\n",
      "[346 rows x 10 columns]\n",
      "      UDI1 UDI2  FYHold   FUNDS  Months effective_date   due_date  Score  \\\n",
      "1      0.0    0  onhold  1000.0      30     2016-09-08 2016-10-07   45.0   \n",
      "2      2.0    2  onhold  1000.0      30     2016-09-08 2016-09-22   33.0   \n",
      "3      3.0    3  onhold  1000.0      15     2016-09-09 2016-10-08   27.0   \n",
      "4      4.0    4  onhold  1000.0      30     2016-09-09 2016-10-08   28.0   \n",
      "5      6.0    6  onhold  1000.0      30     2016-09-09 2016-10-08   29.0   \n",
      "..     ...  ...     ...     ...     ...            ...        ...    ...   \n",
      "342  394.0  394      FY   800.0      15     2016-09-11 2016-10-10   32.0   \n",
      "343  395.0  395      FY  1000.0      30     2016-09-12 2016-09-26   25.0   \n",
      "344  397.0  397      FY   800.0      15     2016-09-12 2016-11-10   39.0   \n",
      "345  398.0  398      FY  1000.0      30     2016-09-12 2016-10-11   28.0   \n",
      "346  399.0  399      FY  1000.0      30            NaT        NaT   26.0   \n",
      "\n",
      "        Group  ORG  \n",
      "1       MSCOE  RDC  \n",
      "2    AVIATION  OPS  \n",
      "3        STIC  RDC  \n",
      "4        STIC  OPS  \n",
      "5        STIC  RDC  \n",
      "..        ...  ...  \n",
      "342     MSCOE  RDC  \n",
      "343     MSCOE  RDC  \n",
      "344      STIC  RDC  \n",
      "345      STIC  RDC  \n",
      "346      STIC  RDC  \n",
      "\n",
      "[346 rows x 10 columns]\n"
     ]
    }
   ],
   "source": [
    "#df_rdc['Gender'].replace(to_replace=['RDC','ACQ'], value=[0,1],inplace=True)\n",
    "#df_rdc.head()\n",
    "#df_rdc['Gender']\n",
    "#df_rdc['education'].replace(to_replace=['MSCOE','STIC','AVIATION','Surface'], value=[0,1,2,3],inplace=True)\n",
    "print(df_rdc)\n",
    "print(df_newhead)"
   ]
  },
  {
   "cell_type": "code",
   "execution_count": 62,
   "metadata": {
    "button": false,
    "new_sheet": false,
    "run_control": {
     "read_only": false
    }
   },
   "outputs": [],
   "source": [
    "#df.groupby(['education'])['loan_status'].value_counts(normalize=True)\n",
    "\n",
    "#df_rdc.groupby(['education'])['loan_status'].value_counts(normalize=True)\n",
    "#df_rdc.groupby(['education'])['terms'].value_counts(normalize=True)"
   ]
  },
  {
   "cell_type": "markdown",
   "metadata": {
    "button": false,
    "new_sheet": false,
    "run_control": {
     "read_only": false
    }
   },
   "source": [
    "Now let's explore relationship by Group for length of project in Months. This might reveal how project length is associated with a Branch\n",
    "\n",
    "Of those categorized as Aviation, 45% executed as 30 month projects\n",
    "Of those categorized as MSCOE 37% executed as 15 month projects\n",
    "Of those categorized as STIC 44% executed as 15 month projects"
   ]
  },
  {
   "cell_type": "code",
   "execution_count": 19,
   "metadata": {
    "button": false,
    "new_sheet": false,
    "run_control": {
     "read_only": false
    }
   },
   "outputs": [
    {
     "data": {
      "text/plain": [
       "Group     Months\n",
       "AVIATION  15        0.500000\n",
       "          30        0.454545\n",
       "          7         0.045455\n",
       "MSCOE     30        0.589404\n",
       "          15        0.377483\n",
       "          7         0.033113\n",
       "STIC      30        0.503356\n",
       "          15        0.449664\n",
       "          7         0.046980\n",
       "Surface   15        1.000000\n",
       "Name: Months, dtype: float64"
      ]
     },
     "execution_count": 19,
     "metadata": {},
     "output_type": "execute_result"
    }
   ],
   "source": [
    "df_newhead.groupby(['Group'])['Months'].value_counts(normalize=True)"
   ]
  },
  {
   "cell_type": "code",
   "execution_count": 20,
   "metadata": {
    "button": false,
    "new_sheet": false,
    "run_control": {
     "read_only": false
    }
   },
   "outputs": [
    {
     "name": "stdout",
     "output_type": "stream",
     "text": [
      "Look at by Group for onhold or execute\n",
      "This might reveal how Branch relates to onhold or execution status \n"
     ]
    },
    {
     "data": {
      "text/plain": [
       "Group     FYHold\n",
       "AVIATION  onhold    0.750000\n",
       "          FY        0.250000\n",
       "MSCOE     onhold    0.741722\n",
       "          FY        0.258278\n",
       "STIC      onhold    0.765101\n",
       "          FY        0.234899\n",
       "Surface   FY        0.500000\n",
       "          onhold    0.500000\n",
       "Name: FYHold, dtype: float64"
      ]
     },
     "execution_count": 20,
     "metadata": {},
     "output_type": "execute_result"
    }
   ],
   "source": [
    "print ('Look at by Group for onhold or execute')\n",
    "print ('This might reveal how Branch relates to onhold or execution status ')\n",
    "df_newhead.groupby(['Group'])['FYHold'].value_counts(normalize=True)"
   ]
  },
  {
   "cell_type": "code",
   "execution_count": 21,
   "metadata": {
    "button": false,
    "new_sheet": false,
    "run_control": {
     "read_only": false
    }
   },
   "outputs": [
    {
     "name": "stdout",
     "output_type": "stream",
     "text": [
      "Look at by Score for onhold or execute\n",
      "This might reveal how Branch and Score could be related\n"
     ]
    },
    {
     "data": {
      "text/plain": [
       "Group     Score\n",
       "AVIATION  34.0     0.136364\n",
       "          35.0     0.136364\n",
       "          24.0     0.090909\n",
       "          26.0     0.090909\n",
       "          28.0     0.090909\n",
       "                     ...   \n",
       "STIC      44.0     0.006711\n",
       "          45.0     0.006711\n",
       "          51.0     0.006711\n",
       "Surface   39.0     0.500000\n",
       "          50.0     0.500000\n",
       "Name: Score, Length: 74, dtype: float64"
      ]
     },
     "execution_count": 21,
     "metadata": {},
     "output_type": "execute_result"
    }
   ],
   "source": [
    "print ('Look at by Score for onhold or execute')\n",
    "print ('This might reveal how Branch and Score could be related')\n",
    "df_newhead.groupby(['Group'])['Score'].value_counts(normalize=True)\n"
   ]
  },
  {
   "cell_type": "code",
   "execution_count": 22,
   "metadata": {
    "button": false,
    "new_sheet": false,
    "run_control": {
     "read_only": false
    }
   },
   "outputs": [
    {
     "data": {
      "text/plain": [
       "UDI1                     float64\n",
       "UDI2                      object\n",
       "FYHold                    object\n",
       "FUNDS                    float64\n",
       "Months                     int64\n",
       "effective_date    datetime64[ns]\n",
       "due_date          datetime64[ns]\n",
       "Score                    float64\n",
       "Group                     object\n",
       "ORG                       object\n",
       "dtype: object"
      ]
     },
     "execution_count": 22,
     "metadata": {},
     "output_type": "execute_result"
    }
   ],
   "source": [
    "df_newhead.dtypes"
   ]
  },
  {
   "cell_type": "code",
   "execution_count": 23,
   "metadata": {
    "button": false,
    "new_sheet": false,
    "run_control": {
     "read_only": false
    }
   },
   "outputs": [
    {
     "data": {
      "text/html": [
       "<div>\n",
       "<style scoped>\n",
       "    .dataframe tbody tr th:only-of-type {\n",
       "        vertical-align: middle;\n",
       "    }\n",
       "\n",
       "    .dataframe tbody tr th {\n",
       "        vertical-align: top;\n",
       "    }\n",
       "\n",
       "    .dataframe thead th {\n",
       "        text-align: right;\n",
       "    }\n",
       "</style>\n",
       "<table border=\"1\" class=\"dataframe\">\n",
       "  <thead>\n",
       "    <tr style=\"text-align: right;\">\n",
       "      <th></th>\n",
       "      <th>UDI1</th>\n",
       "      <th>UDI2</th>\n",
       "      <th>FYHold</th>\n",
       "      <th>FUNDS</th>\n",
       "      <th>Months</th>\n",
       "      <th>effective_date</th>\n",
       "      <th>due_date</th>\n",
       "      <th>Score</th>\n",
       "      <th>Group</th>\n",
       "      <th>ORG</th>\n",
       "    </tr>\n",
       "  </thead>\n",
       "  <tbody>\n",
       "    <tr>\n",
       "      <th>1</th>\n",
       "      <td>0.0</td>\n",
       "      <td>0</td>\n",
       "      <td>onhold</td>\n",
       "      <td>1000.0</td>\n",
       "      <td>30</td>\n",
       "      <td>2016-09-08</td>\n",
       "      <td>2016-10-07</td>\n",
       "      <td>45.0</td>\n",
       "      <td>MSCOE</td>\n",
       "      <td>RDC</td>\n",
       "    </tr>\n",
       "    <tr>\n",
       "      <th>2</th>\n",
       "      <td>2.0</td>\n",
       "      <td>2</td>\n",
       "      <td>onhold</td>\n",
       "      <td>1000.0</td>\n",
       "      <td>30</td>\n",
       "      <td>2016-09-08</td>\n",
       "      <td>2016-09-22</td>\n",
       "      <td>33.0</td>\n",
       "      <td>AVIATION</td>\n",
       "      <td>OPS</td>\n",
       "    </tr>\n",
       "    <tr>\n",
       "      <th>3</th>\n",
       "      <td>3.0</td>\n",
       "      <td>3</td>\n",
       "      <td>onhold</td>\n",
       "      <td>1000.0</td>\n",
       "      <td>15</td>\n",
       "      <td>2016-09-09</td>\n",
       "      <td>2016-10-08</td>\n",
       "      <td>27.0</td>\n",
       "      <td>STIC</td>\n",
       "      <td>RDC</td>\n",
       "    </tr>\n",
       "    <tr>\n",
       "      <th>4</th>\n",
       "      <td>4.0</td>\n",
       "      <td>4</td>\n",
       "      <td>onhold</td>\n",
       "      <td>1000.0</td>\n",
       "      <td>30</td>\n",
       "      <td>2016-09-09</td>\n",
       "      <td>2016-10-08</td>\n",
       "      <td>28.0</td>\n",
       "      <td>STIC</td>\n",
       "      <td>OPS</td>\n",
       "    </tr>\n",
       "    <tr>\n",
       "      <th>5</th>\n",
       "      <td>6.0</td>\n",
       "      <td>6</td>\n",
       "      <td>onhold</td>\n",
       "      <td>1000.0</td>\n",
       "      <td>30</td>\n",
       "      <td>2016-09-09</td>\n",
       "      <td>2016-10-08</td>\n",
       "      <td>29.0</td>\n",
       "      <td>STIC</td>\n",
       "      <td>RDC</td>\n",
       "    </tr>\n",
       "  </tbody>\n",
       "</table>\n",
       "</div>"
      ],
      "text/plain": [
       "   UDI1 UDI2  FYHold   FUNDS  Months effective_date   due_date  Score  \\\n",
       "1   0.0    0  onhold  1000.0      30     2016-09-08 2016-10-07   45.0   \n",
       "2   2.0    2  onhold  1000.0      30     2016-09-08 2016-09-22   33.0   \n",
       "3   3.0    3  onhold  1000.0      15     2016-09-09 2016-10-08   27.0   \n",
       "4   4.0    4  onhold  1000.0      30     2016-09-09 2016-10-08   28.0   \n",
       "5   6.0    6  onhold  1000.0      30     2016-09-09 2016-10-08   29.0   \n",
       "\n",
       "      Group  ORG  \n",
       "1     MSCOE  RDC  \n",
       "2  AVIATION  OPS  \n",
       "3      STIC  RDC  \n",
       "4      STIC  OPS  \n",
       "5      STIC  RDC  "
      ]
     },
     "execution_count": 23,
     "metadata": {},
     "output_type": "execute_result"
    }
   ],
   "source": [
    "df_newhead.head()"
   ]
  },
  {
   "cell_type": "code",
   "execution_count": 24,
   "metadata": {
    "button": false,
    "new_sheet": false,
    "run_control": {
     "read_only": false
    }
   },
   "outputs": [
    {
     "data": {
      "image/png": "[encoded data removed]",
      "text/plain": [
       "<Figure size 432x216 with 2 Axes>"
      ]
     },
     "metadata": {
      "needs_background": "light"
     },
     "output_type": "display_data"
    }
   ],
   "source": [
    "#bins = np.linspace(df_rdc.Principal.min(), df_rdc.Principal.max(), 10)\n",
    "#g = sns.FacetGrid(df_rdc, col=\"loan_status\", hue=\"education\", palette=\"Set3\", col_wrap=2)\n",
    "#g.map(plt.hist, 'loan_status', bins=bins, ec=\"k\")\n",
    "\n",
    "#g.axes[-1].legend()\n",
    "#plt.show()\n",
    "#\n",
    "#bins = np.linspace(df_newhead.Months.min(), df_newhead.Months.max(), 10)\n",
    "#g = sns.FacetGrid(df_newhead, col=\"FYHold\", hue=\"Group\", palette=\"Set3\", col_wrap=2)\n",
    "#g.map(plt.hist, 'Group', bins=bins, ec=\"k\")\n",
    "\n",
    "#g.axes[-1].legend()\n",
    "#plt.show()\n",
    "import seaborn as sns\n",
    "\n",
    "#bins = np.linspace(df.Principal.min(), df.Principal.max(), 10)\n",
    "#g = sns.FacetGrid(df, col=\"Gender\", hue=\"loan_status\", palette=\"Set1\", col_wrap=2)\n",
    "#g.map(plt.hist, 'Principal', bins=bins, ec=\"k\")\n",
    "\n",
    "#g.axes[-1].legend()\n",
    "#plt.show()\n",
    "\n",
    "\n",
    "bins = np.linspace(df_newhead.Months.min(), df_newhead.Months.max(), 20)\n",
    "g = sns.FacetGrid(df_newhead, col=\"ORG\", hue=\"FYHold\", palette=\"Set1\", col_wrap=2)\n",
    "g.map(plt.hist, 'Months', bins=bins, ec=\"k\")\n",
    "\n",
    "g.axes[-1].legend()\n",
    "plt.show()"
   ]
  },
  {
   "cell_type": "code",
   "execution_count": 87,
   "metadata": {
    "button": false,
    "new_sheet": false,
    "run_control": {
     "read_only": false
    }
   },
   "outputs": [
    {
     "data": {
      "image/png": "[encoded data removed]",
      "text/plain": [
       "<Figure size 432x432 with 4 Axes>"
      ]
     },
     "metadata": {
      "needs_background": "light"
     },
     "output_type": "display_data"
    }
   ],
   "source": [
    "import seaborn as sns\n",
    "\n",
    "#bins = np.linspace(df_rdc.Principal.min(), df_rdc.Principal.max(), 10)\n",
    "#g = sns.FacetGrid(df_rdc, col=\"Gender\", hue=\"loan_status\", palette=\"Set1\", col_wrap=2)\n",
    "#g.map(plt.hist, 'Principal', bins=bins, ec=\"k\")\n",
    "\n",
    "#g.axes[-1].legend()\n",
    "#plt.show()\n",
    "# show relation to score 18 - 51\n",
    "#bins = np.linspace(df_rdc.age.min(), df_rdc.age.max(), 10)\n",
    "#g = sns.FacetGrid(df_rdc, col=\"Gender\", hue=\"loan_status\", palette=\"Set1\", col_wrap=2)\n",
    "#g.map(plt.hist, 'age', bins=bins, ec=\"k\")\n",
    "\n",
    "#g.axes[-1].legend()\n",
    "#plt.show()\n",
    "#----------------------------------------------------\n",
    "import seaborn as sns\n",
    "\n",
    "#bins = np.linspace(df_rdc.Principal.min(), df_rdc.Principal.max(), 10)\n",
    "#g = sns.FacetGrid(df_rdc, col=\"Gender\", hue=\"loan_status\", palette=\"Set1\", col_wrap=2)\n",
    "#g.map(plt.hist, 'Principal', bins=bins, ec=\"k\")\n",
    "\n",
    "#g.axes[-1].legend()\n",
    "#plt.show()\n",
    "# show relation to score 18 - 51\n",
    "bins = np.linspace(df_newhead.FUNDS.min(), df_newhead.FUNDS.max(), 10)\n",
    "g = sns.FacetGrid(df_newhead, col=\"Group\", hue=\"FYHold\", palette=\"Set1\", col_wrap=2)\n",
    "g.map(plt.hist, 'FUNDS', bins=bins, ec=\"k\")\n",
    "\n",
    "g.axes[-1].legend()\n",
    "plt.show()"
   ]
  },
  {
   "cell_type": "markdown",
   "metadata": {
    "button": false,
    "new_sheet": false,
    "run_control": {
     "read_only": false
    }
   },
   "source": [
    "THese graphs map how projects by branch can be viewed for onhold or execution status. Total record count = 346."
   ]
  },
  {
   "cell_type": "code",
   "execution_count": 25,
   "metadata": {
    "button": false,
    "new_sheet": false,
    "run_control": {
     "read_only": false
    }
   },
   "outputs": [
    {
     "data": {
      "text/plain": [
       "<bound method NDFrame.head of       FUNDS  Score  Months\n",
       "1    1000.0   45.0      30\n",
       "2    1000.0   33.0      30\n",
       "3    1000.0   27.0      15\n",
       "4    1000.0   28.0      30\n",
       "5    1000.0   29.0      30\n",
       "..      ...    ...     ...\n",
       "342   800.0   32.0      15\n",
       "343  1000.0   25.0      30\n",
       "344   800.0   39.0      15\n",
       "345  1000.0   28.0      30\n",
       "346  1000.0   26.0      30\n",
       "\n",
       "[346 rows x 3 columns]>"
      ]
     },
     "execution_count": 25,
     "metadata": {},
     "output_type": "execute_result"
    }
   ],
   "source": [
    "#df[['Principal','terms','age','Gender','education']].head()\n",
    "#df_rdc[['Principal','terms','age','Gender','education']].head()\n",
    "\n",
    "df_newhead[['FUNDS','Score','Months']].head\n"
   ]
  },
  {
   "cell_type": "markdown",
   "metadata": {
    "button": false,
    "new_sheet": false,
    "run_control": {
     "read_only": false
    }
   },
   "source": [
    "Use one hot encoding technique to convert categorical varables to binary variables and \n",
    "append them to the feature Data Frame. The features tested for classification are FUNDS, Score, Group and Months. Afer looking at the dataframe we are ready to select the features of interest and begin comparing classifiers ( KNN, SVM and Decision Tree)"
   ]
  },
  {
   "cell_type": "code",
   "execution_count": 27,
   "metadata": {
    "button": false,
    "new_sheet": false,
    "run_control": {
     "read_only": false
    }
   },
   "outputs": [],
   "source": [
    "Feature = df_rdc[['Principal','terms','age']]\n",
    "Feature1 = df_newhead[['FUNDS','Score','Months']]\n",
    "Feature = pd.concat([Feature,pd.get_dummies(df_rdc['age'])], axis=1)\n"
   ]
  },
  {
   "cell_type": "markdown",
   "metadata": {
    "button": false,
    "new_sheet": false,
    "run_control": {
     "read_only": false
    }
   },
   "source": [
    "Lets define feature sets, X:  Funding amount, Branch assigned, Length of Project and target Y: onhold or execute"
   ]
  },
  {
   "cell_type": "code",
   "execution_count": 28,
   "metadata": {
    "button": false,
    "new_sheet": false,
    "run_control": {
     "read_only": false
    }
   },
   "outputs": [],
   "source": [
    "X = Feature\n",
    "#X[0:5]\n"
   ]
  },
  {
   "cell_type": "markdown",
   "metadata": {
    "button": false,
    "new_sheet": false,
    "run_control": {
     "read_only": false
    }
   },
   "source": [
    "The target set is the prediction of whether the result will be on hold or assigned for FY execution"
   ]
  },
  {
   "cell_type": "code",
   "execution_count": 29,
   "metadata": {
    "button": false,
    "new_sheet": false,
    "run_control": {
     "read_only": false
    }
   },
   "outputs": [
    {
     "data": {
      "text/plain": [
       "array(['onhold', 'onhold', 'onhold', 'onhold', 'onhold', 'onhold',\n",
       "       'onhold', 'onhold', 'onhold', 'onhold', 'onhold', 'onhold',\n",
       "       'onhold', 'onhold', 'onhold', 'onhold', 'onhold', 'onhold',\n",
       "       'onhold', 'onhold', 'onhold', 'onhold', 'onhold', 'onhold',\n",
       "       'onhold', 'onhold', 'onhold', 'onhold', 'onhold', 'onhold'],\n",
       "      dtype=object)"
      ]
     },
     "execution_count": 29,
     "metadata": {},
     "output_type": "execute_result"
    }
   ],
   "source": [
    "y = df_rdc['loan_status'].values\n",
    "y[0:30]\n"
   ]
  },
  {
   "cell_type": "markdown",
   "metadata": {
    "button": false,
    "new_sheet": false,
    "run_control": {
     "read_only": false
    }
   },
   "source": [
    "#### 6.3 Normalize Data "
   ]
  },
  {
   "cell_type": "markdown",
   "metadata": {
    "button": false,
    "new_sheet": false,
    "run_control": {
     "read_only": false
    }
   },
   "source": [
    "Data Standardization give data zero mean and unit variance (technically should be done after train test split )"
   ]
  },
  {
   "cell_type": "code",
   "execution_count": 30,
   "metadata": {
    "button": false,
    "new_sheet": false,
    "run_control": {
     "read_only": false
    }
   },
   "outputs": [
    {
     "name": "stderr",
     "output_type": "stream",
     "text": [
      "/home/jupyterlab/conda/envs/python/lib/python3.6/site-packages/sklearn/preprocessing/data.py:625: DataConversionWarning: Data with input dtype uint8, int64 were all converted to float64 by StandardScaler.\n",
      "  return self.partial_fit(X, y)\n",
      "/home/jupyterlab/conda/envs/python/lib/python3.6/site-packages/ipykernel_launcher.py:1: DataConversionWarning: Data with input dtype uint8, int64 were all converted to float64 by StandardScaler.\n",
      "  \"\"\"Entry point for launching an IPython kernel.\n"
     ]
    },
    {
     "data": {
      "text/plain": [
       "array([[ 0.51578458, -0.79676004,  2.33152555, -0.05383819, -0.07624929,\n",
       "        -0.09352195, -0.12108987, -0.14369749, -0.15384615, -0.20535013,\n",
       "        -0.22019275, -0.30246099, -0.27907279, -0.27300945, -0.29092868,\n",
       "        -0.29092868, -0.24104766, -0.20535013, -0.22731417, -0.2476887 ,\n",
       "        -0.2476887 , -0.16342041, -0.18120657, -0.16342041, -0.15384615,\n",
       "        -0.15384615, -0.07624929, -0.09352195, -0.09352195, -0.10814761,\n",
       "         9.246621  , -0.07624929, -0.05383819, -0.09352195, -0.05383819],\n",
       "       [ 0.51578458, -0.79676004,  0.34170148, -0.05383819, -0.07624929,\n",
       "        -0.09352195, -0.12108987, -0.14369749, -0.15384615, -0.20535013,\n",
       "        -0.22019275, -0.30246099, -0.27907279, -0.27300945, -0.29092868,\n",
       "        -0.29092868, -0.24104766, -0.20535013,  4.39919779, -0.2476887 ,\n",
       "        -0.2476887 , -0.16342041, -0.18120657, -0.16342041, -0.15384615,\n",
       "        -0.15384615, -0.07624929, -0.09352195, -0.09352195, -0.10814761,\n",
       "        -0.10814761, -0.07624929, -0.05383819, -0.09352195, -0.05383819],\n",
       "       [ 0.51578458,  1.14236521, -0.65321055, -0.05383819, -0.07624929,\n",
       "        -0.09352195, -0.12108987, -0.14369749, -0.15384615, -0.20535013,\n",
       "        -0.22019275, -0.30246099,  3.58329457, -0.27300945, -0.29092868,\n",
       "        -0.29092868, -0.24104766, -0.20535013, -0.22731417, -0.2476887 ,\n",
       "        -0.2476887 , -0.16342041, -0.18120657, -0.16342041, -0.15384615,\n",
       "        -0.15384615, -0.07624929, -0.09352195, -0.09352195, -0.10814761,\n",
       "        -0.10814761, -0.07624929, -0.05383819, -0.09352195, -0.05383819],\n",
       "       [ 0.51578458, -0.79676004, -0.48739188, -0.05383819, -0.07624929,\n",
       "        -0.09352195, -0.12108987, -0.14369749, -0.15384615, -0.20535013,\n",
       "        -0.22019275, -0.30246099, -0.27907279,  3.66287683, -0.29092868,\n",
       "        -0.29092868, -0.24104766, -0.20535013, -0.22731417, -0.2476887 ,\n",
       "        -0.2476887 , -0.16342041, -0.18120657, -0.16342041, -0.15384615,\n",
       "        -0.15384615, -0.07624929, -0.09352195, -0.09352195, -0.10814761,\n",
       "        -0.10814761, -0.07624929, -0.05383819, -0.09352195, -0.05383819],\n",
       "       [ 0.51578458, -0.79676004, -0.3215732 , -0.05383819, -0.07624929,\n",
       "        -0.09352195, -0.12108987, -0.14369749, -0.15384615, -0.20535013,\n",
       "        -0.22019275, -0.30246099, -0.27907279, -0.27300945,  3.43726851,\n",
       "        -0.29092868, -0.24104766, -0.20535013, -0.22731417, -0.2476887 ,\n",
       "        -0.2476887 , -0.16342041, -0.18120657, -0.16342041, -0.15384615,\n",
       "        -0.15384615, -0.07624929, -0.09352195, -0.09352195, -0.10814761,\n",
       "        -0.10814761, -0.07624929, -0.05383819, -0.09352195, -0.05383819]])"
      ]
     },
     "execution_count": 30,
     "metadata": {},
     "output_type": "execute_result"
    }
   ],
   "source": [
    "X= preprocessing.StandardScaler().fit(X).transform(X)\n",
    "X[0:5]"
   ]
  },
  {
   "cell_type": "markdown",
   "metadata": {
    "button": false,
    "new_sheet": false,
    "run_control": {
     "read_only": false
    }
   },
   "source": [
    "#### 6.4 Classifiers"
   ]
  },
  {
   "cell_type": "markdown",
   "metadata": {},
   "source": [
    "Classifiers : K Nearest Neighbor(KNN): To proceed with classification, we split the data into training and test sets. I tested the split ratios as 60/40 and 80/20 but the 70/30 split gave the best result. The training data will teaches the algorithm how the data moves  and is classified. The Test set is evaluated as measured of goodness for the model classifier.  Each model was assigned the same train/test set. Each result (e.g. SVMyhat, KNNyhat, DECTReeyhat) was named uniquely for use in a summary table. A F1score and Jaccard score is calculated for each prediction then compared for accuracy. First I start with K Nearest Neighbor(KNN). \n"
   ]
  },
  {
   "cell_type": "code",
   "execution_count": 31,
   "metadata": {},
   "outputs": [
    {
     "name": "stdout",
     "output_type": "stream",
     "text": [
      "Train set: (242, 35) (242,)\n",
      "Test set: (104, 35) (104,)\n",
      "KNN Jaccard score:  0.7115384615384616\n",
      "KNN F1 score: 0.6235955056179775\n"
     ]
    }
   ],
   "source": [
    "#USE THIS - figure out how to use given data to split train/test\n",
    "# from lab example\n",
    "# IMPORT KNN\n",
    "#from sklearn.neighbors import KNeighborsClassifier\n",
    "# Generate confusion matrix\n",
    "#-------------------------------------------------------------------Examples above\n",
    "from sklearn.model_selection import train_test_split\n",
    "X_train, X_test, y_train, y_test = train_test_split( X, y, test_size=0.3, random_state=7)\n",
    "print ('Train set:', X_train.shape,  y_train.shape)\n",
    "print ('Test set:', X_test.shape,  y_test.shape)\n",
    "\n",
    "from sklearn.neighbors import KNeighborsClassifier\n",
    "from sklearn import metrics\n",
    "Ks = 10\n",
    "mean_acc = np.zeros((Ks-1))\n",
    "std_acc = np.zeros((Ks-1))\n",
    "ConfustionMx = [];\n",
    "for k in range(1,10):    \n",
    "#Train Model and Predict  \n",
    "    neigh = KNeighborsClassifier(n_neighbors = k).fit(X_train,y_train)\n",
    "    yhat = neigh.predict(X_test)\n",
    "# let's see the array\n",
    "    yhat\n",
    "#mean_acc[n-1] = metrics.accuracy_score(y_test, yhat)\n",
    "mean_acc[k-1] = metrics.accuracy_score(y_test, yhat)\n",
    "\n",
    "std_acc[k-1]=np.std(yhat==y_test)/np.sqrt(yhat.shape[0])\n",
    "mean_acc\n",
    "std_acc\n",
    "#\n",
    "# From Example ---- begin\n",
    "\n",
    "from sklearn.metrics import confusion_matrix\n",
    "cm = confusion_matrix(y_test, yhat)\n",
    "cm\n",
    "#from example --------- end\n",
    "#from labs begin -----\n",
    "Ks = 10\n",
    "mean_acc = np.zeros((Ks-1))\n",
    "std_acc = np.zeros((Ks-1))\n",
    "ConfusionMx = [];\n",
    "for n in range(1,Ks):\n",
    "    \n",
    "    #Train Model and Predict  \n",
    "    neigh = KNeighborsClassifier(n_neighbors = n).fit(X_train,y_train)\n",
    "    yhat=neigh.predict(X_test)\n",
    "    mean_acc[n-1] = metrics.accuracy_score(y_test, yhat)\n",
    "    std_acc[n-1]=np.std(yhat==y_test)/np.sqrt(yhat.shape[0])\n",
    "\n",
    "mean_acc\n",
    "std_acc\n",
    "#from lab END ----\n",
    "\n",
    "## Take these for final table jaccard_similarity_score(y_test, yhat)\n",
    "### Assign fr final table\n",
    "#KNNy_test = y_test\n",
    "#KNNyhat = yhat\n",
    "#For LogRegression F1 Score' use variable (y_test, yhat, average='weighted'))\n",
    "#Jaccard from LAB exercise classifiers\n",
    "#FOr Logregression Jaccard score:',jaccard_similarity_score(y_test, yhat))\n",
    "#For 'LogRegression Log Loss Score:',log_loss(y_test, yhat_prob))\n",
    "#for SVM model take yhat, y_test\n",
    "#print(\"Avg (linear kernel) F1-score: %.4f\" % f1_score(y_test, yhat2, average='weighted'))\n",
    "#print(\"Jaccard score: %.4f\" % jaccard_similarity_score(y_test, yhat2))\n",
    "#\n",
    "from sklearn.metrics import jaccard_similarity_score\n",
    "from sklearn.metrics import f1_score\n",
    "from sklearn.metrics import log_loss\n",
    "KNN_jaccard = jaccard_similarity_score(y_test,yhat)\n",
    "#help (jaccard_similarity_score)\n",
    "print (\"KNN Jaccard score: \",KNN_jaccard)\n",
    "#help (f1_score)\n",
    "KNN_F1Score = f1_score(y_test,yhat, average ='weighted')\n",
    "print (\"KNN F1 score:\", KNN_F1Score)"
   ]
  },
  {
   "cell_type": "markdown",
   "metadata": {},
   "source": [
    "By comparison the KNN Jaccard score performed better than the F1score with k =5 as calculated below."
   ]
  },
  {
   "cell_type": "code",
   "execution_count": 32,
   "metadata": {},
   "outputs": [
    {
     "data": {
      "image/png": "[encoded data removed]",
      "text/plain": [
       "<Figure size 432x288 with 1 Axes>"
      ]
     },
     "metadata": {
      "needs_background": "light"
     },
     "output_type": "display_data"
    },
    {
     "name": "stdout",
     "output_type": "stream",
     "text": [
      "This graph shows best accuracy was with 0.7211538461538461 with k= 5\n"
     ]
    }
   ],
   "source": [
    "\n",
    "plt.plot(range(1,Ks),mean_acc,'g')\n",
    "plt.fill_between(range(1,Ks),mean_acc - 1 * std_acc,mean_acc + 1 * std_acc, alpha=0.10)\n",
    "plt.legend(('Accuracy ', '+/- 3xstd'))\n",
    "plt.ylabel('Accuracy ')\n",
    "plt.xlabel('Number of Nabors (K)')\n",
    "plt.tight_layout()\n",
    "plt.show()\n",
    "print( \"This graph shows best accuracy was with\", mean_acc.max(), \"with k=\", mean_acc.argmax()+1)"
   ]
  },
  {
   "cell_type": "markdown",
   "metadata": {},
   "source": [
    "Classifier : Decision Tree : This model uses the same train/test set as expected. It is important to use the same data otherwise a comparison would not be fruitful. I have chosen the criterion \"entropy\" for this fit.Again the data is split 70/30 as assigned to dataframes X and Y."
   ]
  },
  {
   "cell_type": "code",
   "execution_count": 33,
   "metadata": {},
   "outputs": [
    {
     "name": "stdout",
     "output_type": "stream",
     "text": [
      "Train set: (242, 35) (242,)\n",
      "Test set: (104, 35) (104,)\n"
     ]
    }
   ],
   "source": [
    "import numpy as np \n",
    "import pandas as pd\n",
    "# New classifier Decision Tree\n",
    "#\n",
    "from sklearn.tree import DecisionTreeClassifier\n",
    "decisionTree = DecisionTreeClassifier(criterion=\"entropy\", max_depth = 4)\n",
    "decisionTree.fit(X_train,y_train)\n",
    "#\n",
    "from sklearn.model_selection import train_test_split\n",
    "X_train, X_test, y_train, y_test = train_test_split( X, y, test_size=0.3, random_state=4)\n",
    "print ('Train set:', X_train.shape,  y_train.shape)\n",
    "print ('Test set:', X_test.shape,  y_test.shape)\n",
    "#X_train, X_test, y_train, y_test = train_test_split(X, y, test_size=0.3, random_state=4)"
   ]
  },
  {
   "cell_type": "code",
   "execution_count": 34,
   "metadata": {},
   "outputs": [
    {
     "name": "stdout",
     "output_type": "stream",
     "text": [
      "['onhold' 'onhold' 'onhold' 'onhold' 'onhold']\n",
      "['onhold' 'onhold' 'onhold' 'onhold' 'onhold']\n"
     ]
    }
   ],
   "source": [
    "decisionTree = DecisionTreeClassifier(criterion=\"entropy\", max_depth = 4)\n",
    "decisionTree # it shows the default parameters\n",
    "decisionTree.fit(X_train,y_train)\n",
    "#\n",
    "predTree = decisionTree.predict(X_test)\n",
    "#\n",
    "from sklearn import metrics\n",
    "import matplotlib.pyplot as plt\n",
    "#print(\"DecisionTree Accuracy Jaccard Score: \", metrics.accuracy_score(y_test, predTree))\n",
    "# From example --- Begin\n",
    "from sklearn.metrics import confusion_matrix\n",
    "cm = confusion_matrix(y_test, predTree)\n",
    "cm\n",
    "#from example END\n",
    "#\n",
    "#let's see it\n",
    "print (predTree [0:5])\n",
    "print (y_test [0:5])\n",
    "from sklearn.metrics import jaccard_similarity_score\n",
    "from sklearn.metrics import f1_score\n",
    "from sklearn.metrics import log_loss\n",
    "#Summarizing so far\n",
    "#help (jaccard_similarity_score)\n",
    "## KNN Results "
   ]
  },
  {
   "cell_type": "markdown",
   "metadata": {},
   "source": [
    "### --------------Summarizing results so far --------------------"
   ]
  },
  {
   "cell_type": "code",
   "execution_count": 35,
   "metadata": {},
   "outputs": [
    {
     "name": "stdout",
     "output_type": "stream",
     "text": [
      "KNN Jaccard score:  0.7115384615384616\n",
      "KNN F1 score: 0.6107127335940896\n",
      "    DECTree Jaccard score:  0.7307692307692307\n",
      "    DECTree F1 score: 0.6252136752136752\n"
     ]
    }
   ],
   "source": [
    "print (\"KNN Jaccard score: \",KNN_jaccard)\n",
    "#help (f1_score)\n",
    "KNN_F1Score = f1_score(y_test,yhat, average ='weighted')\n",
    "print (\"KNN F1 score:\", KNN_F1Score)\n",
    "#\n",
    "## For Decision Tree ----------------------------------\n",
    "DECTree_jaccard = jaccard_similarity_score(y_test,predTree)\n",
    "#help (jaccard_similarity_score)\n",
    "print (\"    DECTree Jaccard score: \",DECTree_jaccard)\n",
    "#help (f1_score)\n",
    "DECTree_F1Score = f1_score(y_test,predTree, average ='weighted')\n",
    "print (\"    DECTree F1 score:\", DECTree_F1Score)"
   ]
  },
  {
   "cell_type": "markdown",
   "metadata": {},
   "source": [
    "KNN with Jaccard, F1Score and Decision Tree Results. So far Decision Tree Jaccard Score is best performer to predict the test set from the training set."
   ]
  },
  {
   "cell_type": "markdown",
   "metadata": {},
   "source": [
    "Classifier: Support Vector Machine: The SVM algorithm offers a choice of kernel functions for \n",
    "performing its processing. Basically, mapping data into a higher dimensional space is called kernelling. \n",
    "The mathematical function used for the transformation is known as the kernel function, and can be of different types, such as:\n",
    "1.Linear 2.Polynomial 3.Radial basis function (RBF) 4.Sigmoid\n",
    "\n",
    "I experimented with linear type though I chose with the RBF as an option for this data. This portion was re-used from the graded assignemnt submitted previously."
   ]
  },
  {
   "cell_type": "code",
   "execution_count": 39,
   "metadata": {},
   "outputs": [
    {
     "name": "stdout",
     "output_type": "stream",
     "text": [
      "Train set: (276, 35) (276,)\n",
      "Test set: (70, 35) (70,)\n"
     ]
    }
   ],
   "source": [
    "# EXAMPLE graph from SVM lab\n",
    "# instructional note ------\n",
    "\n",
    "\n",
    "#Each of these functions has its characteristics, its pros and cons, and its equation, \n",
    "#but as there's no easy way of knowing which function performs best with any given dataset, \n",
    "#we usually choose different functions in turn and compare the results. \n",
    "#Let's just use the default, RBF (Radial Basis Function) \n",
    "\n",
    "#ax = cell_df[cell_df['Class'] == 4][0:50].plot(kind='scatter', x='Clump', y='UnifSize', color='DarkBlue', label='malignant');\n",
    "#cell_df[cell_df['Class'] == 2][0:50].plot(kind='scatter', x='Clump', y='UnifSize', color='Yellow', label='benign', ax=ax);\n",
    "#plt.show()\n",
    "#feature_df = cell_df[['Clump', 'UnifSize', 'UnifShape', 'MargAdh', 'SingEpiSize', 'BareNuc', 'BlandChrom', 'NormNucl', 'Mit']]\n",
    "#X = np.asarray(feature_df)\n",
    "#X[0:5]\n",
    "# from svm train-test split as above\n",
    "from sklearn.model_selection import train_test_split\n",
    "X_train, X_test, y_train, y_test = train_test_split( X, y, test_size=0.2, random_state=4)\n",
    "print ('Train set:', X_train.shape,  y_train.shape)\n",
    "print ('Test set:', X_test.shape,  y_test.shape)\n",
    "\n",
    "#\n",
    "from sklearn.metrics import jaccard_similarity_score\n",
    "from sklearn.metrics import f1_score\n",
    "from sklearn.metrics import log_loss\n"
   ]
  },
  {
   "cell_type": "code",
   "execution_count": 40,
   "metadata": {},
   "outputs": [
    {
     "name": "stdout",
     "output_type": "stream",
     "text": [
      "Train set: (276, 35) (276,)\n",
      "Test set: (70, 35) (70,)\n"
     ]
    },
    {
     "name": "stderr",
     "output_type": "stream",
     "text": [
      "/home/jupyterlab/conda/envs/python/lib/python3.6/site-packages/sklearn/svm/base.py:196: FutureWarning: The default value of gamma will change from 'auto' to 'scale' in version 0.22 to account better for unscaled features. Set gamma explicitly to 'auto' or 'scale' to avoid this warning.\n",
      "  \"avoid this warning.\", FutureWarning)\n",
      "/home/jupyterlab/conda/envs/python/lib/python3.6/site-packages/sklearn/svm/base.py:196: FutureWarning: The default value of gamma will change from 'auto' to 'scale' in version 0.22 to account better for unscaled features. Set gamma explicitly to 'auto' or 'scale' to avoid this warning.\n",
      "  \"avoid this warning.\", FutureWarning)\n"
     ]
    }
   ],
   "source": [
    "from sklearn import svm\n",
    "from sklearn.metrics import jaccard_similarity_score\n",
    "from sklearn.metrics import f1_score\n",
    "from sklearn.metrics import log_loss\n",
    "from sklearn.model_selection import train_test_split\n",
    "X_train, X_test, y_train, y_test = train_test_split(X, y, test_size=0.2, random_state=4)\n",
    "print ('Train set:', X_train.shape,  y_train.shape)\n",
    "print ('Test set:', X_test.shape,  y_test.shape)\n",
    "###from example \n",
    "SVM_model = svm.SVC()\n",
    "SVM_model.fit(X_train, y_train) \n",
    "clf = svm.SVC(kernel='rbf')\n",
    "clf.fit(X_train, y_train) \n",
    "SVM_yhat = SVM_model.predict(X_test)\n",
    "\n",
    "#SVM_yhat = SVM_model.predict(test_X)\n",
    "#print(\"SVM Jaccard index: %.2f\" % jaccard_similarity_score(test_y, SVM_yhat))\n",
    "#print(\"SVM F1-score: %.2f\" % f1_score(test_y, SVM_yhat, average='weighted') )\n",
    "\n",
    "#\n",
    "#SVM_yhat = SVMrbf.predict(X_test)\n",
    "#print( \"svm_yhat\",SVM_yhat)\n",
    "#SVM_F1Score = f1_score(y_test,SVM_yhat)\n",
    "#SVM_Jaccard = jaccard_similarity_score(y_test,SVM_yhat)\n",
    "#let's see it\n",
    "#import itertools\n",
    "# from example ----\n",
    "#SVM_yhat = SVM_model.predict(test_X)\n",
    "#print(\"SVM Jaccard index: %.2f\" % jaccard_similarity_score(test_y, SVM_yhat))\n",
    "#print(\"SVM F1-score: %.2f\" % f1_score(test_y, SVM_yhat, average='weighted') )\n",
    "\n",
    "#help (jaccard_similarity_score)\n",
    "## Summarizing so far"
   ]
  },
  {
   "cell_type": "markdown",
   "metadata": {},
   "source": [
    "#### ---------SUMMARY RESULTS ------\n"
   ]
  },
  {
   "cell_type": "code",
   "execution_count": 41,
   "metadata": {},
   "outputs": [
    {
     "name": "stdout",
     "output_type": "stream",
     "text": [
      "KNN Jaccard score:  0.7115384615384616\n",
      "KNN F1 score: 0.6107127335940896\n",
      "    DECTree Jaccard score:  0.7307692307692307\n",
      "    DECTree F1 score: 0.6252136752136752\n",
      "SVM Jaccard score:  0.7714285714285715\n",
      "SVM F1 score: 0.6843317972350231\n"
     ]
    }
   ],
   "source": [
    "## --------------------For KNN --------------------\n",
    "\n",
    "print (\"KNN Jaccard score: \",KNN_jaccard)\n",
    "#help (f1_score)\n",
    "# uncomment to recalculate with current yhat\n",
    "#KNN_F1Score = f1_score(y_test,yhat, average ='weighted')\n",
    "print (\"KNN F1 score:\", KNN_F1Score)\n",
    "#\n",
    "## --------------------For Decision Tree ----------------------------------\n",
    "#DECTree_jaccard = jaccard_similarity_score(y_test,predTree)\n",
    "#help (jaccard_similarity_score)\n",
    "print (\"    DECTree Jaccard score: \",DECTree_jaccard)\n",
    "#help (f1_score)\n",
    "# uncomment to recalculate with current yhat\n",
    "#DECTree_F1Score = f1_score(y_test,predTree, average ='weighted')\n",
    "print (\"    DECTree F1 score:\", DECTree_F1Score)\n",
    "## ---------------------For SVM  ----------------------------------\n",
    "SVM_Jaccard = jaccard_similarity_score(y_test,SVM_yhat)\n",
    "#help (jaccard_similarity_score)\n",
    "print (\"SVM Jaccard score: \",SVM_Jaccard)\n",
    "#help (f1_score)\n",
    "SVM_F1Score = f1_score(y_test,SVM_yhat, average ='weighted')\n",
    "print (\"SVM F1 score:\", SVM_F1Score)"
   ]
  },
  {
   "cell_type": "markdown",
   "metadata": {},
   "source": [
    "This summary shows the results from classifier models with SVM performing the best using a Jaccard Score. Both the Decision Tree and KNN provided similar evaluation metrics for both the Jaccard score and F1score."
   ]
  },
  {
   "cell_type": "markdown",
   "metadata": {},
   "source": [
    "#### 6.5 Geographical Mapping"
   ]
  },
  {
   "cell_type": "markdown",
   "metadata": {},
   "source": [
    "These maps display the field operational requests coming from districts as marker with the relevant category. The dataframe contains various districts along with category of requests from that district. Ultimately, the map is a representation and categorization that can be related to the dataframe in the main report for each of the mission or technical research branches (MSCOE, AVIATION, SURFACE, STIC) discussed in previous sections.\n",
    "Additionally, a Foursquare rendering of locations of interest in the area are provided. I chose to center the work around San Francisco where the districts as mapped with Folium are located."
   ]
  },
  {
   "cell_type": "markdown",
   "metadata": {},
   "source": [
    "First, import required modules and libraries."
   ]
  },
  {
   "cell_type": "code",
   "execution_count": null,
   "metadata": {},
   "outputs": [],
   "source": [
    "import numpy as np  # useful for many scientific computing in Python\n",
    "import pandas as pd # primary data structure library\n",
    "import requests # library to handle requests\n",
    "\n",
    "import random # library for random number generation\n",
    "\n",
    "!conda install -c conda-forge geopy --yes \n",
    "from geopy.geocoders import Nominatim # module to convert an address into latitude and longitude values\n",
    "\n",
    "# libraries for displaying images\n",
    "from PIL import Image # converting images into arrays\n",
    "from IPython.display import Image \n",
    "from IPython.core.display import HTML \n",
    "    \n",
    "# tranforming json file into a pandas dataframe library\n",
    "from pandas.io.json import json_normalize\n",
    "\n",
    "!conda install -c conda-forge folium=0.5.0 --yes\n",
    "import folium # plotting library\n",
    "\n",
    "print('Folium installed')\n",
    "print('Libraries imported.')\n",
    "\n",
    "#define credentials for Foursqaure access\n",
    "CLIENT_ID = 'V3R4GWWHBFL23A4OEPUFIUX3XRT2GICELQSPXRHJ1DAS0C2A' # your Foursquare ID\n",
    "CLIENT_SECRET = 'WMLA0CKK2CTN2F1D0GBGSKN00EVX5LL4ZLQZSPYJZIOTEEPE' # your Foursquare Secret\n",
    "VERSION = '20180604'\n",
    "LIMIT = 30\n",
    "print('Your credentails:')\n",
    "print('CLIENT_ID: ' + CLIENT_ID)\n",
    "print('CLIENT_SECRET:' + CLIENT_SECRET)"
   ]
  },
  {
   "cell_type": "markdown",
   "metadata": {},
   "source": [
    "Define location data as latitude/longitude and specify search query preference for Vegan restaurant nearby to the work site. I chose to search near Lombard Street. The search is performed with criteria matching \"Vegan\" from the Foursquare database. The query is then performed through the json file and the resulting dataframe is shown."
   ]
  },
  {
   "cell_type": "code",
   "execution_count": null,
   "metadata": {},
   "outputs": [],
   "source": [
    "address = 'Lombard St, San Francisco, CA'\n",
    "geolocator = Nominatim(user_agent=\"foursquare_agent\")\n",
    "location = geolocator.geocode(address)\n",
    "latitude = location.latitude\n",
    "longitude = location.longitude\n",
    "print(latitude, longitude)\n",
    "\n",
    "search_query = 'Vegan'\n",
    "radius = 500\n",
    "print(search_query + ' .... OK!')\n",
    "\n",
    "# Here's where we find the data\n",
    "url = 'https://api.foursquare.com/v2/venues/search?client_id={}&client_secret={}&ll={},{}&v={}&query={}&radius={}&limit={}'.format(CLIENT_ID, CLIENT_SECRET, latitude, longitude, VERSION, search_query, radius, LIMIT)\n",
    "url\n",
    "results = requests.get(url).json()\n",
    "\n",
    "results\n",
    "# assign relevant part of JSON to venues\n",
    "venues = results['response']['venues']\n",
    "\n",
    "# tranform venues into a dataframe\n",
    "#Future reference use pandas.json_normalize instead\n",
    "dataframe = json_normalize(venues)\n",
    "dataframe.head()"
   ]
  },
  {
   "cell_type": "markdown",
   "metadata": {},
   "source": [
    "There is one vegan restaurant in our area of interest with the name vegan09.com \n",
    "Foursquare show the venue_id = '51ba997b8bbd6f2322d7d5c5' in the dataframe column \"ID\". From this point, I keep only the columns that include venue, name and category. The venue of interest is then mapped with Folium."
   ]
  },
  {
   "cell_type": "code",
   "execution_count": null,
   "metadata": {},
   "outputs": [],
   "source": [
    "# keep only columns that include venue name, and anything that is associated with location\n",
    "filtered_columns = ['name', 'categories'] + [col for col in dataframe.columns if col.startswith('location.')] + ['id']\n",
    "dataframe_filtered = dataframe.loc[:, filtered_columns]\n",
    "\n",
    "# function that extracts the category of the venue\n",
    "def get_category_type(row):\n",
    "    try:\n",
    "        categories_list = row['categories']\n",
    "    except:\n",
    "        categories_list = row['venue.categories']\n",
    "        \n",
    "    if len(categories_list) == 0:\n",
    "        return None\n",
    "    else:\n",
    "        return categories_list[0]['name']\n",
    "\n",
    "# filter the category for each row\n",
    "dataframe_filtered['categories'] = dataframe_filtered.apply(get_category_type, axis=1)\n",
    "\n",
    "# clean column names by keeping only last term\n",
    "dataframe_filtered.columns = [column.split('.')[-1] for column in dataframe_filtered.columns]\n",
    "# Get a list of names under this category and check more details on one of interest\n",
    "dataframe_filtered.name\n",
    "latitude = 37.803036\n",
    "longitude = 122.42486\n",
    "venue_id = '51ba997b8bbd6f2322d7d5c5' # ID of our place of interest retrieved from dataframe ID column\n",
    "url = 'https://api.foursquare.com/v2/venues/{}?client_id={}&client_secret={}&v={}'.format(venue_id, CLIENT_ID, CLIENT_SECRET, VERSION)\n",
    "venues_map = folium.Map(location=[latitude, longitude], zoom_start=15) # generate map centred \n",
    "# add Ecco as a red circle mark\n",
    "folium.features.CircleMarker(\n",
    "    [latitude, longitude],\n",
    "    radius=10,\n",
    "    popup='Ecco',\n",
    "    fill=True,\n",
    "    color='red',\n",
    "    fill_color='red',\n",
    "    fill_opacity=0.6\n",
    "    ).add_to(venues_map)"
   ]
  },
  {
   "cell_type": "markdown",
   "metadata": {},
   "source": [
    "For this report, a map centered around San Francisco where our Vegan restaurant was located  with coordinate latitude = 37.803036\n",
    "longitude = 122.42486 by Foursquare."
   ]
  },
  {
   "cell_type": "code",
   "execution_count": null,
   "metadata": {},
   "outputs": [],
   "source": [
    "vegan_map = folium.Map(location=[37.774929, -122.419418], zoom_start=14) \n",
    "vegan_map"
   ]
  },
  {
   "cell_type": "markdown",
   "metadata": {},
   "source": [
    "STAMEN TERRAIN are maps that feature hill shading and natural vegetation colors.  Now the the relevant District markers are added to the map with the dataframe data. I chose the Stamen Terrain map because terrain and environment are important elements for contextual analysis of the data."
   ]
  },
  {
   "cell_type": "code",
   "execution_count": null,
   "metadata": {},
   "outputs": [],
   "source": [
    "df_incidents = pd.read_csv('https://s3-api.us-geo.objectstorage.softlayer.net/cf-courses-data/CognitiveClass/DV0101EN/labs/Data_Files/Police_Department_Incidents_-_Previous_Year__2016_.csv')\n",
    "filename = \"https://s3-api.us-geo.objectstorage.softlayer.net/cf-courses-data/CognitiveClass/DV0101EN/labs/Data_Files/Police_Department_Incidents_-_Previous_Year__2016_.csv\"\n",
    "\n",
    "print('Dataset downloaded and read into a pandas dataframe!')\n",
    "df = df_incidents\n",
    "#\n",
    "#headers = [\"IncidntNum\",\"Category\",\"Descript\",\"DayOfWeek\",\"Date\",\"Time\",\"Field\",\"Desc\",\"Date\",\"District\",\"X\", \"Y\",\"Location\"]\n",
    "#df_map = pd.read_csv(filename, names = headers)\n",
    "# Keep only columns to use\n",
    "\n",
    "df_incidents.drop ('IncidntNum', axis = 1, inplace =True)\n",
    "df_incidents.drop ('DayOfWeek', axis = 1, inplace =True)\n",
    "df_incidents.drop ('Time', axis = 1, inplace =True)\n",
    "df_incidents.drop ('Address', axis = 1, inplace =True)\n",
    "df_incidents.drop ('PdId', axis = 1, inplace =True)\n",
    "df_incidents.drop ('Resolution', axis = 1, inplace =True)\n",
    "df_incidents.drop ('Date', axis = 1, inplace =True)\n",
    "#\n",
    "#df_map.drop ('IncidntNum', axis = 1, inplace =True)\n",
    "#df_map.drop ('DayOfWeek', axis = 1, inplace =True)\n",
    "#df_map.drop ('Time', axis = 1, inplace =True)\n",
    "#df_map.drop ('Address', axis = 1, inplace =True)\n",
    "#df_map.drop ('PdId', axis = 1, inplace =True)\n",
    "#df_map.drop ('Resolution', axis = 1, inplace =True)"
   ]
  },
  {
   "cell_type": "markdown",
   "metadata": {},
   "source": [
    "I started with this data frame and wrangled the data so it was relevant to this project keeping the location lat/lon constant.\n",
    "I removed columns that were not of interest. Wrangling the data here requires replacement of object values in columns Category(changed to technical groups and branches) and District ( changed to organizational district names). The description were left unchanged since these could be similar in context to our work environment."
   ]
  },
  {
   "cell_type": "code",
   "execution_count": null,
   "metadata": {},
   "outputs": [],
   "source": [
    "print (\" Original Values in dataframe are listed here\")\n",
    "df_incidents.head(20)\n",
    "# Replace data in Districts and Category\n",
    "#headers = [\"Field\",\"Desc\",\"Date\",\"District\",\"X\", \"Y\",\"Location\"]\n",
    "#df_map = pd.read_csv(filename, names = headers)\n",
    "\n",
    "df_incidents.replace({'PdDistrict': {'SOUTHERN': 'D8', 'BAYVIEW': 'D11','MISSION':'D7','TENDERLOIN':'D5','NORTHERN':'D1'}}, inplace=True)\n",
    "df_incidents.replace({'PdDistrict': {'TARAVAL': 'D13', 'CENTRAL': 'D6','INGLESIDE':'D9','PARK':'D4','RICHMOND':'10'}}, inplace=True)\n",
    "\n",
    "df_incidents.replace({'Category': {'WARRANTS': 'SURFACE', 'WEAPON LAWS': 'MSCOE','NON-CRIMINAL':'AVIATION','BURGLARY':'EW'}}, inplace=True)\n",
    "df_incidents.replace({'Category': {'ASSAULT': 'Network', 'OTHER OFFENSES': 'COMMS','ROBBERY':'STIC','FRAUD':'IT'}}, inplace=True)\n",
    "df_incidents.replace({'Category': {'LARCENY/THEFT': 'REACT', 'MISSING PERSON': 'LE','VEHICLE THEFT':'Intel','VANDALISM':'AoA'}}, inplace=True)\n",
    "df_incidents.replace({'Category': {'MISSING PERSON': 'FISHERIES', 'RECOVERED VEHICLE': 'Explore','VEHICLE THEFT':'Intel','VANDALISM':'AoA'}}, inplace=True)\n",
    "df_incidents.replace({'Descript': {'AUTO': 'VESSEL', 'PROPERTY': 'at SEA','FRAUDULENT GAME OR TRICK':'LE'}}, inplace=True)\n",
    "df_incidents.replace({'Descript': {'AUTO': 'VESSEL', 'PROPERTY': 'at SEA','FRAUDULENT GAME OR TRICK':'LE'}}, inplace=True)\n",
    "print(\" Revised dataframe follows:\")\n",
    "df_incidents.head(10)"
   ]
  },
  {
   "cell_type": "markdown",
   "metadata": {},
   "source": [
    "So each row consists of 6 features:\n",
    "\n",
    "> 1. **Category**: Technical Branch\n",
    "> 2. **Descript**: Description of request\n",
    "> 3. **District**: The district of interest\n",
    "\n",
    "> 4. **X**: The longitude value of the crime location \n",
    "> 5. **Y**: The latitude value of the crime location\n",
    "> 6. **Location**: A tuple of the latitude and the longitude values\n",
    "\n",
    "Originally the set contained over 150K rows. The cleaned data set contains 100 rows and 6 columns."
   ]
  },
  {
   "cell_type": "code",
   "execution_count": null,
   "metadata": {},
   "outputs": [],
   "source": [
    "# get the first 100 crimes in the df_incidents dataframe\n",
    "limit = 100\n",
    "df_incidents = df_incidents.iloc[0:limit, :]\n",
    "df_incidents.shape"
   ]
  },
  {
   "cell_type": "markdown",
   "metadata": {},
   "source": [
    "Now that the data is reduced, visualize where events took place in the city of San Francisco by mapping with an initial zoom level = 12."
   ]
  },
  {
   "cell_type": "code",
   "execution_count": null,
   "metadata": {},
   "outputs": [],
   "source": [
    "# San Francisco latitude and longitude values\n",
    "latitude = 37.77\n",
    "longitude = -122.42\n",
    "# create map and display it\n",
    "sanfran_map = folium.Map(location=[latitude, longitude], zoom_start=12)\n",
    "# display the map of San Francisco\n",
    "sanfran_map"
   ]
  },
  {
   "cell_type": "markdown",
   "metadata": {},
   "source": [
    "Now superimpose the locations of district requests onto the map. This is done with feature group definition and poppups on markers indicating which technical group applies. "
   ]
  },
  {
   "cell_type": "code",
   "execution_count": null,
   "metadata": {},
   "outputs": [],
   "source": [
    "# instantiate a feature group for the incidents in the dataframe\n",
    "incidents = folium.map.FeatureGroup()\n",
    "\n",
    "# loop through the 100 crimes and add each to the incidents feature group\n",
    "for lat, lng, in zip(df_incidents.Y, df_incidents.X):\n",
    "    incidents.add_child(\n",
    "        folium.features.CircleMarker(\n",
    "            [lat, lng],\n",
    "            radius=5, # define how big you want the circle markers to be\n",
    "            color='yellow',\n",
    "            fill=True,\n",
    "            fill_color='blue',\n",
    "            fill_opacity=0.6\n",
    "        )\n",
    "    )\n",
    "\n",
    "# add incidents to map\n",
    "sanfran_map.add_child(incidents)\n",
    "# instantiate a feature group for the incidents in the dataframe\n",
    "incidents = folium.map.FeatureGroup()\n",
    "\n",
    "# loop through the 100 crimes and add each to the incidents feature group\n",
    "for lat, lng, in zip(df_incidents.Y, df_incidents.X):\n",
    "    incidents.add_child(\n",
    "        folium.features.CircleMarker(\n",
    "            [lat, lng],\n",
    "            radius=5, # define how big you want the circle markers to be\n",
    "            color='yellow',\n",
    "            fill=True,\n",
    "            fill_color='blue',\n",
    "            fill_opacity=0.6\n",
    "        )\n",
    "    )\n",
    "\n",
    "# add pop-up text to each marker on the map\n",
    "latitudes = list(df_incidents.Y)\n",
    "longitudes = list(df_incidents.X)\n",
    "labels = list(df_incidents.Category)\n",
    "\n",
    "for lat, lng, label in zip(latitudes, longitudes, labels):\n",
    "    folium.Marker([lat, lng], popup=label).add_to(sanfran_map)    \n",
    "    \n",
    "# add incidents to map\n",
    "sanfran_map.add_child(incidents)"
   ]
  },
  {
   "cell_type": "markdown",
   "metadata": {},
   "source": [
    "The markers on this map represents the requests from various districts across the organization. Each marker has a poppup value associated with the relevant technical group that may perform the research work (e.g. Aviation, Law Enforcement, Network, COMMs, etc). This map could be used to provide relevant information to the researchers by understanding the nature of the tasks, the characteriZation of the research as well as any geographic information that could be leveraged."
   ]
  },
  {
   "cell_type": "markdown",
   "metadata": {},
   "source": [
    "# 7. CONCLUSION\n",
    "\n",
    "In this study, I analyzed the relationship between organizational components in the context of Fiscal Year cycle for the research portfolio review. Some ideas or request submitted are put onhold or are executed. Characteristics of the dataset used were limited in terms of the full scope of considerations but were representative of the real-world data. The evaluation metrics of the classifiers were an important part of this work. These results help to guide a path forward for future organizational modeling. \n",
    "The relationships between the categories of data examine revealed percentages of work assigned to specific technical branches as well as types of research work most suited to the technical skill sets of those groups.  The SVM model was the best performer which correctly identified the variety of attributes in the data set to decide target status. This is useful as future work would involve additional variety of idea/request attributes.  \n",
    "\n",
    "# 8. RECOMMENDATIONS\n",
    "\n",
    "Based on the work from this project, I recommend that future studies in this data space be performed. Additional attributes could be included to refine the insights and promote organizational efficiency and effectiveness. This work could also be applied to text and reports to evaluate keyword classification and effectiveness of search mechanisms within the protected database."
   ]
  },
  {
   "cell_type": "markdown",
   "metadata": {
    "button": false,
    "new_sheet": false,
    "run_control": {
     "read_only": false
    }
   },
   "source": [
    "\n"
   ]
  },
  {
   "cell_type": "markdown",
   "metadata": {},
   "source": [
    "\n",
    "   \n"
   ]
  }
 ],
 "metadata": {
  "kernelspec": {
   "display_name": "Python",
   "language": "python",
   "name": "conda-env-python-py"
  },
  "language_info": {
   "codemirror_mode": {
    "name": "ipython",
    "version": 3
   },
   "file_extension": ".py",
   "mimetype": "text/x-python",
   "name": "python",
   "nbconvert_exporter": "python",
   "pygments_lexer": "ipython3",
   "version": "3.6.10"
  }
 },
 "nbformat": 4,
 "nbformat_minor": 4
}
