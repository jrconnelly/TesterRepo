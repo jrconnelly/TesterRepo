{
 "cells": [
  {
   "cell_type": "markdown",
   "metadata": {
    "button": false,
    "new_sheet": false,
    "run_control": {
     "read_only": false
    }
   },
   "source": [
    "<a href=\"https://www.bigdatauniversity.com\"><img src=\"https://ibm.box.com/shared/static/cw2c7r3o20w9zn8gkecaeyjhgw3xdgbj.png\" width=\"400\" align=\"center\"></a>\n",
    "\n",
    "<h1 align=\"center\"><font size=\"5\">Classification with Python</font></h1>"
   ]
  },
  {
   "cell_type": "markdown",
   "metadata": {
    "button": false,
    "new_sheet": false,
    "run_control": {
     "read_only": false
    }
   },
   "source": [
    "## Data Science Project, IBM Professional Certification\n",
    "Judith R Connelly, June 2020\n",
    "\n",
    "### Purpose \n",
    "The purpose of this project is to examine real world organizational data within the IBM Python Jupyter framework, to understand the relationship of the elements, to assess machine learning classifiers of the data to determine the best model that represents predictive capability of the dataset and geographically map the categorical data.\n",
    "\n",
    "### Table of Contents\n",
    " 1. Background\n",
    " 2. The Problem Statement\n",
    " 3. Proposed Approach\n",
    " 4. Data Description\n",
    " 5. Methodology\n",
    " 6. Data Analysis and Results\n",
    " 7. Conclusion\n",
    " 8. Recommendations\n",
    " \n",
    "### 1. Background\n",
    "\n",
    "Data useful for research organizations are always in high demand but how do we effectively manage the resources for research and development? By definition, research is a non-deterministic effort and often results desired  are not well-defined from the beginning. The nature of core research takes on a life of its own as the work progresses.  As a program manager, it is useful to understand and effective use tools such as Earned Value metrics and project management tools to guide critical time lines and resources. These resources include personnel and funding. The tradespace of resources is a persistent challenge. The requested work for a research organization varies especially when servicing operational field missions. These missions span a spectrum of initial conditions as well as constraints in the field environment. These field environments exist in all 50 states and US territories. Therefore, it is advantageous to understand the operational needs of the field as well as the likelihood that the management of research projects balances the end-user needs and maximizes the resources available to perform the work.\n",
    "\n",
    "### 2. The Problem Statement\n",
    "In order to maximize resources it is necessary to understand what resources are available during any given time, the skills of the personnel able to perform the work and the funding likely to be expended. It is necessary to consider the criticality of the work. How time critical is the solution to be provided? How time intensive is the work? How well can the skill set meet the request?\n",
    "\n",
    "### 3. Proposed Approach\n",
    "It is required in this project to understand the best model that will assess the data set constructed for this work. This model can then provide a systematic, consistent and sustainable means to manage research resources based on operational need and research resources. Specifically, based on three parameters (priority ranking, performing subgroup and funding level) this project expects to enhance an understanding of how an independent priority ranking influences whether a project will be executed or placed on hold for future execution (target value). Repeatable results are important in research so I have include code/output.\n",
    "\n",
    "### 4. Data Description\n",
    "The data was framed from one of the Machine Learning lab templates. Subsequent manipulation produced characteristic parameters and values that were relevant to the research and development work context. These data are directly related to my present work so the validation of dataset was performed based on professional knowledge of the domain space. These data are organically generated from real world characteristics in a research organization.  Each of the final field are described as follows:\n",
    "\n",
    "UDI1 and UDI2 :  The identifiers to the specific artifact produced by the organizational research."
   ]
  },
  {
   "cell_type": "markdown",
   "metadata": {
    "button": false,
    "new_sheet": false,
    "run_control": {
     "read_only": false
    }
   },
   "source": [
    "FYHold : The field for identifying whether a project is put on hold or proceeds to be executed"
   ]
  },
  {
   "cell_type": "markdown",
   "metadata": {
    "button": false,
    "new_sheet": false,
    "run_control": {
     "read_only": false
    }
   },
   "source": [
    "FUNDS: The scaled amount of funding for the project ( e.g. $50K)"
   ]
  },
  {
   "cell_type": "markdown",
   "metadata": {
    "button": false,
    "new_sheet": false,
    "run_control": {
     "read_only": false
    }
   },
   "source": [
    "Months: The length of project execution\n",
    "\n",
    "Effective _date: The date when a project is executed. Note: this field is useful for future recommended work"
   ]
  },
  {
   "cell_type": "markdown",
   "metadata": {
    "button": false,
    "new_sheet": false,
    "run_control": {
     "read_only": false
    }
   },
   "source": [
    "Due_date: The date the project is expected to be completed. Note: this field is useful for future recommended work\n",
    "\n",
    "Score: The weighted score received after organizational review\n",
    "\n",
    "Group: The technical branches within the organization\n",
    "\n",
    "ORG: The Research organization(performer) or the Operational Unit(requester). Note the mapping is related to the locations of the units.  This has a direct bearing on the type of work to be performed or area of interest to operational units.\n",
    "\n",
    "\n",
    "### 5. Methodology\n",
    "Three classifier methods(K Nearest Neighbor, Support Vector Model and Decision Tree) were evaluated against the data training/test set. These results are provided for consideration in the report. From these data, assessment of workload, funding and priority drivers can be managed in real-world organizations. Specific tasks and approaches are described inline below. Overall, I wrangled and changed the data frame values to be more relevant to the problem set at hand for the research organization. I reused code with modifications from my previous assignment submissions that were needed particularly the classifiers section. I regularly reviewed previous modules (6,7,8 most helpful) and reworked labs exercises to gain further insight into the algorithms and best use practices. Throughout the next sections, the data is described, how it is wrangled and what the exploratory results might reveal as useful organizational information. Once the data is well understood the train/test set dataframe is passed to the classifier models. \n",
    "\n",
    "For each model, it is important to ask, “How accurate is this model?” This is done through comparison of the actual values in the test set with the values predicted by the model, to calculate the accuracy of the model.  The evaluation metrics used in this report for each classifier are Jaccard index and  F1-score. These are representative of the goodness of the classifier to the data. The simplest is the Jaccard index and can be described as the amount of actual and predicted data that overlap as in a Venn diagram. The F1Score is a more complicated approach which evaluates True/False positives and True/False negatives. The summary results provide the three classifier performance with the two evaluation metrics.\n",
    "\n",
    "I chose the K Nearest Neighbor(KNN) model with the concept that the request or ideations of research ideas could be treated as a member of a demographic. It has elements shared by other projects both technically and organizationally. In this treatment of demographic it would be useful to predict whether a research request would be executed as a project or put onhold as well as which technical branch is likely to be assigned the project. Ideally, this could be performed with \"standardized keyword associations with historical data but data of this type was not available for  for this capstone work.  This is a classification problem. That is, given the dataset with predefined labels, we need to build a model to be used to predict the class of a new or unknown case. The example focuses on using as the feature set such as score, months, and assigned branch to predict onhold or execution status patterns. \n",
    "\n",
    "I chose the Support Vector Model(SVM) because the analysis of the original and organic data has characteristics that differ significantly between between project. While there are similarities the nature of research is to explore something that is likely different from the rest, so to speak. The  SVM, as a classifier trains the model to understand patterns within the data that might show. These patterns across organizational structures are interesting to examine.\n",
    "\n",
    "I chose Decision Tree classifier because in the data constructed for this report various factors exist in the real-world decision making. For example an idea might be relevant to the operator needs but does not score highly in the organizational assessment. Perhaps it is put onhold because its a good idea but it is not technically feasible work. Perhaps it scores highly, relevant to operational needs but is not funded. Which of these considerations/attributes are more (or most important in the decision making). Several factors in this decision tradespace are interesting to evaluate.\n",
    "\n",
    "### 6. Data Analysis and Results\n",
    "The sections that follow contain the code executed in Python through Jupyter labs interface hosted by IBM.  Each block contains the code executed and the results from the code. Original dataframes are provided along with the wrangling methods. Results are displayed immediately following the code used to product them. Maps using Folium and Foursquare are used to display the location of the requests from field operational units as well as nearby venues of interest while on work travel. "
   ]
  },
  {
   "cell_type": "code",
   "execution_count": 51,
   "metadata": {
    "button": false,
    "new_sheet": false,
    "run_control": {
     "read_only": false
    }
   },
   "outputs": [
    {
     "name": "stdout",
     "output_type": "stream",
     "text": [
      "Collecting package metadata (current_repodata.json): done\n",
      "Solving environment: done\n",
      "\n",
      "## Package Plan ##\n",
      "\n",
      "  environment location: /home/jupyterlab/conda/envs/python\n",
      "\n",
      "  added / updated specs:\n",
      "    - seaborn\n",
      "\n",
      "\n",
      "The following packages will be SUPERSEDED by a higher-priority channel:\n",
      "\n",
      "  ca-certificates    conda-forge::ca-certificates-2020.4.5~ --> anaconda::ca-certificates-2020.1.1-0\n",
      "  certifi            conda-forge::certifi-2020.4.5.1-py36h~ --> anaconda::certifi-2020.4.5.1-py36_0\n",
      "  openssl            conda-forge::openssl-1.1.1g-h516909a_0 --> anaconda::openssl-1.1.1g-h7b6447c_0\n",
      "\n",
      "\n",
      "Preparing transaction: done\n",
      "Verifying transaction: done\n",
      "Executing transaction: done\n"
     ]
    }
   ],
   "source": [
    "## Import all the tools needed\n",
    "import itertools\n",
    "import numpy as np\n",
    "import matplotlib.pyplot as plt\n",
    "from matplotlib.ticker import NullFormatter\n",
    "#\n",
    "import pandas as pd\n",
    "import numpy as np\n",
    "#\n",
    "import matplotlib.ticker as ticker\n",
    "from sklearn import preprocessing\n",
    "%matplotlib inline\n",
    "#\n",
    "import pylab as pl\n",
    "import scipy.optimize as opt\n",
    "from sklearn.model_selection import train_test_split\n",
    "!conda install -c anaconda seaborn -y"
   ]
  },
  {
   "cell_type": "markdown",
   "metadata": {
    "button": false,
    "new_sheet": false,
    "run_control": {
     "read_only": false
    }
   },
   "source": [
    "#### 6.1 Load Data From CSV File  and develop a series of manipulations to get data in required format.\n",
    "The original data is read from the source file and preserved. Two data frames are created for wrangling. \n",
    "Since the original data in the columns represent similar data as applied to this problem, I modify the field contents, the field headers\n",
    "to fit the problem space domain."
   ]
  },
  {
   "cell_type": "code",
   "execution_count": 2,
   "metadata": {
    "button": false,
    "new_sheet": false,
    "run_control": {
     "read_only": false
    }
   },
   "outputs": [
    {
     "name": "stdout",
     "output_type": "stream",
     "text": [
      "--2020-05-24 22:58:27--  https://s3-api.us-geo.objectstorage.softlayer.net/cf-courses-data/CognitiveClass/ML0101ENv3/labs/loan_train.csv\n",
      "Resolving s3-api.us-geo.objectstorage.softlayer.net (s3-api.us-geo.objectstorage.softlayer.net)... 67.228.254.196\n",
      "Connecting to s3-api.us-geo.objectstorage.softlayer.net (s3-api.us-geo.objectstorage.softlayer.net)|67.228.254.196|:443... connected.\n",
      "HTTP request sent, awaiting response... 200 OK\n",
      "Length: 23101 (23K) [text/csv]\n",
      "Saving to: ‘loan_train.csv’\n",
      "\n",
      "loan_train.csv      100%[===================>]  22.56K  --.-KB/s    in 0.02s   \n",
      "\n",
      "2020-05-24 22:58:27 (1.06 MB/s) - ‘loan_train.csv’ saved [23101/23101]\n",
      "\n"
     ]
    }
   ],
   "source": [
    "!wget -O loan_train.csv https://s3-api.us-geo.objectstorage.softlayer.net/cf-courses-data/CognitiveClass/ML0101ENv3/labs/loan_train.csv\n",
    "filename = \"https://s3-api.us-geo.objectstorage.softlayer.net/cf-courses-data/CognitiveClass/ML0101ENv3/labs/loan_train.csv\""
   ]
  },
  {
   "cell_type": "code",
   "execution_count": 3,
   "metadata": {
    "button": false,
    "new_sheet": false,
    "run_control": {
     "read_only": false
    }
   },
   "outputs": [
    {
     "data": {
      "text/html": [
       "<div>\n",
       "<style scoped>\n",
       "    .dataframe tbody tr th:only-of-type {\n",
       "        vertical-align: middle;\n",
       "    }\n",
       "\n",
       "    .dataframe tbody tr th {\n",
       "        vertical-align: top;\n",
       "    }\n",
       "\n",
       "    .dataframe thead th {\n",
       "        text-align: right;\n",
       "    }\n",
       "</style>\n",
       "<table border=\"1\" class=\"dataframe\">\n",
       "  <thead>\n",
       "    <tr style=\"text-align: right;\">\n",
       "      <th></th>\n",
       "      <th>UDI1</th>\n",
       "      <th>UDI2</th>\n",
       "      <th>FYHold</th>\n",
       "      <th>FUNDS</th>\n",
       "      <th>Months</th>\n",
       "      <th>effective_date</th>\n",
       "      <th>due_date</th>\n",
       "      <th>Score</th>\n",
       "      <th>Group</th>\n",
       "      <th>ORG</th>\n",
       "    </tr>\n",
       "  </thead>\n",
       "  <tbody>\n",
       "    <tr>\n",
       "      <th>0</th>\n",
       "      <td>NaN</td>\n",
       "      <td>Unnamed: 0</td>\n",
       "      <td>loan_status</td>\n",
       "      <td>Principal</td>\n",
       "      <td>terms</td>\n",
       "      <td>effective_date</td>\n",
       "      <td>due_date</td>\n",
       "      <td>age</td>\n",
       "      <td>education</td>\n",
       "      <td>Gender</td>\n",
       "    </tr>\n",
       "    <tr>\n",
       "      <th>1</th>\n",
       "      <td>0.0</td>\n",
       "      <td>0</td>\n",
       "      <td>PAIDOFF</td>\n",
       "      <td>1000</td>\n",
       "      <td>30</td>\n",
       "      <td>9/8/2016</td>\n",
       "      <td>10/7/2016</td>\n",
       "      <td>45</td>\n",
       "      <td>High School or Below</td>\n",
       "      <td>male</td>\n",
       "    </tr>\n",
       "    <tr>\n",
       "      <th>2</th>\n",
       "      <td>2.0</td>\n",
       "      <td>2</td>\n",
       "      <td>PAIDOFF</td>\n",
       "      <td>1000</td>\n",
       "      <td>30</td>\n",
       "      <td>9/8/2016</td>\n",
       "      <td>10/7/2016</td>\n",
       "      <td>33</td>\n",
       "      <td>Bechalor</td>\n",
       "      <td>female</td>\n",
       "    </tr>\n",
       "    <tr>\n",
       "      <th>3</th>\n",
       "      <td>3.0</td>\n",
       "      <td>3</td>\n",
       "      <td>PAIDOFF</td>\n",
       "      <td>1000</td>\n",
       "      <td>15</td>\n",
       "      <td>9/8/2016</td>\n",
       "      <td>9/22/2016</td>\n",
       "      <td>27</td>\n",
       "      <td>college</td>\n",
       "      <td>male</td>\n",
       "    </tr>\n",
       "    <tr>\n",
       "      <th>4</th>\n",
       "      <td>4.0</td>\n",
       "      <td>4</td>\n",
       "      <td>PAIDOFF</td>\n",
       "      <td>1000</td>\n",
       "      <td>30</td>\n",
       "      <td>9/9/2016</td>\n",
       "      <td>10/8/2016</td>\n",
       "      <td>28</td>\n",
       "      <td>college</td>\n",
       "      <td>female</td>\n",
       "    </tr>\n",
       "    <tr>\n",
       "      <th>...</th>\n",
       "      <td>...</td>\n",
       "      <td>...</td>\n",
       "      <td>...</td>\n",
       "      <td>...</td>\n",
       "      <td>...</td>\n",
       "      <td>...</td>\n",
       "      <td>...</td>\n",
       "      <td>...</td>\n",
       "      <td>...</td>\n",
       "      <td>...</td>\n",
       "    </tr>\n",
       "    <tr>\n",
       "      <th>342</th>\n",
       "      <td>394.0</td>\n",
       "      <td>394</td>\n",
       "      <td>COLLECTION</td>\n",
       "      <td>800</td>\n",
       "      <td>15</td>\n",
       "      <td>9/11/2016</td>\n",
       "      <td>9/25/2016</td>\n",
       "      <td>32</td>\n",
       "      <td>High School or Below</td>\n",
       "      <td>male</td>\n",
       "    </tr>\n",
       "    <tr>\n",
       "      <th>343</th>\n",
       "      <td>395.0</td>\n",
       "      <td>395</td>\n",
       "      <td>COLLECTION</td>\n",
       "      <td>1000</td>\n",
       "      <td>30</td>\n",
       "      <td>9/11/2016</td>\n",
       "      <td>10/10/2016</td>\n",
       "      <td>25</td>\n",
       "      <td>High School or Below</td>\n",
       "      <td>male</td>\n",
       "    </tr>\n",
       "    <tr>\n",
       "      <th>344</th>\n",
       "      <td>397.0</td>\n",
       "      <td>397</td>\n",
       "      <td>COLLECTION</td>\n",
       "      <td>800</td>\n",
       "      <td>15</td>\n",
       "      <td>9/12/2016</td>\n",
       "      <td>9/26/2016</td>\n",
       "      <td>39</td>\n",
       "      <td>college</td>\n",
       "      <td>male</td>\n",
       "    </tr>\n",
       "    <tr>\n",
       "      <th>345</th>\n",
       "      <td>398.0</td>\n",
       "      <td>398</td>\n",
       "      <td>COLLECTION</td>\n",
       "      <td>1000</td>\n",
       "      <td>30</td>\n",
       "      <td>9/12/2016</td>\n",
       "      <td>11/10/2016</td>\n",
       "      <td>28</td>\n",
       "      <td>college</td>\n",
       "      <td>male</td>\n",
       "    </tr>\n",
       "    <tr>\n",
       "      <th>346</th>\n",
       "      <td>399.0</td>\n",
       "      <td>399</td>\n",
       "      <td>COLLECTION</td>\n",
       "      <td>1000</td>\n",
       "      <td>30</td>\n",
       "      <td>9/12/2016</td>\n",
       "      <td>10/11/2016</td>\n",
       "      <td>26</td>\n",
       "      <td>college</td>\n",
       "      <td>male</td>\n",
       "    </tr>\n",
       "  </tbody>\n",
       "</table>\n",
       "<p>347 rows × 10 columns</p>\n",
       "</div>"
      ],
      "text/plain": [
       "      UDI1        UDI2       FYHold      FUNDS Months  effective_date  \\\n",
       "0      NaN  Unnamed: 0  loan_status  Principal  terms  effective_date   \n",
       "1      0.0           0      PAIDOFF       1000     30        9/8/2016   \n",
       "2      2.0           2      PAIDOFF       1000     30        9/8/2016   \n",
       "3      3.0           3      PAIDOFF       1000     15        9/8/2016   \n",
       "4      4.0           4      PAIDOFF       1000     30        9/9/2016   \n",
       "..     ...         ...          ...        ...    ...             ...   \n",
       "342  394.0         394   COLLECTION        800     15       9/11/2016   \n",
       "343  395.0         395   COLLECTION       1000     30       9/11/2016   \n",
       "344  397.0         397   COLLECTION        800     15       9/12/2016   \n",
       "345  398.0         398   COLLECTION       1000     30       9/12/2016   \n",
       "346  399.0         399   COLLECTION       1000     30       9/12/2016   \n",
       "\n",
       "       due_date Score                 Group     ORG  \n",
       "0      due_date   age             education  Gender  \n",
       "1     10/7/2016    45  High School or Below    male  \n",
       "2     10/7/2016    33              Bechalor  female  \n",
       "3     9/22/2016    27               college    male  \n",
       "4     10/8/2016    28               college  female  \n",
       "..          ...   ...                   ...     ...  \n",
       "342   9/25/2016    32  High School or Below    male  \n",
       "343  10/10/2016    25  High School or Below    male  \n",
       "344   9/26/2016    39               college    male  \n",
       "345  11/10/2016    28               college    male  \n",
       "346  10/11/2016    26               college    male  \n",
       "\n",
       "[347 rows x 10 columns]"
      ]
     },
     "execution_count": 3,
     "metadata": {},
     "output_type": "execute_result"
    }
   ],
   "source": [
    "# Read in, copy and preserve original\n",
    "df = pd.read_csv('loan_train.csv')\n",
    "df\n",
    "df_rdc = df\n",
    "df_rdc\n",
    "# Dump file\n",
    "#df = pd.read_csv(filename, names = headers)\n",
    "headers = [\"UDI1\",\"UDI2\",\"FYHold\",\"FUNDS\",\"Months\", \"effective_date\",\"due_date\",\"Score\",\"Group\",\"ORG\"]\n",
    "df_newhead = pd.read_csv(filename, names = headers)\n",
    "df_newhead"
   ]
  },
  {
   "cell_type": "code",
   "execution_count": 4,
   "metadata": {},
   "outputs": [
    {
     "name": "stdout",
     "output_type": "stream",
     "text": [
      "Min score 18\n",
      "Max Score 51\n"
     ]
    },
    {
     "data": {
      "text/plain": [
       "PAIDOFF       260\n",
       "COLLECTION     86\n",
       "Name: FYHold, dtype: int64"
      ]
     },
     "execution_count": 4,
     "metadata": {},
     "output_type": "execute_result"
    }
   ],
   "source": [
    "## Make relevant data to our work\n",
    "#Drop row with NaN and float scorevalue, average score is normalized\n",
    "df_newhead.dropna(subset=[\"UDI1\"], axis=0, inplace=True)\n",
    "df_newhead[\"Score\"]=df_newhead[\"Score\"].astype(\"float\")\n",
    "\n",
    "##. Here are the headers = [\"UDI1\",\"UDI2\",\"FYHold\",\"FUNDS\",\"Months\", \"effective_date\",\"due_date\",\"Score\",\"Group\",\"ORG\"]\n",
    "df_rdc.replace({'loan_status': {'PAIDOFF': 'onhold', 'COLLECTION': 'FY'}}, inplace=True)\n",
    "df_newhead.replace({'FYhold': {'PAIDOFF': 'onhold', 'COLLECTION': 'FY'}}, inplace=True)\n",
    "\n",
    "\n",
    "df_rdc.replace({'education': {'High School or Below': 'MSCOE', 'Bechalor': 'AVIATION','college':'STIC', 'Master or Above':'Surface'}},inplace=True)\n",
    "df_newhead.replace({'Group': {'High School or Below': 'MSCOE', 'Bechalor': 'AVIATION','college':'STIC', 'Master or Above':'Surface'}},inplace=True)\n",
    "\n",
    "## Terms is 1 or 2 year execution\n",
    "df_rdc.replace({'terms': {15: 24, 30: 12}},inplace=True)\n",
    "df_newhead.replace({'Months': {15: 24, 30: 12}},inplace=True)\n",
    "\n",
    "df_rdc.replace({'Gender': {'male': 'RDC', 'female': 'OPS'}},inplace=True)\n",
    "df_newhead.replace({'ORG': {'male': 'RDC', 'female': 'OPS'}},inplace=True)\n",
    "df_newhead.replace({'Months': {15: 24, 30: 12}},inplace=True)\n",
    "\n",
    "#\n",
    "# Convert mpg to L/100km by mathematical operation (235 divided by mpg)\n",
    "#df_rdc['city-L/100km'] = 235/df[\"city-mpg\"]\n",
    "df_rdc.age.max()\n",
    "df_rdc.age.min()\n",
    "df_newhead.Score.max()\n",
    "df_newhead.Score.min()\n",
    "print (\"Min score\",df_rdc.age.min())\n",
    "print (\"Max Score\", df_rdc.age.max())\n",
    "#print (\"Min score\",df_newhead.Score.min())\n",
    "#print (\"Max Score\",df_newhead.Score.max())\n",
    "df_newhead.head(30)\n",
    "df_newhead['FYHold'].value_counts()"
   ]
  },
  {
   "cell_type": "code",
   "execution_count": 9,
   "metadata": {},
   "outputs": [
    {
     "data": {
      "text/html": [
       "<div>\n",
       "<style scoped>\n",
       "    .dataframe tbody tr th:only-of-type {\n",
       "        vertical-align: middle;\n",
       "    }\n",
       "\n",
       "    .dataframe tbody tr th {\n",
       "        vertical-align: top;\n",
       "    }\n",
       "\n",
       "    .dataframe thead th {\n",
       "        text-align: right;\n",
       "    }\n",
       "</style>\n",
       "<table border=\"1\" class=\"dataframe\">\n",
       "  <thead>\n",
       "    <tr style=\"text-align: right;\">\n",
       "      <th></th>\n",
       "      <th>UDI1</th>\n",
       "      <th>UDI2</th>\n",
       "      <th>FYHold</th>\n",
       "      <th>FUNDS</th>\n",
       "      <th>Months</th>\n",
       "      <th>effective_date</th>\n",
       "      <th>due_date</th>\n",
       "      <th>Score</th>\n",
       "      <th>Group</th>\n",
       "      <th>ORG</th>\n",
       "    </tr>\n",
       "  </thead>\n",
       "  <tbody>\n",
       "    <tr>\n",
       "      <th>1</th>\n",
       "      <td>0.0</td>\n",
       "      <td>0</td>\n",
       "      <td>onhold</td>\n",
       "      <td>1000.0</td>\n",
       "      <td>30</td>\n",
       "      <td>2016-09-08</td>\n",
       "      <td>2016-10-07</td>\n",
       "      <td>0.511111</td>\n",
       "      <td>MSCOE</td>\n",
       "      <td>RDC</td>\n",
       "    </tr>\n",
       "    <tr>\n",
       "      <th>2</th>\n",
       "      <td>2.0</td>\n",
       "      <td>2</td>\n",
       "      <td>onhold</td>\n",
       "      <td>1000.0</td>\n",
       "      <td>30</td>\n",
       "      <td>2016-09-08</td>\n",
       "      <td>2016-09-22</td>\n",
       "      <td>0.696970</td>\n",
       "      <td>AVIATION</td>\n",
       "      <td>OPS</td>\n",
       "    </tr>\n",
       "    <tr>\n",
       "      <th>3</th>\n",
       "      <td>3.0</td>\n",
       "      <td>3</td>\n",
       "      <td>onhold</td>\n",
       "      <td>1000.0</td>\n",
       "      <td>15</td>\n",
       "      <td>2016-09-09</td>\n",
       "      <td>2016-10-08</td>\n",
       "      <td>0.851852</td>\n",
       "      <td>STIC</td>\n",
       "      <td>RDC</td>\n",
       "    </tr>\n",
       "    <tr>\n",
       "      <th>4</th>\n",
       "      <td>4.0</td>\n",
       "      <td>4</td>\n",
       "      <td>onhold</td>\n",
       "      <td>1000.0</td>\n",
       "      <td>30</td>\n",
       "      <td>2016-09-09</td>\n",
       "      <td>2016-10-08</td>\n",
       "      <td>0.821429</td>\n",
       "      <td>STIC</td>\n",
       "      <td>OPS</td>\n",
       "    </tr>\n",
       "    <tr>\n",
       "      <th>5</th>\n",
       "      <td>6.0</td>\n",
       "      <td>6</td>\n",
       "      <td>onhold</td>\n",
       "      <td>1000.0</td>\n",
       "      <td>30</td>\n",
       "      <td>2016-09-09</td>\n",
       "      <td>2016-10-08</td>\n",
       "      <td>0.793103</td>\n",
       "      <td>STIC</td>\n",
       "      <td>RDC</td>\n",
       "    </tr>\n",
       "    <tr>\n",
       "      <th>6</th>\n",
       "      <td>7.0</td>\n",
       "      <td>7</td>\n",
       "      <td>onhold</td>\n",
       "      <td>1000.0</td>\n",
       "      <td>30</td>\n",
       "      <td>2016-09-09</td>\n",
       "      <td>2016-10-08</td>\n",
       "      <td>0.638889</td>\n",
       "      <td>STIC</td>\n",
       "      <td>RDC</td>\n",
       "    </tr>\n",
       "    <tr>\n",
       "      <th>7</th>\n",
       "      <td>8.0</td>\n",
       "      <td>8</td>\n",
       "      <td>onhold</td>\n",
       "      <td>1000.0</td>\n",
       "      <td>30</td>\n",
       "      <td>2016-09-10</td>\n",
       "      <td>2016-09-24</td>\n",
       "      <td>0.821429</td>\n",
       "      <td>STIC</td>\n",
       "      <td>RDC</td>\n",
       "    </tr>\n",
       "    <tr>\n",
       "      <th>8</th>\n",
       "      <td>9.0</td>\n",
       "      <td>9</td>\n",
       "      <td>onhold</td>\n",
       "      <td>800.0</td>\n",
       "      <td>15</td>\n",
       "      <td>2016-09-10</td>\n",
       "      <td>2016-09-16</td>\n",
       "      <td>0.884615</td>\n",
       "      <td>STIC</td>\n",
       "      <td>RDC</td>\n",
       "    </tr>\n",
       "    <tr>\n",
       "      <th>9</th>\n",
       "      <td>10.0</td>\n",
       "      <td>10</td>\n",
       "      <td>onhold</td>\n",
       "      <td>300.0</td>\n",
       "      <td>7</td>\n",
       "      <td>2016-09-10</td>\n",
       "      <td>2016-10-09</td>\n",
       "      <td>0.793103</td>\n",
       "      <td>STIC</td>\n",
       "      <td>RDC</td>\n",
       "    </tr>\n",
       "    <tr>\n",
       "      <th>10</th>\n",
       "      <td>11.0</td>\n",
       "      <td>11</td>\n",
       "      <td>onhold</td>\n",
       "      <td>1000.0</td>\n",
       "      <td>15</td>\n",
       "      <td>2016-09-10</td>\n",
       "      <td>2016-10-09</td>\n",
       "      <td>0.589744</td>\n",
       "      <td>MSCOE</td>\n",
       "      <td>RDC</td>\n",
       "    </tr>\n",
       "    <tr>\n",
       "      <th>11</th>\n",
       "      <td>12.0</td>\n",
       "      <td>12</td>\n",
       "      <td>onhold</td>\n",
       "      <td>1000.0</td>\n",
       "      <td>30</td>\n",
       "      <td>2016-09-10</td>\n",
       "      <td>2016-09-16</td>\n",
       "      <td>0.884615</td>\n",
       "      <td>STIC</td>\n",
       "      <td>RDC</td>\n",
       "    </tr>\n",
       "    <tr>\n",
       "      <th>12</th>\n",
       "      <td>13.0</td>\n",
       "      <td>13</td>\n",
       "      <td>onhold</td>\n",
       "      <td>900.0</td>\n",
       "      <td>7</td>\n",
       "      <td>2016-09-10</td>\n",
       "      <td>2016-09-16</td>\n",
       "      <td>0.884615</td>\n",
       "      <td>STIC</td>\n",
       "      <td>OPS</td>\n",
       "    </tr>\n",
       "    <tr>\n",
       "      <th>13</th>\n",
       "      <td>14.0</td>\n",
       "      <td>14</td>\n",
       "      <td>onhold</td>\n",
       "      <td>1000.0</td>\n",
       "      <td>7</td>\n",
       "      <td>2016-09-10</td>\n",
       "      <td>2016-09-24</td>\n",
       "      <td>0.851852</td>\n",
       "      <td>MSCOE</td>\n",
       "      <td>RDC</td>\n",
       "    </tr>\n",
       "    <tr>\n",
       "      <th>14</th>\n",
       "      <td>15.0</td>\n",
       "      <td>15</td>\n",
       "      <td>onhold</td>\n",
       "      <td>800.0</td>\n",
       "      <td>15</td>\n",
       "      <td>2016-09-10</td>\n",
       "      <td>2016-10-09</td>\n",
       "      <td>0.884615</td>\n",
       "      <td>STIC</td>\n",
       "      <td>RDC</td>\n",
       "    </tr>\n",
       "    <tr>\n",
       "      <th>15</th>\n",
       "      <td>16.0</td>\n",
       "      <td>16</td>\n",
       "      <td>onhold</td>\n",
       "      <td>1000.0</td>\n",
       "      <td>30</td>\n",
       "      <td>2016-09-10</td>\n",
       "      <td>2016-09-24</td>\n",
       "      <td>0.575000</td>\n",
       "      <td>MSCOE</td>\n",
       "      <td>RDC</td>\n",
       "    </tr>\n",
       "    <tr>\n",
       "      <th>16</th>\n",
       "      <td>17.0</td>\n",
       "      <td>17</td>\n",
       "      <td>onhold</td>\n",
       "      <td>1000.0</td>\n",
       "      <td>15</td>\n",
       "      <td>2016-09-10</td>\n",
       "      <td>2016-10-09</td>\n",
       "      <td>0.718750</td>\n",
       "      <td>MSCOE</td>\n",
       "      <td>RDC</td>\n",
       "    </tr>\n",
       "    <tr>\n",
       "      <th>17</th>\n",
       "      <td>18.0</td>\n",
       "      <td>18</td>\n",
       "      <td>onhold</td>\n",
       "      <td>1000.0</td>\n",
       "      <td>30</td>\n",
       "      <td>2016-09-10</td>\n",
       "      <td>2016-10-09</td>\n",
       "      <td>0.718750</td>\n",
       "      <td>MSCOE</td>\n",
       "      <td>RDC</td>\n",
       "    </tr>\n",
       "    <tr>\n",
       "      <th>18</th>\n",
       "      <td>19.0</td>\n",
       "      <td>19</td>\n",
       "      <td>onhold</td>\n",
       "      <td>800.0</td>\n",
       "      <td>30</td>\n",
       "      <td>2016-09-10</td>\n",
       "      <td>2016-10-09</td>\n",
       "      <td>0.884615</td>\n",
       "      <td>STIC</td>\n",
       "      <td>RDC</td>\n",
       "    </tr>\n",
       "    <tr>\n",
       "      <th>19</th>\n",
       "      <td>20.0</td>\n",
       "      <td>20</td>\n",
       "      <td>onhold</td>\n",
       "      <td>1000.0</td>\n",
       "      <td>30</td>\n",
       "      <td>2016-09-10</td>\n",
       "      <td>2016-10-09</td>\n",
       "      <td>0.884615</td>\n",
       "      <td>STIC</td>\n",
       "      <td>RDC</td>\n",
       "    </tr>\n",
       "    <tr>\n",
       "      <th>20</th>\n",
       "      <td>22.0</td>\n",
       "      <td>22</td>\n",
       "      <td>onhold</td>\n",
       "      <td>1000.0</td>\n",
       "      <td>30</td>\n",
       "      <td>2016-09-10</td>\n",
       "      <td>2016-09-24</td>\n",
       "      <td>0.920000</td>\n",
       "      <td>MSCOE</td>\n",
       "      <td>RDC</td>\n",
       "    </tr>\n",
       "    <tr>\n",
       "      <th>21</th>\n",
       "      <td>23.0</td>\n",
       "      <td>23</td>\n",
       "      <td>onhold</td>\n",
       "      <td>1000.0</td>\n",
       "      <td>15</td>\n",
       "      <td>2016-09-10</td>\n",
       "      <td>2016-10-09</td>\n",
       "      <td>0.884615</td>\n",
       "      <td>STIC</td>\n",
       "      <td>RDC</td>\n",
       "    </tr>\n",
       "    <tr>\n",
       "      <th>22</th>\n",
       "      <td>25.0</td>\n",
       "      <td>25</td>\n",
       "      <td>onhold</td>\n",
       "      <td>1000.0</td>\n",
       "      <td>30</td>\n",
       "      <td>2016-09-10</td>\n",
       "      <td>2016-09-24</td>\n",
       "      <td>0.793103</td>\n",
       "      <td>MSCOE</td>\n",
       "      <td>RDC</td>\n",
       "    </tr>\n",
       "    <tr>\n",
       "      <th>23</th>\n",
       "      <td>26.0</td>\n",
       "      <td>26</td>\n",
       "      <td>onhold</td>\n",
       "      <td>800.0</td>\n",
       "      <td>15</td>\n",
       "      <td>2016-09-10</td>\n",
       "      <td>2016-09-24</td>\n",
       "      <td>0.589744</td>\n",
       "      <td>AVIATION</td>\n",
       "      <td>RDC</td>\n",
       "    </tr>\n",
       "    <tr>\n",
       "      <th>24</th>\n",
       "      <td>27.0</td>\n",
       "      <td>27</td>\n",
       "      <td>onhold</td>\n",
       "      <td>1000.0</td>\n",
       "      <td>15</td>\n",
       "      <td>2016-09-11</td>\n",
       "      <td>2016-10-10</td>\n",
       "      <td>0.676471</td>\n",
       "      <td>AVIATION</td>\n",
       "      <td>RDC</td>\n",
       "    </tr>\n",
       "    <tr>\n",
       "      <th>25</th>\n",
       "      <td>28.0</td>\n",
       "      <td>28</td>\n",
       "      <td>onhold</td>\n",
       "      <td>1000.0</td>\n",
       "      <td>30</td>\n",
       "      <td>2016-09-11</td>\n",
       "      <td>2016-10-10</td>\n",
       "      <td>0.741935</td>\n",
       "      <td>STIC</td>\n",
       "      <td>RDC</td>\n",
       "    </tr>\n",
       "    <tr>\n",
       "      <th>26</th>\n",
       "      <td>29.0</td>\n",
       "      <td>29</td>\n",
       "      <td>onhold</td>\n",
       "      <td>1000.0</td>\n",
       "      <td>30</td>\n",
       "      <td>2016-09-11</td>\n",
       "      <td>2016-09-25</td>\n",
       "      <td>0.696970</td>\n",
       "      <td>STIC</td>\n",
       "      <td>RDC</td>\n",
       "    </tr>\n",
       "    <tr>\n",
       "      <th>27</th>\n",
       "      <td>30.0</td>\n",
       "      <td>30</td>\n",
       "      <td>onhold</td>\n",
       "      <td>800.0</td>\n",
       "      <td>15</td>\n",
       "      <td>2016-09-11</td>\n",
       "      <td>2016-10-10</td>\n",
       "      <td>0.696970</td>\n",
       "      <td>MSCOE</td>\n",
       "      <td>RDC</td>\n",
       "    </tr>\n",
       "    <tr>\n",
       "      <th>28</th>\n",
       "      <td>31.0</td>\n",
       "      <td>31</td>\n",
       "      <td>onhold</td>\n",
       "      <td>1000.0</td>\n",
       "      <td>30</td>\n",
       "      <td>2016-09-11</td>\n",
       "      <td>2016-10-10</td>\n",
       "      <td>0.621622</td>\n",
       "      <td>STIC</td>\n",
       "      <td>RDC</td>\n",
       "    </tr>\n",
       "    <tr>\n",
       "      <th>29</th>\n",
       "      <td>32.0</td>\n",
       "      <td>32</td>\n",
       "      <td>onhold</td>\n",
       "      <td>1000.0</td>\n",
       "      <td>30</td>\n",
       "      <td>2016-09-11</td>\n",
       "      <td>2016-10-10</td>\n",
       "      <td>0.851852</td>\n",
       "      <td>STIC</td>\n",
       "      <td>RDC</td>\n",
       "    </tr>\n",
       "    <tr>\n",
       "      <th>30</th>\n",
       "      <td>33.0</td>\n",
       "      <td>33</td>\n",
       "      <td>onhold</td>\n",
       "      <td>1000.0</td>\n",
       "      <td>30</td>\n",
       "      <td>2016-09-11</td>\n",
       "      <td>2016-09-25</td>\n",
       "      <td>0.621622</td>\n",
       "      <td>STIC</td>\n",
       "      <td>RDC</td>\n",
       "    </tr>\n",
       "  </tbody>\n",
       "</table>\n",
       "</div>"
      ],
      "text/plain": [
       "    UDI1 UDI2  FYHold   FUNDS  Months effective_date   due_date     Score  \\\n",
       "1    0.0    0  onhold  1000.0      30     2016-09-08 2016-10-07  0.511111   \n",
       "2    2.0    2  onhold  1000.0      30     2016-09-08 2016-09-22  0.696970   \n",
       "3    3.0    3  onhold  1000.0      15     2016-09-09 2016-10-08  0.851852   \n",
       "4    4.0    4  onhold  1000.0      30     2016-09-09 2016-10-08  0.821429   \n",
       "5    6.0    6  onhold  1000.0      30     2016-09-09 2016-10-08  0.793103   \n",
       "6    7.0    7  onhold  1000.0      30     2016-09-09 2016-10-08  0.638889   \n",
       "7    8.0    8  onhold  1000.0      30     2016-09-10 2016-09-24  0.821429   \n",
       "8    9.0    9  onhold   800.0      15     2016-09-10 2016-09-16  0.884615   \n",
       "9   10.0   10  onhold   300.0       7     2016-09-10 2016-10-09  0.793103   \n",
       "10  11.0   11  onhold  1000.0      15     2016-09-10 2016-10-09  0.589744   \n",
       "11  12.0   12  onhold  1000.0      30     2016-09-10 2016-09-16  0.884615   \n",
       "12  13.0   13  onhold   900.0       7     2016-09-10 2016-09-16  0.884615   \n",
       "13  14.0   14  onhold  1000.0       7     2016-09-10 2016-09-24  0.851852   \n",
       "14  15.0   15  onhold   800.0      15     2016-09-10 2016-10-09  0.884615   \n",
       "15  16.0   16  onhold  1000.0      30     2016-09-10 2016-09-24  0.575000   \n",
       "16  17.0   17  onhold  1000.0      15     2016-09-10 2016-10-09  0.718750   \n",
       "17  18.0   18  onhold  1000.0      30     2016-09-10 2016-10-09  0.718750   \n",
       "18  19.0   19  onhold   800.0      30     2016-09-10 2016-10-09  0.884615   \n",
       "19  20.0   20  onhold  1000.0      30     2016-09-10 2016-10-09  0.884615   \n",
       "20  22.0   22  onhold  1000.0      30     2016-09-10 2016-09-24  0.920000   \n",
       "21  23.0   23  onhold  1000.0      15     2016-09-10 2016-10-09  0.884615   \n",
       "22  25.0   25  onhold  1000.0      30     2016-09-10 2016-09-24  0.793103   \n",
       "23  26.0   26  onhold   800.0      15     2016-09-10 2016-09-24  0.589744   \n",
       "24  27.0   27  onhold  1000.0      15     2016-09-11 2016-10-10  0.676471   \n",
       "25  28.0   28  onhold  1000.0      30     2016-09-11 2016-10-10  0.741935   \n",
       "26  29.0   29  onhold  1000.0      30     2016-09-11 2016-09-25  0.696970   \n",
       "27  30.0   30  onhold   800.0      15     2016-09-11 2016-10-10  0.696970   \n",
       "28  31.0   31  onhold  1000.0      30     2016-09-11 2016-10-10  0.621622   \n",
       "29  32.0   32  onhold  1000.0      30     2016-09-11 2016-10-10  0.851852   \n",
       "30  33.0   33  onhold  1000.0      30     2016-09-11 2016-09-25  0.621622   \n",
       "\n",
       "       Group  ORG  \n",
       "1      MSCOE  RDC  \n",
       "2   AVIATION  OPS  \n",
       "3       STIC  RDC  \n",
       "4       STIC  OPS  \n",
       "5       STIC  RDC  \n",
       "6       STIC  RDC  \n",
       "7       STIC  RDC  \n",
       "8       STIC  RDC  \n",
       "9       STIC  RDC  \n",
       "10     MSCOE  RDC  \n",
       "11      STIC  RDC  \n",
       "12      STIC  OPS  \n",
       "13     MSCOE  RDC  \n",
       "14      STIC  RDC  \n",
       "15     MSCOE  RDC  \n",
       "16     MSCOE  RDC  \n",
       "17     MSCOE  RDC  \n",
       "18      STIC  RDC  \n",
       "19      STIC  RDC  \n",
       "20     MSCOE  RDC  \n",
       "21      STIC  RDC  \n",
       "22     MSCOE  RDC  \n",
       "23  AVIATION  RDC  \n",
       "24  AVIATION  RDC  \n",
       "25      STIC  RDC  \n",
       "26      STIC  RDC  \n",
       "27     MSCOE  RDC  \n",
       "28      STIC  RDC  \n",
       "29      STIC  RDC  \n",
       "30      STIC  RDC  "
      ]
     },
     "execution_count": 9,
     "metadata": {},
     "output_type": "execute_result"
    }
   ],
   "source": [
    "#make numbers mroe interesting\n",
    "df_newhead[\"Score\"]= 23/df_newhead[\"Score\"]\n",
    "#df_rdc['city-L/100km'] = 235/df[\"city-mpg\"]\n",
    "df_newhead.replace({'FYHold': {'PAIDOFF': 'onhold', 'COLLECTION': 'FY'}}, inplace=True)\n",
    "df_newhead.head(30)"
   ]
  },
  {
   "cell_type": "markdown",
   "metadata": {},
   "source": [
    "Minimum and maximum score from Organizational Portfolio review"
   ]
  },
  {
   "cell_type": "code",
   "execution_count": 10,
   "metadata": {},
   "outputs": [
    {
     "data": {
      "text/html": [
       "<div>\n",
       "<style scoped>\n",
       "    .dataframe tbody tr th:only-of-type {\n",
       "        vertical-align: middle;\n",
       "    }\n",
       "\n",
       "    .dataframe tbody tr th {\n",
       "        vertical-align: top;\n",
       "    }\n",
       "\n",
       "    .dataframe thead th {\n",
       "        text-align: right;\n",
       "    }\n",
       "</style>\n",
       "<table border=\"1\" class=\"dataframe\">\n",
       "  <thead>\n",
       "    <tr style=\"text-align: right;\">\n",
       "      <th></th>\n",
       "      <th>UDI1</th>\n",
       "      <th>UDI2</th>\n",
       "      <th>FYHold</th>\n",
       "      <th>FUNDS</th>\n",
       "      <th>Months</th>\n",
       "      <th>effective_date</th>\n",
       "      <th>due_date</th>\n",
       "      <th>Score</th>\n",
       "      <th>Group</th>\n",
       "      <th>ORG</th>\n",
       "    </tr>\n",
       "  </thead>\n",
       "  <tbody>\n",
       "    <tr>\n",
       "      <th>1</th>\n",
       "      <td>0.0</td>\n",
       "      <td>0</td>\n",
       "      <td>onhold</td>\n",
       "      <td>1000.0</td>\n",
       "      <td>30</td>\n",
       "      <td>2016-09-08</td>\n",
       "      <td>2016-10-07</td>\n",
       "      <td>45.0</td>\n",
       "      <td>MSCOE</td>\n",
       "      <td>RDC</td>\n",
       "    </tr>\n",
       "    <tr>\n",
       "      <th>2</th>\n",
       "      <td>2.0</td>\n",
       "      <td>2</td>\n",
       "      <td>onhold</td>\n",
       "      <td>1000.0</td>\n",
       "      <td>30</td>\n",
       "      <td>2016-09-08</td>\n",
       "      <td>2016-09-22</td>\n",
       "      <td>33.0</td>\n",
       "      <td>AVIATION</td>\n",
       "      <td>OPS</td>\n",
       "    </tr>\n",
       "    <tr>\n",
       "      <th>3</th>\n",
       "      <td>3.0</td>\n",
       "      <td>3</td>\n",
       "      <td>onhold</td>\n",
       "      <td>1000.0</td>\n",
       "      <td>15</td>\n",
       "      <td>2016-09-09</td>\n",
       "      <td>2016-10-08</td>\n",
       "      <td>27.0</td>\n",
       "      <td>STIC</td>\n",
       "      <td>RDC</td>\n",
       "    </tr>\n",
       "    <tr>\n",
       "      <th>4</th>\n",
       "      <td>4.0</td>\n",
       "      <td>4</td>\n",
       "      <td>onhold</td>\n",
       "      <td>1000.0</td>\n",
       "      <td>30</td>\n",
       "      <td>2016-09-09</td>\n",
       "      <td>2016-10-08</td>\n",
       "      <td>28.0</td>\n",
       "      <td>STIC</td>\n",
       "      <td>OPS</td>\n",
       "    </tr>\n",
       "    <tr>\n",
       "      <th>5</th>\n",
       "      <td>6.0</td>\n",
       "      <td>6</td>\n",
       "      <td>onhold</td>\n",
       "      <td>1000.0</td>\n",
       "      <td>30</td>\n",
       "      <td>2016-09-09</td>\n",
       "      <td>2016-10-08</td>\n",
       "      <td>29.0</td>\n",
       "      <td>STIC</td>\n",
       "      <td>RDC</td>\n",
       "    </tr>\n",
       "    <tr>\n",
       "      <th>6</th>\n",
       "      <td>7.0</td>\n",
       "      <td>7</td>\n",
       "      <td>onhold</td>\n",
       "      <td>1000.0</td>\n",
       "      <td>30</td>\n",
       "      <td>2016-09-09</td>\n",
       "      <td>2016-10-08</td>\n",
       "      <td>36.0</td>\n",
       "      <td>STIC</td>\n",
       "      <td>RDC</td>\n",
       "    </tr>\n",
       "    <tr>\n",
       "      <th>7</th>\n",
       "      <td>8.0</td>\n",
       "      <td>8</td>\n",
       "      <td>onhold</td>\n",
       "      <td>1000.0</td>\n",
       "      <td>30</td>\n",
       "      <td>2016-09-10</td>\n",
       "      <td>2016-09-24</td>\n",
       "      <td>28.0</td>\n",
       "      <td>STIC</td>\n",
       "      <td>RDC</td>\n",
       "    </tr>\n",
       "    <tr>\n",
       "      <th>8</th>\n",
       "      <td>9.0</td>\n",
       "      <td>9</td>\n",
       "      <td>onhold</td>\n",
       "      <td>800.0</td>\n",
       "      <td>15</td>\n",
       "      <td>2016-09-10</td>\n",
       "      <td>2016-09-16</td>\n",
       "      <td>26.0</td>\n",
       "      <td>STIC</td>\n",
       "      <td>RDC</td>\n",
       "    </tr>\n",
       "    <tr>\n",
       "      <th>9</th>\n",
       "      <td>10.0</td>\n",
       "      <td>10</td>\n",
       "      <td>onhold</td>\n",
       "      <td>300.0</td>\n",
       "      <td>7</td>\n",
       "      <td>2016-09-10</td>\n",
       "      <td>2016-10-09</td>\n",
       "      <td>29.0</td>\n",
       "      <td>STIC</td>\n",
       "      <td>RDC</td>\n",
       "    </tr>\n",
       "    <tr>\n",
       "      <th>10</th>\n",
       "      <td>11.0</td>\n",
       "      <td>11</td>\n",
       "      <td>onhold</td>\n",
       "      <td>1000.0</td>\n",
       "      <td>15</td>\n",
       "      <td>2016-09-10</td>\n",
       "      <td>2016-10-09</td>\n",
       "      <td>39.0</td>\n",
       "      <td>MSCOE</td>\n",
       "      <td>RDC</td>\n",
       "    </tr>\n",
       "    <tr>\n",
       "      <th>11</th>\n",
       "      <td>12.0</td>\n",
       "      <td>12</td>\n",
       "      <td>onhold</td>\n",
       "      <td>1000.0</td>\n",
       "      <td>30</td>\n",
       "      <td>2016-09-10</td>\n",
       "      <td>2016-09-16</td>\n",
       "      <td>26.0</td>\n",
       "      <td>STIC</td>\n",
       "      <td>RDC</td>\n",
       "    </tr>\n",
       "    <tr>\n",
       "      <th>12</th>\n",
       "      <td>13.0</td>\n",
       "      <td>13</td>\n",
       "      <td>onhold</td>\n",
       "      <td>900.0</td>\n",
       "      <td>7</td>\n",
       "      <td>2016-09-10</td>\n",
       "      <td>2016-09-16</td>\n",
       "      <td>26.0</td>\n",
       "      <td>STIC</td>\n",
       "      <td>OPS</td>\n",
       "    </tr>\n",
       "    <tr>\n",
       "      <th>13</th>\n",
       "      <td>14.0</td>\n",
       "      <td>14</td>\n",
       "      <td>onhold</td>\n",
       "      <td>1000.0</td>\n",
       "      <td>7</td>\n",
       "      <td>2016-09-10</td>\n",
       "      <td>2016-09-24</td>\n",
       "      <td>27.0</td>\n",
       "      <td>MSCOE</td>\n",
       "      <td>RDC</td>\n",
       "    </tr>\n",
       "    <tr>\n",
       "      <th>14</th>\n",
       "      <td>15.0</td>\n",
       "      <td>15</td>\n",
       "      <td>onhold</td>\n",
       "      <td>800.0</td>\n",
       "      <td>15</td>\n",
       "      <td>2016-09-10</td>\n",
       "      <td>2016-10-09</td>\n",
       "      <td>26.0</td>\n",
       "      <td>STIC</td>\n",
       "      <td>RDC</td>\n",
       "    </tr>\n",
       "    <tr>\n",
       "      <th>15</th>\n",
       "      <td>16.0</td>\n",
       "      <td>16</td>\n",
       "      <td>onhold</td>\n",
       "      <td>1000.0</td>\n",
       "      <td>30</td>\n",
       "      <td>2016-09-10</td>\n",
       "      <td>2016-09-24</td>\n",
       "      <td>40.0</td>\n",
       "      <td>MSCOE</td>\n",
       "      <td>RDC</td>\n",
       "    </tr>\n",
       "    <tr>\n",
       "      <th>16</th>\n",
       "      <td>17.0</td>\n",
       "      <td>17</td>\n",
       "      <td>onhold</td>\n",
       "      <td>1000.0</td>\n",
       "      <td>15</td>\n",
       "      <td>2016-09-10</td>\n",
       "      <td>2016-10-09</td>\n",
       "      <td>32.0</td>\n",
       "      <td>MSCOE</td>\n",
       "      <td>RDC</td>\n",
       "    </tr>\n",
       "    <tr>\n",
       "      <th>17</th>\n",
       "      <td>18.0</td>\n",
       "      <td>18</td>\n",
       "      <td>onhold</td>\n",
       "      <td>1000.0</td>\n",
       "      <td>30</td>\n",
       "      <td>2016-09-10</td>\n",
       "      <td>2016-10-09</td>\n",
       "      <td>32.0</td>\n",
       "      <td>MSCOE</td>\n",
       "      <td>RDC</td>\n",
       "    </tr>\n",
       "    <tr>\n",
       "      <th>18</th>\n",
       "      <td>19.0</td>\n",
       "      <td>19</td>\n",
       "      <td>onhold</td>\n",
       "      <td>800.0</td>\n",
       "      <td>30</td>\n",
       "      <td>2016-09-10</td>\n",
       "      <td>2016-10-09</td>\n",
       "      <td>26.0</td>\n",
       "      <td>STIC</td>\n",
       "      <td>RDC</td>\n",
       "    </tr>\n",
       "    <tr>\n",
       "      <th>19</th>\n",
       "      <td>20.0</td>\n",
       "      <td>20</td>\n",
       "      <td>onhold</td>\n",
       "      <td>1000.0</td>\n",
       "      <td>30</td>\n",
       "      <td>2016-09-10</td>\n",
       "      <td>2016-10-09</td>\n",
       "      <td>26.0</td>\n",
       "      <td>STIC</td>\n",
       "      <td>RDC</td>\n",
       "    </tr>\n",
       "    <tr>\n",
       "      <th>20</th>\n",
       "      <td>22.0</td>\n",
       "      <td>22</td>\n",
       "      <td>onhold</td>\n",
       "      <td>1000.0</td>\n",
       "      <td>30</td>\n",
       "      <td>2016-09-10</td>\n",
       "      <td>2016-09-24</td>\n",
       "      <td>25.0</td>\n",
       "      <td>MSCOE</td>\n",
       "      <td>RDC</td>\n",
       "    </tr>\n",
       "    <tr>\n",
       "      <th>21</th>\n",
       "      <td>23.0</td>\n",
       "      <td>23</td>\n",
       "      <td>onhold</td>\n",
       "      <td>1000.0</td>\n",
       "      <td>15</td>\n",
       "      <td>2016-09-10</td>\n",
       "      <td>2016-10-09</td>\n",
       "      <td>26.0</td>\n",
       "      <td>STIC</td>\n",
       "      <td>RDC</td>\n",
       "    </tr>\n",
       "    <tr>\n",
       "      <th>22</th>\n",
       "      <td>25.0</td>\n",
       "      <td>25</td>\n",
       "      <td>onhold</td>\n",
       "      <td>1000.0</td>\n",
       "      <td>30</td>\n",
       "      <td>2016-09-10</td>\n",
       "      <td>2016-09-24</td>\n",
       "      <td>29.0</td>\n",
       "      <td>MSCOE</td>\n",
       "      <td>RDC</td>\n",
       "    </tr>\n",
       "    <tr>\n",
       "      <th>23</th>\n",
       "      <td>26.0</td>\n",
       "      <td>26</td>\n",
       "      <td>onhold</td>\n",
       "      <td>800.0</td>\n",
       "      <td>15</td>\n",
       "      <td>2016-09-10</td>\n",
       "      <td>2016-09-24</td>\n",
       "      <td>39.0</td>\n",
       "      <td>AVIATION</td>\n",
       "      <td>RDC</td>\n",
       "    </tr>\n",
       "    <tr>\n",
       "      <th>24</th>\n",
       "      <td>27.0</td>\n",
       "      <td>27</td>\n",
       "      <td>onhold</td>\n",
       "      <td>1000.0</td>\n",
       "      <td>15</td>\n",
       "      <td>2016-09-11</td>\n",
       "      <td>2016-10-10</td>\n",
       "      <td>34.0</td>\n",
       "      <td>AVIATION</td>\n",
       "      <td>RDC</td>\n",
       "    </tr>\n",
       "    <tr>\n",
       "      <th>25</th>\n",
       "      <td>28.0</td>\n",
       "      <td>28</td>\n",
       "      <td>onhold</td>\n",
       "      <td>1000.0</td>\n",
       "      <td>30</td>\n",
       "      <td>2016-09-11</td>\n",
       "      <td>2016-10-10</td>\n",
       "      <td>31.0</td>\n",
       "      <td>STIC</td>\n",
       "      <td>RDC</td>\n",
       "    </tr>\n",
       "    <tr>\n",
       "      <th>26</th>\n",
       "      <td>29.0</td>\n",
       "      <td>29</td>\n",
       "      <td>onhold</td>\n",
       "      <td>1000.0</td>\n",
       "      <td>30</td>\n",
       "      <td>2016-09-11</td>\n",
       "      <td>2016-09-25</td>\n",
       "      <td>33.0</td>\n",
       "      <td>STIC</td>\n",
       "      <td>RDC</td>\n",
       "    </tr>\n",
       "    <tr>\n",
       "      <th>27</th>\n",
       "      <td>30.0</td>\n",
       "      <td>30</td>\n",
       "      <td>onhold</td>\n",
       "      <td>800.0</td>\n",
       "      <td>15</td>\n",
       "      <td>2016-09-11</td>\n",
       "      <td>2016-10-10</td>\n",
       "      <td>33.0</td>\n",
       "      <td>MSCOE</td>\n",
       "      <td>RDC</td>\n",
       "    </tr>\n",
       "    <tr>\n",
       "      <th>28</th>\n",
       "      <td>31.0</td>\n",
       "      <td>31</td>\n",
       "      <td>onhold</td>\n",
       "      <td>1000.0</td>\n",
       "      <td>30</td>\n",
       "      <td>2016-09-11</td>\n",
       "      <td>2016-10-10</td>\n",
       "      <td>37.0</td>\n",
       "      <td>STIC</td>\n",
       "      <td>RDC</td>\n",
       "    </tr>\n",
       "    <tr>\n",
       "      <th>29</th>\n",
       "      <td>32.0</td>\n",
       "      <td>32</td>\n",
       "      <td>onhold</td>\n",
       "      <td>1000.0</td>\n",
       "      <td>30</td>\n",
       "      <td>2016-09-11</td>\n",
       "      <td>2016-10-10</td>\n",
       "      <td>27.0</td>\n",
       "      <td>STIC</td>\n",
       "      <td>RDC</td>\n",
       "    </tr>\n",
       "    <tr>\n",
       "      <th>30</th>\n",
       "      <td>33.0</td>\n",
       "      <td>33</td>\n",
       "      <td>onhold</td>\n",
       "      <td>1000.0</td>\n",
       "      <td>30</td>\n",
       "      <td>2016-09-11</td>\n",
       "      <td>2016-09-25</td>\n",
       "      <td>37.0</td>\n",
       "      <td>STIC</td>\n",
       "      <td>RDC</td>\n",
       "    </tr>\n",
       "  </tbody>\n",
       "</table>\n",
       "</div>"
      ],
      "text/plain": [
       "    UDI1 UDI2  FYHold   FUNDS  Months effective_date   due_date  Score  \\\n",
       "1    0.0    0  onhold  1000.0      30     2016-09-08 2016-10-07   45.0   \n",
       "2    2.0    2  onhold  1000.0      30     2016-09-08 2016-09-22   33.0   \n",
       "3    3.0    3  onhold  1000.0      15     2016-09-09 2016-10-08   27.0   \n",
       "4    4.0    4  onhold  1000.0      30     2016-09-09 2016-10-08   28.0   \n",
       "5    6.0    6  onhold  1000.0      30     2016-09-09 2016-10-08   29.0   \n",
       "6    7.0    7  onhold  1000.0      30     2016-09-09 2016-10-08   36.0   \n",
       "7    8.0    8  onhold  1000.0      30     2016-09-10 2016-09-24   28.0   \n",
       "8    9.0    9  onhold   800.0      15     2016-09-10 2016-09-16   26.0   \n",
       "9   10.0   10  onhold   300.0       7     2016-09-10 2016-10-09   29.0   \n",
       "10  11.0   11  onhold  1000.0      15     2016-09-10 2016-10-09   39.0   \n",
       "11  12.0   12  onhold  1000.0      30     2016-09-10 2016-09-16   26.0   \n",
       "12  13.0   13  onhold   900.0       7     2016-09-10 2016-09-16   26.0   \n",
       "13  14.0   14  onhold  1000.0       7     2016-09-10 2016-09-24   27.0   \n",
       "14  15.0   15  onhold   800.0      15     2016-09-10 2016-10-09   26.0   \n",
       "15  16.0   16  onhold  1000.0      30     2016-09-10 2016-09-24   40.0   \n",
       "16  17.0   17  onhold  1000.0      15     2016-09-10 2016-10-09   32.0   \n",
       "17  18.0   18  onhold  1000.0      30     2016-09-10 2016-10-09   32.0   \n",
       "18  19.0   19  onhold   800.0      30     2016-09-10 2016-10-09   26.0   \n",
       "19  20.0   20  onhold  1000.0      30     2016-09-10 2016-10-09   26.0   \n",
       "20  22.0   22  onhold  1000.0      30     2016-09-10 2016-09-24   25.0   \n",
       "21  23.0   23  onhold  1000.0      15     2016-09-10 2016-10-09   26.0   \n",
       "22  25.0   25  onhold  1000.0      30     2016-09-10 2016-09-24   29.0   \n",
       "23  26.0   26  onhold   800.0      15     2016-09-10 2016-09-24   39.0   \n",
       "24  27.0   27  onhold  1000.0      15     2016-09-11 2016-10-10   34.0   \n",
       "25  28.0   28  onhold  1000.0      30     2016-09-11 2016-10-10   31.0   \n",
       "26  29.0   29  onhold  1000.0      30     2016-09-11 2016-09-25   33.0   \n",
       "27  30.0   30  onhold   800.0      15     2016-09-11 2016-10-10   33.0   \n",
       "28  31.0   31  onhold  1000.0      30     2016-09-11 2016-10-10   37.0   \n",
       "29  32.0   32  onhold  1000.0      30     2016-09-11 2016-10-10   27.0   \n",
       "30  33.0   33  onhold  1000.0      30     2016-09-11 2016-09-25   37.0   \n",
       "\n",
       "       Group  ORG  \n",
       "1      MSCOE  RDC  \n",
       "2   AVIATION  OPS  \n",
       "3       STIC  RDC  \n",
       "4       STIC  OPS  \n",
       "5       STIC  RDC  \n",
       "6       STIC  RDC  \n",
       "7       STIC  RDC  \n",
       "8       STIC  RDC  \n",
       "9       STIC  RDC  \n",
       "10     MSCOE  RDC  \n",
       "11      STIC  RDC  \n",
       "12      STIC  OPS  \n",
       "13     MSCOE  RDC  \n",
       "14      STIC  RDC  \n",
       "15     MSCOE  RDC  \n",
       "16     MSCOE  RDC  \n",
       "17     MSCOE  RDC  \n",
       "18      STIC  RDC  \n",
       "19      STIC  RDC  \n",
       "20     MSCOE  RDC  \n",
       "21      STIC  RDC  \n",
       "22     MSCOE  RDC  \n",
       "23  AVIATION  RDC  \n",
       "24  AVIATION  RDC  \n",
       "25      STIC  RDC  \n",
       "26      STIC  RDC  \n",
       "27     MSCOE  RDC  \n",
       "28      STIC  RDC  \n",
       "29      STIC  RDC  \n",
       "30      STIC  RDC  "
      ]
     },
     "execution_count": 10,
     "metadata": {},
     "output_type": "execute_result"
    }
   ],
   "source": [
    "df_newhead[\"Score\"]= df_newhead[\"Score\"].astype(\"float\")\n",
    "# Make numbers mroe interesting\n",
    "df_newhead[\"Score\"]= 23/df_newhead[\"Score\"]\n",
    "#df_rdc['city-L/100km'] = 235/df[\"city-mpg\"]\n",
    "df_newhead.head(30)"
   ]
  },
  {
   "cell_type": "markdown",
   "metadata": {
    "button": false,
    "new_sheet": false,
    "run_control": {
     "read_only": false
    }
   },
   "source": [
    "Some data conversions are required to float. The date/time is modified though not used directly here but will be useful if recommondations are implemented."
   ]
  },
  {
   "cell_type": "code",
   "execution_count": 11,
   "metadata": {
    "button": false,
    "new_sheet": false,
    "run_control": {
     "read_only": false
    }
   },
   "outputs": [
    {
     "data": {
      "text/plain": [
       "UDI1                     float64\n",
       "UDI2                      object\n",
       "FYHold                    object\n",
       "FUNDS                    float64\n",
       "Months                     int64\n",
       "effective_date    datetime64[ns]\n",
       "due_date          datetime64[ns]\n",
       "Score                    float64\n",
       "Group                     object\n",
       "ORG                       object\n",
       "dtype: object"
      ]
     },
     "execution_count": 11,
     "metadata": {},
     "output_type": "execute_result"
    }
   ],
   "source": [
    "# Conversions\n",
    "df['due_date'] = pd.to_datetime(df['due_date'])\n",
    "df['effective_date'] = pd.to_datetime(df['effective_date'])\n",
    "df.head()\n",
    "df_rdc['due_date'] = pd.to_datetime(df_rdc['due_date'])\n",
    "df_rdc['effective_date'] = pd.to_datetime(df_rdc['effective_date'])\n",
    "df_rdc \n",
    "\n",
    "df_newhead['due_date'] = pd.to_datetime(df_rdc['due_date'])\n",
    "df_newhead['effective_date'] = pd.to_datetime(df_rdc['effective_date'])\n",
    "\n",
    "df_newhead[\"FUNDS\"]= df_newhead[\"FUNDS\"].astype(\"float\")\n",
    "df_newhead[\"Months\"]= df_newhead[\"Months\"].astype(\"int\")\n",
    "\n",
    "#make numbers mroe interesting\n",
    "#df_newhead[\"FUNDS\"]= df_newhead[\"FUNDS\"]/3.25\n",
    "#df_rdc['city-L/100km'] = 235/df[\"city-mpg\"]\n",
    "\n",
    "#df.groupby(['Gender'])['loan_status'].value_counts(normalize=True)\n",
    "#df.groupby(['education'])['loan_status'].value_counts(normalize=True)\n",
    "#df_rdc['Gender'].replace(to_replace=['RDC','ACQ'], value=[0,1],inplace=True)\n",
    "#df_newhead['ORG'].replace(to_replace=['RDC','ACQ'], value=[0,1],inplace=True)\n",
    "df_newhead.head(30)\n",
    "df_newhead.dtypes"
   ]
  },
  {
   "cell_type": "markdown",
   "metadata": {
    "button": false,
    "new_sheet": false,
    "run_control": {
     "read_only": false
    }
   },
   "source": []
  },
  {
   "cell_type": "markdown",
   "metadata": {
    "button": false,
    "new_sheet": false,
    "run_control": {
     "read_only": false
    }
   },
   "source": [
    "#### Data visualization and pre-processing"
   ]
  },
  {
   "cell_type": "markdown",
   "metadata": {
    "button": false,
    "new_sheet": false,
    "run_control": {
     "read_only": false
    }
   },
   "source": [
    "Let’s see how many of each class is in our data set "
   ]
  },
  {
   "cell_type": "code",
   "execution_count": 12,
   "metadata": {
    "button": false,
    "new_sheet": false,
    "run_control": {
     "read_only": false
    }
   },
   "outputs": [
    {
     "name": "stdout",
     "output_type": "stream",
     "text": [
      " Projects Funded and Onhold \n"
     ]
    },
    {
     "data": {
      "text/plain": [
       "onhold    260\n",
       "FY         86\n",
       "Name: FYHold, dtype: int64"
      ]
     },
     "execution_count": 12,
     "metadata": {},
     "output_type": "execute_result"
    }
   ],
   "source": [
    "## Let's convert the original to RDC relevant\n",
    "\n",
    "#df['loan_status'].value_counts()\n",
    "\n",
    "#\n",
    "print(\" Projects Funded and Onhold \")\n",
    "df_rdc['loan_status'].value_counts()\n",
    "df_newhead['FYHold'].value_counts()"
   ]
  },
  {
   "cell_type": "markdown",
   "metadata": {
    "button": false,
    "new_sheet": false,
    "run_control": {
     "read_only": false
    }
   },
   "source": [
    "260 Projects Onhold while 86 To Be Executed.\n"
   ]
  },
  {
   "cell_type": "markdown",
   "metadata": {},
   "source": [
    "Let's plot some columns to see relationships amongst the columns values. The first two graphs represent the original. The second two represent the modified data for our work. This is provided for comparison of the change not for meaningful data. It also verifies the data changes were made as expected."
   ]
  },
  {
   "cell_type": "code",
   "execution_count": 13,
   "metadata": {},
   "outputs": [
    {
     "data": {
      "image/png": "[encoded data removed]",
      "text/plain": [
       "<Figure size 432x216 with 2 Axes>"
      ]
     },
     "metadata": {
      "needs_background": "light"
     },
     "output_type": "display_data"
    },
    {
     "data": {
      "image/png": "[encoded data removed]",
      "text/plain": [
       "<Figure size 432x216 with 2 Axes>"
      ]
     },
     "metadata": {
      "needs_background": "light"
     },
     "output_type": "display_data"
    },
    {
     "name": "stdout",
     "output_type": "stream",
     "text": [
      "Min score 18\n",
      "Max Score 51\n",
      "New Min score 18.0\n",
      "New Max Score 51.0\n"
     ]
    }
   ],
   "source": [
    "import seaborn as sns\n",
    "\n",
    "#bins = np.linspace(df_rdc.Principal.min(), df_rdc.Principal.max(), 10)\n",
    "#g = sns.FacetGrid(df_rdc, col=\"Gender\", hue=\"loan_status\", palette=\"Set1\", col_wrap=2)\n",
    "#g.map(plt.hist, 'Principal', bins=bins, ec=\"k\")\n",
    "\n",
    "#g.axes[-1].legend()\n",
    "#plt.show()\n",
    "# show relation to score 18 - 51\n",
    "bins = np.linspace(df_rdc.age.min(), df_rdc.age.max(), 10)\n",
    "g = sns.FacetGrid(df_rdc, col=\"Gender\", hue=\"loan_status\", palette=\"Set1\", col_wrap=2)\n",
    "g.map(plt.hist, 'age', bins=bins, ec=\"k\")\n",
    "\n",
    "g.axes[-1].legend()\n",
    "plt.show()\n",
    "#--------------------------------------------\n",
    "# show relation to score 18 - 51\n",
    "bins = np.linspace(df_newhead.Score.min(), df_newhead.Score.max(), 10)\n",
    "g = sns.FacetGrid(df_newhead, col=\"ORG\", hue=\"FYHold\", palette=\"Set1\", col_wrap=2)\n",
    "g.map(plt.hist, 'Score', bins=bins, ec=\"k\")\n",
    "\n",
    "g.axes[-1].legend()\n",
    "plt.show()\n",
    "print (\"Min score\",df_rdc.age.min())\n",
    "print (\"Max Score\", df_rdc.age.max())\n",
    "print (\"New Min score\",df_newhead.Score.min())\n",
    "print (\"New Max Score\", df_newhead.Score.max())"
   ]
  },
  {
   "cell_type": "markdown",
   "metadata": {},
   "source": [
    "These show the data has changed as expected."
   ]
  },
  {
   "cell_type": "code",
   "execution_count": 15,
   "metadata": {
    "button": false,
    "new_sheet": false,
    "run_control": {
     "read_only": false
    }
   },
   "outputs": [
    {
     "data": {
      "image/png": "[encoded data removed]",
      "text/plain": [
       "<Figure size 648x216 with 3 Axes>"
      ]
     },
     "metadata": {
      "needs_background": "light"
     },
     "output_type": "display_data"
    },
    {
     "data": {
      "text/plain": [
       "UDI1                     float64\n",
       "UDI2                      object\n",
       "FYHold                    object\n",
       "FUNDS                    float64\n",
       "Months                     int64\n",
       "effective_date    datetime64[ns]\n",
       "due_date          datetime64[ns]\n",
       "Score                    float64\n",
       "Group                     object\n",
       "ORG                       object\n",
       "dtype: object"
      ]
     },
     "execution_count": 15,
     "metadata": {},
     "output_type": "execute_result"
    }
   ],
   "source": [
    "bins = np.linspace(df_rdc.Principal.min(), df_rdc.Principal.max(), 5)\n",
    "g = sns.FacetGrid(df_rdc, col=\"terms\", hue=\"education\", palette=\"Set2\", col_wrap=3)\n",
    "g.map(plt.hist, 'Principal', bins=bins, ec=\"k\")\n",
    "\n",
    "g.axes[-1].legend()\n",
    "plt.show()\n",
    "df_rdc\n",
    "df_rdc.dtypes\n",
    "\n",
    "#bins = np.linspace(df_newhead.FYHold.min(), df_newhead.FYHold.max(), 5)\n",
    "#g = sns.FacetGrid(df_newhead, col=\"FUNDS\", hue=\"Group\", palette=\"Set2\", col_wrap=3)\n",
    "#g.map(plt.hist, 'FUNDS', bins=bins, ec=\"k\")\n",
    "\n",
    "#g.axes[-1].legend()\n",
    "#plt.show()\n",
    "#df_rdc\n",
    "df_newhead.dtypes"
   ]
  },
  {
   "cell_type": "markdown",
   "metadata": {
    "button": false,
    "new_sheet": false,
    "run_control": {
     "read_only": false
    }
   },
   "source": [
    "#### 6.2 Classifier Pre-processing:  Feature selection/extraction"
   ]
  },
  {
   "cell_type": "markdown",
   "metadata": {
    "button": false,
    "new_sheet": false,
    "run_control": {
     "read_only": false
    }
   },
   "source": [
    "The target variable is the determination that a project will execute or placed onhold given the Train/Test set. The is the \"Y\" dataframe. I check the datatypes to be sure these can be used in the classifiers when passed.The \"X\" dataframe features are the Scores, the Branch, Months of execution. Next I convert categorical features to numerical values and explore grouping relationships."
   ]
  },
  {
   "cell_type": "code",
   "execution_count": 16,
   "metadata": {
    "button": false,
    "new_sheet": false,
    "run_control": {
     "read_only": false
    }
   },
   "outputs": [
    {
     "data": {
      "text/plain": [
       "Months  Group   \n",
       "7       STIC        0.500000\n",
       "        MSCOE       0.357143\n",
       "        AVIATION    0.142857\n",
       "15      STIC        0.452703\n",
       "        MSCOE       0.385135\n",
       "        AVIATION    0.148649\n",
       "        Surface     0.013514\n",
       "30      MSCOE       0.483696\n",
       "        STIC        0.407609\n",
       "        AVIATION    0.108696\n",
       "Name: Group, dtype: float64"
      ]
     },
     "execution_count": 16,
     "metadata": {},
     "output_type": "execute_result"
    }
   ],
   "source": [
    "df_rdc.groupby(['Gender'])['loan_status'].value_counts(normalize=True)\n",
    "#male/rfeamle translate to RDC and ACQ\n",
    "df_rdc.groupby(['Principal'])['education'].value_counts(normalize=True)\n",
    "\n",
    "df_newhead.groupby(['ORG'])['FYHold'].value_counts(normalize=True)\n",
    "df_newhead.groupby(['Group'])['FUNDS'].value_counts(normalize=True)\n",
    "df_newhead.groupby(['Months'])['Group'].value_counts(normalize=True)\n",
    "#df_rdc\n",
    "#df_rdc.hist(column='age', bins=50)\n",
    "#df_newhead.hist(column='Score', bins=50)"
   ]
  },
  {
   "cell_type": "code",
   "execution_count": 17,
   "metadata": {
    "button": false,
    "new_sheet": false,
    "run_control": {
     "read_only": false
    }
   },
   "outputs": [
    {
     "data": {
      "text/plain": [
       "ORG  FYHold\n",
       "OPS  onhold    0.865385\n",
       "     FY        0.134615\n",
       "RDC  onhold    0.731293\n",
       "     FY        0.268707\n",
       "Name: FYHold, dtype: float64"
      ]
     },
     "execution_count": 17,
     "metadata": {},
     "output_type": "execute_result"
    }
   ],
   "source": [
    "df_newhead.groupby(['ORG'])['FYHold'].value_counts(normalize=True)"
   ]
  },
  {
   "cell_type": "markdown",
   "metadata": {
    "button": false,
    "new_sheet": false,
    "run_control": {
     "read_only": false
    }
   },
   "source": [
    "df_newhead.groupby(['Group'])['FUNDS'].value_counts(normalize=True)"
   ]
  },
  {
   "cell_type": "markdown",
   "metadata": {
    "button": false,
    "new_sheet": false,
    "run_control": {
     "read_only": false
    }
   },
   "source": [
    "For Principal/Cost amounts (x10k) EX) For this sample data 75 percent  Aviation projects with funding at 88K USD, Surface has 50 percent of their projects funded at 71K USD. In this sampling MSCOE had 48 percent of project lasting 30 months and half of Surface projects last 7 months."
   ]
  },
  {
   "cell_type": "markdown",
   "metadata": {
    "button": false,
    "new_sheet": false,
    "run_control": {
     "read_only": false
    }
   },
   "source": [
    "Below is the dataframe in current form. There is still some wrangling to do.To get parameters in float from object type. Also to make more diverse the Principal ( aka Funding amount). Note here is where we could use the two unused columns (\"Unnamed\") for other metric. The date column could also be used to capture metrics like time from request to execution to completion.This project only uses a subset to illustrate the usefulness of the Data Science tools.\n"
   ]
  },
  {
   "cell_type": "code",
   "execution_count": 18,
   "metadata": {
    "button": false,
    "new_sheet": false,
    "run_control": {
     "read_only": false
    }
   },
   "outputs": [
    {
     "name": "stdout",
     "output_type": "stream",
     "text": [
      "     Unnamed: 0  Unnamed: 0.1 loan_status  Principal  terms effective_date  \\\n",
      "0             0             0      onhold       1000     12     2016-09-08   \n",
      "1             2             2      onhold       1000     12     2016-09-08   \n",
      "2             3             3      onhold       1000     24     2016-09-08   \n",
      "3             4             4      onhold       1000     12     2016-09-09   \n",
      "4             6             6      onhold       1000     12     2016-09-09   \n",
      "..          ...           ...         ...        ...    ...            ...   \n",
      "341         394           394          FY        800     24     2016-09-11   \n",
      "342         395           395          FY       1000     12     2016-09-11   \n",
      "343         397           397          FY        800     24     2016-09-12   \n",
      "344         398           398          FY       1000     12     2016-09-12   \n",
      "345         399           399          FY       1000     12     2016-09-12   \n",
      "\n",
      "      due_date  age education Gender  \n",
      "0   2016-10-07   45     MSCOE    RDC  \n",
      "1   2016-10-07   33  AVIATION    OPS  \n",
      "2   2016-09-22   27      STIC    RDC  \n",
      "3   2016-10-08   28      STIC    OPS  \n",
      "4   2016-10-08   29      STIC    RDC  \n",
      "..         ...  ...       ...    ...  \n",
      "341 2016-09-25   32     MSCOE    RDC  \n",
      "342 2016-10-10   25     MSCOE    RDC  \n",
      "343 2016-09-26   39      STIC    RDC  \n",
      "344 2016-11-10   28      STIC    RDC  \n",
      "345 2016-10-11   26      STIC    RDC  \n",
      "\n",
      "[346 rows x 10 columns]\n",
      "      UDI1 UDI2  FYHold   FUNDS  Months effective_date   due_date  Score  \\\n",
      "1      0.0    0  onhold  1000.0      30     2016-09-08 2016-10-07   45.0   \n",
      "2      2.0    2  onhold  1000.0      30     2016-09-08 2016-09-22   33.0   \n",
      "3      3.0    3  onhold  1000.0      15     2016-09-09 2016-10-08   27.0   \n",
      "4      4.0    4  onhold  1000.0      30     2016-09-09 2016-10-08   28.0   \n",
      "5      6.0    6  onhold  1000.0      30     2016-09-09 2016-10-08   29.0   \n",
      "..     ...  ...     ...     ...     ...            ...        ...    ...   \n",
      "342  394.0  394      FY   800.0      15     2016-09-11 2016-10-10   32.0   \n",
      "343  395.0  395      FY  1000.0      30     2016-09-12 2016-09-26   25.0   \n",
      "344  397.0  397      FY   800.0      15     2016-09-12 2016-11-10   39.0   \n",
      "345  398.0  398      FY  1000.0      30     2016-09-12 2016-10-11   28.0   \n",
      "346  399.0  399      FY  1000.0      30            NaT        NaT   26.0   \n",
      "\n",
      "        Group  ORG  \n",
      "1       MSCOE  RDC  \n",
      "2    AVIATION  OPS  \n",
      "3        STIC  RDC  \n",
      "4        STIC  OPS  \n",
      "5        STIC  RDC  \n",
      "..        ...  ...  \n",
      "342     MSCOE  RDC  \n",
      "343     MSCOE  RDC  \n",
      "344      STIC  RDC  \n",
      "345      STIC  RDC  \n",
      "346      STIC  RDC  \n",
      "\n",
      "[346 rows x 10 columns]\n"
     ]
    }
   ],
   "source": [
    "#df_rdc['Gender'].replace(to_replace=['RDC','ACQ'], value=[0,1],inplace=True)\n",
    "#df_rdc.head()\n",
    "#df_rdc['Gender']\n",
    "#df_rdc['education'].replace(to_replace=['MSCOE','STIC','AVIATION','Surface'], value=[0,1,2,3],inplace=True)\n",
    "print(df_rdc)\n",
    "print(df_newhead)"
   ]
  },
  {
   "cell_type": "code",
   "execution_count": 62,
   "metadata": {
    "button": false,
    "new_sheet": false,
    "run_control": {
     "read_only": false
    }
   },
   "outputs": [],
   "source": [
    "#df.groupby(['education'])['loan_status'].value_counts(normalize=True)\n",
    "\n",
    "#df_rdc.groupby(['education'])['loan_status'].value_counts(normalize=True)\n",
    "#df_rdc.groupby(['education'])['terms'].value_counts(normalize=True)"
   ]
  },
  {
   "cell_type": "markdown",
   "metadata": {
    "button": false,
    "new_sheet": false,
    "run_control": {
     "read_only": false
    }
   },
   "source": [
    "Now let's explore relationship by Group for length of project in Months. This might reveal how project length is associated with a Branch\n",
    "\n",
    "Of those categorized as Aviation, 45% executed as 30 month projects\n",
    "Of those categorized as MSCOE 37% executed as 15 month projects\n",
    "Of those categorized as STIC 44% executed as 15 month projects"
   ]
  },
  {
   "cell_type": "code",
   "execution_count": 19,
   "metadata": {
    "button": false,
    "new_sheet": false,
    "run_control": {
     "read_only": false
    }
   },
   "outputs": [
    {
     "data": {
      "text/plain": [
       "Group     Months\n",
       "AVIATION  15        0.500000\n",
       "          30        0.454545\n",
       "          7         0.045455\n",
       "MSCOE     30        0.589404\n",
       "          15        0.377483\n",
       "          7         0.033113\n",
       "STIC      30        0.503356\n",
       "          15        0.449664\n",
       "          7         0.046980\n",
       "Surface   15        1.000000\n",
       "Name: Months, dtype: float64"
      ]
     },
     "execution_count": 19,
     "metadata": {},
     "output_type": "execute_result"
    }
   ],
   "source": [
    "df_newhead.groupby(['Group'])['Months'].value_counts(normalize=True)"
   ]
  },
  {
   "cell_type": "code",
   "execution_count": 20,
   "metadata": {
    "button": false,
    "new_sheet": false,
    "run_control": {
     "read_only": false
    }
   },
   "outputs": [
    {
     "name": "stdout",
     "output_type": "stream",
     "text": [
      "Look at by Group for onhold or execute\n",
      "This might reveal how Branch relates to onhold or execution status \n"
     ]
    },
    {
     "data": {
      "text/plain": [
       "Group     FYHold\n",
       "AVIATION  onhold    0.750000\n",
       "          FY        0.250000\n",
       "MSCOE     onhold    0.741722\n",
       "          FY        0.258278\n",
       "STIC      onhold    0.765101\n",
       "          FY        0.234899\n",
       "Surface   FY        0.500000\n",
       "          onhold    0.500000\n",
       "Name: FYHold, dtype: float64"
      ]
     },
     "execution_count": 20,
     "metadata": {},
     "output_type": "execute_result"
    }
   ],
   "source": [
    "print ('Look at by Group for onhold or execute')\n",
    "print ('This might reveal how Branch relates to onhold or execution status ')\n",
    "df_newhead.groupby(['Group'])['FYHold'].value_counts(normalize=True)"
   ]
  },
  {
   "cell_type": "code",
   "execution_count": 21,
   "metadata": {
    "button": false,
    "new_sheet": false,
    "run_control": {
     "read_only": false
    }
   },
   "outputs": [
    {
     "name": "stdout",
     "output_type": "stream",
     "text": [
      "Look at by Score for onhold or execute\n",
      "This might reveal how Branch and Score could be related\n"
     ]
    },
    {
     "data": {
      "text/plain": [
       "Group     Score\n",
       "AVIATION  34.0     0.136364\n",
       "          35.0     0.136364\n",
       "          24.0     0.090909\n",
       "          26.0     0.090909\n",
       "          28.0     0.090909\n",
       "                     ...   \n",
       "STIC      44.0     0.006711\n",
       "          45.0     0.006711\n",
       "          51.0     0.006711\n",
       "Surface   39.0     0.500000\n",
       "          50.0     0.500000\n",
       "Name: Score, Length: 74, dtype: float64"
      ]
     },
     "execution_count": 21,
     "metadata": {},
     "output_type": "execute_result"
    }
   ],
   "source": [
    "print ('Look at by Score for onhold or execute')\n",
    "print ('This might reveal how Branch and Score could be related')\n",
    "df_newhead.groupby(['Group'])['Score'].value_counts(normalize=True)\n"
   ]
  },
  {
   "cell_type": "code",
   "execution_count": 22,
   "metadata": {
    "button": false,
    "new_sheet": false,
    "run_control": {
     "read_only": false
    }
   },
   "outputs": [
    {
     "data": {
      "text/plain": [
       "UDI1                     float64\n",
       "UDI2                      object\n",
       "FYHold                    object\n",
       "FUNDS                    float64\n",
       "Months                     int64\n",
       "effective_date    datetime64[ns]\n",
       "due_date          datetime64[ns]\n",
       "Score                    float64\n",
       "Group                     object\n",
       "ORG                       object\n",
       "dtype: object"
      ]
     },
     "execution_count": 22,
     "metadata": {},
     "output_type": "execute_result"
    }
   ],
   "source": [
    "df_newhead.dtypes"
   ]
  },
  {
   "cell_type": "code",
   "execution_count": 23,
   "metadata": {
    "button": false,
    "new_sheet": false,
    "run_control": {
     "read_only": false
    }
   },
   "outputs": [
    {
     "data": {
      "text/html": [
       "<div>\n",
       "<style scoped>\n",
       "    .dataframe tbody tr th:only-of-type {\n",
       "        vertical-align: middle;\n",
       "    }\n",
       "\n",
       "    .dataframe tbody tr th {\n",
       "        vertical-align: top;\n",
       "    }\n",
       "\n",
       "    .dataframe thead th {\n",
       "        text-align: right;\n",
       "    }\n",
       "</style>\n",
       "<table border=\"1\" class=\"dataframe\">\n",
       "  <thead>\n",
       "    <tr style=\"text-align: right;\">\n",
       "      <th></th>\n",
       "      <th>UDI1</th>\n",
       "      <th>UDI2</th>\n",
       "      <th>FYHold</th>\n",
       "      <th>FUNDS</th>\n",
       "      <th>Months</th>\n",
       "      <th>effective_date</th>\n",
       "      <th>due_date</th>\n",
       "      <th>Score</th>\n",
       "      <th>Group</th>\n",
       "      <th>ORG</th>\n",
       "    </tr>\n",
       "  </thead>\n",
       "  <tbody>\n",
       "    <tr>\n",
       "      <th>1</th>\n",
       "      <td>0.0</td>\n",
       "      <td>0</td>\n",
       "      <td>onhold</td>\n",
       "      <td>1000.0</td>\n",
       "      <td>30</td>\n",
       "      <td>2016-09-08</td>\n",
       "      <td>2016-10-07</td>\n",
       "      <td>45.0</td>\n",
       "      <td>MSCOE</td>\n",
       "      <td>RDC</td>\n",
       "    </tr>\n",
       "    <tr>\n",
       "      <th>2</th>\n",
       "      <td>2.0</td>\n",
       "      <td>2</td>\n",
       "      <td>onhold</td>\n",
       "      <td>1000.0</td>\n",
       "      <td>30</td>\n",
       "      <td>2016-09-08</td>\n",
       "      <td>2016-09-22</td>\n",
       "      <td>33.0</td>\n",
       "      <td>AVIATION</td>\n",
       "      <td>OPS</td>\n",
       "    </tr>\n",
       "    <tr>\n",
       "      <th>3</th>\n",
       "      <td>3.0</td>\n",
       "      <td>3</td>\n",
       "      <td>onhold</td>\n",
       "      <td>1000.0</td>\n",
       "      <td>15</td>\n",
       "      <td>2016-09-09</td>\n",
       "      <td>2016-10-08</td>\n",
       "      <td>27.0</td>\n",
       "      <td>STIC</td>\n",
       "      <td>RDC</td>\n",
       "    </tr>\n",
       "    <tr>\n",
       "      <th>4</th>\n",
       "      <td>4.0</td>\n",
       "      <td>4</td>\n",
       "      <td>onhold</td>\n",
       "      <td>1000.0</td>\n",
       "      <td>30</td>\n",
       "      <td>2016-09-09</td>\n",
       "      <td>2016-10-08</td>\n",
       "      <td>28.0</td>\n",
       "      <td>STIC</td>\n",
       "      <td>OPS</td>\n",
       "    </tr>\n",
       "    <tr>\n",
       "      <th>5</th>\n",
       "      <td>6.0</td>\n",
       "      <td>6</td>\n",
       "      <td>onhold</td>\n",
       "      <td>1000.0</td>\n",
       "      <td>30</td>\n",
       "      <td>2016-09-09</td>\n",
       "      <td>2016-10-08</td>\n",
       "      <td>29.0</td>\n",
       "      <td>STIC</td>\n",
       "      <td>RDC</td>\n",
       "    </tr>\n",
       "  </tbody>\n",
       "</table>\n",
       "</div>"
      ],
      "text/plain": [
       "   UDI1 UDI2  FYHold   FUNDS  Months effective_date   due_date  Score  \\\n",
       "1   0.0    0  onhold  1000.0      30     2016-09-08 2016-10-07   45.0   \n",
       "2   2.0    2  onhold  1000.0      30     2016-09-08 2016-09-22   33.0   \n",
       "3   3.0    3  onhold  1000.0      15     2016-09-09 2016-10-08   27.0   \n",
       "4   4.0    4  onhold  1000.0      30     2016-09-09 2016-10-08   28.0   \n",
       "5   6.0    6  onhold  1000.0      30     2016-09-09 2016-10-08   29.0   \n",
       "\n",
       "      Group  ORG  \n",
       "1     MSCOE  RDC  \n",
       "2  AVIATION  OPS  \n",
       "3      STIC  RDC  \n",
       "4      STIC  OPS  \n",
       "5      STIC  RDC  "
      ]
     },
     "execution_count": 23,
     "metadata": {},
     "output_type": "execute_result"
    }
   ],
   "source": [
    "df_newhead.head()"
   ]
  },
  {
   "cell_type": "code",
   "execution_count": 24,
   "metadata": {
    "button": false,
    "new_sheet": false,
    "run_control": {
     "read_only": false
    }
   },
   "outputs": [
    {
     "data": {
      "image/png": "[encoded data removed]",
      "text/plain": [
       "<Figure size 432x216 with 2 Axes>"
      ]
     },
     "metadata": {
      "needs_background": "light"
     },
     "output_type": "display_data"
    }
   ],
   "source": [
    "#bins = np.linspace(df_rdc.Principal.min(), df_rdc.Principal.max(), 10)\n",
    "#g = sns.FacetGrid(df_rdc, col=\"loan_status\", hue=\"education\", palette=\"Set3\", col_wrap=2)\n",
    "#g.map(plt.hist, 'loan_status', bins=bins, ec=\"k\")\n",
    "\n",
    "#g.axes[-1].legend()\n",
    "#plt.show()\n",
    "#\n",
    "#bins = np.linspace(df_newhead.Months.min(), df_newhead.Months.max(), 10)\n",
    "#g = sns.FacetGrid(df_newhead, col=\"FYHold\", hue=\"Group\", palette=\"Set3\", col_wrap=2)\n",
    "#g.map(plt.hist, 'Group', bins=bins, ec=\"k\")\n",
    "\n",
    "#g.axes[-1].legend()\n",
    "#plt.show()\n",
    "import seaborn as sns\n",
    "\n",
    "#bins = np.linspace(df.Principal.min(), df.Principal.max(), 10)\n",
    "#g = sns.FacetGrid(df, col=\"Gender\", hue=\"loan_status\", palette=\"Set1\", col_wrap=2)\n",
    "#g.map(plt.hist, 'Principal', bins=bins, ec=\"k\")\n",
    "\n",
    "#g.axes[-1].legend()\n",
    "#plt.show()\n",
    "\n",
    "\n",
    "bins = np.linspace(df_newhead.Months.min(), df_newhead.Months.max(), 20)\n",
    "g = sns.FacetGrid(df_newhead, col=\"ORG\", hue=\"FYHold\", palette=\"Set1\", col_wrap=2)\n",
    "g.map(plt.hist, 'Months', bins=bins, ec=\"k\")\n",
    "\n",
    "g.axes[-1].legend()\n",
    "plt.show()"
   ]
  },
  {
   "cell_type": "code",
   "execution_count": 87,
   "metadata": {
    "button": false,
    "new_sheet": false,
    "run_control": {
     "read_only": false
    }
   },
   "outputs": [
    {
     "data": {
      "image/png": "[encoded data removed]",
      "text/plain": [
       "<Figure size 432x432 with 4 Axes>"
      ]
     },
     "metadata": {
      "needs_background": "light"
     },
     "output_type": "display_data"
    }
   ],
   "source": [
    "import seaborn as sns\n",
    "\n",
    "#bins = np.linspace(df_rdc.Principal.min(), df_rdc.Principal.max(), 10)\n",
    "#g = sns.FacetGrid(df_rdc, col=\"Gender\", hue=\"loan_status\", palette=\"Set1\", col_wrap=2)\n",
    "#g.map(plt.hist, 'Principal', bins=bins, ec=\"k\")\n",
    "\n",
    "#g.axes[-1].legend()\n",
    "#plt.show()\n",
    "# show relation to score 18 - 51\n",
    "#bins = np.linspace(df_rdc.age.min(), df_rdc.age.max(), 10)\n",
    "#g = sns.FacetGrid(df_rdc, col=\"Gender\", hue=\"loan_status\", palette=\"Set1\", col_wrap=2)\n",
    "#g.map(plt.hist, 'age', bins=bins, ec=\"k\")\n",
    "\n",
    "#g.axes[-1].legend()\n",
    "#plt.show()\n",
    "#----------------------------------------------------\n",
    "import seaborn as sns\n",
    "\n",
    "#bins = np.linspace(df_rdc.Principal.min(), df_rdc.Principal.max(), 10)\n",
    "#g = sns.FacetGrid(df_rdc, col=\"Gender\", hue=\"loan_status\", palette=\"Set1\", col_wrap=2)\n",
    "#g.map(plt.hist, 'Principal', bins=bins, ec=\"k\")\n",
    "\n",
    "#g.axes[-1].legend()\n",
    "#plt.show()\n",
    "# show relation to score 18 - 51\n",
    "bins = np.linspace(df_newhead.FUNDS.min(), df_newhead.FUNDS.max(), 10)\n",
    "g = sns.FacetGrid(df_newhead, col=\"Group\", hue=\"FYHold\", palette=\"Set1\", col_wrap=2)\n",
    "g.map(plt.hist, 'FUNDS', bins=bins, ec=\"k\")\n",
    "\n",
    "g.axes[-1].legend()\n",
    "plt.show()"
   ]
  },
  {
   "cell_type": "markdown",
   "metadata": {
    "button": false,
    "new_sheet": false,
    "run_control": {
     "read_only": false
    }
   },
   "source": [
    "THese graphs map how projects by branch can be viewed for onhold or execution status. Total record count = 346."
   ]
  },
  {
   "cell_type": "code",
   "execution_count": 25,
   "metadata": {
    "button": false,
    "new_sheet": false,
    "run_control": {
     "read_only": false
    }
   },
   "outputs": [
    {
     "data": {
      "text/plain": [
       "<bound method NDFrame.head of       FUNDS  Score  Months\n",
       "1    1000.0   45.0      30\n",
       "2    1000.0   33.0      30\n",
       "3    1000.0   27.0      15\n",
       "4    1000.0   28.0      30\n",
       "5    1000.0   29.0      30\n",
       "..      ...    ...     ...\n",
       "342   800.0   32.0      15\n",
       "343  1000.0   25.0      30\n",
       "344   800.0   39.0      15\n",
       "345  1000.0   28.0      30\n",
       "346  1000.0   26.0      30\n",
       "\n",
       "[346 rows x 3 columns]>"
      ]
     },
     "execution_count": 25,
     "metadata": {},
     "output_type": "execute_result"
    }
   ],
   "source": [
    "#df[['Principal','terms','age','Gender','education']].head()\n",
    "#df_rdc[['Principal','terms','age','Gender','education']].head()\n",
    "\n",
    "df_newhead[['FUNDS','Score','Months']].head\n"
   ]
  },
  {
   "cell_type": "markdown",
   "metadata": {
    "button": false,
    "new_sheet": false,
    "run_control": {
     "read_only": false
    }
   },
   "source": [
    "Use one hot encoding technique to convert categorical varables to binary variables and \n",
    "append them to the feature Data Frame. The features tested for classification are FUNDS, Score, Group and Months. Afer looking at the dataframe we are ready to select the features of interest and begin comparing classifiers ( KNN, SVM and Decision Tree)"
   ]
  },
  {
   "cell_type": "code",
   "execution_count": 27,
   "metadata": {
    "button": false,
    "new_sheet": false,
    "run_control": {
     "read_only": false
    }
   },
   "outputs": [],
   "source": [
    "Feature = df_rdc[['Principal','terms','age']]\n",
    "Feature1 = df_newhead[['FUNDS','Score','Months']]\n",
    "Feature = pd.concat([Feature,pd.get_dummies(df_rdc['age'])], axis=1)\n"
   ]
  },
  {
   "cell_type": "markdown",
   "metadata": {
    "button": false,
    "new_sheet": false,
    "run_control": {
     "read_only": false
    }
   },
   "source": [
    "Lets define feature sets, X:  Funding amount, Branch assigned, Length of Project and target Y: onhold or execute"
   ]
  },
  {
   "cell_type": "code",
   "execution_count": 28,
   "metadata": {
    "button": false,
    "new_sheet": false,
    "run_control": {
     "read_only": false
    }
   },
   "outputs": [],
   "source": [
    "X = Feature\n",
    "#X[0:5]\n"
   ]
  },
  {
   "cell_type": "markdown",
   "metadata": {
    "button": false,
    "new_sheet": false,
    "run_control": {
     "read_only": false
    }
   },
   "source": [
    "The target set is the prediction of whether the result will be on hold or assigned for FY execution"
   ]
  },
  {
   "cell_type": "code",
   "execution_count": 29,
   "metadata": {
    "button": false,
    "new_sheet": false,
    "run_control": {
     "read_only": false
    }
   },
   "outputs": [
    {
     "data": {
      "text/plain": [
       "array(['onhold', 'onhold', 'onhold', 'onhold', 'onhold', 'onhold',\n",
       "       'onhold', 'onhold', 'onhold', 'onhold', 'onhold', 'onhold',\n",
       "       'onhold', 'onhold', 'onhold', 'onhold', 'onhold', 'onhold',\n",
       "       'onhold', 'onhold', 'onhold', 'onhold', 'onhold', 'onhold',\n",
       "       'onhold', 'onhold', 'onhold', 'onhold', 'onhold', 'onhold'],\n",
       "      dtype=object)"
      ]
     },
     "execution_count": 29,
     "metadata": {},
     "output_type": "execute_result"
    }
   ],
   "source": [
    "y = df_rdc['loan_status'].values\n",
    "y[0:30]\n"
   ]
  },
  {
   "cell_type": "markdown",
   "metadata": {
    "button": false,
    "new_sheet": false,
    "run_control": {
     "read_only": false
    }
   },
   "source": [
    "#### 6.3 Normalize Data "
   ]
  },
  {
   "cell_type": "markdown",
   "metadata": {
    "button": false,
    "new_sheet": false,
    "run_control": {
     "read_only": false
    }
   },
   "source": [
    "Data Standardization give data zero mean and unit variance (technically should be done after train test split )"
   ]
  },
  {
   "cell_type": "code",
   "execution_count": 30,
   "metadata": {
    "button": false,
    "new_sheet": false,
    "run_control": {
     "read_only": false
    }
   },
   "outputs": [
    {
     "name": "stderr",
     "output_type": "stream",
     "text": [
      "/home/jupyterlab/conda/envs/python/lib/python3.6/site-packages/sklearn/preprocessing/data.py:625: DataConversionWarning: Data with input dtype uint8, int64 were all converted to float64 by StandardScaler.\n",
      "  return self.partial_fit(X, y)\n",
      "/home/jupyterlab/conda/envs/python/lib/python3.6/site-packages/ipykernel_launcher.py:1: DataConversionWarning: Data with input dtype uint8, int64 were all converted to float64 by StandardScaler.\n",
      "  \"\"\"Entry point for launching an IPython kernel.\n"
     ]
    },
    {
     "data": {
      "text/plain": [
       "array([[ 0.51578458, -0.79676004,  2.33152555, -0.05383819, -0.07624929,\n",
       "        -0.09352195, -0.12108987, -0.14369749, -0.15384615, -0.20535013,\n",
       "        -0.22019275, -0.30246099, -0.27907279, -0.27300945, -0.29092868,\n",
       "        -0.29092868, -0.24104766, -0.20535013, -0.22731417, -0.2476887 ,\n",
       "        -0.2476887 , -0.16342041, -0.18120657, -0.16342041, -0.15384615,\n",
       "        -0.15384615, -0.07624929, -0.09352195, -0.09352195, -0.10814761,\n",
       "         9.246621  , -0.07624929, -0.05383819, -0.09352195, -0.05383819],\n",
       "       [ 0.51578458, -0.79676004,  0.34170148, -0.05383819, -0.07624929,\n",
       "        -0.09352195, -0.12108987, -0.14369749, -0.15384615, -0.20535013,\n",
       "        -0.22019275, -0.30246099, -0.27907279, -0.27300945, -0.29092868,\n",
       "        -0.29092868, -0.24104766, -0.20535013,  4.39919779, -0.2476887 ,\n",
       "        -0.2476887 , -0.16342041, -0.18120657, -0.16342041, -0.15384615,\n",
       "        -0.15384615, -0.07624929, -0.09352195, -0.09352195, -0.10814761,\n",
       "        -0.10814761, -0.07624929, -0.05383819, -0.09352195, -0.05383819],\n",
       "       [ 0.51578458,  1.14236521, -0.65321055, -0.05383819, -0.07624929,\n",
       "        -0.09352195, -0.12108987, -0.14369749, -0.15384615, -0.20535013,\n",
       "        -0.22019275, -0.30246099,  3.58329457, -0.27300945, -0.29092868,\n",
       "        -0.29092868, -0.24104766, -0.20535013, -0.22731417, -0.2476887 ,\n",
       "        -0.2476887 , -0.16342041, -0.18120657, -0.16342041, -0.15384615,\n",
       "        -0.15384615, -0.07624929, -0.09352195, -0.09352195, -0.10814761,\n",
       "        -0.10814761, -0.07624929, -0.05383819, -0.09352195, -0.05383819],\n",
       "       [ 0.51578458, -0.79676004, -0.48739188, -0.05383819, -0.07624929,\n",
       "        -0.09352195, -0.12108987, -0.14369749, -0.15384615, -0.20535013,\n",
       "        -0.22019275, -0.30246099, -0.27907279,  3.66287683, -0.29092868,\n",
       "        -0.29092868, -0.24104766, -0.20535013, -0.22731417, -0.2476887 ,\n",
       "        -0.2476887 , -0.16342041, -0.18120657, -0.16342041, -0.15384615,\n",
       "        -0.15384615, -0.07624929, -0.09352195, -0.09352195, -0.10814761,\n",
       "        -0.10814761, -0.07624929, -0.05383819, -0.09352195, -0.05383819],\n",
       "       [ 0.51578458, -0.79676004, -0.3215732 , -0.05383819, -0.07624929,\n",
       "        -0.09352195, -0.12108987, -0.14369749, -0.15384615, -0.20535013,\n",
       "        -0.22019275, -0.30246099, -0.27907279, -0.27300945,  3.43726851,\n",
       "        -0.29092868, -0.24104766, -0.20535013, -0.22731417, -0.2476887 ,\n",
       "        -0.2476887 , -0.16342041, -0.18120657, -0.16342041, -0.15384615,\n",
       "        -0.15384615, -0.07624929, -0.09352195, -0.09352195, -0.10814761,\n",
       "        -0.10814761, -0.07624929, -0.05383819, -0.09352195, -0.05383819]])"
      ]
     },
     "execution_count": 30,
     "metadata": {},
     "output_type": "execute_result"
    }
   ],
   "source": [
    "X= preprocessing.StandardScaler().fit(X).transform(X)\n",
    "X[0:5]"
   ]
  },
  {
   "cell_type": "markdown",
   "metadata": {
    "button": false,
    "new_sheet": false,
    "run_control": {
     "read_only": false
    }
   },
   "source": [
    "#### 6.4 Classifiers"
   ]
  },
  {
   "cell_type": "markdown",
   "metadata": {},
   "source": [
    "Classifiers : K Nearest Neighbor(KNN): To proceed with classification, we split the data into training and test sets. I tested the split ratios as 60/40 and 80/20 but the 70/30 split gave the best result. The training data will teaches the algorithm how the data moves  and is classified. The Test set is evaluated as measured of goodness for the model classifier.  Each model was assigned the same train/test set. Each result (e.g. SVMyhat, KNNyhat, DECTReeyhat) was named uniquely for use in a summary table. A F1score and Jaccard score is calculated for each prediction then compared for accuracy. First I start with K Nearest Neighbor(KNN). \n"
   ]
  },
  {
   "cell_type": "code",
   "execution_count": 31,
   "metadata": {},
   "outputs": [
    {
     "name": "stdout",
     "output_type": "stream",
     "text": [
      "Train set: (242, 35) (242,)\n",
      "Test set: (104, 35) (104,)\n",
      "KNN Jaccard score:  0.7115384615384616\n",
      "KNN F1 score: 0.6235955056179775\n"
     ]
    }
   ],
   "source": [
    "#USE THIS - figure out how to use given data to split train/test\n",
    "# from lab example\n",
    "# IMPORT KNN\n",
    "#from sklearn.neighbors import KNeighborsClassifier\n",
    "# Generate confusion matrix\n",
    "#-------------------------------------------------------------------Examples above\n",
    "from sklearn.model_selection import train_test_split\n",
    "X_train, X_test, y_train, y_test = train_test_split( X, y, test_size=0.3, random_state=7)\n",
    "print ('Train set:', X_train.shape,  y_train.shape)\n",
    "print ('Test set:', X_test.shape,  y_test.shape)\n",
    "\n",
    "from sklearn.neighbors import KNeighborsClassifier\n",
    "from sklearn import metrics\n",
    "Ks = 10\n",
    "mean_acc = np.zeros((Ks-1))\n",
    "std_acc = np.zeros((Ks-1))\n",
    "ConfustionMx = [];\n",
    "for k in range(1,10):    \n",
    "#Train Model and Predict  \n",
    "    neigh = KNeighborsClassifier(n_neighbors = k).fit(X_train,y_train)\n",
    "    yhat = neigh.predict(X_test)\n",
    "# let's see the array\n",
    "    yhat\n",
    "#mean_acc[n-1] = metrics.accuracy_score(y_test, yhat)\n",
    "mean_acc[k-1] = metrics.accuracy_score(y_test, yhat)\n",
    "\n",
    "std_acc[k-1]=np.std(yhat==y_test)/np.sqrt(yhat.shape[0])\n",
    "mean_acc\n",
    "std_acc\n",
    "#\n",
    "# From Example ---- begin\n",
    "\n",
    "from sklearn.metrics import confusion_matrix\n",
    "cm = confusion_matrix(y_test, yhat)\n",
    "cm\n",
    "#from example --------- end\n",
    "#from labs begin -----\n",
    "Ks = 10\n",
    "mean_acc = np.zeros((Ks-1))\n",
    "std_acc = np.zeros((Ks-1))\n",
    "ConfusionMx = [];\n",
    "for n in range(1,Ks):\n",
    "    \n",
    "    #Train Model and Predict  \n",
    "    neigh = KNeighborsClassifier(n_neighbors = n).fit(X_train,y_train)\n",
    "    yhat=neigh.predict(X_test)\n",
    "    mean_acc[n-1] = metrics.accuracy_score(y_test, yhat)\n",
    "    std_acc[n-1]=np.std(yhat==y_test)/np.sqrt(yhat.shape[0])\n",
    "\n",
    "mean_acc\n",
    "std_acc\n",
    "#from lab END ----\n",
    "\n",
    "## Take these for final table jaccard_similarity_score(y_test, yhat)\n",
    "### Assign fr final table\n",
    "#KNNy_test = y_test\n",
    "#KNNyhat = yhat\n",
    "#For LogRegression F1 Score' use variable (y_test, yhat, average='weighted'))\n",
    "#Jaccard from LAB exercise classifiers\n",
    "#FOr Logregression Jaccard score:',jaccard_similarity_score(y_test, yhat))\n",
    "#For 'LogRegression Log Loss Score:',log_loss(y_test, yhat_prob))\n",
    "#for SVM model take yhat, y_test\n",
    "#print(\"Avg (linear kernel) F1-score: %.4f\" % f1_score(y_test, yhat2, average='weighted'))\n",
    "#print(\"Jaccard score: %.4f\" % jaccard_similarity_score(y_test, yhat2))\n",
    "#\n",
    "from sklearn.metrics import jaccard_similarity_score\n",
    "from sklearn.metrics import f1_score\n",
    "from sklearn.metrics import log_loss\n",
    "KNN_jaccard = jaccard_similarity_score(y_test,yhat)\n",
    "#help (jaccard_similarity_score)\n",
    "print (\"KNN Jaccard score: \",KNN_jaccard)\n",
    "#help (f1_score)\n",
    "KNN_F1Score = f1_score(y_test,yhat, average ='weighted')\n",
    "print (\"KNN F1 score:\", KNN_F1Score)"
   ]
  },
  {
   "cell_type": "markdown",
   "metadata": {},
   "source": [
    "By comparison the KNN Jaccard score performed better than the F1score with k =5 as calculated below."
   ]
  },
  {
   "cell_type": "code",
   "execution_count": 32,
   "metadata": {},
   "outputs": [
    {
     "data": {
      "image/png": "[encoded data removed]",
      "text/plain": [
       "<Figure size 432x288 with 1 Axes>"
      ]
     },
     "metadata": {
      "needs_background": "light"
     },
     "output_type": "display_data"
    },
    {
     "name": "stdout",
     "output_type": "stream",
     "text": [
      "This graph shows best accuracy was with 0.7211538461538461 with k= 5\n"
     ]
    }
   ],
   "source": [
    "\n",
    "plt.plot(range(1,Ks),mean_acc,'g')\n",
    "plt.fill_between(range(1,Ks),mean_acc - 1 * std_acc,mean_acc + 1 * std_acc, alpha=0.10)\n",
    "plt.legend(('Accuracy ', '+/- 3xstd'))\n",
    "plt.ylabel('Accuracy ')\n",
    "plt.xlabel('Number of Nabors (K)')\n",
    "plt.tight_layout()\n",
    "plt.show()\n",
    "print( \"This graph shows best accuracy was with\", mean_acc.max(), \"with k=\", mean_acc.argmax()+1)"
   ]
  },
  {
   "cell_type": "markdown",
   "metadata": {},
   "source": [
    "Classifier : Decision Tree : This model uses the same train/test set as expected. It is important to use the same data otherwise a comparison would not be fruitful. I have chosen the criterion \"entropy\" for this fit.Again the data is split 70/30 as assigned to dataframes X and Y."
   ]
  },
  {
   "cell_type": "code",
   "execution_count": 33,
   "metadata": {},
   "outputs": [
    {
     "name": "stdout",
     "output_type": "stream",
     "text": [
      "Train set: (242, 35) (242,)\n",
      "Test set: (104, 35) (104,)\n"
     ]
    }
   ],
   "source": [
    "import numpy as np \n",
    "import pandas as pd\n",
    "# New classifier Decision Tree\n",
    "#\n",
    "from sklearn.tree import DecisionTreeClassifier\n",
    "decisionTree = DecisionTreeClassifier(criterion=\"entropy\", max_depth = 4)\n",
    "decisionTree.fit(X_train,y_train)\n",
    "#\n",
    "from sklearn.model_selection import train_test_split\n",
    "X_train, X_test, y_train, y_test = train_test_split( X, y, test_size=0.3, random_state=4)\n",
    "print ('Train set:', X_train.shape,  y_train.shape)\n",
    "print ('Test set:', X_test.shape,  y_test.shape)\n",
    "#X_train, X_test, y_train, y_test = train_test_split(X, y, test_size=0.3, random_state=4)"
   ]
  },
  {
   "cell_type": "code",
   "execution_count": 34,
   "metadata": {},
   "outputs": [
    {
     "name": "stdout",
     "output_type": "stream",
     "text": [
      "['onhold' 'onhold' 'onhold' 'onhold' 'onhold']\n",
      "['onhold' 'onhold' 'onhold' 'onhold' 'onhold']\n"
     ]
    }
   ],
   "source": [
    "decisionTree = DecisionTreeClassifier(criterion=\"entropy\", max_depth = 4)\n",
    "decisionTree # it shows the default parameters\n",
    "decisionTree.fit(X_train,y_train)\n",
    "#\n",
    "predTree = decisionTree.predict(X_test)\n",
    "#\n",
    "from sklearn import metrics\n",
    "import matplotlib.pyplot as plt\n",
    "#print(\"DecisionTree Accuracy Jaccard Score: \", metrics.accuracy_score(y_test, predTree))\n",
    "# From example --- Begin\n",
    "from sklearn.metrics import confusion_matrix\n",
    "cm = confusion_matrix(y_test, predTree)\n",
    "cm\n",
    "#from example END\n",
    "#\n",
    "#let's see it\n",
    "print (predTree [0:5])\n",
    "print (y_test [0:5])\n",
    "from sklearn.metrics import jaccard_similarity_score\n",
    "from sklearn.metrics import f1_score\n",
    "from sklearn.metrics import log_loss\n",
    "#Summarizing so far\n",
    "#help (jaccard_similarity_score)\n",
    "## KNN Results "
   ]
  },
  {
   "cell_type": "markdown",
   "metadata": {},
   "source": [
    "### --------------Summarizing results so far --------------------"
   ]
  },
  {
   "cell_type": "code",
   "execution_count": 35,
   "metadata": {},
   "outputs": [
    {
     "name": "stdout",
     "output_type": "stream",
     "text": [
      "KNN Jaccard score:  0.7115384615384616\n",
      "KNN F1 score: 0.6107127335940896\n",
      "    DECTree Jaccard score:  0.7307692307692307\n",
      "    DECTree F1 score: 0.6252136752136752\n"
     ]
    }
   ],
   "source": [
    "print (\"KNN Jaccard score: \",KNN_jaccard)\n",
    "#help (f1_score)\n",
    "KNN_F1Score = f1_score(y_test,yhat, average ='weighted')\n",
    "print (\"KNN F1 score:\", KNN_F1Score)\n",
    "#\n",
    "## For Decision Tree ----------------------------------\n",
    "DECTree_jaccard = jaccard_similarity_score(y_test,predTree)\n",
    "#help (jaccard_similarity_score)\n",
    "print (\"    DECTree Jaccard score: \",DECTree_jaccard)\n",
    "#help (f1_score)\n",
    "DECTree_F1Score = f1_score(y_test,predTree, average ='weighted')\n",
    "print (\"    DECTree F1 score:\", DECTree_F1Score)"
   ]
  },
  {
   "cell_type": "markdown",
   "metadata": {},
   "source": [
    "KNN with Jaccard, F1Score and Decision Tree Results. So far Decision Tree Jaccard Score is best performer to predict the test set from the training set."
   ]
  },
  {
   "cell_type": "markdown",
   "metadata": {},
   "source": [
    "Classifier: Support Vector Machine: The SVM algorithm offers a choice of kernel functions for \n",
    "performing its processing. Basically, mapping data into a higher dimensional space is called kernelling. \n",
    "The mathematical function used for the transformation is known as the kernel function, and can be of different types, such as:\n",
    "1.Linear 2.Polynomial 3.Radial basis function (RBF) 4.Sigmoid\n",
    "\n",
    "I experimented with linear type though I chose with the RBF as an option for this data. This portion was re-used from the graded assignemnt submitted previously."
   ]
  },
  {
   "cell_type": "code",
   "execution_count": 39,
   "metadata": {},
   "outputs": [
    {
     "name": "stdout",
     "output_type": "stream",
     "text": [
      "Train set: (276, 35) (276,)\n",
      "Test set: (70, 35) (70,)\n"
     ]
    }
   ],
   "source": [
    "# EXAMPLE graph from SVM lab\n",
    "# instructional note ------\n",
    "\n",
    "\n",
    "#Each of these functions has its characteristics, its pros and cons, and its equation, \n",
    "#but as there's no easy way of knowing which function performs best with any given dataset, \n",
    "#we usually choose different functions in turn and compare the results. \n",
    "#Let's just use the default, RBF (Radial Basis Function) \n",
    "\n",
    "#ax = cell_df[cell_df['Class'] == 4][0:50].plot(kind='scatter', x='Clump', y='UnifSize', color='DarkBlue', label='malignant');\n",
    "#cell_df[cell_df['Class'] == 2][0:50].plot(kind='scatter', x='Clump', y='UnifSize', color='Yellow', label='benign', ax=ax);\n",
    "#plt.show()\n",
    "#feature_df = cell_df[['Clump', 'UnifSize', 'UnifShape', 'MargAdh', 'SingEpiSize', 'BareNuc', 'BlandChrom', 'NormNucl', 'Mit']]\n",
    "#X = np.asarray(feature_df)\n",
    "#X[0:5]\n",
    "# from svm train-test split as above\n",
    "from sklearn.model_selection import train_test_split\n",
    "X_train, X_test, y_train, y_test = train_test_split( X, y, test_size=0.2, random_state=4)\n",
    "print ('Train set:', X_train.shape,  y_train.shape)\n",
    "print ('Test set:', X_test.shape,  y_test.shape)\n",
    "\n",
    "#\n",
    "from sklearn.metrics import jaccard_similarity_score\n",
    "from sklearn.metrics import f1_score\n",
    "from sklearn.metrics import log_loss\n"
   ]
  },
  {
   "cell_type": "code",
   "execution_count": 40,
   "metadata": {},
   "outputs": [
    {
     "name": "stdout",
     "output_type": "stream",
     "text": [
      "Train set: (276, 35) (276,)\n",
      "Test set: (70, 35) (70,)\n"
     ]
    },
    {
     "name": "stderr",
     "output_type": "stream",
     "text": [
      "/home/jupyterlab/conda/envs/python/lib/python3.6/site-packages/sklearn/svm/base.py:196: FutureWarning: The default value of gamma will change from 'auto' to 'scale' in version 0.22 to account better for unscaled features. Set gamma explicitly to 'auto' or 'scale' to avoid this warning.\n",
      "  \"avoid this warning.\", FutureWarning)\n",
      "/home/jupyterlab/conda/envs/python/lib/python3.6/site-packages/sklearn/svm/base.py:196: FutureWarning: The default value of gamma will change from 'auto' to 'scale' in version 0.22 to account better for unscaled features. Set gamma explicitly to 'auto' or 'scale' to avoid this warning.\n",
      "  \"avoid this warning.\", FutureWarning)\n"
     ]
    }
   ],
   "source": [
    "from sklearn import svm\n",
    "from sklearn.metrics import jaccard_similarity_score\n",
    "from sklearn.metrics import f1_score\n",
    "from sklearn.metrics import log_loss\n",
    "from sklearn.model_selection import train_test_split\n",
    "X_train, X_test, y_train, y_test = train_test_split(X, y, test_size=0.2, random_state=4)\n",
    "print ('Train set:', X_train.shape,  y_train.shape)\n",
    "print ('Test set:', X_test.shape,  y_test.shape)\n",
    "###from example \n",
    "SVM_model = svm.SVC()\n",
    "SVM_model.fit(X_train, y_train) \n",
    "clf = svm.SVC(kernel='rbf')\n",
    "clf.fit(X_train, y_train) \n",
    "SVM_yhat = SVM_model.predict(X_test)\n",
    "\n",
    "#SVM_yhat = SVM_model.predict(test_X)\n",
    "#print(\"SVM Jaccard index: %.2f\" % jaccard_similarity_score(test_y, SVM_yhat))\n",
    "#print(\"SVM F1-score: %.2f\" % f1_score(test_y, SVM_yhat, average='weighted') )\n",
    "\n",
    "#\n",
    "#SVM_yhat = SVMrbf.predict(X_test)\n",
    "#print( \"svm_yhat\",SVM_yhat)\n",
    "#SVM_F1Score = f1_score(y_test,SVM_yhat)\n",
    "#SVM_Jaccard = jaccard_similarity_score(y_test,SVM_yhat)\n",
    "#let's see it\n",
    "#import itertools\n",
    "# from example ----\n",
    "#SVM_yhat = SVM_model.predict(test_X)\n",
    "#print(\"SVM Jaccard index: %.2f\" % jaccard_similarity_score(test_y, SVM_yhat))\n",
    "#print(\"SVM F1-score: %.2f\" % f1_score(test_y, SVM_yhat, average='weighted') )\n",
    "\n",
    "#help (jaccard_similarity_score)\n",
    "## Summarizing so far"
   ]
  },
  {
   "cell_type": "markdown",
   "metadata": {},
   "source": [
    "#### ---------SUMMARY RESULTS ------\n"
   ]
  },
  {
   "cell_type": "code",
   "execution_count": 41,
   "metadata": {},
   "outputs": [
    {
     "name": "stdout",
     "output_type": "stream",
     "text": [
      "KNN Jaccard score:  0.7115384615384616\n",
      "KNN F1 score: 0.6107127335940896\n",
      "    DECTree Jaccard score:  0.7307692307692307\n",
      "    DECTree F1 score: 0.6252136752136752\n",
      "SVM Jaccard score:  0.7714285714285715\n",
      "SVM F1 score: 0.6843317972350231\n"
     ]
    }
   ],
   "source": [
    "## --------------------For KNN --------------------\n",
    "\n",
    "print (\"KNN Jaccard score: \",KNN_jaccard)\n",
    "#help (f1_score)\n",
    "# uncomment to recalculate with current yhat\n",
    "#KNN_F1Score = f1_score(y_test,yhat, average ='weighted')\n",
    "print (\"KNN F1 score:\", KNN_F1Score)\n",
    "#\n",
    "## --------------------For Decision Tree ----------------------------------\n",
    "#DECTree_jaccard = jaccard_similarity_score(y_test,predTree)\n",
    "#help (jaccard_similarity_score)\n",
    "print (\"    DECTree Jaccard score: \",DECTree_jaccard)\n",
    "#help (f1_score)\n",
    "# uncomment to recalculate with current yhat\n",
    "#DECTree_F1Score = f1_score(y_test,predTree, average ='weighted')\n",
    "print (\"    DECTree F1 score:\", DECTree_F1Score)\n",
    "## ---------------------For SVM  ----------------------------------\n",
    "SVM_Jaccard = jaccard_similarity_score(y_test,SVM_yhat)\n",
    "#help (jaccard_similarity_score)\n",
    "print (\"SVM Jaccard score: \",SVM_Jaccard)\n",
    "#help (f1_score)\n",
    "SVM_F1Score = f1_score(y_test,SVM_yhat, average ='weighted')\n",
    "print (\"SVM F1 score:\", SVM_F1Score)"
   ]
  },
  {
   "cell_type": "markdown",
   "metadata": {},
   "source": [
    "This summary shows the results from classifier models with SVM performing the best using a Jaccard Score. Both the Decision Tree and KNN provided similar evaluation metrics for both the Jaccard score and F1score."
   ]
  },
  {
   "cell_type": "markdown",
   "metadata": {},
   "source": [
    "#### 6.5 Geographical Mapping"
   ]
  },
  {
   "cell_type": "markdown",
   "metadata": {},
   "source": [
    "These maps display the field operational requests coming from districts as marker with the relevant category. The dataframe contains various districts along with category of requests from that district. Ultimately, the map is a representation and categorization that can be related to the dataframe in the main report for each of the mission or technical research branches (MSCOE, AVIATION, SURFACE, STIC) discussed in previous sections.\n",
    "Additionally, a Foursquare rendering of locations of interest in the area are provided. I chose to center the work around San Francisco where the districts as mapped with Folium are located."
   ]
  },
  {
   "cell_type": "markdown",
   "metadata": {},
   "source": [
    "First, import required modules and libraries."
   ]
  },
  {
   "cell_type": "code",
   "execution_count": 52,
   "metadata": {},
   "outputs": [
    {
     "name": "stdout",
     "output_type": "stream",
     "text": [
      "Collecting package metadata (current_repodata.json): done\n",
      "Solving environment: done\n",
      "\n",
      "## Package Plan ##\n",
      "\n",
      "  environment location: /home/jupyterlab/conda/envs/python\n",
      "\n",
      "  added / updated specs:\n",
      "    - geopy\n",
      "\n",
      "\n",
      "The following packages will be UPDATED:\n",
      "\n",
      "  ca-certificates      anaconda::ca-certificates-2020.1.1-0 --> conda-forge::ca-certificates-2020.4.5.1-hecc5488_0\n",
      "\n",
      "The following packages will be SUPERSEDED by a higher-priority channel:\n",
      "\n",
      "  certifi               anaconda::certifi-2020.4.5.1-py36_0 --> conda-forge::certifi-2020.4.5.1-py36h9f0ad1d_0\n",
      "  openssl               anaconda::openssl-1.1.1g-h7b6447c_0 --> conda-forge::openssl-1.1.1g-h516909a_0\n",
      "\n",
      "\n",
      "Preparing transaction: done\n",
      "Verifying transaction: done\n",
      "Executing transaction: done\n",
      "Collecting package metadata (current_repodata.json): done\n",
      "Solving environment: done\n",
      "\n",
      "# All requested packages already installed.\n",
      "\n",
      "Folium installed\n",
      "Libraries imported.\n",
      "Your credentails:\n",
      "CLIENT_ID: V3R4GWWHBFL23A4OEPUFIUX3XRT2GICELQSPXRHJ1DAS0C2A\n",
      "CLIENT_SECRET:WMLA0CKK2CTN2F1D0GBGSKN00EVX5LL4ZLQZSPYJZIOTEEPE\n"
     ]
    }
   ],
   "source": [
    "import numpy as np  # useful for many scientific computing in Python\n",
    "import pandas as pd # primary data structure library\n",
    "import requests # library to handle requests\n",
    "\n",
    "import random # library for random number generation\n",
    "\n",
    "!conda install -c conda-forge geopy --yes \n",
    "from geopy.geocoders import Nominatim # module to convert an address into latitude and longitude values\n",
    "\n",
    "# libraries for displaying images\n",
    "from PIL import Image # converting images into arrays\n",
    "from IPython.display import Image \n",
    "from IPython.core.display import HTML \n",
    "    \n",
    "# tranforming json file into a pandas dataframe library\n",
    "from pandas.io.json import json_normalize\n",
    "\n",
    "!conda install -c conda-forge folium=0.5.0 --yes\n",
    "import folium # plotting library\n",
    "\n",
    "print('Folium installed')\n",
    "print('Libraries imported.')\n",
    "\n",
    "#define credentials for Foursqaure access\n",
    "CLIENT_ID = 'V3R4GWWHBFL23A4OEPUFIUX3XRT2GICELQSPXRHJ1DAS0C2A' # your Foursquare ID\n",
    "CLIENT_SECRET = 'WMLA0CKK2CTN2F1D0GBGSKN00EVX5LL4ZLQZSPYJZIOTEEPE' # your Foursquare Secret\n",
    "VERSION = '20180604'\n",
    "LIMIT = 30\n",
    "print('Your credentails:')\n",
    "print('CLIENT_ID: ' + CLIENT_ID)\n",
    "print('CLIENT_SECRET:' + CLIENT_SECRET)"
   ]
  },
  {
   "cell_type": "markdown",
   "metadata": {},
   "source": [
    "Define location data as latitude/longitude and specify search query preference for Vegan restaurant nearby to the work site. I chose to search near Lombard Street. The search is performed with criteria matching \"Vegan\" from the Foursquare database. The query is then performed through the json file and the resulting dataframe is shown."
   ]
  },
  {
   "cell_type": "code",
   "execution_count": 53,
   "metadata": {},
   "outputs": [
    {
     "name": "stdout",
     "output_type": "stream",
     "text": [
      "37.802076 -122.4188091\n",
      "Vegan .... OK!\n"
     ]
    },
    {
     "name": "stderr",
     "output_type": "stream",
     "text": [
      "/home/jupyterlab/conda/envs/python/lib/python3.6/site-packages/ipykernel_launcher.py:23: FutureWarning: pandas.io.json.json_normalize is deprecated, use pandas.json_normalize instead\n"
     ]
    },
    {
     "data": {
      "text/html": [
       "<div>\n",
       "<style scoped>\n",
       "    .dataframe tbody tr th:only-of-type {\n",
       "        vertical-align: middle;\n",
       "    }\n",
       "\n",
       "    .dataframe tbody tr th {\n",
       "        vertical-align: top;\n",
       "    }\n",
       "\n",
       "    .dataframe thead th {\n",
       "        text-align: right;\n",
       "    }\n",
       "</style>\n",
       "<table border=\"1\" class=\"dataframe\">\n",
       "  <thead>\n",
       "    <tr style=\"text-align: right;\">\n",
       "      <th></th>\n",
       "      <th>id</th>\n",
       "      <th>name</th>\n",
       "      <th>categories</th>\n",
       "      <th>referralId</th>\n",
       "      <th>hasPerk</th>\n",
       "      <th>location.lat</th>\n",
       "      <th>location.lng</th>\n",
       "      <th>location.labeledLatLngs</th>\n",
       "      <th>location.distance</th>\n",
       "      <th>location.postalCode</th>\n",
       "      <th>location.cc</th>\n",
       "      <th>location.city</th>\n",
       "      <th>location.state</th>\n",
       "      <th>location.country</th>\n",
       "      <th>location.formattedAddress</th>\n",
       "    </tr>\n",
       "  </thead>\n",
       "  <tbody>\n",
       "    <tr>\n",
       "      <th>0</th>\n",
       "      <td>51ba997b8bbd6f2322d7d5c5</td>\n",
       "      <td>vegan09.com</td>\n",
       "      <td>[{'id': '4bf58dd8d48988d130941735', 'name': 'B...</td>\n",
       "      <td>v-1590366665</td>\n",
       "      <td>False</td>\n",
       "      <td>37.803036</td>\n",
       "      <td>-122.42486</td>\n",
       "      <td>[{'label': 'display', 'lat': 37.80303649357777...</td>\n",
       "      <td>542</td>\n",
       "      <td>94109</td>\n",
       "      <td>US</td>\n",
       "      <td>San Francisco</td>\n",
       "      <td>CA</td>\n",
       "      <td>United States</td>\n",
       "      <td>[San Francisco, CA 94109, United States]</td>\n",
       "    </tr>\n",
       "  </tbody>\n",
       "</table>\n",
       "</div>"
      ],
      "text/plain": [
       "                         id         name  \\\n",
       "0  51ba997b8bbd6f2322d7d5c5  vegan09.com   \n",
       "\n",
       "                                          categories    referralId  hasPerk  \\\n",
       "0  [{'id': '4bf58dd8d48988d130941735', 'name': 'B...  v-1590366665    False   \n",
       "\n",
       "   location.lat  location.lng  \\\n",
       "0     37.803036    -122.42486   \n",
       "\n",
       "                             location.labeledLatLngs  location.distance  \\\n",
       "0  [{'label': 'display', 'lat': 37.80303649357777...                542   \n",
       "\n",
       "  location.postalCode location.cc  location.city location.state  \\\n",
       "0               94109          US  San Francisco             CA   \n",
       "\n",
       "  location.country                 location.formattedAddress  \n",
       "0    United States  [San Francisco, CA 94109, United States]  "
      ]
     },
     "execution_count": 53,
     "metadata": {},
     "output_type": "execute_result"
    }
   ],
   "source": [
    "address = 'Lombard St, San Francisco, CA'\n",
    "geolocator = Nominatim(user_agent=\"foursquare_agent\")\n",
    "location = geolocator.geocode(address)\n",
    "latitude = location.latitude\n",
    "longitude = location.longitude\n",
    "print(latitude, longitude)\n",
    "\n",
    "search_query = 'Vegan'\n",
    "radius = 500\n",
    "print(search_query + ' .... OK!')\n",
    "\n",
    "# Here's where we find the data\n",
    "url = 'https://api.foursquare.com/v2/venues/search?client_id={}&client_secret={}&ll={},{}&v={}&query={}&radius={}&limit={}'.format(CLIENT_ID, CLIENT_SECRET, latitude, longitude, VERSION, search_query, radius, LIMIT)\n",
    "url\n",
    "results = requests.get(url).json()\n",
    "\n",
    "results\n",
    "# assign relevant part of JSON to venues\n",
    "venues = results['response']['venues']\n",
    "\n",
    "# tranform venues into a dataframe\n",
    "#Future reference use pandas.json_normalize instead\n",
    "dataframe = json_normalize(venues)\n",
    "dataframe.head()"
   ]
  },
  {
   "cell_type": "markdown",
   "metadata": {},
   "source": [
    "There is one vegan restaurant in our area of interest with the name vegan09.com \n",
    "Foursquare show the venue_id = '51ba997b8bbd6f2322d7d5c5' in the dataframe column \"ID\". From this point, I keep only the columns that include venue, name and category. The venue of interest is then mapped with Folium."
   ]
  },
  {
   "cell_type": "code",
   "execution_count": 54,
   "metadata": {},
   "outputs": [
    {
     "data": {
      "text/plain": [
       "<folium.features.CircleMarker at 0x7f7e2f60a588>"
      ]
     },
     "execution_count": 54,
     "metadata": {},
     "output_type": "execute_result"
    }
   ],
   "source": [
    "# keep only columns that include venue name, and anything that is associated with location\n",
    "filtered_columns = ['name', 'categories'] + [col for col in dataframe.columns if col.startswith('location.')] + ['id']\n",
    "dataframe_filtered = dataframe.loc[:, filtered_columns]\n",
    "\n",
    "# function that extracts the category of the venue\n",
    "def get_category_type(row):\n",
    "    try:\n",
    "        categories_list = row['categories']\n",
    "    except:\n",
    "        categories_list = row['venue.categories']\n",
    "        \n",
    "    if len(categories_list) == 0:\n",
    "        return None\n",
    "    else:\n",
    "        return categories_list[0]['name']\n",
    "\n",
    "# filter the category for each row\n",
    "dataframe_filtered['categories'] = dataframe_filtered.apply(get_category_type, axis=1)\n",
    "\n",
    "# clean column names by keeping only last term\n",
    "dataframe_filtered.columns = [column.split('.')[-1] for column in dataframe_filtered.columns]\n",
    "# Get a list of names under this category and check more details on one of interest\n",
    "dataframe_filtered.name\n",
    "latitude = 37.803036\n",
    "longitude = 122.42486\n",
    "venue_id = '51ba997b8bbd6f2322d7d5c5' # ID of our place of interest retrieved from dataframe ID column\n",
    "url = 'https://api.foursquare.com/v2/venues/{}?client_id={}&client_secret={}&v={}'.format(venue_id, CLIENT_ID, CLIENT_SECRET, VERSION)\n",
    "venues_map = folium.Map(location=[latitude, longitude], zoom_start=15) # generate map centred \n",
    "# add Ecco as a red circle mark\n",
    "folium.features.CircleMarker(\n",
    "    [latitude, longitude],\n",
    "    radius=10,\n",
    "    popup='Ecco',\n",
    "    fill=True,\n",
    "    color='red',\n",
    "    fill_color='red',\n",
    "    fill_opacity=0.6\n",
    "    ).add_to(venues_map)"
   ]
  },
  {
   "cell_type": "markdown",
   "metadata": {},
   "source": [
    "For this report, a map centered around San Francisco where our Vegan restaurant was located  with coordinate latitude = 37.803036\n",
    "longitude = 122.42486 by Foursquare."
   ]
  },
  {
   "cell_type": "code",
   "execution_count": 55,
   "metadata": {},
   "outputs": [
    {
     "data": {
      "text/html": [
       "<div style=\"width:100%;\"><div style=\"position:relative;width:100%;height:0;padding-bottom:60%;\"><span style=\"color:#565656\">Make this Notebook Trusted to load map: File -> Trust Notebook</span><iframe src=\"about:blank\" style=\"position:absolute;width:100%;height:100%;left:0;top:0;border:none !important;\" data-html=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 onload=\"this.contentDocument.open();this.contentDocument.write(atob(this.getAttribute('data-html')));this.contentDocument.close();\" allowfullscreen webkitallowfullscreen mozallowfullscreen></iframe></div></div>"
      ],
      "text/plain": [
       "<folium.folium.Map at 0x7f7e40a82f28>"
      ]
     },
     "execution_count": 55,
     "metadata": {},
     "output_type": "execute_result"
    }
   ],
   "source": [
    "vegan_map = folium.Map(location=[37.774929, -122.419418], zoom_start=14) \n",
    "vegan_map"
   ]
  },
  {
   "cell_type": "markdown",
   "metadata": {},
   "source": [
    "STAMEN TERRAIN are maps that feature hill shading and natural vegetation colors.  Now the the relevant District markers are added to the map with the dataframe data. I chose the Stamen Terrain map because terrain and environment are important elements for contextual analysis of the data."
   ]
  },
  {
   "cell_type": "code",
   "execution_count": 56,
   "metadata": {},
   "outputs": [
    {
     "name": "stdout",
     "output_type": "stream",
     "text": [
      "Dataset downloaded and read into a pandas dataframe!\n"
     ]
    }
   ],
   "source": [
    "df_incidents = pd.read_csv('https://s3-api.us-geo.objectstorage.softlayer.net/cf-courses-data/CognitiveClass/DV0101EN/labs/Data_Files/Police_Department_Incidents_-_Previous_Year__2016_.csv')\n",
    "filename = \"https://s3-api.us-geo.objectstorage.softlayer.net/cf-courses-data/CognitiveClass/DV0101EN/labs/Data_Files/Police_Department_Incidents_-_Previous_Year__2016_.csv\"\n",
    "\n",
    "print('Dataset downloaded and read into a pandas dataframe!')\n",
    "df = df_incidents\n",
    "#\n",
    "#headers = [\"IncidntNum\",\"Category\",\"Descript\",\"DayOfWeek\",\"Date\",\"Time\",\"Field\",\"Desc\",\"Date\",\"District\",\"X\", \"Y\",\"Location\"]\n",
    "#df_map = pd.read_csv(filename, names = headers)\n",
    "# Keep only columns to use\n",
    "\n",
    "df_incidents.drop ('IncidntNum', axis = 1, inplace =True)\n",
    "df_incidents.drop ('DayOfWeek', axis = 1, inplace =True)\n",
    "df_incidents.drop ('Time', axis = 1, inplace =True)\n",
    "df_incidents.drop ('Address', axis = 1, inplace =True)\n",
    "df_incidents.drop ('PdId', axis = 1, inplace =True)\n",
    "df_incidents.drop ('Resolution', axis = 1, inplace =True)\n",
    "df_incidents.drop ('Date', axis = 1, inplace =True)\n",
    "#\n",
    "#df_map.drop ('IncidntNum', axis = 1, inplace =True)\n",
    "#df_map.drop ('DayOfWeek', axis = 1, inplace =True)\n",
    "#df_map.drop ('Time', axis = 1, inplace =True)\n",
    "#df_map.drop ('Address', axis = 1, inplace =True)\n",
    "#df_map.drop ('PdId', axis = 1, inplace =True)\n",
    "#df_map.drop ('Resolution', axis = 1, inplace =True)"
   ]
  },
  {
   "cell_type": "markdown",
   "metadata": {},
   "source": [
    "I started with this data frame and wrangled the data so it was relevant to this project keeping the location lat/lon constant.\n",
    "I removed columns that were not of interest. Wrangling the data here requires replacement of object values in columns Category(changed to technical groups and branches) and District ( changed to organizational district names). The description were left unchanged since these could be similar in context to our work environment."
   ]
  },
  {
   "cell_type": "code",
   "execution_count": 57,
   "metadata": {},
   "outputs": [
    {
     "name": "stdout",
     "output_type": "stream",
     "text": [
      " Original Values in dataframe are listed here\n",
      " Revised dataframe follows:\n"
     ]
    },
    {
     "data": {
      "text/html": [
       "<div>\n",
       "<style scoped>\n",
       "    .dataframe tbody tr th:only-of-type {\n",
       "        vertical-align: middle;\n",
       "    }\n",
       "\n",
       "    .dataframe tbody tr th {\n",
       "        vertical-align: top;\n",
       "    }\n",
       "\n",
       "    .dataframe thead th {\n",
       "        text-align: right;\n",
       "    }\n",
       "</style>\n",
       "<table border=\"1\" class=\"dataframe\">\n",
       "  <thead>\n",
       "    <tr style=\"text-align: right;\">\n",
       "      <th></th>\n",
       "      <th>Category</th>\n",
       "      <th>Descript</th>\n",
       "      <th>PdDistrict</th>\n",
       "      <th>X</th>\n",
       "      <th>Y</th>\n",
       "      <th>Location</th>\n",
       "    </tr>\n",
       "  </thead>\n",
       "  <tbody>\n",
       "    <tr>\n",
       "      <th>0</th>\n",
       "      <td>MSCOE</td>\n",
       "      <td>POSS OF PROHIBITED WEAPON</td>\n",
       "      <td>D8</td>\n",
       "      <td>-122.403405</td>\n",
       "      <td>37.775421</td>\n",
       "      <td>(37.775420706711, -122.403404791479)</td>\n",
       "    </tr>\n",
       "    <tr>\n",
       "      <th>1</th>\n",
       "      <td>MSCOE</td>\n",
       "      <td>FIREARM, LOADED, IN VEHICLE, POSSESSION OR USE</td>\n",
       "      <td>D8</td>\n",
       "      <td>-122.403405</td>\n",
       "      <td>37.775421</td>\n",
       "      <td>(37.775420706711, -122.403404791479)</td>\n",
       "    </tr>\n",
       "    <tr>\n",
       "      <th>2</th>\n",
       "      <td>SURFACE</td>\n",
       "      <td>WARRANT ARREST</td>\n",
       "      <td>D11</td>\n",
       "      <td>-122.388856</td>\n",
       "      <td>37.729981</td>\n",
       "      <td>(37.7299809672996, -122.388856204292)</td>\n",
       "    </tr>\n",
       "    <tr>\n",
       "      <th>3</th>\n",
       "      <td>AVIATION</td>\n",
       "      <td>LOST PROPERTY</td>\n",
       "      <td>D5</td>\n",
       "      <td>-122.412971</td>\n",
       "      <td>37.785788</td>\n",
       "      <td>(37.7857883766888, -122.412970537591)</td>\n",
       "    </tr>\n",
       "    <tr>\n",
       "      <th>4</th>\n",
       "      <td>AVIATION</td>\n",
       "      <td>LOST PROPERTY</td>\n",
       "      <td>D7</td>\n",
       "      <td>-122.419672</td>\n",
       "      <td>37.765050</td>\n",
       "      <td>(37.7650501214668, -122.419671780296)</td>\n",
       "    </tr>\n",
       "    <tr>\n",
       "      <th>5</th>\n",
       "      <td>Network</td>\n",
       "      <td>BATTERY</td>\n",
       "      <td>D1</td>\n",
       "      <td>-122.426077</td>\n",
       "      <td>37.788019</td>\n",
       "      <td>(37.788018555829, -122.426077177375)</td>\n",
       "    </tr>\n",
       "    <tr>\n",
       "      <th>6</th>\n",
       "      <td>COMMS</td>\n",
       "      <td>PAROLE VIOLATION</td>\n",
       "      <td>D8</td>\n",
       "      <td>-122.405721</td>\n",
       "      <td>37.780879</td>\n",
       "      <td>(37.7808789360214, -122.405721454567)</td>\n",
       "    </tr>\n",
       "    <tr>\n",
       "      <th>7</th>\n",
       "      <td>AVIATION</td>\n",
       "      <td>FIRE REPORT</td>\n",
       "      <td>D5</td>\n",
       "      <td>-122.411778</td>\n",
       "      <td>37.783981</td>\n",
       "      <td>(37.7839805592634, -122.411778295992)</td>\n",
       "    </tr>\n",
       "    <tr>\n",
       "      <th>8</th>\n",
       "      <td>SURFACE</td>\n",
       "      <td>WARRANT ARREST</td>\n",
       "      <td>D8</td>\n",
       "      <td>-122.393357</td>\n",
       "      <td>37.775788</td>\n",
       "      <td>(37.7757876218293, -122.393357241451)</td>\n",
       "    </tr>\n",
       "    <tr>\n",
       "      <th>9</th>\n",
       "      <td>LE</td>\n",
       "      <td>FOUND PERSON</td>\n",
       "      <td>D11</td>\n",
       "      <td>-122.387182</td>\n",
       "      <td>37.720967</td>\n",
       "      <td>(37.7209669615499, -122.387181635995)</td>\n",
       "    </tr>\n",
       "  </tbody>\n",
       "</table>\n",
       "</div>"
      ],
      "text/plain": [
       "   Category                                        Descript PdDistrict  \\\n",
       "0     MSCOE                       POSS OF PROHIBITED WEAPON         D8   \n",
       "1     MSCOE  FIREARM, LOADED, IN VEHICLE, POSSESSION OR USE         D8   \n",
       "2   SURFACE                                  WARRANT ARREST        D11   \n",
       "3  AVIATION                                   LOST PROPERTY         D5   \n",
       "4  AVIATION                                   LOST PROPERTY         D7   \n",
       "5   Network                                         BATTERY         D1   \n",
       "6     COMMS                                PAROLE VIOLATION         D8   \n",
       "7  AVIATION                                     FIRE REPORT         D5   \n",
       "8   SURFACE                                  WARRANT ARREST         D8   \n",
       "9        LE                                    FOUND PERSON        D11   \n",
       "\n",
       "            X          Y                               Location  \n",
       "0 -122.403405  37.775421   (37.775420706711, -122.403404791479)  \n",
       "1 -122.403405  37.775421   (37.775420706711, -122.403404791479)  \n",
       "2 -122.388856  37.729981  (37.7299809672996, -122.388856204292)  \n",
       "3 -122.412971  37.785788  (37.7857883766888, -122.412970537591)  \n",
       "4 -122.419672  37.765050  (37.7650501214668, -122.419671780296)  \n",
       "5 -122.426077  37.788019   (37.788018555829, -122.426077177375)  \n",
       "6 -122.405721  37.780879  (37.7808789360214, -122.405721454567)  \n",
       "7 -122.411778  37.783981  (37.7839805592634, -122.411778295992)  \n",
       "8 -122.393357  37.775788  (37.7757876218293, -122.393357241451)  \n",
       "9 -122.387182  37.720967  (37.7209669615499, -122.387181635995)  "
      ]
     },
     "execution_count": 57,
     "metadata": {},
     "output_type": "execute_result"
    }
   ],
   "source": [
    "print (\" Original Values in dataframe are listed here\")\n",
    "df_incidents.head(20)\n",
    "# Replace data in Districts and Category\n",
    "#headers = [\"Field\",\"Desc\",\"Date\",\"District\",\"X\", \"Y\",\"Location\"]\n",
    "#df_map = pd.read_csv(filename, names = headers)\n",
    "\n",
    "df_incidents.replace({'PdDistrict': {'SOUTHERN': 'D8', 'BAYVIEW': 'D11','MISSION':'D7','TENDERLOIN':'D5','NORTHERN':'D1'}}, inplace=True)\n",
    "df_incidents.replace({'PdDistrict': {'TARAVAL': 'D13', 'CENTRAL': 'D6','INGLESIDE':'D9','PARK':'D4','RICHMOND':'10'}}, inplace=True)\n",
    "\n",
    "df_incidents.replace({'Category': {'WARRANTS': 'SURFACE', 'WEAPON LAWS': 'MSCOE','NON-CRIMINAL':'AVIATION','BURGLARY':'EW'}}, inplace=True)\n",
    "df_incidents.replace({'Category': {'ASSAULT': 'Network', 'OTHER OFFENSES': 'COMMS','ROBBERY':'STIC','FRAUD':'IT'}}, inplace=True)\n",
    "df_incidents.replace({'Category': {'LARCENY/THEFT': 'REACT', 'MISSING PERSON': 'LE','VEHICLE THEFT':'Intel','VANDALISM':'AoA'}}, inplace=True)\n",
    "df_incidents.replace({'Category': {'MISSING PERSON': 'FISHERIES', 'RECOVERED VEHICLE': 'Explore','VEHICLE THEFT':'Intel','VANDALISM':'AoA'}}, inplace=True)\n",
    "df_incidents.replace({'Descript': {'AUTO': 'VESSEL', 'PROPERTY': 'at SEA','FRAUDULENT GAME OR TRICK':'LE'}}, inplace=True)\n",
    "df_incidents.replace({'Descript': {'AUTO': 'VESSEL', 'PROPERTY': 'at SEA','FRAUDULENT GAME OR TRICK':'LE'}}, inplace=True)\n",
    "print(\" Revised dataframe follows:\")\n",
    "df_incidents.head(10)"
   ]
  },
  {
   "cell_type": "markdown",
   "metadata": {},
   "source": [
    "So each row consists of 6 features:\n",
    "\n",
    "> 1. **Category**: Technical Branch\n",
    "> 2. **Descript**: Description of request\n",
    "> 3. **District**: The district of interest\n",
    "\n",
    "> 4. **X**: The longitude value of the crime location \n",
    "> 5. **Y**: The latitude value of the crime location\n",
    "> 6. **Location**: A tuple of the latitude and the longitude values\n",
    "\n",
    "Originally the set contained over 150K rows. The cleaned data set contains 100 rows and 6 columns."
   ]
  },
  {
   "cell_type": "code",
   "execution_count": 58,
   "metadata": {},
   "outputs": [
    {
     "data": {
      "text/plain": [
       "(100, 6)"
      ]
     },
     "execution_count": 58,
     "metadata": {},
     "output_type": "execute_result"
    }
   ],
   "source": [
    "# get the first 100 crimes in the df_incidents dataframe\n",
    "limit = 100\n",
    "df_incidents = df_incidents.iloc[0:limit, :]\n",
    "df_incidents.shape"
   ]
  },
  {
   "cell_type": "markdown",
   "metadata": {},
   "source": [
    "Now that the data is reduced, visualize where events took place in the city of San Francisco by mapping with an initial zoom level = 12."
   ]
  },
  {
   "cell_type": "code",
   "execution_count": 59,
   "metadata": {},
   "outputs": [
    {
     "data": {
      "text/html": [
       "<div style=\"width:100%;\"><div style=\"position:relative;width:100%;height:0;padding-bottom:60%;\"><span style=\"color:#565656\">Make this Notebook Trusted to load map: File -> Trust Notebook</span><iframe src=\"about:blank\" style=\"position:absolute;width:100%;height:100%;left:0;top:0;border:none !important;\" data-html=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 onload=\"this.contentDocument.open();this.contentDocument.write(atob(this.getAttribute('data-html')));this.contentDocument.close();\" allowfullscreen webkitallowfullscreen mozallowfullscreen></iframe></div></div>"
      ],
      "text/plain": [
       "<folium.folium.Map at 0x7f7e2f5b1b00>"
      ]
     },
     "execution_count": 59,
     "metadata": {},
     "output_type": "execute_result"
    }
   ],
   "source": [
    "# San Francisco latitude and longitude values\n",
    "latitude = 37.77\n",
    "longitude = -122.42\n",
    "# create map and display it\n",
    "sanfran_map = folium.Map(location=[latitude, longitude], zoom_start=12)\n",
    "# display the map of San Francisco\n",
    "sanfran_map"
   ]
  },
  {
   "cell_type": "markdown",
   "metadata": {},
   "source": [
    "Now superimpose the locations of district requests onto the map. This is done with feature group definition and poppups on markers indicating which technical group applies. "
   ]
  },
  {
   "cell_type": "code",
   "execution_count": 60,
   "metadata": {},
   "outputs": [
    {
     "data": {
      "text/html": [
       "<div style=\"width:100%;\"><div style=\"position:relative;width:100%;height:0;padding-bottom:60%;\"><span style=\"color:#565656\">Make this Notebook Trusted to load map: File -> Trust Notebook</span><iframe src=\"about:blank\" style=\"position:absolute;width:100%;height:100%;left:0;top:0;border:none !important;\" data-html=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 onload=\"this.contentDocument.open();this.contentDocument.write(atob(this.getAttribute('data-html')));this.contentDocument.close();\" allowfullscreen webkitallowfullscreen mozallowfullscreen></iframe></div></div>"
      ],
      "text/plain": [
       "<folium.folium.Map at 0x7f7e2f5b1b00>"
      ]
     },
     "execution_count": 60,
     "metadata": {},
     "output_type": "execute_result"
    }
   ],
   "source": [
    "# instantiate a feature group for the incidents in the dataframe\n",
    "incidents = folium.map.FeatureGroup()\n",
    "\n",
    "# loop through the 100 crimes and add each to the incidents feature group\n",
    "for lat, lng, in zip(df_incidents.Y, df_incidents.X):\n",
    "    incidents.add_child(\n",
    "        folium.features.CircleMarker(\n",
    "            [lat, lng],\n",
    "            radius=5, # define how big you want the circle markers to be\n",
    "            color='yellow',\n",
    "            fill=True,\n",
    "            fill_color='blue',\n",
    "            fill_opacity=0.6\n",
    "        )\n",
    "    )\n",
    "\n",
    "# add incidents to map\n",
    "sanfran_map.add_child(incidents)\n",
    "# instantiate a feature group for the incidents in the dataframe\n",
    "incidents = folium.map.FeatureGroup()\n",
    "\n",
    "# loop through the 100 crimes and add each to the incidents feature group\n",
    "for lat, lng, in zip(df_incidents.Y, df_incidents.X):\n",
    "    incidents.add_child(\n",
    "        folium.features.CircleMarker(\n",
    "            [lat, lng],\n",
    "            radius=5, # define how big you want the circle markers to be\n",
    "            color='yellow',\n",
    "            fill=True,\n",
    "            fill_color='blue',\n",
    "            fill_opacity=0.6\n",
    "        )\n",
    "    )\n",
    "\n",
    "# add pop-up text to each marker on the map\n",
    "latitudes = list(df_incidents.Y)\n",
    "longitudes = list(df_incidents.X)\n",
    "labels = list(df_incidents.Category)\n",
    "\n",
    "for lat, lng, label in zip(latitudes, longitudes, labels):\n",
    "    folium.Marker([lat, lng], popup=label).add_to(sanfran_map)    \n",
    "    \n",
    "# add incidents to map\n",
    "sanfran_map.add_child(incidents)"
   ]
  },
  {
   "cell_type": "markdown",
   "metadata": {},
   "source": [
    "The markers on this map represents the requests from various districts across the organization. Each marker has a poppup value associated with the relevant technical group that may perform the research work (e.g. Aviation, Law Enforcement, Network, COMMs, etc). This map could be used to provide relevant information to the researchers by understanding the nature of the tasks, the characteriZation of the research as well as any geographic information that could be leveraged."
   ]
  },
  {
   "cell_type": "markdown",
   "metadata": {},
   "source": [
    "# 7. CONCLUSION\n",
    "\n",
    "In this study, I analyzed the relationship between organizational components in the context of Fiscal Year cycle for the research portfolio review. Some ideas or request submitted are put onhold or are executed. Characteristics of the dataset used were limited in terms of the full scope of considerations but were representative of the real-world data. The evaluation metrics of the classifiers were an important part of this work. These results help to guide a path forward for future organizational modeling. \n",
    "The relationships between the categories of data examine revealed percentages of work assigned to specific technical branches as well as types of research work most suited to the technical skill sets of those groups.  The SVM model was the best performer which correctly identified the variety of attributes in the data set to decide target status. This is useful as future work would involve additional variety of idea/request attributes.  \n",
    "\n",
    "# 8. RECOMMENDATIONS\n",
    "\n",
    "Based on the work from this project, I recommend that future studies in this data space be performed. Additional attributes could be included to refine the insights and promote organizational efficiency and effectiveness. This work could also be applied to text and reports to evaluate keyword classification and effectiveness of search mechanisms within the protected database."
   ]
  },
  {
   "cell_type": "markdown",
   "metadata": {
    "button": false,
    "new_sheet": false,
    "run_control": {
     "read_only": false
    }
   },
   "source": [
    "\n"
   ]
  },
  {
   "cell_type": "markdown",
   "metadata": {},
   "source": [
    "\n",
    "   \n"
   ]
  }
 ],
 "metadata": {
  "kernelspec": {
   "display_name": "Python",
   "language": "python",
   "name": "conda-env-python-py"
  },
  "language_info": {
   "codemirror_mode": {
    "name": "ipython",
    "version": 3
   },
   "file_extension": ".py",
   "mimetype": "text/x-python",
   "name": "python",
   "nbconvert_exporter": "python",
   "pygments_lexer": "ipython3",
   "version": "3.6.10"
  }
 },
 "nbformat": 4,
 "nbformat_minor": 4
}
