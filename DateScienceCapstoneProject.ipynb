{
 "cells": [
  {
   "cell_type": "markdown",
   "metadata": {
    "button": false,
    "new_sheet": false,
    "run_control": {
     "read_only": false
    }
   },
   "source": [
    "<a href=\"https://www.bigdatauniversity.com\"><img src=\"https://ibm.box.com/shared/static/cw2c7r3o20w9zn8gkecaeyjhgw3xdgbj.png\" width=\"400\" align=\"center\"></a>\n",
    "\n",
    "<h1 align=\"center\"><font size=\"5\">Classification with Python</font></h1>"
   ]
  },
  {
   "cell_type": "markdown",
   "metadata": {
    "button": false,
    "new_sheet": false,
    "run_control": {
     "read_only": false
    }
   },
   "source": [
    "In this notebook we try to practice all the classification algorithms that we learned in this course.\n",
    "\n",
    "We load a dataset using Pandas library, and apply the following algorithms, and find the best one for this specific dataset by accuracy evaluation methods.\n",
    "\n",
    "Lets first load required libraries:"
   ]
  },
  {
   "cell_type": "code",
   "execution_count": null,
   "metadata": {
    "button": false,
    "new_sheet": false,
    "run_control": {
     "read_only": false
    }
   },
   "outputs": [],
   "source": [
    "## Import all the tools needed\n",
    "import itertools\n",
    "import numpy as np\n",
    "import matplotlib.pyplot as plt\n",
    "from matplotlib.ticker import NullFormatter\n",
    "#\n",
    "import pandas as pd\n",
    "import numpy as np\n",
    "#\n",
    "import matplotlib.ticker as ticker\n",
    "from sklearn import preprocessing\n",
    "%matplotlib inline\n",
    "#\n",
    "import pylab as pl\n",
    "import scipy.optimize as opt\n",
    "from sklearn.model_selection import train_test_split\n",
    "!conda install -c anaconda seaborn -y"
   ]
  },
  {
   "cell_type": "markdown",
   "metadata": {
    "button": false,
    "new_sheet": false,
    "run_control": {
     "read_only": false
    }
   },
   "source": [
    "### About dataset"
   ]
  },
  {
   "cell_type": "markdown",
   "metadata": {
    "button": false,
    "new_sheet": false,
    "run_control": {
     "read_only": false
    }
   },
   "source": [
    "This data is organically generated from real world characteristics. The                                                              |"
   ]
  },
  {
   "cell_type": "markdown",
   "metadata": {
    "button": false,
    "new_sheet": false,
    "run_control": {
     "read_only": false
    }
   },
   "source": [
    "Lets download the dataset"
   ]
  },
  {
   "cell_type": "code",
   "execution_count": 26,
   "metadata": {
    "button": false,
    "new_sheet": false,
    "run_control": {
     "read_only": false
    }
   },
   "outputs": [
    {
     "name": "stdout",
     "output_type": "stream",
     "text": [
      "--2020-05-23 17:07:37--  https://s3-api.us-geo.objectstorage.softlayer.net/cf-courses-data/CognitiveClass/ML0101ENv3/labs/loan_train.csv\n",
      "Resolving s3-api.us-geo.objectstorage.softlayer.net (s3-api.us-geo.objectstorage.softlayer.net)... 67.228.254.196\n",
      "Connecting to s3-api.us-geo.objectstorage.softlayer.net (s3-api.us-geo.objectstorage.softlayer.net)|67.228.254.196|:443... connected.\n",
      "HTTP request sent, awaiting response... 200 OK\n",
      "Length: 23101 (23K) [text/csv]\n",
      "Saving to: ‘loan_train.csv’\n",
      "\n",
      "loan_train.csv      100%[===================>]  22.56K  --.-KB/s    in 0.02s   \n",
      "\n",
      "2020-05-23 17:07:37 (1.12 MB/s) - ‘loan_train.csv’ saved [23101/23101]\n",
      "\n"
     ]
    }
   ],
   "source": [
    "!wget -O loan_train.csv https://s3-api.us-geo.objectstorage.softlayer.net/cf-courses-data/CognitiveClass/ML0101ENv3/labs/loan_train.csv\n",
    "filename = \"https://s3-api.us-geo.objectstorage.softlayer.net/cf-courses-data/CognitiveClass/ML0101ENv3/labs/loan_train.csv\""
   ]
  },
  {
   "cell_type": "markdown",
   "metadata": {
    "button": false,
    "new_sheet": false,
    "run_control": {
     "read_only": false
    }
   },
   "source": [
    "### Load Data From CSV File  "
   ]
  },
  {
   "cell_type": "code",
   "execution_count": 30,
   "metadata": {
    "button": false,
    "new_sheet": false,
    "run_control": {
     "read_only": false
    }
   },
   "outputs": [
    {
     "data": {
      "text/html": [
       "<div>\n",
       "<style scoped>\n",
       "    .dataframe tbody tr th:only-of-type {\n",
       "        vertical-align: middle;\n",
       "    }\n",
       "\n",
       "    .dataframe tbody tr th {\n",
       "        vertical-align: top;\n",
       "    }\n",
       "\n",
       "    .dataframe thead th {\n",
       "        text-align: right;\n",
       "    }\n",
       "</style>\n",
       "<table border=\"1\" class=\"dataframe\">\n",
       "  <thead>\n",
       "    <tr style=\"text-align: right;\">\n",
       "      <th></th>\n",
       "      <th>UDI1</th>\n",
       "      <th>UDI2</th>\n",
       "      <th>FYHold</th>\n",
       "      <th>FUNDS</th>\n",
       "      <th>Months</th>\n",
       "      <th>effective_date</th>\n",
       "      <th>due_date</th>\n",
       "      <th>Score</th>\n",
       "      <th>Group</th>\n",
       "      <th>ORG</th>\n",
       "    </tr>\n",
       "  </thead>\n",
       "  <tbody>\n",
       "    <tr>\n",
       "      <th>0</th>\n",
       "      <td>NaN</td>\n",
       "      <td>Unnamed: 0</td>\n",
       "      <td>loan_status</td>\n",
       "      <td>Principal</td>\n",
       "      <td>terms</td>\n",
       "      <td>effective_date</td>\n",
       "      <td>due_date</td>\n",
       "      <td>age</td>\n",
       "      <td>education</td>\n",
       "      <td>Gender</td>\n",
       "    </tr>\n",
       "    <tr>\n",
       "      <th>1</th>\n",
       "      <td>0.0</td>\n",
       "      <td>0</td>\n",
       "      <td>PAIDOFF</td>\n",
       "      <td>1000</td>\n",
       "      <td>30</td>\n",
       "      <td>9/8/2016</td>\n",
       "      <td>10/7/2016</td>\n",
       "      <td>45</td>\n",
       "      <td>High School or Below</td>\n",
       "      <td>male</td>\n",
       "    </tr>\n",
       "    <tr>\n",
       "      <th>2</th>\n",
       "      <td>2.0</td>\n",
       "      <td>2</td>\n",
       "      <td>PAIDOFF</td>\n",
       "      <td>1000</td>\n",
       "      <td>30</td>\n",
       "      <td>9/8/2016</td>\n",
       "      <td>10/7/2016</td>\n",
       "      <td>33</td>\n",
       "      <td>Bechalor</td>\n",
       "      <td>female</td>\n",
       "    </tr>\n",
       "    <tr>\n",
       "      <th>3</th>\n",
       "      <td>3.0</td>\n",
       "      <td>3</td>\n",
       "      <td>PAIDOFF</td>\n",
       "      <td>1000</td>\n",
       "      <td>15</td>\n",
       "      <td>9/8/2016</td>\n",
       "      <td>9/22/2016</td>\n",
       "      <td>27</td>\n",
       "      <td>college</td>\n",
       "      <td>male</td>\n",
       "    </tr>\n",
       "    <tr>\n",
       "      <th>4</th>\n",
       "      <td>4.0</td>\n",
       "      <td>4</td>\n",
       "      <td>PAIDOFF</td>\n",
       "      <td>1000</td>\n",
       "      <td>30</td>\n",
       "      <td>9/9/2016</td>\n",
       "      <td>10/8/2016</td>\n",
       "      <td>28</td>\n",
       "      <td>college</td>\n",
       "      <td>female</td>\n",
       "    </tr>\n",
       "    <tr>\n",
       "      <th>...</th>\n",
       "      <td>...</td>\n",
       "      <td>...</td>\n",
       "      <td>...</td>\n",
       "      <td>...</td>\n",
       "      <td>...</td>\n",
       "      <td>...</td>\n",
       "      <td>...</td>\n",
       "      <td>...</td>\n",
       "      <td>...</td>\n",
       "      <td>...</td>\n",
       "    </tr>\n",
       "    <tr>\n",
       "      <th>342</th>\n",
       "      <td>394.0</td>\n",
       "      <td>394</td>\n",
       "      <td>COLLECTION</td>\n",
       "      <td>800</td>\n",
       "      <td>15</td>\n",
       "      <td>9/11/2016</td>\n",
       "      <td>9/25/2016</td>\n",
       "      <td>32</td>\n",
       "      <td>High School or Below</td>\n",
       "      <td>male</td>\n",
       "    </tr>\n",
       "    <tr>\n",
       "      <th>343</th>\n",
       "      <td>395.0</td>\n",
       "      <td>395</td>\n",
       "      <td>COLLECTION</td>\n",
       "      <td>1000</td>\n",
       "      <td>30</td>\n",
       "      <td>9/11/2016</td>\n",
       "      <td>10/10/2016</td>\n",
       "      <td>25</td>\n",
       "      <td>High School or Below</td>\n",
       "      <td>male</td>\n",
       "    </tr>\n",
       "    <tr>\n",
       "      <th>344</th>\n",
       "      <td>397.0</td>\n",
       "      <td>397</td>\n",
       "      <td>COLLECTION</td>\n",
       "      <td>800</td>\n",
       "      <td>15</td>\n",
       "      <td>9/12/2016</td>\n",
       "      <td>9/26/2016</td>\n",
       "      <td>39</td>\n",
       "      <td>college</td>\n",
       "      <td>male</td>\n",
       "    </tr>\n",
       "    <tr>\n",
       "      <th>345</th>\n",
       "      <td>398.0</td>\n",
       "      <td>398</td>\n",
       "      <td>COLLECTION</td>\n",
       "      <td>1000</td>\n",
       "      <td>30</td>\n",
       "      <td>9/12/2016</td>\n",
       "      <td>11/10/2016</td>\n",
       "      <td>28</td>\n",
       "      <td>college</td>\n",
       "      <td>male</td>\n",
       "    </tr>\n",
       "    <tr>\n",
       "      <th>346</th>\n",
       "      <td>399.0</td>\n",
       "      <td>399</td>\n",
       "      <td>COLLECTION</td>\n",
       "      <td>1000</td>\n",
       "      <td>30</td>\n",
       "      <td>9/12/2016</td>\n",
       "      <td>10/11/2016</td>\n",
       "      <td>26</td>\n",
       "      <td>college</td>\n",
       "      <td>male</td>\n",
       "    </tr>\n",
       "  </tbody>\n",
       "</table>\n",
       "<p>347 rows × 10 columns</p>\n",
       "</div>"
      ],
      "text/plain": [
       "      UDI1        UDI2       FYHold      FUNDS Months  effective_date  \\\n",
       "0      NaN  Unnamed: 0  loan_status  Principal  terms  effective_date   \n",
       "1      0.0           0      PAIDOFF       1000     30        9/8/2016   \n",
       "2      2.0           2      PAIDOFF       1000     30        9/8/2016   \n",
       "3      3.0           3      PAIDOFF       1000     15        9/8/2016   \n",
       "4      4.0           4      PAIDOFF       1000     30        9/9/2016   \n",
       "..     ...         ...          ...        ...    ...             ...   \n",
       "342  394.0         394   COLLECTION        800     15       9/11/2016   \n",
       "343  395.0         395   COLLECTION       1000     30       9/11/2016   \n",
       "344  397.0         397   COLLECTION        800     15       9/12/2016   \n",
       "345  398.0         398   COLLECTION       1000     30       9/12/2016   \n",
       "346  399.0         399   COLLECTION       1000     30       9/12/2016   \n",
       "\n",
       "       due_date Score                 Group     ORG  \n",
       "0      due_date   age             education  Gender  \n",
       "1     10/7/2016    45  High School or Below    male  \n",
       "2     10/7/2016    33              Bechalor  female  \n",
       "3     9/22/2016    27               college    male  \n",
       "4     10/8/2016    28               college  female  \n",
       "..          ...   ...                   ...     ...  \n",
       "342   9/25/2016    32  High School or Below    male  \n",
       "343  10/10/2016    25  High School or Below    male  \n",
       "344   9/26/2016    39               college    male  \n",
       "345  11/10/2016    28               college    male  \n",
       "346  10/11/2016    26               college    male  \n",
       "\n",
       "[347 rows x 10 columns]"
      ]
     },
     "execution_count": 30,
     "metadata": {},
     "output_type": "execute_result"
    }
   ],
   "source": [
    "# Read in, copy and preserve original\n",
    "df = pd.read_csv('loan_train.csv')\n",
    "df\n",
    "df_rdc = df\n",
    "df_rdc\n",
    "# Dump file\n",
    "#df = pd.read_csv(filename, names = headers)\n",
    "headers = [\"UDI1\",\"UDI2\",\"FYHold\",\"FUNDS\",\"Months\", \"effective_date\",\"due_date\",\"Score\",\"Group\",\"ORG\"]\n",
    "df_newhead = pd.read_csv(filename, names = headers)\n",
    "df_newhead"
   ]
  },
  {
   "cell_type": "code",
   "execution_count": 36,
   "metadata": {},
   "outputs": [
    {
     "name": "stdout",
     "output_type": "stream",
     "text": [
      "Min score 18\n",
      "Max Score 51\n"
     ]
    },
    {
     "data": {
      "text/plain": [
       "onhold    260\n",
       "FY         86\n",
       "Name: FYHold, dtype: int64"
      ]
     },
     "execution_count": 36,
     "metadata": {},
     "output_type": "execute_result"
    }
   ],
   "source": [
    "## Make relevant data to our work\n",
    "#Drop row with NaN and float scorevalue, average score is normalized\n",
    "df_newhead.dropna(subset=[\"UDI1\"], axis=0, inplace=True)\n",
    "df_newhead[\"Score\"]=df_newhead[\"Score\"].astype(\"float\")\n",
    "\n",
    "##. Here are the headers = [\"UDI1\",\"UDI2\",\"FYHold\",\"FUNDS\",\"Months\", \"effective_date\",\"due_date\",\"Score\",\"Group\",\"ORG\"]\n",
    "df_rdc.replace({'loan_status': {'PAIDOFF': 'onhold', 'COLLECTION': 'FY'}}, inplace=True)\n",
    "df_newhead.replace({'FYhold': {'PAIDOFF': 'onhold', 'COLLECTION': 'FY'}}, inplace=True)\n",
    "\n",
    "\n",
    "df_rdc.replace({'education': {'High School or Below': 'MSCOE', 'Bechalor': 'AVIATION','college':'STIC', 'Master or Above':'Surface'}},inplace=True)\n",
    "df_newhead.replace({'Group': {'High School or Below': 'MSCOE', 'Bechalor': 'AVIATION','college':'STIC', 'Master or Above':'Surface'}},inplace=True)\n",
    "\n",
    "## Terms is 1 or 2 year execution\n",
    "df_rdc.replace({'terms': {15: 24, 30: 12}},inplace=True)\n",
    "df_newhead.replace({'Months': {15: 24, 30: 12}},inplace=True)\n",
    "\n",
    "df_rdc.replace({'Gender': {'male': 'RDC', 'female': 'OPS'}},inplace=True)\n",
    "df_newhead.replace({'ORG': {'male': 'RDC', 'female': 'OPS'}},inplace=True)\n",
    "df_newhead.replace({'Months': {15: 24, 30: 12}},inplace=True)\n",
    "\n",
    "#\n",
    "# Convert mpg to L/100km by mathematical operation (235 divided by mpg)\n",
    "#df_rdc['city-L/100km'] = 235/df[\"city-mpg\"]\n",
    "df_rdc.age.max()\n",
    "df_rdc.age.min()\n",
    "df_newhead.Score.max()\n",
    "df_newhead.Score.min()\n",
    "print (\"Min score\",df_rdc.age.min())\n",
    "print (\"Max Score\", df_rdc.age.max())\n",
    "#print (\"Min score\",df_newhead.Score.min())\n",
    "#print (\"Max Score\",df_newhead.Score.max())\n",
    "df_newhead.head(30)\n",
    "df_newhead['FYHold'].value_counts()"
   ]
  },
  {
   "cell_type": "code",
   "execution_count": 37,
   "metadata": {},
   "outputs": [
    {
     "data": {
      "text/html": [
       "<div>\n",
       "<style scoped>\n",
       "    .dataframe tbody tr th:only-of-type {\n",
       "        vertical-align: middle;\n",
       "    }\n",
       "\n",
       "    .dataframe tbody tr th {\n",
       "        vertical-align: top;\n",
       "    }\n",
       "\n",
       "    .dataframe thead th {\n",
       "        text-align: right;\n",
       "    }\n",
       "</style>\n",
       "<table border=\"1\" class=\"dataframe\">\n",
       "  <thead>\n",
       "    <tr style=\"text-align: right;\">\n",
       "      <th></th>\n",
       "      <th>UDI1</th>\n",
       "      <th>UDI2</th>\n",
       "      <th>FYHold</th>\n",
       "      <th>FUNDS</th>\n",
       "      <th>Months</th>\n",
       "      <th>effective_date</th>\n",
       "      <th>due_date</th>\n",
       "      <th>Score</th>\n",
       "      <th>Group</th>\n",
       "      <th>ORG</th>\n",
       "    </tr>\n",
       "  </thead>\n",
       "  <tbody>\n",
       "    <tr>\n",
       "      <th>1</th>\n",
       "      <td>0.0</td>\n",
       "      <td>0</td>\n",
       "      <td>onhold</td>\n",
       "      <td>1000</td>\n",
       "      <td>30</td>\n",
       "      <td>9/8/2016</td>\n",
       "      <td>10/7/2016</td>\n",
       "      <td>45.0</td>\n",
       "      <td>MSCOE</td>\n",
       "      <td>RDC</td>\n",
       "    </tr>\n",
       "    <tr>\n",
       "      <th>2</th>\n",
       "      <td>2.0</td>\n",
       "      <td>2</td>\n",
       "      <td>onhold</td>\n",
       "      <td>1000</td>\n",
       "      <td>30</td>\n",
       "      <td>9/8/2016</td>\n",
       "      <td>10/7/2016</td>\n",
       "      <td>33.0</td>\n",
       "      <td>AVIATION</td>\n",
       "      <td>OPS</td>\n",
       "    </tr>\n",
       "    <tr>\n",
       "      <th>3</th>\n",
       "      <td>3.0</td>\n",
       "      <td>3</td>\n",
       "      <td>onhold</td>\n",
       "      <td>1000</td>\n",
       "      <td>15</td>\n",
       "      <td>9/8/2016</td>\n",
       "      <td>9/22/2016</td>\n",
       "      <td>27.0</td>\n",
       "      <td>STIC</td>\n",
       "      <td>RDC</td>\n",
       "    </tr>\n",
       "    <tr>\n",
       "      <th>4</th>\n",
       "      <td>4.0</td>\n",
       "      <td>4</td>\n",
       "      <td>onhold</td>\n",
       "      <td>1000</td>\n",
       "      <td>30</td>\n",
       "      <td>9/9/2016</td>\n",
       "      <td>10/8/2016</td>\n",
       "      <td>28.0</td>\n",
       "      <td>STIC</td>\n",
       "      <td>OPS</td>\n",
       "    </tr>\n",
       "    <tr>\n",
       "      <th>5</th>\n",
       "      <td>6.0</td>\n",
       "      <td>6</td>\n",
       "      <td>onhold</td>\n",
       "      <td>1000</td>\n",
       "      <td>30</td>\n",
       "      <td>9/9/2016</td>\n",
       "      <td>10/8/2016</td>\n",
       "      <td>29.0</td>\n",
       "      <td>STIC</td>\n",
       "      <td>RDC</td>\n",
       "    </tr>\n",
       "    <tr>\n",
       "      <th>6</th>\n",
       "      <td>7.0</td>\n",
       "      <td>7</td>\n",
       "      <td>onhold</td>\n",
       "      <td>1000</td>\n",
       "      <td>30</td>\n",
       "      <td>9/9/2016</td>\n",
       "      <td>10/8/2016</td>\n",
       "      <td>36.0</td>\n",
       "      <td>STIC</td>\n",
       "      <td>RDC</td>\n",
       "    </tr>\n",
       "    <tr>\n",
       "      <th>7</th>\n",
       "      <td>8.0</td>\n",
       "      <td>8</td>\n",
       "      <td>onhold</td>\n",
       "      <td>1000</td>\n",
       "      <td>30</td>\n",
       "      <td>9/9/2016</td>\n",
       "      <td>10/8/2016</td>\n",
       "      <td>28.0</td>\n",
       "      <td>STIC</td>\n",
       "      <td>RDC</td>\n",
       "    </tr>\n",
       "    <tr>\n",
       "      <th>8</th>\n",
       "      <td>9.0</td>\n",
       "      <td>9</td>\n",
       "      <td>onhold</td>\n",
       "      <td>800</td>\n",
       "      <td>15</td>\n",
       "      <td>9/10/2016</td>\n",
       "      <td>9/24/2016</td>\n",
       "      <td>26.0</td>\n",
       "      <td>STIC</td>\n",
       "      <td>RDC</td>\n",
       "    </tr>\n",
       "    <tr>\n",
       "      <th>9</th>\n",
       "      <td>10.0</td>\n",
       "      <td>10</td>\n",
       "      <td>onhold</td>\n",
       "      <td>300</td>\n",
       "      <td>7</td>\n",
       "      <td>9/10/2016</td>\n",
       "      <td>9/16/2016</td>\n",
       "      <td>29.0</td>\n",
       "      <td>STIC</td>\n",
       "      <td>RDC</td>\n",
       "    </tr>\n",
       "    <tr>\n",
       "      <th>10</th>\n",
       "      <td>11.0</td>\n",
       "      <td>11</td>\n",
       "      <td>onhold</td>\n",
       "      <td>1000</td>\n",
       "      <td>15</td>\n",
       "      <td>9/10/2016</td>\n",
       "      <td>10/9/2016</td>\n",
       "      <td>39.0</td>\n",
       "      <td>MSCOE</td>\n",
       "      <td>RDC</td>\n",
       "    </tr>\n",
       "    <tr>\n",
       "      <th>11</th>\n",
       "      <td>12.0</td>\n",
       "      <td>12</td>\n",
       "      <td>onhold</td>\n",
       "      <td>1000</td>\n",
       "      <td>30</td>\n",
       "      <td>9/10/2016</td>\n",
       "      <td>10/9/2016</td>\n",
       "      <td>26.0</td>\n",
       "      <td>STIC</td>\n",
       "      <td>RDC</td>\n",
       "    </tr>\n",
       "    <tr>\n",
       "      <th>12</th>\n",
       "      <td>13.0</td>\n",
       "      <td>13</td>\n",
       "      <td>onhold</td>\n",
       "      <td>900</td>\n",
       "      <td>7</td>\n",
       "      <td>9/10/2016</td>\n",
       "      <td>9/16/2016</td>\n",
       "      <td>26.0</td>\n",
       "      <td>STIC</td>\n",
       "      <td>OPS</td>\n",
       "    </tr>\n",
       "    <tr>\n",
       "      <th>13</th>\n",
       "      <td>14.0</td>\n",
       "      <td>14</td>\n",
       "      <td>onhold</td>\n",
       "      <td>1000</td>\n",
       "      <td>7</td>\n",
       "      <td>9/10/2016</td>\n",
       "      <td>9/16/2016</td>\n",
       "      <td>27.0</td>\n",
       "      <td>MSCOE</td>\n",
       "      <td>RDC</td>\n",
       "    </tr>\n",
       "    <tr>\n",
       "      <th>14</th>\n",
       "      <td>15.0</td>\n",
       "      <td>15</td>\n",
       "      <td>onhold</td>\n",
       "      <td>800</td>\n",
       "      <td>15</td>\n",
       "      <td>9/10/2016</td>\n",
       "      <td>9/24/2016</td>\n",
       "      <td>26.0</td>\n",
       "      <td>STIC</td>\n",
       "      <td>RDC</td>\n",
       "    </tr>\n",
       "    <tr>\n",
       "      <th>15</th>\n",
       "      <td>16.0</td>\n",
       "      <td>16</td>\n",
       "      <td>onhold</td>\n",
       "      <td>1000</td>\n",
       "      <td>30</td>\n",
       "      <td>9/10/2016</td>\n",
       "      <td>10/9/2016</td>\n",
       "      <td>40.0</td>\n",
       "      <td>MSCOE</td>\n",
       "      <td>RDC</td>\n",
       "    </tr>\n",
       "    <tr>\n",
       "      <th>16</th>\n",
       "      <td>17.0</td>\n",
       "      <td>17</td>\n",
       "      <td>onhold</td>\n",
       "      <td>1000</td>\n",
       "      <td>15</td>\n",
       "      <td>9/10/2016</td>\n",
       "      <td>9/24/2016</td>\n",
       "      <td>32.0</td>\n",
       "      <td>MSCOE</td>\n",
       "      <td>RDC</td>\n",
       "    </tr>\n",
       "    <tr>\n",
       "      <th>17</th>\n",
       "      <td>18.0</td>\n",
       "      <td>18</td>\n",
       "      <td>onhold</td>\n",
       "      <td>1000</td>\n",
       "      <td>30</td>\n",
       "      <td>9/10/2016</td>\n",
       "      <td>10/9/2016</td>\n",
       "      <td>32.0</td>\n",
       "      <td>MSCOE</td>\n",
       "      <td>RDC</td>\n",
       "    </tr>\n",
       "    <tr>\n",
       "      <th>18</th>\n",
       "      <td>19.0</td>\n",
       "      <td>19</td>\n",
       "      <td>onhold</td>\n",
       "      <td>800</td>\n",
       "      <td>30</td>\n",
       "      <td>9/10/2016</td>\n",
       "      <td>10/9/2016</td>\n",
       "      <td>26.0</td>\n",
       "      <td>STIC</td>\n",
       "      <td>RDC</td>\n",
       "    </tr>\n",
       "    <tr>\n",
       "      <th>19</th>\n",
       "      <td>20.0</td>\n",
       "      <td>20</td>\n",
       "      <td>onhold</td>\n",
       "      <td>1000</td>\n",
       "      <td>30</td>\n",
       "      <td>9/10/2016</td>\n",
       "      <td>10/9/2016</td>\n",
       "      <td>26.0</td>\n",
       "      <td>STIC</td>\n",
       "      <td>RDC</td>\n",
       "    </tr>\n",
       "    <tr>\n",
       "      <th>20</th>\n",
       "      <td>22.0</td>\n",
       "      <td>22</td>\n",
       "      <td>onhold</td>\n",
       "      <td>1000</td>\n",
       "      <td>30</td>\n",
       "      <td>9/10/2016</td>\n",
       "      <td>10/9/2016</td>\n",
       "      <td>25.0</td>\n",
       "      <td>MSCOE</td>\n",
       "      <td>RDC</td>\n",
       "    </tr>\n",
       "    <tr>\n",
       "      <th>21</th>\n",
       "      <td>23.0</td>\n",
       "      <td>23</td>\n",
       "      <td>onhold</td>\n",
       "      <td>1000</td>\n",
       "      <td>15</td>\n",
       "      <td>9/10/2016</td>\n",
       "      <td>9/24/2016</td>\n",
       "      <td>26.0</td>\n",
       "      <td>STIC</td>\n",
       "      <td>RDC</td>\n",
       "    </tr>\n",
       "    <tr>\n",
       "      <th>22</th>\n",
       "      <td>25.0</td>\n",
       "      <td>25</td>\n",
       "      <td>onhold</td>\n",
       "      <td>1000</td>\n",
       "      <td>30</td>\n",
       "      <td>9/10/2016</td>\n",
       "      <td>10/9/2016</td>\n",
       "      <td>29.0</td>\n",
       "      <td>MSCOE</td>\n",
       "      <td>RDC</td>\n",
       "    </tr>\n",
       "    <tr>\n",
       "      <th>23</th>\n",
       "      <td>26.0</td>\n",
       "      <td>26</td>\n",
       "      <td>onhold</td>\n",
       "      <td>800</td>\n",
       "      <td>15</td>\n",
       "      <td>9/10/2016</td>\n",
       "      <td>9/24/2016</td>\n",
       "      <td>39.0</td>\n",
       "      <td>AVIATION</td>\n",
       "      <td>RDC</td>\n",
       "    </tr>\n",
       "    <tr>\n",
       "      <th>24</th>\n",
       "      <td>27.0</td>\n",
       "      <td>27</td>\n",
       "      <td>onhold</td>\n",
       "      <td>1000</td>\n",
       "      <td>15</td>\n",
       "      <td>9/10/2016</td>\n",
       "      <td>9/24/2016</td>\n",
       "      <td>34.0</td>\n",
       "      <td>AVIATION</td>\n",
       "      <td>RDC</td>\n",
       "    </tr>\n",
       "    <tr>\n",
       "      <th>25</th>\n",
       "      <td>28.0</td>\n",
       "      <td>28</td>\n",
       "      <td>onhold</td>\n",
       "      <td>1000</td>\n",
       "      <td>30</td>\n",
       "      <td>9/11/2016</td>\n",
       "      <td>10/10/2016</td>\n",
       "      <td>31.0</td>\n",
       "      <td>STIC</td>\n",
       "      <td>RDC</td>\n",
       "    </tr>\n",
       "    <tr>\n",
       "      <th>26</th>\n",
       "      <td>29.0</td>\n",
       "      <td>29</td>\n",
       "      <td>onhold</td>\n",
       "      <td>1000</td>\n",
       "      <td>30</td>\n",
       "      <td>9/11/2016</td>\n",
       "      <td>10/10/2016</td>\n",
       "      <td>33.0</td>\n",
       "      <td>STIC</td>\n",
       "      <td>RDC</td>\n",
       "    </tr>\n",
       "    <tr>\n",
       "      <th>27</th>\n",
       "      <td>30.0</td>\n",
       "      <td>30</td>\n",
       "      <td>onhold</td>\n",
       "      <td>800</td>\n",
       "      <td>15</td>\n",
       "      <td>9/11/2016</td>\n",
       "      <td>9/25/2016</td>\n",
       "      <td>33.0</td>\n",
       "      <td>MSCOE</td>\n",
       "      <td>RDC</td>\n",
       "    </tr>\n",
       "    <tr>\n",
       "      <th>28</th>\n",
       "      <td>31.0</td>\n",
       "      <td>31</td>\n",
       "      <td>onhold</td>\n",
       "      <td>1000</td>\n",
       "      <td>30</td>\n",
       "      <td>9/11/2016</td>\n",
       "      <td>10/10/2016</td>\n",
       "      <td>37.0</td>\n",
       "      <td>STIC</td>\n",
       "      <td>RDC</td>\n",
       "    </tr>\n",
       "    <tr>\n",
       "      <th>29</th>\n",
       "      <td>32.0</td>\n",
       "      <td>32</td>\n",
       "      <td>onhold</td>\n",
       "      <td>1000</td>\n",
       "      <td>30</td>\n",
       "      <td>9/11/2016</td>\n",
       "      <td>10/10/2016</td>\n",
       "      <td>27.0</td>\n",
       "      <td>STIC</td>\n",
       "      <td>RDC</td>\n",
       "    </tr>\n",
       "    <tr>\n",
       "      <th>30</th>\n",
       "      <td>33.0</td>\n",
       "      <td>33</td>\n",
       "      <td>onhold</td>\n",
       "      <td>1000</td>\n",
       "      <td>30</td>\n",
       "      <td>9/11/2016</td>\n",
       "      <td>10/10/2016</td>\n",
       "      <td>37.0</td>\n",
       "      <td>STIC</td>\n",
       "      <td>RDC</td>\n",
       "    </tr>\n",
       "  </tbody>\n",
       "</table>\n",
       "</div>"
      ],
      "text/plain": [
       "    UDI1 UDI2  FYHold FUNDS Months effective_date    due_date  Score  \\\n",
       "1    0.0    0  onhold  1000     30       9/8/2016   10/7/2016   45.0   \n",
       "2    2.0    2  onhold  1000     30       9/8/2016   10/7/2016   33.0   \n",
       "3    3.0    3  onhold  1000     15       9/8/2016   9/22/2016   27.0   \n",
       "4    4.0    4  onhold  1000     30       9/9/2016   10/8/2016   28.0   \n",
       "5    6.0    6  onhold  1000     30       9/9/2016   10/8/2016   29.0   \n",
       "6    7.0    7  onhold  1000     30       9/9/2016   10/8/2016   36.0   \n",
       "7    8.0    8  onhold  1000     30       9/9/2016   10/8/2016   28.0   \n",
       "8    9.0    9  onhold   800     15      9/10/2016   9/24/2016   26.0   \n",
       "9   10.0   10  onhold   300      7      9/10/2016   9/16/2016   29.0   \n",
       "10  11.0   11  onhold  1000     15      9/10/2016   10/9/2016   39.0   \n",
       "11  12.0   12  onhold  1000     30      9/10/2016   10/9/2016   26.0   \n",
       "12  13.0   13  onhold   900      7      9/10/2016   9/16/2016   26.0   \n",
       "13  14.0   14  onhold  1000      7      9/10/2016   9/16/2016   27.0   \n",
       "14  15.0   15  onhold   800     15      9/10/2016   9/24/2016   26.0   \n",
       "15  16.0   16  onhold  1000     30      9/10/2016   10/9/2016   40.0   \n",
       "16  17.0   17  onhold  1000     15      9/10/2016   9/24/2016   32.0   \n",
       "17  18.0   18  onhold  1000     30      9/10/2016   10/9/2016   32.0   \n",
       "18  19.0   19  onhold   800     30      9/10/2016   10/9/2016   26.0   \n",
       "19  20.0   20  onhold  1000     30      9/10/2016   10/9/2016   26.0   \n",
       "20  22.0   22  onhold  1000     30      9/10/2016   10/9/2016   25.0   \n",
       "21  23.0   23  onhold  1000     15      9/10/2016   9/24/2016   26.0   \n",
       "22  25.0   25  onhold  1000     30      9/10/2016   10/9/2016   29.0   \n",
       "23  26.0   26  onhold   800     15      9/10/2016   9/24/2016   39.0   \n",
       "24  27.0   27  onhold  1000     15      9/10/2016   9/24/2016   34.0   \n",
       "25  28.0   28  onhold  1000     30      9/11/2016  10/10/2016   31.0   \n",
       "26  29.0   29  onhold  1000     30      9/11/2016  10/10/2016   33.0   \n",
       "27  30.0   30  onhold   800     15      9/11/2016   9/25/2016   33.0   \n",
       "28  31.0   31  onhold  1000     30      9/11/2016  10/10/2016   37.0   \n",
       "29  32.0   32  onhold  1000     30      9/11/2016  10/10/2016   27.0   \n",
       "30  33.0   33  onhold  1000     30      9/11/2016  10/10/2016   37.0   \n",
       "\n",
       "       Group  ORG  \n",
       "1      MSCOE  RDC  \n",
       "2   AVIATION  OPS  \n",
       "3       STIC  RDC  \n",
       "4       STIC  OPS  \n",
       "5       STIC  RDC  \n",
       "6       STIC  RDC  \n",
       "7       STIC  RDC  \n",
       "8       STIC  RDC  \n",
       "9       STIC  RDC  \n",
       "10     MSCOE  RDC  \n",
       "11      STIC  RDC  \n",
       "12      STIC  OPS  \n",
       "13     MSCOE  RDC  \n",
       "14      STIC  RDC  \n",
       "15     MSCOE  RDC  \n",
       "16     MSCOE  RDC  \n",
       "17     MSCOE  RDC  \n",
       "18      STIC  RDC  \n",
       "19      STIC  RDC  \n",
       "20     MSCOE  RDC  \n",
       "21      STIC  RDC  \n",
       "22     MSCOE  RDC  \n",
       "23  AVIATION  RDC  \n",
       "24  AVIATION  RDC  \n",
       "25      STIC  RDC  \n",
       "26      STIC  RDC  \n",
       "27     MSCOE  RDC  \n",
       "28      STIC  RDC  \n",
       "29      STIC  RDC  \n",
       "30      STIC  RDC  "
      ]
     },
     "execution_count": 37,
     "metadata": {},
     "output_type": "execute_result"
    }
   ],
   "source": [
    "#make numbers mroe interesting\n",
    "df_newhead[\"Score\"]= 23/df_newhead[\"Score\"]\n",
    "#df_rdc['city-L/100km'] = 235/df[\"city-mpg\"]\n",
    "df_newhead.replace({'FYHold': {'PAIDOFF': 'onhold', 'COLLECTION': 'FY'}}, inplace=True)\n",
    "df_newhead.head(30)"
   ]
  },
  {
   "cell_type": "markdown",
   "metadata": {},
   "source": [
    "Minimum and maximum score from Portfolio review"
   ]
  },
  {
   "cell_type": "code",
   "execution_count": 38,
   "metadata": {},
   "outputs": [
    {
     "data": {
      "text/html": [
       "<div>\n",
       "<style scoped>\n",
       "    .dataframe tbody tr th:only-of-type {\n",
       "        vertical-align: middle;\n",
       "    }\n",
       "\n",
       "    .dataframe tbody tr th {\n",
       "        vertical-align: top;\n",
       "    }\n",
       "\n",
       "    .dataframe thead th {\n",
       "        text-align: right;\n",
       "    }\n",
       "</style>\n",
       "<table border=\"1\" class=\"dataframe\">\n",
       "  <thead>\n",
       "    <tr style=\"text-align: right;\">\n",
       "      <th></th>\n",
       "      <th>UDI1</th>\n",
       "      <th>UDI2</th>\n",
       "      <th>FYHold</th>\n",
       "      <th>FUNDS</th>\n",
       "      <th>Months</th>\n",
       "      <th>effective_date</th>\n",
       "      <th>due_date</th>\n",
       "      <th>Score</th>\n",
       "      <th>Group</th>\n",
       "      <th>ORG</th>\n",
       "    </tr>\n",
       "  </thead>\n",
       "  <tbody>\n",
       "    <tr>\n",
       "      <th>1</th>\n",
       "      <td>0.0</td>\n",
       "      <td>0</td>\n",
       "      <td>onhold</td>\n",
       "      <td>1000</td>\n",
       "      <td>30</td>\n",
       "      <td>9/8/2016</td>\n",
       "      <td>10/7/2016</td>\n",
       "      <td>0.511111</td>\n",
       "      <td>MSCOE</td>\n",
       "      <td>RDC</td>\n",
       "    </tr>\n",
       "    <tr>\n",
       "      <th>2</th>\n",
       "      <td>2.0</td>\n",
       "      <td>2</td>\n",
       "      <td>onhold</td>\n",
       "      <td>1000</td>\n",
       "      <td>30</td>\n",
       "      <td>9/8/2016</td>\n",
       "      <td>10/7/2016</td>\n",
       "      <td>0.696970</td>\n",
       "      <td>AVIATION</td>\n",
       "      <td>OPS</td>\n",
       "    </tr>\n",
       "    <tr>\n",
       "      <th>3</th>\n",
       "      <td>3.0</td>\n",
       "      <td>3</td>\n",
       "      <td>onhold</td>\n",
       "      <td>1000</td>\n",
       "      <td>15</td>\n",
       "      <td>9/8/2016</td>\n",
       "      <td>9/22/2016</td>\n",
       "      <td>0.851852</td>\n",
       "      <td>STIC</td>\n",
       "      <td>RDC</td>\n",
       "    </tr>\n",
       "    <tr>\n",
       "      <th>4</th>\n",
       "      <td>4.0</td>\n",
       "      <td>4</td>\n",
       "      <td>onhold</td>\n",
       "      <td>1000</td>\n",
       "      <td>30</td>\n",
       "      <td>9/9/2016</td>\n",
       "      <td>10/8/2016</td>\n",
       "      <td>0.821429</td>\n",
       "      <td>STIC</td>\n",
       "      <td>OPS</td>\n",
       "    </tr>\n",
       "    <tr>\n",
       "      <th>5</th>\n",
       "      <td>6.0</td>\n",
       "      <td>6</td>\n",
       "      <td>onhold</td>\n",
       "      <td>1000</td>\n",
       "      <td>30</td>\n",
       "      <td>9/9/2016</td>\n",
       "      <td>10/8/2016</td>\n",
       "      <td>0.793103</td>\n",
       "      <td>STIC</td>\n",
       "      <td>RDC</td>\n",
       "    </tr>\n",
       "    <tr>\n",
       "      <th>6</th>\n",
       "      <td>7.0</td>\n",
       "      <td>7</td>\n",
       "      <td>onhold</td>\n",
       "      <td>1000</td>\n",
       "      <td>30</td>\n",
       "      <td>9/9/2016</td>\n",
       "      <td>10/8/2016</td>\n",
       "      <td>0.638889</td>\n",
       "      <td>STIC</td>\n",
       "      <td>RDC</td>\n",
       "    </tr>\n",
       "    <tr>\n",
       "      <th>7</th>\n",
       "      <td>8.0</td>\n",
       "      <td>8</td>\n",
       "      <td>onhold</td>\n",
       "      <td>1000</td>\n",
       "      <td>30</td>\n",
       "      <td>9/9/2016</td>\n",
       "      <td>10/8/2016</td>\n",
       "      <td>0.821429</td>\n",
       "      <td>STIC</td>\n",
       "      <td>RDC</td>\n",
       "    </tr>\n",
       "    <tr>\n",
       "      <th>8</th>\n",
       "      <td>9.0</td>\n",
       "      <td>9</td>\n",
       "      <td>onhold</td>\n",
       "      <td>800</td>\n",
       "      <td>15</td>\n",
       "      <td>9/10/2016</td>\n",
       "      <td>9/24/2016</td>\n",
       "      <td>0.884615</td>\n",
       "      <td>STIC</td>\n",
       "      <td>RDC</td>\n",
       "    </tr>\n",
       "    <tr>\n",
       "      <th>9</th>\n",
       "      <td>10.0</td>\n",
       "      <td>10</td>\n",
       "      <td>onhold</td>\n",
       "      <td>300</td>\n",
       "      <td>7</td>\n",
       "      <td>9/10/2016</td>\n",
       "      <td>9/16/2016</td>\n",
       "      <td>0.793103</td>\n",
       "      <td>STIC</td>\n",
       "      <td>RDC</td>\n",
       "    </tr>\n",
       "    <tr>\n",
       "      <th>10</th>\n",
       "      <td>11.0</td>\n",
       "      <td>11</td>\n",
       "      <td>onhold</td>\n",
       "      <td>1000</td>\n",
       "      <td>15</td>\n",
       "      <td>9/10/2016</td>\n",
       "      <td>10/9/2016</td>\n",
       "      <td>0.589744</td>\n",
       "      <td>MSCOE</td>\n",
       "      <td>RDC</td>\n",
       "    </tr>\n",
       "    <tr>\n",
       "      <th>11</th>\n",
       "      <td>12.0</td>\n",
       "      <td>12</td>\n",
       "      <td>onhold</td>\n",
       "      <td>1000</td>\n",
       "      <td>30</td>\n",
       "      <td>9/10/2016</td>\n",
       "      <td>10/9/2016</td>\n",
       "      <td>0.884615</td>\n",
       "      <td>STIC</td>\n",
       "      <td>RDC</td>\n",
       "    </tr>\n",
       "    <tr>\n",
       "      <th>12</th>\n",
       "      <td>13.0</td>\n",
       "      <td>13</td>\n",
       "      <td>onhold</td>\n",
       "      <td>900</td>\n",
       "      <td>7</td>\n",
       "      <td>9/10/2016</td>\n",
       "      <td>9/16/2016</td>\n",
       "      <td>0.884615</td>\n",
       "      <td>STIC</td>\n",
       "      <td>OPS</td>\n",
       "    </tr>\n",
       "    <tr>\n",
       "      <th>13</th>\n",
       "      <td>14.0</td>\n",
       "      <td>14</td>\n",
       "      <td>onhold</td>\n",
       "      <td>1000</td>\n",
       "      <td>7</td>\n",
       "      <td>9/10/2016</td>\n",
       "      <td>9/16/2016</td>\n",
       "      <td>0.851852</td>\n",
       "      <td>MSCOE</td>\n",
       "      <td>RDC</td>\n",
       "    </tr>\n",
       "    <tr>\n",
       "      <th>14</th>\n",
       "      <td>15.0</td>\n",
       "      <td>15</td>\n",
       "      <td>onhold</td>\n",
       "      <td>800</td>\n",
       "      <td>15</td>\n",
       "      <td>9/10/2016</td>\n",
       "      <td>9/24/2016</td>\n",
       "      <td>0.884615</td>\n",
       "      <td>STIC</td>\n",
       "      <td>RDC</td>\n",
       "    </tr>\n",
       "    <tr>\n",
       "      <th>15</th>\n",
       "      <td>16.0</td>\n",
       "      <td>16</td>\n",
       "      <td>onhold</td>\n",
       "      <td>1000</td>\n",
       "      <td>30</td>\n",
       "      <td>9/10/2016</td>\n",
       "      <td>10/9/2016</td>\n",
       "      <td>0.575000</td>\n",
       "      <td>MSCOE</td>\n",
       "      <td>RDC</td>\n",
       "    </tr>\n",
       "    <tr>\n",
       "      <th>16</th>\n",
       "      <td>17.0</td>\n",
       "      <td>17</td>\n",
       "      <td>onhold</td>\n",
       "      <td>1000</td>\n",
       "      <td>15</td>\n",
       "      <td>9/10/2016</td>\n",
       "      <td>9/24/2016</td>\n",
       "      <td>0.718750</td>\n",
       "      <td>MSCOE</td>\n",
       "      <td>RDC</td>\n",
       "    </tr>\n",
       "    <tr>\n",
       "      <th>17</th>\n",
       "      <td>18.0</td>\n",
       "      <td>18</td>\n",
       "      <td>onhold</td>\n",
       "      <td>1000</td>\n",
       "      <td>30</td>\n",
       "      <td>9/10/2016</td>\n",
       "      <td>10/9/2016</td>\n",
       "      <td>0.718750</td>\n",
       "      <td>MSCOE</td>\n",
       "      <td>RDC</td>\n",
       "    </tr>\n",
       "    <tr>\n",
       "      <th>18</th>\n",
       "      <td>19.0</td>\n",
       "      <td>19</td>\n",
       "      <td>onhold</td>\n",
       "      <td>800</td>\n",
       "      <td>30</td>\n",
       "      <td>9/10/2016</td>\n",
       "      <td>10/9/2016</td>\n",
       "      <td>0.884615</td>\n",
       "      <td>STIC</td>\n",
       "      <td>RDC</td>\n",
       "    </tr>\n",
       "    <tr>\n",
       "      <th>19</th>\n",
       "      <td>20.0</td>\n",
       "      <td>20</td>\n",
       "      <td>onhold</td>\n",
       "      <td>1000</td>\n",
       "      <td>30</td>\n",
       "      <td>9/10/2016</td>\n",
       "      <td>10/9/2016</td>\n",
       "      <td>0.884615</td>\n",
       "      <td>STIC</td>\n",
       "      <td>RDC</td>\n",
       "    </tr>\n",
       "    <tr>\n",
       "      <th>20</th>\n",
       "      <td>22.0</td>\n",
       "      <td>22</td>\n",
       "      <td>onhold</td>\n",
       "      <td>1000</td>\n",
       "      <td>30</td>\n",
       "      <td>9/10/2016</td>\n",
       "      <td>10/9/2016</td>\n",
       "      <td>0.920000</td>\n",
       "      <td>MSCOE</td>\n",
       "      <td>RDC</td>\n",
       "    </tr>\n",
       "    <tr>\n",
       "      <th>21</th>\n",
       "      <td>23.0</td>\n",
       "      <td>23</td>\n",
       "      <td>onhold</td>\n",
       "      <td>1000</td>\n",
       "      <td>15</td>\n",
       "      <td>9/10/2016</td>\n",
       "      <td>9/24/2016</td>\n",
       "      <td>0.884615</td>\n",
       "      <td>STIC</td>\n",
       "      <td>RDC</td>\n",
       "    </tr>\n",
       "    <tr>\n",
       "      <th>22</th>\n",
       "      <td>25.0</td>\n",
       "      <td>25</td>\n",
       "      <td>onhold</td>\n",
       "      <td>1000</td>\n",
       "      <td>30</td>\n",
       "      <td>9/10/2016</td>\n",
       "      <td>10/9/2016</td>\n",
       "      <td>0.793103</td>\n",
       "      <td>MSCOE</td>\n",
       "      <td>RDC</td>\n",
       "    </tr>\n",
       "    <tr>\n",
       "      <th>23</th>\n",
       "      <td>26.0</td>\n",
       "      <td>26</td>\n",
       "      <td>onhold</td>\n",
       "      <td>800</td>\n",
       "      <td>15</td>\n",
       "      <td>9/10/2016</td>\n",
       "      <td>9/24/2016</td>\n",
       "      <td>0.589744</td>\n",
       "      <td>AVIATION</td>\n",
       "      <td>RDC</td>\n",
       "    </tr>\n",
       "    <tr>\n",
       "      <th>24</th>\n",
       "      <td>27.0</td>\n",
       "      <td>27</td>\n",
       "      <td>onhold</td>\n",
       "      <td>1000</td>\n",
       "      <td>15</td>\n",
       "      <td>9/10/2016</td>\n",
       "      <td>9/24/2016</td>\n",
       "      <td>0.676471</td>\n",
       "      <td>AVIATION</td>\n",
       "      <td>RDC</td>\n",
       "    </tr>\n",
       "    <tr>\n",
       "      <th>25</th>\n",
       "      <td>28.0</td>\n",
       "      <td>28</td>\n",
       "      <td>onhold</td>\n",
       "      <td>1000</td>\n",
       "      <td>30</td>\n",
       "      <td>9/11/2016</td>\n",
       "      <td>10/10/2016</td>\n",
       "      <td>0.741935</td>\n",
       "      <td>STIC</td>\n",
       "      <td>RDC</td>\n",
       "    </tr>\n",
       "    <tr>\n",
       "      <th>26</th>\n",
       "      <td>29.0</td>\n",
       "      <td>29</td>\n",
       "      <td>onhold</td>\n",
       "      <td>1000</td>\n",
       "      <td>30</td>\n",
       "      <td>9/11/2016</td>\n",
       "      <td>10/10/2016</td>\n",
       "      <td>0.696970</td>\n",
       "      <td>STIC</td>\n",
       "      <td>RDC</td>\n",
       "    </tr>\n",
       "    <tr>\n",
       "      <th>27</th>\n",
       "      <td>30.0</td>\n",
       "      <td>30</td>\n",
       "      <td>onhold</td>\n",
       "      <td>800</td>\n",
       "      <td>15</td>\n",
       "      <td>9/11/2016</td>\n",
       "      <td>9/25/2016</td>\n",
       "      <td>0.696970</td>\n",
       "      <td>MSCOE</td>\n",
       "      <td>RDC</td>\n",
       "    </tr>\n",
       "    <tr>\n",
       "      <th>28</th>\n",
       "      <td>31.0</td>\n",
       "      <td>31</td>\n",
       "      <td>onhold</td>\n",
       "      <td>1000</td>\n",
       "      <td>30</td>\n",
       "      <td>9/11/2016</td>\n",
       "      <td>10/10/2016</td>\n",
       "      <td>0.621622</td>\n",
       "      <td>STIC</td>\n",
       "      <td>RDC</td>\n",
       "    </tr>\n",
       "    <tr>\n",
       "      <th>29</th>\n",
       "      <td>32.0</td>\n",
       "      <td>32</td>\n",
       "      <td>onhold</td>\n",
       "      <td>1000</td>\n",
       "      <td>30</td>\n",
       "      <td>9/11/2016</td>\n",
       "      <td>10/10/2016</td>\n",
       "      <td>0.851852</td>\n",
       "      <td>STIC</td>\n",
       "      <td>RDC</td>\n",
       "    </tr>\n",
       "    <tr>\n",
       "      <th>30</th>\n",
       "      <td>33.0</td>\n",
       "      <td>33</td>\n",
       "      <td>onhold</td>\n",
       "      <td>1000</td>\n",
       "      <td>30</td>\n",
       "      <td>9/11/2016</td>\n",
       "      <td>10/10/2016</td>\n",
       "      <td>0.621622</td>\n",
       "      <td>STIC</td>\n",
       "      <td>RDC</td>\n",
       "    </tr>\n",
       "  </tbody>\n",
       "</table>\n",
       "</div>"
      ],
      "text/plain": [
       "    UDI1 UDI2  FYHold FUNDS Months effective_date    due_date     Score  \\\n",
       "1    0.0    0  onhold  1000     30       9/8/2016   10/7/2016  0.511111   \n",
       "2    2.0    2  onhold  1000     30       9/8/2016   10/7/2016  0.696970   \n",
       "3    3.0    3  onhold  1000     15       9/8/2016   9/22/2016  0.851852   \n",
       "4    4.0    4  onhold  1000     30       9/9/2016   10/8/2016  0.821429   \n",
       "5    6.0    6  onhold  1000     30       9/9/2016   10/8/2016  0.793103   \n",
       "6    7.0    7  onhold  1000     30       9/9/2016   10/8/2016  0.638889   \n",
       "7    8.0    8  onhold  1000     30       9/9/2016   10/8/2016  0.821429   \n",
       "8    9.0    9  onhold   800     15      9/10/2016   9/24/2016  0.884615   \n",
       "9   10.0   10  onhold   300      7      9/10/2016   9/16/2016  0.793103   \n",
       "10  11.0   11  onhold  1000     15      9/10/2016   10/9/2016  0.589744   \n",
       "11  12.0   12  onhold  1000     30      9/10/2016   10/9/2016  0.884615   \n",
       "12  13.0   13  onhold   900      7      9/10/2016   9/16/2016  0.884615   \n",
       "13  14.0   14  onhold  1000      7      9/10/2016   9/16/2016  0.851852   \n",
       "14  15.0   15  onhold   800     15      9/10/2016   9/24/2016  0.884615   \n",
       "15  16.0   16  onhold  1000     30      9/10/2016   10/9/2016  0.575000   \n",
       "16  17.0   17  onhold  1000     15      9/10/2016   9/24/2016  0.718750   \n",
       "17  18.0   18  onhold  1000     30      9/10/2016   10/9/2016  0.718750   \n",
       "18  19.0   19  onhold   800     30      9/10/2016   10/9/2016  0.884615   \n",
       "19  20.0   20  onhold  1000     30      9/10/2016   10/9/2016  0.884615   \n",
       "20  22.0   22  onhold  1000     30      9/10/2016   10/9/2016  0.920000   \n",
       "21  23.0   23  onhold  1000     15      9/10/2016   9/24/2016  0.884615   \n",
       "22  25.0   25  onhold  1000     30      9/10/2016   10/9/2016  0.793103   \n",
       "23  26.0   26  onhold   800     15      9/10/2016   9/24/2016  0.589744   \n",
       "24  27.0   27  onhold  1000     15      9/10/2016   9/24/2016  0.676471   \n",
       "25  28.0   28  onhold  1000     30      9/11/2016  10/10/2016  0.741935   \n",
       "26  29.0   29  onhold  1000     30      9/11/2016  10/10/2016  0.696970   \n",
       "27  30.0   30  onhold   800     15      9/11/2016   9/25/2016  0.696970   \n",
       "28  31.0   31  onhold  1000     30      9/11/2016  10/10/2016  0.621622   \n",
       "29  32.0   32  onhold  1000     30      9/11/2016  10/10/2016  0.851852   \n",
       "30  33.0   33  onhold  1000     30      9/11/2016  10/10/2016  0.621622   \n",
       "\n",
       "       Group  ORG  \n",
       "1      MSCOE  RDC  \n",
       "2   AVIATION  OPS  \n",
       "3       STIC  RDC  \n",
       "4       STIC  OPS  \n",
       "5       STIC  RDC  \n",
       "6       STIC  RDC  \n",
       "7       STIC  RDC  \n",
       "8       STIC  RDC  \n",
       "9       STIC  RDC  \n",
       "10     MSCOE  RDC  \n",
       "11      STIC  RDC  \n",
       "12      STIC  OPS  \n",
       "13     MSCOE  RDC  \n",
       "14      STIC  RDC  \n",
       "15     MSCOE  RDC  \n",
       "16     MSCOE  RDC  \n",
       "17     MSCOE  RDC  \n",
       "18      STIC  RDC  \n",
       "19      STIC  RDC  \n",
       "20     MSCOE  RDC  \n",
       "21      STIC  RDC  \n",
       "22     MSCOE  RDC  \n",
       "23  AVIATION  RDC  \n",
       "24  AVIATION  RDC  \n",
       "25      STIC  RDC  \n",
       "26      STIC  RDC  \n",
       "27     MSCOE  RDC  \n",
       "28      STIC  RDC  \n",
       "29      STIC  RDC  \n",
       "30      STIC  RDC  "
      ]
     },
     "execution_count": 38,
     "metadata": {},
     "output_type": "execute_result"
    }
   ],
   "source": [
    "df_newhead.head(30)\n",
    "df_newhead[\"Score\"]= df_newhead[\"Score\"].astype(\"float\")\n",
    "#make numbers mroe interesting\n",
    "df_newhead[\"Score\"]= 23/df_newhead[\"Score\"]\n",
    "#df_rdc['city-L/100km'] = 235/df[\"city-mpg\"]\n",
    "df_newhead.head(30)"
   ]
  },
  {
   "cell_type": "markdown",
   "metadata": {
    "button": false,
    "new_sheet": false,
    "run_control": {
     "read_only": false
    }
   },
   "source": [
    "### Some data conversions"
   ]
  },
  {
   "cell_type": "code",
   "execution_count": 82,
   "metadata": {
    "button": false,
    "new_sheet": false,
    "run_control": {
     "read_only": false
    }
   },
   "outputs": [
    {
     "data": {
      "text/plain": [
       "UDI1                     float64\n",
       "UDI2                      object\n",
       "FYHold                    object\n",
       "FUNDS                    float64\n",
       "Months                     int64\n",
       "effective_date    datetime64[ns]\n",
       "due_date          datetime64[ns]\n",
       "Score                    float64\n",
       "Group                     object\n",
       "ORG                       object\n",
       "dtype: object"
      ]
     },
     "execution_count": 82,
     "metadata": {},
     "output_type": "execute_result"
    }
   ],
   "source": [
    "# Conversions\n",
    "df['due_date'] = pd.to_datetime(df['due_date'])\n",
    "df['effective_date'] = pd.to_datetime(df['effective_date'])\n",
    "df.head()\n",
    "df_rdc['due_date'] = pd.to_datetime(df_rdc['due_date'])\n",
    "df_rdc['effective_date'] = pd.to_datetime(df_rdc['effective_date'])\n",
    "df_rdc \n",
    "\n",
    "df_newhead['due_date'] = pd.to_datetime(df_rdc['due_date'])\n",
    "df_newhead['effective_date'] = pd.to_datetime(df_rdc['effective_date'])\n",
    "\n",
    "df_newhead[\"FUNDS\"]= df_newhead[\"FUNDS\"].astype(\"float\")\n",
    "df_newhead[\"Months\"]= df_newhead[\"Months\"].astype(\"int\")\n",
    "\n",
    "#make numbers mroe interesting\n",
    "#df_newhead[\"FUNDS\"]= df_newhead[\"FUNDS\"]/3.25\n",
    "#df_rdc['city-L/100km'] = 235/df[\"city-mpg\"]\n",
    "\n",
    "#df.groupby(['Gender'])['loan_status'].value_counts(normalize=True)\n",
    "#df.groupby(['education'])['loan_status'].value_counts(normalize=True)\n",
    "#df_rdc['Gender'].replace(to_replace=['RDC','ACQ'], value=[0,1],inplace=True)\n",
    "#df_newhead['ORG'].replace(to_replace=['RDC','ACQ'], value=[0,1],inplace=True)\n",
    "df_newhead.head(30)\n",
    "df_newhead.dtypes"
   ]
  },
  {
   "cell_type": "markdown",
   "metadata": {
    "button": false,
    "new_sheet": false,
    "run_control": {
     "read_only": false
    }
   },
   "source": []
  },
  {
   "cell_type": "markdown",
   "metadata": {
    "button": false,
    "new_sheet": false,
    "run_control": {
     "read_only": false
    }
   },
   "source": [
    "# Data visualization and pre-processing\n",
    "\n"
   ]
  },
  {
   "cell_type": "markdown",
   "metadata": {
    "button": false,
    "new_sheet": false,
    "run_control": {
     "read_only": false
    }
   },
   "source": [
    "Let’s see how many of each class is in our data set "
   ]
  },
  {
   "cell_type": "code",
   "execution_count": 42,
   "metadata": {
    "button": false,
    "new_sheet": false,
    "run_control": {
     "read_only": false
    }
   },
   "outputs": [
    {
     "name": "stdout",
     "output_type": "stream",
     "text": [
      " Projects Funded and Onhold \n"
     ]
    },
    {
     "data": {
      "text/plain": [
       "onhold    260\n",
       "FY         86\n",
       "Name: FYHold, dtype: int64"
      ]
     },
     "execution_count": 42,
     "metadata": {},
     "output_type": "execute_result"
    }
   ],
   "source": [
    "## Let's convert the original to RDC relevant\n",
    "\n",
    "#df['loan_status'].value_counts()\n",
    "\n",
    "#\n",
    "print(\" Projects Funded and Onhold \")\n",
    "df_rdc['loan_status'].value_counts()\n",
    "df_newhead['FYHold'].value_counts()"
   ]
  },
  {
   "cell_type": "markdown",
   "metadata": {
    "button": false,
    "new_sheet": false,
    "run_control": {
     "read_only": false
    }
   },
   "source": [
    "260 Project Onhold on time while 86 To Be Executed \n"
   ]
  },
  {
   "cell_type": "markdown",
   "metadata": {},
   "source": [
    "Lets plot some columns to see relationship by branch and score"
   ]
  },
  {
   "cell_type": "code",
   "execution_count": 43,
   "metadata": {},
   "outputs": [],
   "source": [
    "# notice: installing seaborn might takes a few minutes ###\n",
    "#!conda install -c anaconda seaborn -y"
   ]
  },
  {
   "cell_type": "code",
   "execution_count": 46,
   "metadata": {},
   "outputs": [
    {
     "data": {
      "image/png": "[encoded data removed]",
      "text/plain": [
       "<Figure size 432x216 with 2 Axes>"
      ]
     },
     "metadata": {
      "needs_background": "light"
     },
     "output_type": "display_data"
    },
    {
     "data": {
      "image/png": "[encoded data removed]",
      "text/plain": [
       "<Figure size 432x216 with 2 Axes>"
      ]
     },
     "metadata": {
      "needs_background": "light"
     },
     "output_type": "display_data"
    },
    {
     "name": "stdout",
     "output_type": "stream",
     "text": [
      "Min score 18\n",
      "Max Score 51\n",
      "Min score 0.45098039215686275\n",
      "Max Score 1.2777777777777777\n"
     ]
    }
   ],
   "source": [
    "import seaborn as sns\n",
    "\n",
    "#bins = np.linspace(df_rdc.Principal.min(), df_rdc.Principal.max(), 10)\n",
    "#g = sns.FacetGrid(df_rdc, col=\"Gender\", hue=\"loan_status\", palette=\"Set1\", col_wrap=2)\n",
    "#g.map(plt.hist, 'Principal', bins=bins, ec=\"k\")\n",
    "\n",
    "#g.axes[-1].legend()\n",
    "#plt.show()\n",
    "# show relation to score 18 - 51\n",
    "bins = np.linspace(df_rdc.age.min(), df_rdc.age.max(), 10)\n",
    "g = sns.FacetGrid(df_rdc, col=\"Gender\", hue=\"loan_status\", palette=\"Set1\", col_wrap=2)\n",
    "g.map(plt.hist, 'age', bins=bins, ec=\"k\")\n",
    "\n",
    "g.axes[-1].legend()\n",
    "plt.show()\n",
    "#--------------------------------------------\n",
    "# show relation to score 18 - 51\n",
    "bins = np.linspace(df_newhead.Score.min(), df_newhead.Score.max(), 10)\n",
    "g = sns.FacetGrid(df_newhead, col=\"ORG\", hue=\"FYHold\", palette=\"Set1\", col_wrap=2)\n",
    "g.map(plt.hist, 'Score', bins=bins, ec=\"k\")\n",
    "\n",
    "g.axes[-1].legend()\n",
    "plt.show()\n",
    "print (\"Min score\",df_rdc.age.min())\n",
    "print (\"Max Score\", df_rdc.age.max())\n",
    "print (\"Min score\",df_newhead.Score.min())\n",
    "print (\"Max Score\", df_newhead.Score.max())\n"
   ]
  },
  {
   "cell_type": "code",
   "execution_count": 47,
   "metadata": {
    "button": false,
    "new_sheet": false,
    "run_control": {
     "read_only": false
    }
   },
   "outputs": [
    {
     "data": {
      "image/png": "[encoded data removed]",
      "text/plain": [
       "<Figure size 648x216 with 3 Axes>"
      ]
     },
     "metadata": {
      "needs_background": "light"
     },
     "output_type": "display_data"
    },
    {
     "data": {
      "text/plain": [
       "UDI1                     float64\n",
       "UDI2                      object\n",
       "FYHold                    object\n",
       "FUNDS                    float64\n",
       "Months                    object\n",
       "effective_date    datetime64[ns]\n",
       "due_date          datetime64[ns]\n",
       "Score                    float64\n",
       "Group                     object\n",
       "ORG                       object\n",
       "dtype: object"
      ]
     },
     "execution_count": 47,
     "metadata": {},
     "output_type": "execute_result"
    }
   ],
   "source": [
    "bins = np.linspace(df_rdc.Principal.min(), df_rdc.Principal.max(), 5)\n",
    "g = sns.FacetGrid(df_rdc, col=\"terms\", hue=\"education\", palette=\"Set2\", col_wrap=3)\n",
    "g.map(plt.hist, 'Principal', bins=bins, ec=\"k\")\n",
    "\n",
    "g.axes[-1].legend()\n",
    "plt.show()\n",
    "df_rdc\n",
    "df_rdc.dtypes\n",
    "\n",
    "#bins = np.linspace(df_newhead.FYHold.min(), df_newhead.FYHold.max(), 5)\n",
    "#g = sns.FacetGrid(df_newhead, col=\"FUNDS\", hue=\"Group\", palette=\"Set2\", col_wrap=3)\n",
    "#g.map(plt.hist, 'FUNDS', bins=bins, ec=\"k\")\n",
    "\n",
    "#g.axes[-1].legend()\n",
    "#plt.show()\n",
    "#df_rdc\n",
    "df_newhead.dtypes"
   ]
  },
  {
   "cell_type": "markdown",
   "metadata": {
    "button": false,
    "new_sheet": false,
    "run_control": {
     "read_only": false
    }
   },
   "source": [
    "# Pre-processing:  Feature selection/extraction"
   ]
  },
  {
   "cell_type": "markdown",
   "metadata": {
    "button": false,
    "new_sheet": false,
    "run_control": {
     "read_only": false
    }
   },
   "source": []
  },
  {
   "cell_type": "markdown",
   "metadata": {
    "button": false,
    "new_sheet": false,
    "run_control": {
     "read_only": false
    }
   },
   "source": []
  },
  {
   "cell_type": "markdown",
   "metadata": {
    "button": false,
    "new_sheet": false,
    "run_control": {
     "read_only": false
    }
   },
   "source": []
  },
  {
   "cell_type": "markdown",
   "metadata": {
    "button": false,
    "new_sheet": false,
    "run_control": {
     "read_only": false
    }
   },
   "source": []
  },
  {
   "cell_type": "markdown",
   "metadata": {
    "button": false,
    "new_sheet": false,
    "run_control": {
     "read_only": false
    }
   },
   "source": [
    "## Convert Categorical features to numerical values"
   ]
  },
  {
   "cell_type": "markdown",
   "metadata": {
    "button": false,
    "new_sheet": false,
    "run_control": {
     "read_only": false
    }
   },
   "source": [
    "Lets look at gender:"
   ]
  },
  {
   "cell_type": "code",
   "execution_count": 167,
   "metadata": {
    "button": false,
    "new_sheet": false,
    "run_control": {
     "read_only": false
    }
   },
   "outputs": [
    {
     "data": {
      "text/plain": [
       "Months  Group   \n",
       "15      STIC        0.452703\n",
       "        MSCOE       0.385135\n",
       "        AVIATION    0.148649\n",
       "        Surface     0.013514\n",
       "30      MSCOE       0.483696\n",
       "        STIC        0.407609\n",
       "        AVIATION    0.108696\n",
       "7       STIC        0.500000\n",
       "        MSCOE       0.357143\n",
       "        AVIATION    0.142857\n",
       "Name: Group, dtype: float64"
      ]
     },
     "execution_count": 167,
     "metadata": {},
     "output_type": "execute_result"
    }
   ],
   "source": [
    "df_rdc.groupby(['Gender'])['loan_status'].value_counts(normalize=True)\n",
    "#male/rfeamle translate to RDC and ACQ\n",
    "df_rdc.groupby(['Principal'])['education'].value_counts(normalize=True)\n",
    "\n",
    "df_newhead.groupby(['ORG'])['FYHold'].value_counts(normalize=True)\n",
    "df_newhead.groupby(['Group'])['FUNDS'].value_counts(normalize=True)\n",
    "df_newhead.groupby(['Months'])['Group'].value_counts(normalize=True)\n",
    "#df_rdc\n",
    "#df_rdc.hist(column='age', bins=50)\n",
    "#df_newhead.hist(column='Score', bins=50)"
   ]
  },
  {
   "cell_type": "markdown",
   "metadata": {
    "button": false,
    "new_sheet": false,
    "run_control": {
     "read_only": false
    }
   },
   "source": [
    "For Principal/Cost amounts (x10k) EX) For this sample data  75% Aviation projects with funding $88K , \n",
    "Surface has 50% of their projects funded at $71k. In this sampling MSCOE had 48% of project lasting 30 months and \n",
    "half of Surface projects last 7 months."
   ]
  },
  {
   "cell_type": "markdown",
   "metadata": {
    "button": false,
    "new_sheet": false,
    "run_control": {
     "read_only": false
    }
   },
   "source": [
    "Lets convert male to 0 and female to 1:\n"
   ]
  },
  {
   "cell_type": "code",
   "execution_count": 148,
   "metadata": {
    "button": false,
    "new_sheet": false,
    "run_control": {
     "read_only": false
    }
   },
   "outputs": [
    {
     "name": "stdout",
     "output_type": "stream",
     "text": [
      "     Unnamed: 0  Unnamed: 0.1 loan_status  Principal  terms effective_date  \\\n",
      "0             0             0      onhold       1000     12     2016-09-08   \n",
      "1             2             2      onhold       1000     12     2016-09-08   \n",
      "2             3             3      onhold       1000     24     2016-09-08   \n",
      "3             4             4      onhold       1000     12     2016-09-09   \n",
      "4             6             6      onhold       1000     12     2016-09-09   \n",
      "..          ...           ...         ...        ...    ...            ...   \n",
      "341         394           394          FY        800     24     2016-09-11   \n",
      "342         395           395          FY       1000     12     2016-09-11   \n",
      "343         397           397          FY        800     24     2016-09-12   \n",
      "344         398           398          FY       1000     12     2016-09-12   \n",
      "345         399           399          FY       1000     12     2016-09-12   \n",
      "\n",
      "      due_date  age education  Gender  \n",
      "0   2016-10-07   45     MSCOE       0  \n",
      "1   2016-10-07   33  AVIATION       1  \n",
      "2   2016-09-22   27      STIC       0  \n",
      "3   2016-10-08   28      STIC       1  \n",
      "4   2016-10-08   29      STIC       0  \n",
      "..         ...  ...       ...     ...  \n",
      "341 2016-09-25   32     MSCOE       0  \n",
      "342 2016-10-10   25     MSCOE       0  \n",
      "343 2016-09-26   39      STIC       0  \n",
      "344 2016-11-10   28      STIC       0  \n",
      "345 2016-10-11   26      STIC       0  \n",
      "\n",
      "[346 rows x 10 columns]\n",
      "      UDI1 UDI2  FYHold     FUNDS Months effective_date   due_date     Score  \\\n",
      "1      0.0    0  onHold  0.888212     30     2016-09-08 2016-10-07  0.511111   \n",
      "2      2.0    2  onHold  0.888212     30     2016-09-08 2016-09-22  0.696970   \n",
      "3      3.0    3  onHold  0.888212     15     2016-09-09 2016-10-08  0.851852   \n",
      "4      4.0    4  onHold  0.888212     30     2016-09-09 2016-10-08  0.821429   \n",
      "5      6.0    6  onHold  0.888212     30     2016-09-09 2016-10-08  0.793103   \n",
      "..     ...  ...     ...       ...    ...            ...        ...       ...   \n",
      "342  394.0  394      FY  0.710570     15     2016-09-11 2016-10-10  0.718750   \n",
      "343  395.0  395      FY  0.888212     30     2016-09-12 2016-09-26  0.920000   \n",
      "344  397.0  397      FY  0.710570     15     2016-09-12 2016-11-10  0.589744   \n",
      "345  398.0  398      FY  0.888212     30     2016-09-12 2016-10-11  0.821429   \n",
      "346  399.0  399      FY  0.888212     30            NaT        NaT  0.884615   \n",
      "\n",
      "        Group  ORG  \n",
      "1       MSCOE    0  \n",
      "2    AVIATION    1  \n",
      "3        STIC    0  \n",
      "4        STIC    1  \n",
      "5        STIC    0  \n",
      "..        ...  ...  \n",
      "342     MSCOE    0  \n",
      "343     MSCOE    0  \n",
      "344      STIC    0  \n",
      "345      STIC    0  \n",
      "346      STIC    0  \n",
      "\n",
      "[346 rows x 10 columns]\n"
     ]
    }
   ],
   "source": [
    "#df_rdc['Gender'].replace(to_replace=['RDC','ACQ'], value=[0,1],inplace=True)\n",
    "#df_rdc.head()\n",
    "#df_rdc['Gender']\n",
    "#df_rdc['education'].replace(to_replace=['MSCOE','STIC','AVIATION','Surface'], value=[0,1,2,3],inplace=True)\n",
    "print(df_rdc)\n",
    "print(df_newhead)"
   ]
  },
  {
   "cell_type": "markdown",
   "metadata": {
    "button": false,
    "new_sheet": false,
    "run_control": {
     "read_only": false
    }
   },
   "source": [
    "## One Hot Encoding  \n",
    "#### How about Branches?\n",
    "Of those categorized as Aviation, 45% executed as 30 month projects\n",
    "Of those categorized as MSCOE 37% executed as 15 month projects\n",
    "Of those categorized as STIC 44% executed as 15 month projects"
   ]
  },
  {
   "cell_type": "code",
   "execution_count": 62,
   "metadata": {
    "button": false,
    "new_sheet": false,
    "run_control": {
     "read_only": false
    }
   },
   "outputs": [
    {
     "name": "stdout",
     "output_type": "stream",
     "text": [
      "Look at by Group for length of project in Months\n",
      "This might reveal that how project length is associated with a Branch\n"
     ]
    },
    {
     "data": {
      "text/plain": [
       "Group     Months\n",
       "AVIATION  15        0.500000\n",
       "          30        0.454545\n",
       "          7         0.045455\n",
       "MSCOE     30        0.589404\n",
       "          15        0.377483\n",
       "          7         0.033113\n",
       "STIC      30        0.503356\n",
       "          15        0.449664\n",
       "          7         0.046980\n",
       "Surface   15        1.000000\n",
       "Name: Months, dtype: float64"
      ]
     },
     "execution_count": 62,
     "metadata": {},
     "output_type": "execute_result"
    }
   ],
   "source": [
    "#df.groupby(['education'])['loan_status'].value_counts(normalize=True)\n",
    "\n",
    "#df_rdc.groupby(['education'])['loan_status'].value_counts(normalize=True)\n",
    "#df_rdc.groupby(['education'])['terms'].value_counts(normalize=True)\n",
    "print ('Look at by Group for length of project in Months')\n",
    "print('This might reveal how project length is associated with a Branch')\n",
    "df_newhead.groupby(['Group'])['Months'].value_counts(normalize=True)\n"
   ]
  },
  {
   "cell_type": "code",
   "execution_count": 63,
   "metadata": {
    "button": false,
    "new_sheet": false,
    "run_control": {
     "read_only": false
    }
   },
   "outputs": [
    {
     "name": "stdout",
     "output_type": "stream",
     "text": [
      "Look at by Group for onhold or execute\n",
      "This might reveal how Branch relates to onhold or execution status \n"
     ]
    },
    {
     "data": {
      "text/plain": [
       "Group     FYHold\n",
       "AVIATION  onhold    0.750000\n",
       "          FY        0.250000\n",
       "MSCOE     onhold    0.741722\n",
       "          FY        0.258278\n",
       "STIC      onhold    0.765101\n",
       "          FY        0.234899\n",
       "Surface   FY        0.500000\n",
       "          onhold    0.500000\n",
       "Name: FYHold, dtype: float64"
      ]
     },
     "execution_count": 63,
     "metadata": {},
     "output_type": "execute_result"
    }
   ],
   "source": [
    "print ('Look at by Group for onhold or execute')\n",
    "print ('This might reveal how Branch relates to onhold or execution status ')\n",
    "df_newhead.groupby(['Group'])['FYHold'].value_counts(normalize=True)"
   ]
  },
  {
   "cell_type": "code",
   "execution_count": 64,
   "metadata": {
    "button": false,
    "new_sheet": false,
    "run_control": {
     "read_only": false
    }
   },
   "outputs": [
    {
     "name": "stdout",
     "output_type": "stream",
     "text": [
      "Look at by Score for onhold or execute\n",
      "This might reveal how Branch and Score coud be related\n"
     ]
    },
    {
     "data": {
      "text/plain": [
       "Group     Score   \n",
       "AVIATION  0.657143    0.136364\n",
       "          0.676471    0.136364\n",
       "          0.741935    0.090909\n",
       "          0.821429    0.090909\n",
       "          0.884615    0.090909\n",
       "                        ...   \n",
       "STIC      0.547619    0.006711\n",
       "          1.095238    0.006711\n",
       "          1.277778    0.006711\n",
       "Surface   0.460000    0.500000\n",
       "          0.589744    0.500000\n",
       "Name: Score, Length: 74, dtype: float64"
      ]
     },
     "execution_count": 64,
     "metadata": {},
     "output_type": "execute_result"
    }
   ],
   "source": [
    "print ('Look at by Score for onhold or execute')\n",
    "print ('This might reveal how Branch and Score coud be related')\n",
    "df_newhead.groupby(['Group'])['Score'].value_counts(normalize=True)\n"
   ]
  },
  {
   "cell_type": "code",
   "execution_count": 80,
   "metadata": {
    "button": false,
    "new_sheet": false,
    "run_control": {
     "read_only": false
    }
   },
   "outputs": [
    {
     "data": {
      "text/plain": [
       "UDI1                     float64\n",
       "UDI2                      object\n",
       "FYHold                    object\n",
       "FUNDS                    float64\n",
       "Months                    object\n",
       "effective_date    datetime64[ns]\n",
       "due_date          datetime64[ns]\n",
       "Score                    float64\n",
       "Group                     object\n",
       "ORG                       object\n",
       "dtype: object"
      ]
     },
     "execution_count": 80,
     "metadata": {},
     "output_type": "execute_result"
    }
   ],
   "source": [
    "df_newhead.dtypes"
   ]
  },
  {
   "cell_type": "code",
   "execution_count": 70,
   "metadata": {
    "button": false,
    "new_sheet": false,
    "run_control": {
     "read_only": false
    }
   },
   "outputs": [
    {
     "data": {
      "text/html": [
       "<div>\n",
       "<style scoped>\n",
       "    .dataframe tbody tr th:only-of-type {\n",
       "        vertical-align: middle;\n",
       "    }\n",
       "\n",
       "    .dataframe tbody tr th {\n",
       "        vertical-align: top;\n",
       "    }\n",
       "\n",
       "    .dataframe thead th {\n",
       "        text-align: right;\n",
       "    }\n",
       "</style>\n",
       "<table border=\"1\" class=\"dataframe\">\n",
       "  <thead>\n",
       "    <tr style=\"text-align: right;\">\n",
       "      <th></th>\n",
       "      <th>UDI1</th>\n",
       "      <th>UDI2</th>\n",
       "      <th>FYHold</th>\n",
       "      <th>FUNDS</th>\n",
       "      <th>Months</th>\n",
       "      <th>effective_date</th>\n",
       "      <th>due_date</th>\n",
       "      <th>Score</th>\n",
       "      <th>Group</th>\n",
       "      <th>ORG</th>\n",
       "    </tr>\n",
       "  </thead>\n",
       "  <tbody>\n",
       "    <tr>\n",
       "      <th>1</th>\n",
       "      <td>0.0</td>\n",
       "      <td>0</td>\n",
       "      <td>onhold</td>\n",
       "      <td>307.692308</td>\n",
       "      <td>30</td>\n",
       "      <td>2016-09-08</td>\n",
       "      <td>2016-10-07</td>\n",
       "      <td>0.511111</td>\n",
       "      <td>MSCOE</td>\n",
       "      <td>RDC</td>\n",
       "    </tr>\n",
       "    <tr>\n",
       "      <th>2</th>\n",
       "      <td>2.0</td>\n",
       "      <td>2</td>\n",
       "      <td>onhold</td>\n",
       "      <td>307.692308</td>\n",
       "      <td>30</td>\n",
       "      <td>2016-09-08</td>\n",
       "      <td>2016-09-22</td>\n",
       "      <td>0.696970</td>\n",
       "      <td>AVIATION</td>\n",
       "      <td>OPS</td>\n",
       "    </tr>\n",
       "    <tr>\n",
       "      <th>3</th>\n",
       "      <td>3.0</td>\n",
       "      <td>3</td>\n",
       "      <td>onhold</td>\n",
       "      <td>307.692308</td>\n",
       "      <td>15</td>\n",
       "      <td>2016-09-09</td>\n",
       "      <td>2016-10-08</td>\n",
       "      <td>0.851852</td>\n",
       "      <td>STIC</td>\n",
       "      <td>RDC</td>\n",
       "    </tr>\n",
       "    <tr>\n",
       "      <th>4</th>\n",
       "      <td>4.0</td>\n",
       "      <td>4</td>\n",
       "      <td>onhold</td>\n",
       "      <td>307.692308</td>\n",
       "      <td>30</td>\n",
       "      <td>2016-09-09</td>\n",
       "      <td>2016-10-08</td>\n",
       "      <td>0.821429</td>\n",
       "      <td>STIC</td>\n",
       "      <td>OPS</td>\n",
       "    </tr>\n",
       "    <tr>\n",
       "      <th>5</th>\n",
       "      <td>6.0</td>\n",
       "      <td>6</td>\n",
       "      <td>onhold</td>\n",
       "      <td>307.692308</td>\n",
       "      <td>30</td>\n",
       "      <td>2016-09-09</td>\n",
       "      <td>2016-10-08</td>\n",
       "      <td>0.793103</td>\n",
       "      <td>STIC</td>\n",
       "      <td>RDC</td>\n",
       "    </tr>\n",
       "  </tbody>\n",
       "</table>\n",
       "</div>"
      ],
      "text/plain": [
       "   UDI1 UDI2  FYHold       FUNDS Months effective_date   due_date     Score  \\\n",
       "1   0.0    0  onhold  307.692308     30     2016-09-08 2016-10-07  0.511111   \n",
       "2   2.0    2  onhold  307.692308     30     2016-09-08 2016-09-22  0.696970   \n",
       "3   3.0    3  onhold  307.692308     15     2016-09-09 2016-10-08  0.851852   \n",
       "4   4.0    4  onhold  307.692308     30     2016-09-09 2016-10-08  0.821429   \n",
       "5   6.0    6  onhold  307.692308     30     2016-09-09 2016-10-08  0.793103   \n",
       "\n",
       "      Group  ORG  \n",
       "1     MSCOE  RDC  \n",
       "2  AVIATION  OPS  \n",
       "3      STIC  RDC  \n",
       "4      STIC  OPS  \n",
       "5      STIC  RDC  "
      ]
     },
     "execution_count": 70,
     "metadata": {},
     "output_type": "execute_result"
    }
   ],
   "source": [
    "df_newhead.head()"
   ]
  },
  {
   "cell_type": "code",
   "execution_count": 85,
   "metadata": {
    "button": false,
    "new_sheet": false,
    "run_control": {
     "read_only": false
    }
   },
   "outputs": [
    {
     "data": {
      "image/png": "[encoded data removed]",
      "text/plain": [
       "<Figure size 432x216 with 2 Axes>"
      ]
     },
     "metadata": {
      "needs_background": "light"
     },
     "output_type": "display_data"
    }
   ],
   "source": [
    "#bins = np.linspace(df_rdc.Principal.min(), df_rdc.Principal.max(), 10)\n",
    "#g = sns.FacetGrid(df_rdc, col=\"loan_status\", hue=\"education\", palette=\"Set3\", col_wrap=2)\n",
    "#g.map(plt.hist, 'loan_status', bins=bins, ec=\"k\")\n",
    "\n",
    "#g.axes[-1].legend()\n",
    "#plt.show()\n",
    "#\n",
    "#bins = np.linspace(df_newhead.Months.min(), df_newhead.Months.max(), 10)\n",
    "#g = sns.FacetGrid(df_newhead, col=\"FYHold\", hue=\"Group\", palette=\"Set3\", col_wrap=2)\n",
    "#g.map(plt.hist, 'Group', bins=bins, ec=\"k\")\n",
    "\n",
    "#g.axes[-1].legend()\n",
    "#plt.show()\n",
    "import seaborn as sns\n",
    "\n",
    "#bins = np.linspace(df.Principal.min(), df.Principal.max(), 10)\n",
    "#g = sns.FacetGrid(df, col=\"Gender\", hue=\"loan_status\", palette=\"Set1\", col_wrap=2)\n",
    "#g.map(plt.hist, 'Principal', bins=bins, ec=\"k\")\n",
    "\n",
    "#g.axes[-1].legend()\n",
    "#plt.show()\n",
    "\n",
    "\n",
    "bins = np.linspace(df_newhead.Months.min(), df_newhead.Months.max(), 20)\n",
    "g = sns.FacetGrid(df_newhead, col=\"ORG\", hue=\"FYHold\", palette=\"Set1\", col_wrap=2)\n",
    "g.map(plt.hist, 'Months', bins=bins, ec=\"k\")\n",
    "\n",
    "g.axes[-1].legend()\n",
    "plt.show()"
   ]
  },
  {
   "cell_type": "code",
   "execution_count": 87,
   "metadata": {
    "button": false,
    "new_sheet": false,
    "run_control": {
     "read_only": false
    }
   },
   "outputs": [
    {
     "data": {
      "image/png": "[encoded data removed]",
      "text/plain": [
       "<Figure size 432x432 with 4 Axes>"
      ]
     },
     "metadata": {
      "needs_background": "light"
     },
     "output_type": "display_data"
    }
   ],
   "source": [
    "import seaborn as sns\n",
    "\n",
    "#bins = np.linspace(df_rdc.Principal.min(), df_rdc.Principal.max(), 10)\n",
    "#g = sns.FacetGrid(df_rdc, col=\"Gender\", hue=\"loan_status\", palette=\"Set1\", col_wrap=2)\n",
    "#g.map(plt.hist, 'Principal', bins=bins, ec=\"k\")\n",
    "\n",
    "#g.axes[-1].legend()\n",
    "#plt.show()\n",
    "# show relation to score 18 - 51\n",
    "#bins = np.linspace(df_rdc.age.min(), df_rdc.age.max(), 10)\n",
    "#g = sns.FacetGrid(df_rdc, col=\"Gender\", hue=\"loan_status\", palette=\"Set1\", col_wrap=2)\n",
    "#g.map(plt.hist, 'age', bins=bins, ec=\"k\")\n",
    "\n",
    "#g.axes[-1].legend()\n",
    "#plt.show()\n",
    "#----------------------------------------------------\n",
    "import seaborn as sns\n",
    "\n",
    "#bins = np.linspace(df_rdc.Principal.min(), df_rdc.Principal.max(), 10)\n",
    "#g = sns.FacetGrid(df_rdc, col=\"Gender\", hue=\"loan_status\", palette=\"Set1\", col_wrap=2)\n",
    "#g.map(plt.hist, 'Principal', bins=bins, ec=\"k\")\n",
    "\n",
    "#g.axes[-1].legend()\n",
    "#plt.show()\n",
    "# show relation to score 18 - 51\n",
    "bins = np.linspace(df_newhead.FUNDS.min(), df_newhead.FUNDS.max(), 10)\n",
    "g = sns.FacetGrid(df_newhead, col=\"Group\", hue=\"FYHold\", palette=\"Set1\", col_wrap=2)\n",
    "g.map(plt.hist, 'FUNDS', bins=bins, ec=\"k\")\n",
    "\n",
    "g.axes[-1].legend()\n",
    "plt.show()"
   ]
  },
  {
   "cell_type": "markdown",
   "metadata": {
    "button": false,
    "new_sheet": false,
    "run_control": {
     "read_only": false
    }
   },
   "source": [
    "THese graphs map how projects by branch can be viewed for onhold or execution status. Total record count = 346."
   ]
  },
  {
   "cell_type": "markdown",
   "metadata": {
    "button": false,
    "new_sheet": false,
    "run_control": {
     "read_only": false
    }
   },
   "source": [
    "#### Feature befor One Hot Encoding"
   ]
  },
  {
   "cell_type": "code",
   "execution_count": 98,
   "metadata": {
    "button": false,
    "new_sheet": false,
    "run_control": {
     "read_only": false
    }
   },
   "outputs": [
    {
     "data": {
      "text/plain": [
       "<bound method NDFrame.head of           FUNDS     Score  Months\n",
       "1    307.692308  0.511111      30\n",
       "2    307.692308  0.696970      30\n",
       "3    307.692308  0.851852      15\n",
       "4    307.692308  0.821429      30\n",
       "5    307.692308  0.793103      30\n",
       "..          ...       ...     ...\n",
       "342  246.153846  0.718750      15\n",
       "343  307.692308  0.920000      30\n",
       "344  246.153846  0.589744      15\n",
       "345  307.692308  0.821429      30\n",
       "346  307.692308  0.884615      30\n",
       "\n",
       "[346 rows x 3 columns]>"
      ]
     },
     "execution_count": 98,
     "metadata": {},
     "output_type": "execute_result"
    }
   ],
   "source": [
    "#df[['Principal','terms','age','Gender','education']].head()\n",
    "#df_rdc[['Principal','terms','age','Gender','education']].head()\n",
    "\n",
    "df_newhead[['FUNDS','Score','Months']].head\n"
   ]
  },
  {
   "cell_type": "markdown",
   "metadata": {
    "button": false,
    "new_sheet": false,
    "run_control": {
     "read_only": false
    }
   },
   "source": [
    "Use one hot encoding technique to convert categorical varables to binary variables and \n",
    "append them to the feature Data Frame. The features tested for classification are FUNDS, Score, Group and Months"
   ]
  },
  {
   "cell_type": "code",
   "execution_count": 115,
   "metadata": {
    "button": false,
    "new_sheet": false,
    "run_control": {
     "read_only": false
    }
   },
   "outputs": [],
   "source": [
    "Feature = df_rdc[['Principal','terms','age']]\n",
    "Feature1 = df_newhead[['FUNDS','Score','Months']]\n",
    "Feature = pd.concat([Feature,pd.get_dummies(df_rdc['age'])], axis=1)\n"
   ]
  },
  {
   "cell_type": "markdown",
   "metadata": {
    "button": false,
    "new_sheet": false,
    "run_control": {
     "read_only": false
    }
   },
   "source": [
    "### Feature selection"
   ]
  },
  {
   "cell_type": "markdown",
   "metadata": {
    "button": false,
    "new_sheet": false,
    "run_control": {
     "read_only": false
    }
   },
   "source": [
    "Lets define feature sets, X: Whether Onhold or executing, Funding amount, Branch assigned, Length of Project"
   ]
  },
  {
   "cell_type": "code",
   "execution_count": 116,
   "metadata": {
    "button": false,
    "new_sheet": false,
    "run_control": {
     "read_only": false
    }
   },
   "outputs": [],
   "source": [
    "X = Feature\n",
    "#X[0:5]\n"
   ]
  },
  {
   "cell_type": "markdown",
   "metadata": {
    "button": false,
    "new_sheet": false,
    "run_control": {
     "read_only": false
    }
   },
   "source": [
    "The target set is the prediction of whether the result will be on hold or assigned for FY execution"
   ]
  },
  {
   "cell_type": "code",
   "execution_count": 117,
   "metadata": {
    "button": false,
    "new_sheet": false,
    "run_control": {
     "read_only": false
    }
   },
   "outputs": [
    {
     "data": {
      "text/plain": [
       "array(['onhold', 'onhold', 'onhold', 'onhold', 'onhold', 'onhold',\n",
       "       'onhold', 'onhold', 'onhold', 'onhold', 'onhold', 'onhold',\n",
       "       'onhold', 'onhold', 'onhold', 'onhold', 'onhold', 'onhold',\n",
       "       'onhold', 'onhold', 'onhold', 'onhold', 'onhold', 'onhold',\n",
       "       'onhold', 'onhold', 'onhold', 'onhold', 'onhold', 'onhold'],\n",
       "      dtype=object)"
      ]
     },
     "execution_count": 117,
     "metadata": {},
     "output_type": "execute_result"
    }
   ],
   "source": [
    "y = df_rdc['loan_status'].values\n",
    "y[0:30]\n"
   ]
  },
  {
   "cell_type": "markdown",
   "metadata": {
    "button": false,
    "new_sheet": false,
    "run_control": {
     "read_only": false
    }
   },
   "source": [
    "## Normalize Data "
   ]
  },
  {
   "cell_type": "markdown",
   "metadata": {
    "button": false,
    "new_sheet": false,
    "run_control": {
     "read_only": false
    }
   },
   "source": [
    "Data Standardization give data zero mean and unit variance (technically should be done after train test split )"
   ]
  },
  {
   "cell_type": "code",
   "execution_count": 118,
   "metadata": {
    "button": false,
    "new_sheet": false,
    "run_control": {
     "read_only": false
    }
   },
   "outputs": [
    {
     "name": "stderr",
     "output_type": "stream",
     "text": [
      "/home/jupyterlab/conda/envs/python/lib/python3.6/site-packages/sklearn/preprocessing/data.py:625: DataConversionWarning: Data with input dtype uint8, int64 were all converted to float64 by StandardScaler.\n",
      "  return self.partial_fit(X, y)\n",
      "/home/jupyterlab/conda/envs/python/lib/python3.6/site-packages/ipykernel_launcher.py:1: DataConversionWarning: Data with input dtype uint8, int64 were all converted to float64 by StandardScaler.\n",
      "  \"\"\"Entry point for launching an IPython kernel.\n"
     ]
    },
    {
     "data": {
      "text/plain": [
       "array([[ 0.51578458, -0.79676004,  2.33152555, -0.05383819, -0.07624929,\n",
       "        -0.09352195, -0.12108987, -0.14369749, -0.15384615, -0.20535013,\n",
       "        -0.22019275, -0.30246099, -0.27907279, -0.27300945, -0.29092868,\n",
       "        -0.29092868, -0.24104766, -0.20535013, -0.22731417, -0.2476887 ,\n",
       "        -0.2476887 , -0.16342041, -0.18120657, -0.16342041, -0.15384615,\n",
       "        -0.15384615, -0.07624929, -0.09352195, -0.09352195, -0.10814761,\n",
       "         9.246621  , -0.07624929, -0.05383819, -0.09352195, -0.05383819],\n",
       "       [ 0.51578458, -0.79676004,  0.34170148, -0.05383819, -0.07624929,\n",
       "        -0.09352195, -0.12108987, -0.14369749, -0.15384615, -0.20535013,\n",
       "        -0.22019275, -0.30246099, -0.27907279, -0.27300945, -0.29092868,\n",
       "        -0.29092868, -0.24104766, -0.20535013,  4.39919779, -0.2476887 ,\n",
       "        -0.2476887 , -0.16342041, -0.18120657, -0.16342041, -0.15384615,\n",
       "        -0.15384615, -0.07624929, -0.09352195, -0.09352195, -0.10814761,\n",
       "        -0.10814761, -0.07624929, -0.05383819, -0.09352195, -0.05383819],\n",
       "       [ 0.51578458,  1.14236521, -0.65321055, -0.05383819, -0.07624929,\n",
       "        -0.09352195, -0.12108987, -0.14369749, -0.15384615, -0.20535013,\n",
       "        -0.22019275, -0.30246099,  3.58329457, -0.27300945, -0.29092868,\n",
       "        -0.29092868, -0.24104766, -0.20535013, -0.22731417, -0.2476887 ,\n",
       "        -0.2476887 , -0.16342041, -0.18120657, -0.16342041, -0.15384615,\n",
       "        -0.15384615, -0.07624929, -0.09352195, -0.09352195, -0.10814761,\n",
       "        -0.10814761, -0.07624929, -0.05383819, -0.09352195, -0.05383819],\n",
       "       [ 0.51578458, -0.79676004, -0.48739188, -0.05383819, -0.07624929,\n",
       "        -0.09352195, -0.12108987, -0.14369749, -0.15384615, -0.20535013,\n",
       "        -0.22019275, -0.30246099, -0.27907279,  3.66287683, -0.29092868,\n",
       "        -0.29092868, -0.24104766, -0.20535013, -0.22731417, -0.2476887 ,\n",
       "        -0.2476887 , -0.16342041, -0.18120657, -0.16342041, -0.15384615,\n",
       "        -0.15384615, -0.07624929, -0.09352195, -0.09352195, -0.10814761,\n",
       "        -0.10814761, -0.07624929, -0.05383819, -0.09352195, -0.05383819],\n",
       "       [ 0.51578458, -0.79676004, -0.3215732 , -0.05383819, -0.07624929,\n",
       "        -0.09352195, -0.12108987, -0.14369749, -0.15384615, -0.20535013,\n",
       "        -0.22019275, -0.30246099, -0.27907279, -0.27300945,  3.43726851,\n",
       "        -0.29092868, -0.24104766, -0.20535013, -0.22731417, -0.2476887 ,\n",
       "        -0.2476887 , -0.16342041, -0.18120657, -0.16342041, -0.15384615,\n",
       "        -0.15384615, -0.07624929, -0.09352195, -0.09352195, -0.10814761,\n",
       "        -0.10814761, -0.07624929, -0.05383819, -0.09352195, -0.05383819]])"
      ]
     },
     "execution_count": 118,
     "metadata": {},
     "output_type": "execute_result"
    }
   ],
   "source": [
    "X= preprocessing.StandardScaler().fit(X).transform(X)\n",
    "X[0:5]"
   ]
  },
  {
   "cell_type": "markdown",
   "metadata": {
    "button": false,
    "new_sheet": false,
    "run_control": {
     "read_only": false
    }
   },
   "source": [
    "# Classification "
   ]
  },
  {
   "cell_type": "markdown",
   "metadata": {
    "button": false,
    "new_sheet": false,
    "run_control": {
     "read_only": false
    }
   },
   "source": [
    "Now, it is your turn, use the training set to build an accurate model. Then use the test set to report the accuracy of the model\n",
    "You should use the following algorithm:\n",
    "- K Nearest Neighbor(KNN)\n",
    "- Decision Tree\n",
    "- Support Vector Machine\n",
    "- Logistic Regression\n",
    "\n",
    "\n",
    "\n",
    "__ Notice:__ \n",
    "- You can go above and change the pre-processing, feature selection, feature-extraction, and so on, to make a better model.\n",
    "- You should use either scikit-learn, Scipy or Numpy libraries for developing the classification algorithms.\n",
    "- You should include the code of the algorithm in the following cells."
   ]
  },
  {
   "cell_type": "markdown",
   "metadata": {},
   "source": [
    "# K Nearest Neighbor(KNN)\n",
    "Notice: You should find the best k to build the model with the best accuracy.  \n",
    "**warning:** You should not use the __loan_test.csv__ for finding the best k, however, you can split your train_loan.csv into train and test to find the best __k__."
   ]
  },
  {
   "cell_type": "code",
   "execution_count": 119,
   "metadata": {},
   "outputs": [
    {
     "name": "stdout",
     "output_type": "stream",
     "text": [
      "Train set: (242, 35) (242,)\n",
      "Test set: (104, 35) (104,)\n",
      "KNN Jaccard score:  0.7115384615384616\n",
      "KNN F1 score: 0.6235955056179775\n"
     ]
    }
   ],
   "source": [
    "#USE THIS - figure out how to use given data to split train/test\n",
    "# from lab example\n",
    "# IMPORT KNN\n",
    "#from sklearn.neighbors import KNeighborsClassifier\n",
    "# Generate confusion matrix\n",
    "#-------------------------------------------------------------------Examples above\n",
    "from sklearn.model_selection import train_test_split\n",
    "X_train, X_test, y_train, y_test = train_test_split( X, y, test_size=0.3, random_state=7)\n",
    "print ('Train set:', X_train.shape,  y_train.shape)\n",
    "print ('Test set:', X_test.shape,  y_test.shape)\n",
    "\n",
    "from sklearn.neighbors import KNeighborsClassifier\n",
    "from sklearn import metrics\n",
    "Ks = 10\n",
    "mean_acc = np.zeros((Ks-1))\n",
    "std_acc = np.zeros((Ks-1))\n",
    "ConfustionMx = [];\n",
    "for k in range(1,10):    \n",
    "#Train Model and Predict  \n",
    "    neigh = KNeighborsClassifier(n_neighbors = k).fit(X_train,y_train)\n",
    "    yhat = neigh.predict(X_test)\n",
    "# let's see the array\n",
    "    yhat\n",
    "#mean_acc[n-1] = metrics.accuracy_score(y_test, yhat)\n",
    "mean_acc[k-1] = metrics.accuracy_score(y_test, yhat)\n",
    "\n",
    "std_acc[k-1]=np.std(yhat==y_test)/np.sqrt(yhat.shape[0])\n",
    "mean_acc\n",
    "std_acc\n",
    "#\n",
    "# From Example ---- begin\n",
    "\n",
    "from sklearn.metrics import confusion_matrix\n",
    "cm = confusion_matrix(y_test, yhat)\n",
    "cm\n",
    "#from example --------- end\n",
    "#from labs begin -----\n",
    "Ks = 10\n",
    "mean_acc = np.zeros((Ks-1))\n",
    "std_acc = np.zeros((Ks-1))\n",
    "ConfusionMx = [];\n",
    "for n in range(1,Ks):\n",
    "    \n",
    "    #Train Model and Predict  \n",
    "    neigh = KNeighborsClassifier(n_neighbors = n).fit(X_train,y_train)\n",
    "    yhat=neigh.predict(X_test)\n",
    "    mean_acc[n-1] = metrics.accuracy_score(y_test, yhat)\n",
    "    std_acc[n-1]=np.std(yhat==y_test)/np.sqrt(yhat.shape[0])\n",
    "\n",
    "mean_acc\n",
    "std_acc\n",
    "#from lab END ----\n",
    "\n",
    "## Take these for final table jaccard_similarity_score(y_test, yhat)\n",
    "### Assign fr final table\n",
    "#KNNy_test = y_test\n",
    "#KNNyhat = yhat\n",
    "#For LogRegression F1 Score' use variable (y_test, yhat, average='weighted'))\n",
    "#Jaccard from LAB exercise classifiers\n",
    "#FOr Logregression Jaccard score:',jaccard_similarity_score(y_test, yhat))\n",
    "#For 'LogRegression Log Loss Score:',log_loss(y_test, yhat_prob))\n",
    "#for SVM model take yhat, y_test\n",
    "#print(\"Avg (linear kernel) F1-score: %.4f\" % f1_score(y_test, yhat2, average='weighted'))\n",
    "#print(\"Jaccard score: %.4f\" % jaccard_similarity_score(y_test, yhat2))\n",
    "#\n",
    "from sklearn.metrics import jaccard_similarity_score\n",
    "from sklearn.metrics import f1_score\n",
    "from sklearn.metrics import log_loss\n",
    "KNN_jaccard = jaccard_similarity_score(y_test,yhat)\n",
    "#help (jaccard_similarity_score)\n",
    "print (\"KNN Jaccard score: \",KNN_jaccard)\n",
    "#help (f1_score)\n",
    "KNN_F1Score = f1_score(y_test,yhat, average ='weighted')\n",
    "print (\"KNN F1 score:\", KNN_F1Score)"
   ]
  },
  {
   "cell_type": "code",
   "execution_count": null,
   "metadata": {},
   "outputs": [],
   "source": [
    "\n"
   ]
  },
  {
   "cell_type": "code",
   "execution_count": 120,
   "metadata": {},
   "outputs": [
    {
     "data": {
      "image/png": "[encoded data removed]",
      "text/plain": [
       "<Figure size 432x288 with 1 Axes>"
      ]
     },
     "metadata": {
      "needs_background": "light"
     },
     "output_type": "display_data"
    },
    {
     "name": "stdout",
     "output_type": "stream",
     "text": [
      "This graph shows best accuracy was with 0.7211538461538461 with k= 5\n"
     ]
    }
   ],
   "source": [
    "\n",
    "plt.plot(range(1,Ks),mean_acc,'g')\n",
    "plt.fill_between(range(1,Ks),mean_acc - 1 * std_acc,mean_acc + 1 * std_acc, alpha=0.10)\n",
    "plt.legend(('Accuracy ', '+/- 3xstd'))\n",
    "plt.ylabel('Accuracy ')\n",
    "plt.xlabel('Number of Nabors (K)')\n",
    "plt.tight_layout()\n",
    "plt.show()\n",
    "print( \"This graph shows best accuracy was with\", mean_acc.max(), \"with k=\", mean_acc.argmax()+1)"
   ]
  },
  {
   "cell_type": "markdown",
   "metadata": {},
   "source": [
    "# Decision Tree"
   ]
  },
  {
   "cell_type": "code",
   "execution_count": 121,
   "metadata": {},
   "outputs": [
    {
     "name": "stdout",
     "output_type": "stream",
     "text": [
      "Train set: (242, 35) (242,)\n",
      "Test set: (104, 35) (104,)\n"
     ]
    }
   ],
   "source": [
    "import numpy as np \n",
    "import pandas as pd\n",
    "# New classifier Decision Tree\n",
    "#\n",
    "from sklearn.tree import DecisionTreeClassifier\n",
    "decisionTree = DecisionTreeClassifier(criterion=\"entropy\", max_depth = 4)\n",
    "decisionTree.fit(X_train,y_train)\n",
    "#\n",
    "from sklearn.model_selection import train_test_split\n",
    "X_train, X_test, y_train, y_test = train_test_split( X, y, test_size=0.3, random_state=4)\n",
    "print ('Train set:', X_train.shape,  y_train.shape)\n",
    "print ('Test set:', X_test.shape,  y_test.shape)\n",
    "#X_train, X_test, y_train, y_test = train_test_split(X, y, test_size=0.3, random_state=4)"
   ]
  },
  {
   "cell_type": "code",
   "execution_count": 122,
   "metadata": {},
   "outputs": [
    {
     "name": "stdout",
     "output_type": "stream",
     "text": [
      "['onhold' 'onhold' 'onhold' 'onhold' 'onhold']\n",
      "['onhold' 'onhold' 'onhold' 'onhold' 'onhold']\n",
      "---------Summarizing results so far ------:\n",
      "KNN Jaccard score:  0.7115384615384616\n",
      "KNN F1 score: 0.6107127335940896\n",
      "    DECTree Jaccard score:  0.7307692307692307\n",
      "    DECTree F1 score: 0.6252136752136752\n"
     ]
    }
   ],
   "source": [
    "decisionTree = DecisionTreeClassifier(criterion=\"entropy\", max_depth = 4)\n",
    "decisionTree # it shows the default parameters\n",
    "decisionTree.fit(X_train,y_train)\n",
    "#\n",
    "predTree = decisionTree.predict(X_test)\n",
    "#\n",
    "from sklearn import metrics\n",
    "import matplotlib.pyplot as plt\n",
    "#print(\"DecisionTree Accuracy Jaccard Score: \", metrics.accuracy_score(y_test, predTree))\n",
    "# From example --- Begin\n",
    "from sklearn.metrics import confusion_matrix\n",
    "cm = confusion_matrix(y_test, predTree)\n",
    "cm\n",
    "#from example END\n",
    "#\n",
    "#let's see it\n",
    "print (predTree [0:5])\n",
    "print (y_test [0:5])\n",
    "from sklearn.metrics import jaccard_similarity_score\n",
    "from sklearn.metrics import f1_score\n",
    "from sklearn.metrics import log_loss\n",
    "#Summarizing so far\n",
    "#help (jaccard_similarity_score)\n",
    "## KNN Results \n",
    "print (\"---------Summarizing results so far ------:\")\n",
    "print (\"KNN Jaccard score: \",KNN_jaccard)\n",
    "#help (f1_score)\n",
    "KNN_F1Score = f1_score(y_test,yhat, average ='weighted')\n",
    "print (\"KNN F1 score:\", KNN_F1Score)\n",
    "#\n",
    "## For Decision Tree ----------------------------------\n",
    "DECTree_jaccard = jaccard_similarity_score(y_test,predTree)\n",
    "#help (jaccard_similarity_score)\n",
    "print (\"    DECTree Jaccard score: \",DECTree_jaccard)\n",
    "#help (f1_score)\n",
    "DECTree_F1Score = f1_score(y_test,predTree, average ='weighted')\n",
    "print (\"    DECTree F1 score:\", DECTree_F1Score)\n"
   ]
  },
  {
   "cell_type": "markdown",
   "metadata": {},
   "source": [
    "KNN with Jaccard, F1Score and Decision Tree Results. So far Decision Tree Jaccard Score is best performer to predict the test set from the training set."
   ]
  },
  {
   "cell_type": "markdown",
   "metadata": {},
   "source": [
    "# Support Vector Machine"
   ]
  },
  {
   "cell_type": "code",
   "execution_count": 123,
   "metadata": {},
   "outputs": [
    {
     "name": "stdout",
     "output_type": "stream",
     "text": [
      "Train set: (276, 35) (276,)\n",
      "Test set: (70, 35) (70,)\n"
     ]
    }
   ],
   "source": [
    "# EXAMPLE graph from SVM lab\n",
    "# instructional note ------\n",
    "#The SVM algorithm offers a choice of kernel functions for \n",
    "#performing its processing. Basically, mapping data into a higher dimensional space is called kernelling. \n",
    "#The mathematical function used for the transformation is known as the kernel function, \n",
    "#and can be of different types, such as:\n",
    "\n",
    "#1.Linear\n",
    "#2.Polynomial\n",
    "#3.Radial basis function (RBF)\n",
    "#4.Sigmoid\n",
    "\n",
    "#Each of these functions has its characteristics, its pros and cons, and its equation, \n",
    "#but as there's no easy way of knowing which function performs best with any given dataset, \n",
    "#we usually choose different functions in turn and compare the results. \n",
    "#Let's just use the default, RBF (Radial Basis Function) \n",
    "\n",
    "#ax = cell_df[cell_df['Class'] == 4][0:50].plot(kind='scatter', x='Clump', y='UnifSize', color='DarkBlue', label='malignant');\n",
    "#cell_df[cell_df['Class'] == 2][0:50].plot(kind='scatter', x='Clump', y='UnifSize', color='Yellow', label='benign', ax=ax);\n",
    "#plt.show()\n",
    "#feature_df = cell_df[['Clump', 'UnifSize', 'UnifShape', 'MargAdh', 'SingEpiSize', 'BareNuc', 'BlandChrom', 'NormNucl', 'Mit']]\n",
    "#X = np.asarray(feature_df)\n",
    "#X[0:5]\n",
    "# from svm train-test split as above\n",
    "from sklearn.model_selection import train_test_split\n",
    "X_train, X_test, y_train, y_test = train_test_split( X, y, test_size=0.2, random_state=4)\n",
    "print ('Train set:', X_train.shape,  y_train.shape)\n",
    "print ('Test set:', X_test.shape,  y_test.shape)\n",
    "\n",
    "#\n",
    "from sklearn.metrics import jaccard_similarity_score\n",
    "from sklearn.metrics import f1_score\n",
    "from sklearn.metrics import log_loss\n"
   ]
  },
  {
   "cell_type": "code",
   "execution_count": 124,
   "metadata": {},
   "outputs": [
    {
     "name": "stdout",
     "output_type": "stream",
     "text": [
      "Train set: (276, 35) (276,)\n",
      "Test set: (70, 35) (70,)\n",
      "---------Summarizing results so far ------:\n",
      "KNN Jaccard score:  0.7115384615384616\n",
      "KNN F1 score: 0.6107127335940896\n",
      "    DECTree Jaccard score:  0.7307692307692307\n",
      "    DECTree F1 score: 0.6252136752136752\n",
      "SVM Jaccard score:  0.7714285714285715\n",
      "SVM F1 score: 0.6843317972350231\n"
     ]
    },
    {
     "name": "stderr",
     "output_type": "stream",
     "text": [
      "/home/jupyterlab/conda/envs/python/lib/python3.6/site-packages/sklearn/svm/base.py:196: FutureWarning: The default value of gamma will change from 'auto' to 'scale' in version 0.22 to account better for unscaled features. Set gamma explicitly to 'auto' or 'scale' to avoid this warning.\n",
      "  \"avoid this warning.\", FutureWarning)\n",
      "/home/jupyterlab/conda/envs/python/lib/python3.6/site-packages/sklearn/svm/base.py:196: FutureWarning: The default value of gamma will change from 'auto' to 'scale' in version 0.22 to account better for unscaled features. Set gamma explicitly to 'auto' or 'scale' to avoid this warning.\n",
      "  \"avoid this warning.\", FutureWarning)\n"
     ]
    }
   ],
   "source": [
    "from sklearn import svm\n",
    "from sklearn.metrics import jaccard_similarity_score\n",
    "from sklearn.metrics import f1_score\n",
    "from sklearn.metrics import log_loss\n",
    "from sklearn.model_selection import train_test_split\n",
    "X_train, X_test, y_train, y_test = train_test_split(X, y, test_size=0.2, random_state=4)\n",
    "print ('Train set:', X_train.shape,  y_train.shape)\n",
    "print ('Test set:', X_test.shape,  y_test.shape)\n",
    "###from example \n",
    "SVM_model = svm.SVC()\n",
    "SVM_model.fit(X_train, y_train) \n",
    "clf = svm.SVC(kernel='rbf')\n",
    "clf.fit(X_train, y_train) \n",
    "SVM_yhat = SVM_model.predict(X_test)\n",
    "\n",
    "#SVM_yhat = SVM_model.predict(test_X)\n",
    "#print(\"SVM Jaccard index: %.2f\" % jaccard_similarity_score(test_y, SVM_yhat))\n",
    "#print(\"SVM F1-score: %.2f\" % f1_score(test_y, SVM_yhat, average='weighted') )\n",
    "\n",
    "#\n",
    "#SVM_yhat = SVMrbf.predict(X_test)\n",
    "#print( \"svm_yhat\",SVM_yhat)\n",
    "#SVM_F1Score = f1_score(y_test,SVM_yhat)\n",
    "#SVM_Jaccard = jaccard_similarity_score(y_test,SVM_yhat)\n",
    "#let's see it\n",
    "#import itertools\n",
    "# from example ----\n",
    "#SVM_yhat = SVM_model.predict(test_X)\n",
    "#print(\"SVM Jaccard index: %.2f\" % jaccard_similarity_score(test_y, SVM_yhat))\n",
    "#print(\"SVM F1-score: %.2f\" % f1_score(test_y, SVM_yhat, average='weighted') )\n",
    "\n",
    "#help (jaccard_similarity_score)\n",
    "## Summarizing so far\n",
    "## --------------------For KNN --------------------\n",
    "print (\"---------Summarizing results so far ------:\")\n",
    "print (\"KNN Jaccard score: \",KNN_jaccard)\n",
    "#help (f1_score)\n",
    "# uncomment to recalculate with current yhat\n",
    "#KNN_F1Score = f1_score(y_test,yhat, average ='weighted')\n",
    "print (\"KNN F1 score:\", KNN_F1Score)\n",
    "#\n",
    "## --------------------For Decision Tree ----------------------------------\n",
    "#DECTree_jaccard = jaccard_similarity_score(y_test,predTree)\n",
    "#help (jaccard_similarity_score)\n",
    "print (\"    DECTree Jaccard score: \",DECTree_jaccard)\n",
    "#help (f1_score)\n",
    "# uncomment to recalculate with current yhat\n",
    "#DECTree_F1Score = f1_score(y_test,predTree, average ='weighted')\n",
    "print (\"    DECTree F1 score:\", DECTree_F1Score)\n",
    "## ---------------------For SVM  ----------------------------------\n",
    "SVM_Jaccard = jaccard_similarity_score(y_test,SVM_yhat)\n",
    "#help (jaccard_similarity_score)\n",
    "print (\"SVM Jaccard score: \",SVM_Jaccard)\n",
    "#help (f1_score)\n",
    "SVM_F1Score = f1_score(y_test,SVM_yhat, average ='weighted')\n",
    "print (\"SVM F1 score:\", SVM_F1Score)\n"
   ]
  },
  {
   "cell_type": "markdown",
   "metadata": {},
   "source": []
  },
  {
   "cell_type": "markdown",
   "metadata": {},
   "source": []
  },
  {
   "cell_type": "markdown",
   "metadata": {},
   "source": []
  },
  {
   "cell_type": "code",
   "execution_count": null,
   "metadata": {},
   "outputs": [],
   "source": [
    "This summary shows the results from 3 classifier models with SVM performing the best using a Jaccard Score."
   ]
  },
  {
   "cell_type": "code",
   "execution_count": null,
   "metadata": {},
   "outputs": [],
   "source": []
  },
  {
   "cell_type": "markdown",
   "metadata": {},
   "source": []
  },
  {
   "cell_type": "markdown",
   "metadata": {},
   "source": []
  },
  {
   "cell_type": "markdown",
   "metadata": {},
   "source": []
  },
  {
   "cell_type": "markdown",
   "metadata": {},
   "source": []
  },
  {
   "cell_type": "markdown",
   "metadata": {
    "button": false,
    "new_sheet": false,
    "run_control": {
     "read_only": false
    }
   },
   "source": []
  },
  {
   "cell_type": "markdown",
   "metadata": {
    "button": false,
    "new_sheet": false,
    "run_control": {
     "read_only": false
    }
   },
   "source": [
    "\n"
   ]
  },
  {
   "cell_type": "code",
   "execution_count": null,
   "metadata": {},
   "outputs": [],
   "source": []
  },
  {
   "cell_type": "markdown",
   "metadata": {},
   "source": [
    "\n",
    "   \n"
   ]
  },
  {
   "cell_type": "code",
   "execution_count": null,
   "metadata": {},
   "outputs": [],
   "source": [
    "\n"
   ]
  },
  {
   "cell_type": "markdown",
   "metadata": {},
   "source": []
  },
  {
   "cell_type": "markdown",
   "metadata": {},
   "source": []
  },
  {
   "cell_type": "markdown",
   "metadata": {
    "button": false,
    "new_sheet": false,
    "run_control": {
     "read_only": false
    }
   },
   "source": []
  }
 ],
 "metadata": {
  "kernelspec": {
   "display_name": "Python",
   "language": "python",
   "name": "conda-env-python-py"
  },
  "language_info": {
   "codemirror_mode": {
    "name": "ipython",
    "version": 3
   },
   "file_extension": ".py",
   "mimetype": "text/x-python",
   "name": "python",
   "nbconvert_exporter": "python",
   "pygments_lexer": "ipython3",
   "version": "3.6.10"
  }
 },
 "nbformat": 4,
 "nbformat_minor": 4
}
